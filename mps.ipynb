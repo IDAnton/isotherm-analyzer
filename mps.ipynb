{
 "cells": [
  {
   "cell_type": "code",
   "execution_count": 243,
   "id": "initial_id",
   "metadata": {
    "collapsed": true,
    "ExecuteTime": {
     "end_time": "2024-11-06T17:01:53.880270Z",
     "start_time": "2024-11-06T17:01:53.859270Z"
    }
   },
   "outputs": [],
   "source": [
    "import random\n",
    "import numpy as np\n",
    "import tensorflow.compat.v1 as tf\n",
    "import matplotlib\n",
    "import matplotlib.pyplot as plt\n",
    "import pandas as pd\n",
    "from tensorflow.keras import layers, Sequential, Input\n",
    "from sklearn.model_selection import train_test_split\n",
    "from sklearn.utils import shuffle\n",
    "from keras.layers import Dense,LSTM, Concatenate, Input, Conv1D, Flatten, Dropout, BatchNormalization, GlobalAveragePooling1D, MaxPooling1D, GlobalAveragePooling1D, UpSampling1D, concatenate, Conv1DTranspose, Cropping1D, UpSampling1D, ZeroPadding1D, Reshape, Lambda, Multiply, Softmax\n",
    "from keras.models import Sequential,Model\n",
    "matplotlib.use('TkAgg')"
   ]
  },
  {
   "cell_type": "code",
   "outputs": [],
   "source": [
    "data = pd.read_csv(\"data/DataBase_RF_bi_lowperc_1.csv\")"
   ],
   "metadata": {
    "collapsed": false,
    "ExecuteTime": {
     "end_time": "2024-11-06T18:09:34.354267Z",
     "start_time": "2024-11-06T18:09:34.339220Z"
    }
   },
   "id": "f5b3557b05479b13",
   "execution_count": 447
  },
  {
   "cell_type": "code",
   "outputs": [
    {
     "data": {
      "text/plain": "                                              name  Al   Si  Cation #1  \\\n0     Structure: Al_80_Si_112_Boulfelfel_Ca_1_K_78  80  112          1   \n1    Structure: Al_80_Si_112_Boulfelfel_Ca_1_Na_78  80  112          1   \n2    Structure: Al_80_Si_112_Boulfelfel_Ca_1_Rb_78  80  112          1   \n3     Structure: Al_80_Si_112_Boulfelfel_Cs_1_K_79  80  112          1   \n4    Structure: Al_80_Si_112_Boulfelfel_Cs_1_Li_79  80  112          1   \n..                                             ...  ..  ...        ...   \n495  Structure: Al_96_Si_96_Boulfelfel_Rb_14_Na_82  96   96         14   \n496  Structure: Al_96_Si_96_Boulfelfel_Rb_15_Na_81  96   96         15   \n497   Structure: Al_96_Si_96_Boulfelfel_Rb_17_K_79  96   96         17   \n498   Structure: Al_96_Si_96_Boulfelfel_Rb_4_Li_92  96   96          4   \n499   Structure: Al_96_Si_96_Boulfelfel_Rb_6_Li_90  96   96          6   \n\n     Cation #2  Radius #1  Radius #2  Polarizability #1  Polarizability #2  \\\n0           78       1.00       1.38              22.80              43.40   \n1           78       1.00       1.02              22.80              24.11   \n2           78       1.00       1.52              22.80              47.30   \n3           79       1.67       1.38              59.42              43.40   \n4           79       1.67       0.76              59.42              24.33   \n..         ...        ...        ...                ...                ...   \n495         82       1.52       1.02              47.30              24.11   \n496         81       1.52       1.02              47.30              24.11   \n497         79       1.52       1.38              47.30              43.40   \n498         92       1.52       0.76              47.30              24.33   \n499         90       1.52       0.76              47.30              24.33   \n\n     Charge #1  Charge #2  S1 #1  S1' #1  S2 #1  S3 #1  S1 #2  S1' #2  S2 #2  \\\n0            2          1      0       0      1      0     16       7     34   \n1            2          1      0       0      1      0      1      25     30   \n2            2          1      1       0      0      0     14       8     35   \n3            1          1      0       0      1      0     16       8     35   \n4            1          1      0       0      0      1      0      23     31   \n..         ...        ...    ...     ...    ...    ...    ...     ...    ...   \n495          1          1      0       0      0     14      0      32     32   \n496          1          1      0       0      1     14      0      32     31   \n497          1          1      2       2      4      9     14       5     35   \n498          1          1      0       0      1      3      0      32     31   \n499          1          1      1       0      1      4      0      30     31   \n\n     S3 #2  \n0       21  \n1       22  \n2       21  \n3       20  \n4       25  \n..     ...  \n495     18  \n496     18  \n497     25  \n498     29  \n499     29  \n\n[500 rows x 19 columns]",
      "text/html": "<div>\n<style scoped>\n    .dataframe tbody tr th:only-of-type {\n        vertical-align: middle;\n    }\n\n    .dataframe tbody tr th {\n        vertical-align: top;\n    }\n\n    .dataframe thead th {\n        text-align: right;\n    }\n</style>\n<table border=\"1\" class=\"dataframe\">\n  <thead>\n    <tr style=\"text-align: right;\">\n      <th></th>\n      <th>name</th>\n      <th>Al</th>\n      <th>Si</th>\n      <th>Cation #1</th>\n      <th>Cation #2</th>\n      <th>Radius #1</th>\n      <th>Radius #2</th>\n      <th>Polarizability #1</th>\n      <th>Polarizability #2</th>\n      <th>Charge #1</th>\n      <th>Charge #2</th>\n      <th>S1 #1</th>\n      <th>S1' #1</th>\n      <th>S2 #1</th>\n      <th>S3 #1</th>\n      <th>S1 #2</th>\n      <th>S1' #2</th>\n      <th>S2 #2</th>\n      <th>S3 #2</th>\n    </tr>\n  </thead>\n  <tbody>\n    <tr>\n      <th>0</th>\n      <td>Structure: Al_80_Si_112_Boulfelfel_Ca_1_K_78</td>\n      <td>80</td>\n      <td>112</td>\n      <td>1</td>\n      <td>78</td>\n      <td>1.00</td>\n      <td>1.38</td>\n      <td>22.80</td>\n      <td>43.40</td>\n      <td>2</td>\n      <td>1</td>\n      <td>0</td>\n      <td>0</td>\n      <td>1</td>\n      <td>0</td>\n      <td>16</td>\n      <td>7</td>\n      <td>34</td>\n      <td>21</td>\n    </tr>\n    <tr>\n      <th>1</th>\n      <td>Structure: Al_80_Si_112_Boulfelfel_Ca_1_Na_78</td>\n      <td>80</td>\n      <td>112</td>\n      <td>1</td>\n      <td>78</td>\n      <td>1.00</td>\n      <td>1.02</td>\n      <td>22.80</td>\n      <td>24.11</td>\n      <td>2</td>\n      <td>1</td>\n      <td>0</td>\n      <td>0</td>\n      <td>1</td>\n      <td>0</td>\n      <td>1</td>\n      <td>25</td>\n      <td>30</td>\n      <td>22</td>\n    </tr>\n    <tr>\n      <th>2</th>\n      <td>Structure: Al_80_Si_112_Boulfelfel_Ca_1_Rb_78</td>\n      <td>80</td>\n      <td>112</td>\n      <td>1</td>\n      <td>78</td>\n      <td>1.00</td>\n      <td>1.52</td>\n      <td>22.80</td>\n      <td>47.30</td>\n      <td>2</td>\n      <td>1</td>\n      <td>1</td>\n      <td>0</td>\n      <td>0</td>\n      <td>0</td>\n      <td>14</td>\n      <td>8</td>\n      <td>35</td>\n      <td>21</td>\n    </tr>\n    <tr>\n      <th>3</th>\n      <td>Structure: Al_80_Si_112_Boulfelfel_Cs_1_K_79</td>\n      <td>80</td>\n      <td>112</td>\n      <td>1</td>\n      <td>79</td>\n      <td>1.67</td>\n      <td>1.38</td>\n      <td>59.42</td>\n      <td>43.40</td>\n      <td>1</td>\n      <td>1</td>\n      <td>0</td>\n      <td>0</td>\n      <td>1</td>\n      <td>0</td>\n      <td>16</td>\n      <td>8</td>\n      <td>35</td>\n      <td>20</td>\n    </tr>\n    <tr>\n      <th>4</th>\n      <td>Structure: Al_80_Si_112_Boulfelfel_Cs_1_Li_79</td>\n      <td>80</td>\n      <td>112</td>\n      <td>1</td>\n      <td>79</td>\n      <td>1.67</td>\n      <td>0.76</td>\n      <td>59.42</td>\n      <td>24.33</td>\n      <td>1</td>\n      <td>1</td>\n      <td>0</td>\n      <td>0</td>\n      <td>0</td>\n      <td>1</td>\n      <td>0</td>\n      <td>23</td>\n      <td>31</td>\n      <td>25</td>\n    </tr>\n    <tr>\n      <th>...</th>\n      <td>...</td>\n      <td>...</td>\n      <td>...</td>\n      <td>...</td>\n      <td>...</td>\n      <td>...</td>\n      <td>...</td>\n      <td>...</td>\n      <td>...</td>\n      <td>...</td>\n      <td>...</td>\n      <td>...</td>\n      <td>...</td>\n      <td>...</td>\n      <td>...</td>\n      <td>...</td>\n      <td>...</td>\n      <td>...</td>\n      <td>...</td>\n    </tr>\n    <tr>\n      <th>495</th>\n      <td>Structure: Al_96_Si_96_Boulfelfel_Rb_14_Na_82</td>\n      <td>96</td>\n      <td>96</td>\n      <td>14</td>\n      <td>82</td>\n      <td>1.52</td>\n      <td>1.02</td>\n      <td>47.30</td>\n      <td>24.11</td>\n      <td>1</td>\n      <td>1</td>\n      <td>0</td>\n      <td>0</td>\n      <td>0</td>\n      <td>14</td>\n      <td>0</td>\n      <td>32</td>\n      <td>32</td>\n      <td>18</td>\n    </tr>\n    <tr>\n      <th>496</th>\n      <td>Structure: Al_96_Si_96_Boulfelfel_Rb_15_Na_81</td>\n      <td>96</td>\n      <td>96</td>\n      <td>15</td>\n      <td>81</td>\n      <td>1.52</td>\n      <td>1.02</td>\n      <td>47.30</td>\n      <td>24.11</td>\n      <td>1</td>\n      <td>1</td>\n      <td>0</td>\n      <td>0</td>\n      <td>1</td>\n      <td>14</td>\n      <td>0</td>\n      <td>32</td>\n      <td>31</td>\n      <td>18</td>\n    </tr>\n    <tr>\n      <th>497</th>\n      <td>Structure: Al_96_Si_96_Boulfelfel_Rb_17_K_79</td>\n      <td>96</td>\n      <td>96</td>\n      <td>17</td>\n      <td>79</td>\n      <td>1.52</td>\n      <td>1.38</td>\n      <td>47.30</td>\n      <td>43.40</td>\n      <td>1</td>\n      <td>1</td>\n      <td>2</td>\n      <td>2</td>\n      <td>4</td>\n      <td>9</td>\n      <td>14</td>\n      <td>5</td>\n      <td>35</td>\n      <td>25</td>\n    </tr>\n    <tr>\n      <th>498</th>\n      <td>Structure: Al_96_Si_96_Boulfelfel_Rb_4_Li_92</td>\n      <td>96</td>\n      <td>96</td>\n      <td>4</td>\n      <td>92</td>\n      <td>1.52</td>\n      <td>0.76</td>\n      <td>47.30</td>\n      <td>24.33</td>\n      <td>1</td>\n      <td>1</td>\n      <td>0</td>\n      <td>0</td>\n      <td>1</td>\n      <td>3</td>\n      <td>0</td>\n      <td>32</td>\n      <td>31</td>\n      <td>29</td>\n    </tr>\n    <tr>\n      <th>499</th>\n      <td>Structure: Al_96_Si_96_Boulfelfel_Rb_6_Li_90</td>\n      <td>96</td>\n      <td>96</td>\n      <td>6</td>\n      <td>90</td>\n      <td>1.52</td>\n      <td>0.76</td>\n      <td>47.30</td>\n      <td>24.33</td>\n      <td>1</td>\n      <td>1</td>\n      <td>1</td>\n      <td>0</td>\n      <td>1</td>\n      <td>4</td>\n      <td>0</td>\n      <td>30</td>\n      <td>31</td>\n      <td>29</td>\n    </tr>\n  </tbody>\n</table>\n<p>500 rows × 19 columns</p>\n</div>"
     },
     "execution_count": 448,
     "metadata": {},
     "output_type": "execute_result"
    }
   ],
   "source": [
    "data"
   ],
   "metadata": {
    "collapsed": false,
    "ExecuteTime": {
     "end_time": "2024-11-06T18:09:35.302275Z",
     "start_time": "2024-11-06T18:09:35.269923Z"
    }
   },
   "id": "62527292f5f80565",
   "execution_count": 448
  },
  {
   "cell_type": "code",
   "outputs": [
    {
     "data": {
      "text/plain": "name                 Structure: Al_81_Si_111_Boulfelfel_Cs_2_Li_79\nAl                                                              81\nSi                                                             111\nCation #1                                                        2\nCation #2                                                       79\nRadius #1                                                     1.67\nRadius #2                                                     0.76\nPolarizability #1                                            59.42\nPolarizability #2                                            24.33\nCharge #1                                                        1\nCharge #2                                                        1\nS1 #1                                                            0\nS1' #1                                                           0\nS2 #1                                                            0\nS3 #1                                                            1\nS1 #2                                                            0\nS1' #2                                                          21\nS2 #2                                                           31\nS3 #2                                                           27\nName: 22, dtype: object"
     },
     "execution_count": 449,
     "metadata": {},
     "output_type": "execute_result"
    }
   ],
   "source": [
    "data.iloc[22]"
   ],
   "metadata": {
    "collapsed": false,
    "ExecuteTime": {
     "end_time": "2024-11-06T18:09:37.816431Z",
     "start_time": "2024-11-06T18:09:37.800268Z"
    }
   },
   "id": "68f3c3dc390d5e35",
   "execution_count": 449
  },
  {
   "cell_type": "code",
   "outputs": [
    {
     "data": {
      "text/plain": "22      Structure: Al_81_Si_111_Boulfelfel_Cs_2_Li_79\n30      Structure: Al_81_Si_111_Boulfelfel_Li_1_Rb_80\n47       Structure: Al_82_Si_110_Boulfelfel_Cs_3_K_79\n68       Structure: Al_83_Si_109_Boulfelfel_Cs_2_K_81\n70       Structure: Al_83_Si_109_Boulfelfel_Cs_3_K_80\n106      Structure: Al_84_Si_108_Boulfelfel_Cs_5_K_79\n138      Structure: Al_85_Si_107_Boulfelfel_K_4_Cs_81\n160      Structure: Al_86_Si_106_Boulfelfel_Cs_1_K_85\n194      Structure: Al_87_Si_105_Boulfelfel_Cs_6_K_81\n225      Structure: Al_88_Si_104_Boulfelfel_Cs_9_K_79\n256     Structure: Al_88_Si_104_Boulfelfel_Rb_84_Ca_2\n296    Structure: Al_90_Si_102_Boulfelfel_Na_11_Cs_79\n344      Structure: Al_92_Si_100_Boulfelfel_Cs_8_K_84\n356     Structure: Al_92_Si_100_Boulfelfel_Na_2_Cs_90\n360     Structure: Al_92_Si_100_Boulfelfel_Na_9_Cs_83\n398      Structure: Al_93_Si_99_Boulfelfel_Rb_8_Cs_85\n405      Structure: Al_94_Si_98_Boulfelfel_Ca_6_Rb_82\nName: name, dtype: object"
     },
     "execution_count": 451,
     "metadata": {},
     "output_type": "execute_result"
    }
   ],
   "source": [
    "data.loc[(data[\"Cation #1\"] + data[\"Cation #2\"]) != (data[\"S1 #1\"] + data[\"S1\\' #1\"] + data[\"S2 #1\"]+ data[\"S3 #1\"]+ data[\"S1 #2\"]+ data[\"S1\\' #2\"]+ data[\"S2 #2\"]+ data[\"S3 #2\"])][\"name\"]"
   ],
   "metadata": {
    "collapsed": false,
    "ExecuteTime": {
     "end_time": "2024-11-06T18:10:37.096934Z",
     "start_time": "2024-11-06T18:10:37.080934Z"
    }
   },
   "id": "b1ed751596ea199",
   "execution_count": 451
  },
  {
   "cell_type": "code",
   "outputs": [],
   "source": [
    "data_without_names = data.drop(columns=['name'])\n",
    "plt.matshow(data_without_names.corr())\n",
    "continuous_features = data_without_names.describe().columns\n",
    "plt.xticks(range(len(continuous_features)), continuous_features)\n",
    "plt.yticks(range(len(continuous_features)), continuous_features)\n",
    "plt.colorbar()\n",
    "plt.show()"
   ],
   "metadata": {
    "collapsed": false,
    "ExecuteTime": {
     "end_time": "2024-11-06T17:55:57.139662Z",
     "start_time": "2024-11-06T17:55:53.442241Z"
    }
   },
   "id": "c4c859b18ca4f037",
   "execution_count": 408
  },
  {
   "cell_type": "code",
   "outputs": [],
   "source": [
    "features = data.drop(columns=[\"name\", \"S1 #1\", \"S1\\' #1\", \"S2 #1\", \"S3 #1\", \"S1 #2\", \"S1\\' #2\", \"S2 #2\", \"S3 #2\"], axis=1)\n",
    "labels = data[[\"S1 #1\" ,\"S1\\' #1\", \"S2 #1\", \"S3 #1\", \"S1 #2\", \"S1\\' #2\", \"S2 #2\", \"S3 #2\"]]"
   ],
   "metadata": {
    "collapsed": false,
    "ExecuteTime": {
     "end_time": "2024-11-06T19:06:25.013436Z",
     "start_time": "2024-11-06T19:06:24.998460Z"
    }
   },
   "id": "8f727bc9b32ecbfb",
   "execution_count": 547
  },
  {
   "cell_type": "code",
   "outputs": [],
   "source": [
    "features_train, features_test, labels_train, labels_test = train_test_split(features, labels, test_size=0.25, random_state = 0)"
   ],
   "metadata": {
    "collapsed": false,
    "ExecuteTime": {
     "end_time": "2024-11-06T19:14:58.686199Z",
     "start_time": "2024-11-06T19:14:58.667201Z"
    }
   },
   "id": "5ac58c3ff31bf20a",
   "execution_count": 593
  },
  {
   "cell_type": "code",
   "outputs": [
    {
     "data": {
      "text/plain": "     Al   Si  Cation #1  Cation #2  Radius #1  Radius #2  Polarizability #1  \\\n239  88  104          1         87       1.02       1.67              24.11   \n59   82  110         80          1       1.02       1.00              24.11   \n406  94   98          7         80       1.00       1.52              22.80   \n391  93   99          2         91       1.02       1.38              24.11   \n411  94   98         92          1       1.67       1.00              59.42   \n..   ..  ...        ...        ...        ...        ...                ...   \n323  91  101          6         85       1.02       1.38              24.11   \n192  87  105          2         85       1.67       1.52              59.42   \n117  84  108         78          3       0.76       1.00              24.33   \n47   82  110          3         79       1.67       1.38              59.42   \n172  86  106          3         83       0.76       1.67              24.33   \n\n     Polarizability #2  Charge #1  Charge #2  \n239              59.42          1          1  \n59               22.80          1          2  \n406              47.30          2          1  \n391              43.40          1          1  \n411              22.80          1          2  \n..                 ...        ...        ...  \n323              43.40          1          1  \n192              47.30          1          1  \n117              22.80          1          2  \n47               43.40          1          1  \n172              59.42          1          1  \n\n[375 rows x 10 columns]",
      "text/html": "<div>\n<style scoped>\n    .dataframe tbody tr th:only-of-type {\n        vertical-align: middle;\n    }\n\n    .dataframe tbody tr th {\n        vertical-align: top;\n    }\n\n    .dataframe thead th {\n        text-align: right;\n    }\n</style>\n<table border=\"1\" class=\"dataframe\">\n  <thead>\n    <tr style=\"text-align: right;\">\n      <th></th>\n      <th>Al</th>\n      <th>Si</th>\n      <th>Cation #1</th>\n      <th>Cation #2</th>\n      <th>Radius #1</th>\n      <th>Radius #2</th>\n      <th>Polarizability #1</th>\n      <th>Polarizability #2</th>\n      <th>Charge #1</th>\n      <th>Charge #2</th>\n    </tr>\n  </thead>\n  <tbody>\n    <tr>\n      <th>239</th>\n      <td>88</td>\n      <td>104</td>\n      <td>1</td>\n      <td>87</td>\n      <td>1.02</td>\n      <td>1.67</td>\n      <td>24.11</td>\n      <td>59.42</td>\n      <td>1</td>\n      <td>1</td>\n    </tr>\n    <tr>\n      <th>59</th>\n      <td>82</td>\n      <td>110</td>\n      <td>80</td>\n      <td>1</td>\n      <td>1.02</td>\n      <td>1.00</td>\n      <td>24.11</td>\n      <td>22.80</td>\n      <td>1</td>\n      <td>2</td>\n    </tr>\n    <tr>\n      <th>406</th>\n      <td>94</td>\n      <td>98</td>\n      <td>7</td>\n      <td>80</td>\n      <td>1.00</td>\n      <td>1.52</td>\n      <td>22.80</td>\n      <td>47.30</td>\n      <td>2</td>\n      <td>1</td>\n    </tr>\n    <tr>\n      <th>391</th>\n      <td>93</td>\n      <td>99</td>\n      <td>2</td>\n      <td>91</td>\n      <td>1.02</td>\n      <td>1.38</td>\n      <td>24.11</td>\n      <td>43.40</td>\n      <td>1</td>\n      <td>1</td>\n    </tr>\n    <tr>\n      <th>411</th>\n      <td>94</td>\n      <td>98</td>\n      <td>92</td>\n      <td>1</td>\n      <td>1.67</td>\n      <td>1.00</td>\n      <td>59.42</td>\n      <td>22.80</td>\n      <td>1</td>\n      <td>2</td>\n    </tr>\n    <tr>\n      <th>...</th>\n      <td>...</td>\n      <td>...</td>\n      <td>...</td>\n      <td>...</td>\n      <td>...</td>\n      <td>...</td>\n      <td>...</td>\n      <td>...</td>\n      <td>...</td>\n      <td>...</td>\n    </tr>\n    <tr>\n      <th>323</th>\n      <td>91</td>\n      <td>101</td>\n      <td>6</td>\n      <td>85</td>\n      <td>1.02</td>\n      <td>1.38</td>\n      <td>24.11</td>\n      <td>43.40</td>\n      <td>1</td>\n      <td>1</td>\n    </tr>\n    <tr>\n      <th>192</th>\n      <td>87</td>\n      <td>105</td>\n      <td>2</td>\n      <td>85</td>\n      <td>1.67</td>\n      <td>1.52</td>\n      <td>59.42</td>\n      <td>47.30</td>\n      <td>1</td>\n      <td>1</td>\n    </tr>\n    <tr>\n      <th>117</th>\n      <td>84</td>\n      <td>108</td>\n      <td>78</td>\n      <td>3</td>\n      <td>0.76</td>\n      <td>1.00</td>\n      <td>24.33</td>\n      <td>22.80</td>\n      <td>1</td>\n      <td>2</td>\n    </tr>\n    <tr>\n      <th>47</th>\n      <td>82</td>\n      <td>110</td>\n      <td>3</td>\n      <td>79</td>\n      <td>1.67</td>\n      <td>1.38</td>\n      <td>59.42</td>\n      <td>43.40</td>\n      <td>1</td>\n      <td>1</td>\n    </tr>\n    <tr>\n      <th>172</th>\n      <td>86</td>\n      <td>106</td>\n      <td>3</td>\n      <td>83</td>\n      <td>0.76</td>\n      <td>1.67</td>\n      <td>24.33</td>\n      <td>59.42</td>\n      <td>1</td>\n      <td>1</td>\n    </tr>\n  </tbody>\n</table>\n<p>375 rows × 10 columns</p>\n</div>"
     },
     "execution_count": 594,
     "metadata": {},
     "output_type": "execute_result"
    }
   ],
   "source": [
    "features_train"
   ],
   "metadata": {
    "collapsed": false,
    "ExecuteTime": {
     "end_time": "2024-11-06T19:14:59.235403Z",
     "start_time": "2024-11-06T19:14:59.214428Z"
    }
   },
   "id": "a3606b461321a2af",
   "execution_count": 594
  },
  {
   "cell_type": "code",
   "outputs": [],
   "source": [
    "from sklearn.preprocessing import MinMaxScaler\n",
    "# scale_features_mm = MinMaxScaler()\n",
    "# features_train = scale_features_mm.fit_transform(features_train)\n",
    "# features_test = scale_features_mm.transform(features_test)\n",
    "\n",
    "scale_labels_mm = MinMaxScaler()\n",
    "labels_train = scale_labels_mm.fit_transform(labels_train)\n",
    "labels_test = scale_labels_mm.transform(labels_test)"
   ],
   "metadata": {
    "collapsed": false,
    "ExecuteTime": {
     "end_time": "2024-11-06T16:38:51.196275Z",
     "start_time": "2024-11-06T16:38:51.180287Z"
    }
   },
   "id": "79e0a362b31b9349",
   "execution_count": 222
  },
  {
   "cell_type": "code",
   "outputs": [
    {
     "data": {
      "text/plain": "     Al   Si  Cation #1  Cation #2  Radius #1  Radius #2  Polarizability #1  \\\n454  95   97          9         86       0.76       1.38              24.33   \n416  94   98          2         92       0.76       1.52              24.33   \n167  86  106          3         83       1.38       1.52              43.40   \n165  86  106          3         83       1.38       1.67              43.40   \n52   82  110          3         79       1.38       1.52              43.40   \n..   ..  ...        ...        ...        ...        ...                ...   \n335  92  100         12         80       1.67       0.76              59.42   \n201  87  105          2         85       0.76       1.38              24.33   \n123  84  108          5         79       1.02       1.67              24.11   \n50   82  110          3         79       1.38       0.76              43.40   \n180  86  106          4         82       1.02       0.76              24.11   \n\n     Polarizability #2  Charge #1  Charge #2  \n454              43.40          1          1  \n416              47.30          1          1  \n167              47.30          1          1  \n165              59.42          1          1  \n52               47.30          1          1  \n..                 ...        ...        ...  \n335              24.33          1          1  \n201              43.40          1          1  \n123              59.42          1          1  \n50               24.33          1          1  \n180              24.33          1          1  \n\n[362 rows x 10 columns]",
      "text/html": "<div>\n<style scoped>\n    .dataframe tbody tr th:only-of-type {\n        vertical-align: middle;\n    }\n\n    .dataframe tbody tr th {\n        vertical-align: top;\n    }\n\n    .dataframe thead th {\n        text-align: right;\n    }\n</style>\n<table border=\"1\" class=\"dataframe\">\n  <thead>\n    <tr style=\"text-align: right;\">\n      <th></th>\n      <th>Al</th>\n      <th>Si</th>\n      <th>Cation #1</th>\n      <th>Cation #2</th>\n      <th>Radius #1</th>\n      <th>Radius #2</th>\n      <th>Polarizability #1</th>\n      <th>Polarizability #2</th>\n      <th>Charge #1</th>\n      <th>Charge #2</th>\n    </tr>\n  </thead>\n  <tbody>\n    <tr>\n      <th>454</th>\n      <td>95</td>\n      <td>97</td>\n      <td>9</td>\n      <td>86</td>\n      <td>0.76</td>\n      <td>1.38</td>\n      <td>24.33</td>\n      <td>43.40</td>\n      <td>1</td>\n      <td>1</td>\n    </tr>\n    <tr>\n      <th>416</th>\n      <td>94</td>\n      <td>98</td>\n      <td>2</td>\n      <td>92</td>\n      <td>0.76</td>\n      <td>1.52</td>\n      <td>24.33</td>\n      <td>47.30</td>\n      <td>1</td>\n      <td>1</td>\n    </tr>\n    <tr>\n      <th>167</th>\n      <td>86</td>\n      <td>106</td>\n      <td>3</td>\n      <td>83</td>\n      <td>1.38</td>\n      <td>1.52</td>\n      <td>43.40</td>\n      <td>47.30</td>\n      <td>1</td>\n      <td>1</td>\n    </tr>\n    <tr>\n      <th>165</th>\n      <td>86</td>\n      <td>106</td>\n      <td>3</td>\n      <td>83</td>\n      <td>1.38</td>\n      <td>1.67</td>\n      <td>43.40</td>\n      <td>59.42</td>\n      <td>1</td>\n      <td>1</td>\n    </tr>\n    <tr>\n      <th>52</th>\n      <td>82</td>\n      <td>110</td>\n      <td>3</td>\n      <td>79</td>\n      <td>1.38</td>\n      <td>1.52</td>\n      <td>43.40</td>\n      <td>47.30</td>\n      <td>1</td>\n      <td>1</td>\n    </tr>\n    <tr>\n      <th>...</th>\n      <td>...</td>\n      <td>...</td>\n      <td>...</td>\n      <td>...</td>\n      <td>...</td>\n      <td>...</td>\n      <td>...</td>\n      <td>...</td>\n      <td>...</td>\n      <td>...</td>\n    </tr>\n    <tr>\n      <th>335</th>\n      <td>92</td>\n      <td>100</td>\n      <td>12</td>\n      <td>80</td>\n      <td>1.67</td>\n      <td>0.76</td>\n      <td>59.42</td>\n      <td>24.33</td>\n      <td>1</td>\n      <td>1</td>\n    </tr>\n    <tr>\n      <th>201</th>\n      <td>87</td>\n      <td>105</td>\n      <td>2</td>\n      <td>85</td>\n      <td>0.76</td>\n      <td>1.38</td>\n      <td>24.33</td>\n      <td>43.40</td>\n      <td>1</td>\n      <td>1</td>\n    </tr>\n    <tr>\n      <th>123</th>\n      <td>84</td>\n      <td>108</td>\n      <td>5</td>\n      <td>79</td>\n      <td>1.02</td>\n      <td>1.67</td>\n      <td>24.11</td>\n      <td>59.42</td>\n      <td>1</td>\n      <td>1</td>\n    </tr>\n    <tr>\n      <th>50</th>\n      <td>82</td>\n      <td>110</td>\n      <td>3</td>\n      <td>79</td>\n      <td>1.38</td>\n      <td>0.76</td>\n      <td>43.40</td>\n      <td>24.33</td>\n      <td>1</td>\n      <td>1</td>\n    </tr>\n    <tr>\n      <th>180</th>\n      <td>86</td>\n      <td>106</td>\n      <td>4</td>\n      <td>82</td>\n      <td>1.02</td>\n      <td>0.76</td>\n      <td>24.11</td>\n      <td>24.33</td>\n      <td>1</td>\n      <td>1</td>\n    </tr>\n  </tbody>\n</table>\n<p>362 rows × 10 columns</p>\n</div>"
     },
     "execution_count": 383,
     "metadata": {},
     "output_type": "execute_result"
    }
   ],
   "source": [
    "features_train"
   ],
   "metadata": {
    "collapsed": false,
    "ExecuteTime": {
     "end_time": "2024-11-06T17:47:32.925677Z",
     "start_time": "2024-11-06T17:47:32.901697Z"
    }
   },
   "id": "53ba00a4b87d6db1",
   "execution_count": 383
  },
  {
   "cell_type": "code",
   "outputs": [],
   "source": [
    "def mps_loss(y_true, y_pred):\n",
    "    # Приводим y_true и y_pred к типу float32, чтобы избежать несоответствия типов\n",
    "    y_true = tf.cast(y_true, tf.float32)\n",
    "    y_pred = tf.cast(y_pred, tf.float32)\n",
    "    \n",
    "    # Вычисление абсолютных отклонений\n",
    "    delta = tf.abs(y_true - y_pred)\n",
    "    \n",
    "    # Среднее значение отклонений\n",
    "    delta_ = tf.reduce_mean(delta)\n",
    "    \n",
    "    # Стандартное отклонение отклонений\n",
    "    sigma = tf.sqrt(tf.reduce_mean(tf.square(delta - delta_)))\n",
    "    \n",
    "    # Получаем размер тензора в целочисленном типе (int32)\n",
    "    size = tf.size(delta, out_type=tf.int32)\n",
    "    \n",
    "    # Финальная ошибка\n",
    "    return tf.reduce_mean(delta_ / tf.cast(size, tf.float32) * (sigma / tf.cast(size, tf.float32) + 1))\n",
    "\n",
    "def create_model(x):\n",
    "    inputs = Input(shape=10)\n",
    "    num_elements = Input(shape=1)\n",
    "    x = Dense(10, activation='relu')(inputs)\n",
    "    x = Dropout(0.3)(x)\n",
    "    d = Dense(8, activation='relu')(x)\n",
    "    l1 = Lambda(lambda x: x / tf.reduce_sum(x, axis=1, keepdims=True))(d)\n",
    "    outputs = Multiply()([l1, num_elements])\n",
    "    model = tf.keras.Model(inputs=[inputs, num_elements], outputs=outputs)\n",
    "    model.compile(loss=mps_loss, optimizer='Adam')\n",
    "    return model\n",
    "\n",
    "model = create_model(features_train)"
   ],
   "metadata": {
    "collapsed": false,
    "ExecuteTime": {
     "end_time": "2024-11-06T19:37:48.511028Z",
     "start_time": "2024-11-06T19:37:48.463052Z"
    }
   },
   "id": "fc8f067e08656b5",
   "execution_count": 703
  },
  {
   "cell_type": "code",
   "outputs": [],
   "source": [
    "num_train = []\n",
    "num_test = []\n",
    "\n",
    "for i in range(len(features_train)):\n",
    "    #labels_train.iloc[i] /= np.sum(labels_train.iloc[i])\n",
    "    num_train.append(features_train.iloc[i][\"Al\"])\n",
    "for i in range(len(features_test)):\n",
    "    #labels_test.iloc[i] /= np.sum(labels_test.iloc[i])\n",
    "    num_test.append(features_test.iloc[i][\"Al\"])"
   ],
   "metadata": {
    "collapsed": false,
    "ExecuteTime": {
     "end_time": "2024-11-06T19:15:59.540154Z",
     "start_time": "2024-11-06T19:15:59.492157Z"
    }
   },
   "id": "4476bacb1d22ced0",
   "execution_count": 603
  },
  {
   "cell_type": "code",
   "outputs": [
    {
     "name": "stdout",
     "output_type": "stream",
     "text": [
      "Epoch 1/100\n",
      "23/24 [===========================>..] - ETA: 0s - loss: 0.1016\n",
      "Epoch 1: val_loss improved from inf to 0.09219, saving model to data/models\\mps.keras\n",
      "24/24 [==============================] - 1s 13ms/step - loss: 0.1039 - val_loss: 0.0922\n",
      "Epoch 2/100\n",
      "23/24 [===========================>..] - ETA: 0s - loss: 0.0861\n",
      "Epoch 2: val_loss improved from 0.09219 to 0.07870, saving model to data/models\\mps.keras\n",
      "24/24 [==============================] - 0s 7ms/step - loss: 0.0881 - val_loss: 0.0787\n",
      "Epoch 3/100\n",
      "13/24 [===============>..............] - ETA: 0s - loss: 0.0784\n",
      "Epoch 3: val_loss improved from 0.07870 to 0.06710, saving model to data/models\\mps.keras\n",
      "24/24 [==============================] - 0s 7ms/step - loss: 0.0780 - val_loss: 0.0671\n",
      "Epoch 4/100\n",
      "13/24 [===============>..............] - ETA: 0s - loss: 0.0681\n",
      "Epoch 4: val_loss improved from 0.06710 to 0.05455, saving model to data/models\\mps.keras\n",
      "24/24 [==============================] - 0s 7ms/step - loss: 0.0679 - val_loss: 0.0545\n",
      "Epoch 5/100\n",
      "24/24 [==============================] - ETA: 0s - loss: 0.0573\n",
      "Epoch 5: val_loss improved from 0.05455 to 0.04759, saving model to data/models\\mps.keras\n",
      "24/24 [==============================] - 0s 7ms/step - loss: 0.0573 - val_loss: 0.0476\n",
      "Epoch 6/100\n",
      "13/24 [===============>..............] - ETA: 0s - loss: 0.0530\n",
      "Epoch 6: val_loss improved from 0.04759 to 0.04347, saving model to data/models\\mps.keras\n",
      "24/24 [==============================] - 0s 7ms/step - loss: 0.0517 - val_loss: 0.0435\n",
      "Epoch 7/100\n",
      "23/24 [===========================>..] - ETA: 0s - loss: 0.0452\n",
      "Epoch 7: val_loss improved from 0.04347 to 0.03930, saving model to data/models\\mps.keras\n",
      "24/24 [==============================] - 0s 7ms/step - loss: 0.0461 - val_loss: 0.0393\n",
      "Epoch 8/100\n",
      "13/24 [===============>..............] - ETA: 0s - loss: 0.0424\n",
      "Epoch 8: val_loss improved from 0.03930 to 0.03702, saving model to data/models\\mps.keras\n",
      "24/24 [==============================] - 0s 7ms/step - loss: 0.0441 - val_loss: 0.0370\n",
      "Epoch 9/100\n",
      "22/24 [==========================>...] - ETA: 0s - loss: 0.0409\n",
      "Epoch 9: val_loss improved from 0.03702 to 0.03638, saving model to data/models\\mps.keras\n",
      "24/24 [==============================] - 0s 8ms/step - loss: 0.0420 - val_loss: 0.0364\n",
      "Epoch 10/100\n",
      "13/24 [===============>..............] - ETA: 0s - loss: 0.0418\n",
      "Epoch 10: val_loss improved from 0.03638 to 0.03545, saving model to data/models\\mps.keras\n",
      "24/24 [==============================] - 0s 7ms/step - loss: 0.0426 - val_loss: 0.0355\n",
      "Epoch 11/100\n",
      "13/24 [===============>..............] - ETA: 0s - loss: 0.0383\n",
      "Epoch 11: val_loss improved from 0.03545 to 0.03482, saving model to data/models\\mps.keras\n",
      "24/24 [==============================] - 0s 7ms/step - loss: 0.0393 - val_loss: 0.0348\n",
      "Epoch 12/100\n",
      "23/24 [===========================>..] - ETA: 0s - loss: 0.0367\n",
      "Epoch 12: val_loss improved from 0.03482 to 0.03418, saving model to data/models\\mps.keras\n",
      "24/24 [==============================] - 0s 7ms/step - loss: 0.0376 - val_loss: 0.0342\n",
      "Epoch 13/100\n",
      "24/24 [==============================] - ETA: 0s - loss: 0.0368\n",
      "Epoch 13: val_loss improved from 0.03418 to 0.03366, saving model to data/models\\mps.keras\n",
      "24/24 [==============================] - 0s 7ms/step - loss: 0.0368 - val_loss: 0.0337\n",
      "Epoch 14/100\n",
      "13/24 [===============>..............] - ETA: 0s - loss: 0.0348\n",
      "Epoch 14: val_loss improved from 0.03366 to 0.03317, saving model to data/models\\mps.keras\n",
      "24/24 [==============================] - 0s 7ms/step - loss: 0.0351 - val_loss: 0.0332\n",
      "Epoch 15/100\n",
      "24/24 [==============================] - ETA: 0s - loss: 0.0350\n",
      "Epoch 15: val_loss improved from 0.03317 to 0.03275, saving model to data/models\\mps.keras\n",
      "24/24 [==============================] - 0s 7ms/step - loss: 0.0350 - val_loss: 0.0328\n",
      "Epoch 16/100\n",
      "13/24 [===============>..............] - ETA: 0s - loss: 0.0334\n",
      "Epoch 16: val_loss improved from 0.03275 to 0.03223, saving model to data/models\\mps.keras\n",
      "24/24 [==============================] - 0s 7ms/step - loss: 0.0340 - val_loss: 0.0322\n",
      "Epoch 17/100\n",
      "23/24 [===========================>..] - ETA: 0s - loss: 0.0348\n",
      "Epoch 17: val_loss improved from 0.03223 to 0.03160, saving model to data/models\\mps.keras\n",
      "24/24 [==============================] - 0s 10ms/step - loss: 0.0359 - val_loss: 0.0316\n",
      "Epoch 18/100\n",
      "24/24 [==============================] - ETA: 0s - loss: 0.0342\n",
      "Epoch 18: val_loss improved from 0.03160 to 0.03135, saving model to data/models\\mps.keras\n",
      "24/24 [==============================] - 0s 7ms/step - loss: 0.0342 - val_loss: 0.0313\n",
      "Epoch 19/100\n",
      "13/24 [===============>..............] - ETA: 0s - loss: 0.0313\n",
      "Epoch 19: val_loss improved from 0.03135 to 0.03102, saving model to data/models\\mps.keras\n",
      "24/24 [==============================] - 0s 10ms/step - loss: 0.0310 - val_loss: 0.0310\n",
      "Epoch 20/100\n",
      "22/24 [==========================>...] - ETA: 0s - loss: 0.0309\n",
      "Epoch 20: val_loss improved from 0.03102 to 0.03095, saving model to data/models\\mps.keras\n",
      "24/24 [==============================] - 0s 7ms/step - loss: 0.0317 - val_loss: 0.0310\n",
      "Epoch 21/100\n",
      "24/24 [==============================] - ETA: 0s - loss: 0.0314\n",
      "Epoch 21: val_loss improved from 0.03095 to 0.03071, saving model to data/models\\mps.keras\n",
      "24/24 [==============================] - 0s 7ms/step - loss: 0.0314 - val_loss: 0.0307\n",
      "Epoch 22/100\n",
      "24/24 [==============================] - ETA: 0s - loss: 0.0314\n",
      "Epoch 22: val_loss improved from 0.03071 to 0.03045, saving model to data/models\\mps.keras\n",
      "24/24 [==============================] - 0s 7ms/step - loss: 0.0314 - val_loss: 0.0304\n",
      "Epoch 23/100\n",
      "13/24 [===============>..............] - ETA: 0s - loss: 0.0295\n",
      "Epoch 23: val_loss improved from 0.03045 to 0.03020, saving model to data/models\\mps.keras\n",
      "24/24 [==============================] - 0s 7ms/step - loss: 0.0306 - val_loss: 0.0302\n",
      "Epoch 24/100\n",
      "22/24 [==========================>...] - ETA: 0s - loss: 0.0299\n",
      "Epoch 24: val_loss improved from 0.03020 to 0.02993, saving model to data/models\\mps.keras\n",
      "24/24 [==============================] - 0s 7ms/step - loss: 0.0306 - val_loss: 0.0299\n",
      "Epoch 25/100\n",
      "24/24 [==============================] - ETA: 0s - loss: 0.0297\n",
      "Epoch 25: val_loss improved from 0.02993 to 0.02974, saving model to data/models\\mps.keras\n",
      "24/24 [==============================] - 0s 7ms/step - loss: 0.0297 - val_loss: 0.0297\n",
      "Epoch 26/100\n",
      "13/24 [===============>..............] - ETA: 0s - loss: 0.0304\n",
      "Epoch 26: val_loss improved from 0.02974 to 0.02953, saving model to data/models\\mps.keras\n",
      "24/24 [==============================] - 0s 7ms/step - loss: 0.0309 - val_loss: 0.0295\n",
      "Epoch 27/100\n",
      "23/24 [===========================>..] - ETA: 0s - loss: 0.0290\n",
      "Epoch 27: val_loss improved from 0.02953 to 0.02933, saving model to data/models\\mps.keras\n",
      "24/24 [==============================] - 0s 7ms/step - loss: 0.0295 - val_loss: 0.0293\n",
      "Epoch 28/100\n",
      "24/24 [==============================] - ETA: 0s - loss: 0.0298\n",
      "Epoch 28: val_loss improved from 0.02933 to 0.02906, saving model to data/models\\mps.keras\n",
      "24/24 [==============================] - 0s 7ms/step - loss: 0.0298 - val_loss: 0.0291\n",
      "Epoch 29/100\n",
      "20/24 [========================>.....] - ETA: 0s - loss: 0.0285\n",
      "Epoch 29: val_loss improved from 0.02906 to 0.02878, saving model to data/models\\mps.keras\n",
      "24/24 [==============================] - 0s 8ms/step - loss: 0.0292 - val_loss: 0.0288\n",
      "Epoch 30/100\n",
      "21/24 [=========================>....] - ETA: 0s - loss: 0.0288\n",
      "Epoch 30: val_loss improved from 0.02878 to 0.02862, saving model to data/models\\mps.keras\n",
      "24/24 [==============================] - 0s 8ms/step - loss: 0.0299 - val_loss: 0.0286\n",
      "Epoch 31/100\n",
      "13/24 [===============>..............] - ETA: 0s - loss: 0.0287\n",
      "Epoch 31: val_loss improved from 0.02862 to 0.02848, saving model to data/models\\mps.keras\n",
      "24/24 [==============================] - 0s 7ms/step - loss: 0.0291 - val_loss: 0.0285\n",
      "Epoch 32/100\n",
      "20/24 [========================>.....] - ETA: 0s - loss: 0.0284\n",
      "Epoch 32: val_loss improved from 0.02848 to 0.02831, saving model to data/models\\mps.keras\n",
      "24/24 [==============================] - 0s 8ms/step - loss: 0.0295 - val_loss: 0.0283\n",
      "Epoch 33/100\n",
      "22/24 [==========================>...] - ETA: 0s - loss: 0.0296\n",
      "Epoch 33: val_loss improved from 0.02831 to 0.02817, saving model to data/models\\mps.keras\n",
      "24/24 [==============================] - 0s 8ms/step - loss: 0.0303 - val_loss: 0.0282\n",
      "Epoch 34/100\n",
      "13/24 [===============>..............] - ETA: 0s - loss: 0.0277\n",
      "Epoch 34: val_loss improved from 0.02817 to 0.02794, saving model to data/models\\mps.keras\n",
      "24/24 [==============================] - 0s 7ms/step - loss: 0.0289 - val_loss: 0.0279\n",
      "Epoch 35/100\n",
      "23/24 [===========================>..] - ETA: 0s - loss: 0.0280\n",
      "Epoch 35: val_loss improved from 0.02794 to 0.02781, saving model to data/models\\mps.keras\n",
      "24/24 [==============================] - 0s 8ms/step - loss: 0.0287 - val_loss: 0.0278\n",
      "Epoch 36/100\n",
      "24/24 [==============================] - ETA: 0s - loss: 0.0288\n",
      "Epoch 36: val_loss improved from 0.02781 to 0.02774, saving model to data/models\\mps.keras\n",
      "24/24 [==============================] - 0s 7ms/step - loss: 0.0288 - val_loss: 0.0277\n",
      "Epoch 37/100\n",
      "13/24 [===============>..............] - ETA: 0s - loss: 0.0260\n",
      "Epoch 37: val_loss improved from 0.02774 to 0.02763, saving model to data/models\\mps.keras\n",
      "24/24 [==============================] - 0s 7ms/step - loss: 0.0270 - val_loss: 0.0276\n",
      "Epoch 38/100\n",
      "23/24 [===========================>..] - ETA: 0s - loss: 0.0264\n",
      "Epoch 38: val_loss improved from 0.02763 to 0.02755, saving model to data/models\\mps.keras\n",
      "24/24 [==============================] - 0s 7ms/step - loss: 0.0270 - val_loss: 0.0276\n",
      "Epoch 39/100\n",
      "23/24 [===========================>..] - ETA: 0s - loss: 0.0261\n",
      "Epoch 39: val_loss did not improve from 0.02755\n",
      "24/24 [==============================] - 0s 6ms/step - loss: 0.0268 - val_loss: 0.0276\n",
      "Epoch 40/100\n",
      "13/24 [===============>..............] - ETA: 0s - loss: 0.0267\n",
      "Epoch 40: val_loss did not improve from 0.02755\n",
      "24/24 [==============================] - 0s 6ms/step - loss: 0.0267 - val_loss: 0.0277\n",
      "Epoch 41/100\n",
      "13/24 [===============>..............] - ETA: 0s - loss: 0.0253\n",
      "Epoch 41: val_loss did not improve from 0.02755\n",
      "24/24 [==============================] - 0s 6ms/step - loss: 0.0263 - val_loss: 0.0279\n",
      "Epoch 42/100\n",
      "23/24 [===========================>..] - ETA: 0s - loss: 0.0259\n",
      "Epoch 42: val_loss did not improve from 0.02755\n",
      "24/24 [==============================] - 0s 7ms/step - loss: 0.0269 - val_loss: 0.0278\n",
      "Epoch 43/100\n",
      "13/24 [===============>..............] - ETA: 0s - loss: 0.0259\n",
      "Epoch 43: val_loss did not improve from 0.02755\n",
      "24/24 [==============================] - 0s 6ms/step - loss: 0.0265 - val_loss: 0.0278\n",
      "Epoch 44/100\n",
      "13/24 [===============>..............] - ETA: 0s - loss: 0.0269\n",
      "Epoch 44: val_loss did not improve from 0.02755\n",
      "24/24 [==============================] - 0s 6ms/step - loss: 0.0265 - val_loss: 0.0277\n",
      "Epoch 45/100\n",
      "13/24 [===============>..............] - ETA: 0s - loss: 0.0272\n",
      "Epoch 45: val_loss did not improve from 0.02755\n",
      "24/24 [==============================] - 0s 6ms/step - loss: 0.0270 - val_loss: 0.0278\n",
      "Epoch 46/100\n",
      "13/24 [===============>..............] - ETA: 0s - loss: 0.0267\n",
      "Epoch 46: val_loss did not improve from 0.02755\n",
      "24/24 [==============================] - 0s 6ms/step - loss: 0.0266 - val_loss: 0.0278\n",
      "Epoch 47/100\n",
      "24/24 [==============================] - ETA: 0s - loss: 0.0272\n",
      "Epoch 47: val_loss did not improve from 0.02755\n",
      "24/24 [==============================] - 0s 7ms/step - loss: 0.0272 - val_loss: 0.0276\n",
      "Epoch 48/100\n",
      "20/24 [========================>.....] - ETA: 0s - loss: 0.0260\n",
      "Epoch 48: val_loss improved from 0.02755 to 0.02739, saving model to data/models\\mps.keras\n",
      "24/24 [==============================] - 0s 8ms/step - loss: 0.0266 - val_loss: 0.0274\n",
      "Epoch 49/100\n",
      "24/24 [==============================] - ETA: 0s - loss: 0.0265\n",
      "Epoch 49: val_loss improved from 0.02739 to 0.02726, saving model to data/models\\mps.keras\n",
      "24/24 [==============================] - 0s 7ms/step - loss: 0.0265 - val_loss: 0.0273\n",
      "Epoch 50/100\n",
      "13/24 [===============>..............] - ETA: 0s - loss: 0.0285\n",
      "Epoch 50: val_loss improved from 0.02726 to 0.02718, saving model to data/models\\mps.keras\n",
      "24/24 [==============================] - 0s 7ms/step - loss: 0.0274 - val_loss: 0.0272\n",
      "Epoch 51/100\n",
      "24/24 [==============================] - ETA: 0s - loss: 0.0269\n",
      "Epoch 51: val_loss improved from 0.02718 to 0.02684, saving model to data/models\\mps.keras\n",
      "24/24 [==============================] - 0s 7ms/step - loss: 0.0269 - val_loss: 0.0268\n",
      "Epoch 52/100\n",
      "23/24 [===========================>..] - ETA: 0s - loss: 0.0250\n",
      "Epoch 52: val_loss did not improve from 0.02684\n",
      "24/24 [==============================] - 0s 7ms/step - loss: 0.0260 - val_loss: 0.0272\n",
      "Epoch 53/100\n",
      "13/24 [===============>..............] - ETA: 0s - loss: 0.0254\n",
      "Epoch 53: val_loss did not improve from 0.02684\n",
      "24/24 [==============================] - 0s 6ms/step - loss: 0.0260 - val_loss: 0.0272\n",
      "Epoch 54/100\n",
      "24/24 [==============================] - ETA: 0s - loss: 0.0257\n",
      "Epoch 54: val_loss did not improve from 0.02684\n",
      "24/24 [==============================] - 0s 6ms/step - loss: 0.0257 - val_loss: 0.0271\n",
      "Epoch 55/100\n",
      "24/24 [==============================] - ETA: 0s - loss: 0.0253\n",
      "Epoch 55: val_loss did not improve from 0.02684\n",
      "24/24 [==============================] - 0s 6ms/step - loss: 0.0253 - val_loss: 0.0269\n",
      "Epoch 56/100\n",
      "13/24 [===============>..............] - ETA: 0s - loss: 0.0262\n",
      "Epoch 56: val_loss improved from 0.02684 to 0.02662, saving model to data/models\\mps.keras\n",
      "24/24 [==============================] - 0s 7ms/step - loss: 0.0257 - val_loss: 0.0266\n",
      "Epoch 57/100\n",
      "24/24 [==============================] - ETA: 0s - loss: 0.0262\n",
      "Epoch 57: val_loss improved from 0.02662 to 0.02659, saving model to data/models\\mps.keras\n",
      "24/24 [==============================] - 0s 7ms/step - loss: 0.0262 - val_loss: 0.0266\n",
      "Epoch 58/100\n",
      "24/24 [==============================] - ETA: 0s - loss: 0.0259\n",
      "Epoch 58: val_loss improved from 0.02659 to 0.02651, saving model to data/models\\mps.keras\n",
      "24/24 [==============================] - 0s 7ms/step - loss: 0.0259 - val_loss: 0.0265\n",
      "Epoch 59/100\n",
      "13/24 [===============>..............] - ETA: 0s - loss: 0.0243\n",
      "Epoch 59: val_loss improved from 0.02651 to 0.02604, saving model to data/models\\mps.keras\n",
      "24/24 [==============================] - 0s 7ms/step - loss: 0.0253 - val_loss: 0.0260\n",
      "Epoch 60/100\n",
      "12/24 [==============>...............] - ETA: 0s - loss: 0.0251\n",
      "Epoch 60: val_loss improved from 0.02604 to 0.02535, saving model to data/models\\mps.keras\n",
      "24/24 [==============================] - 0s 7ms/step - loss: 0.0252 - val_loss: 0.0254\n",
      "Epoch 61/100\n",
      "24/24 [==============================] - ETA: 0s - loss: 0.0247\n",
      "Epoch 61: val_loss improved from 0.02535 to 0.02433, saving model to data/models\\mps.keras\n",
      "24/24 [==============================] - 0s 7ms/step - loss: 0.0247 - val_loss: 0.0243\n",
      "Epoch 62/100\n",
      "13/24 [===============>..............] - ETA: 0s - loss: 0.0235\n",
      "Epoch 62: val_loss improved from 0.02433 to 0.02283, saving model to data/models\\mps.keras\n",
      "24/24 [==============================] - 0s 7ms/step - loss: 0.0242 - val_loss: 0.0228\n",
      "Epoch 63/100\n",
      "24/24 [==============================] - ETA: 0s - loss: 0.0233\n",
      "Epoch 63: val_loss improved from 0.02283 to 0.02023, saving model to data/models\\mps.keras\n",
      "24/24 [==============================] - 0s 7ms/step - loss: 0.0233 - val_loss: 0.0202\n",
      "Epoch 64/100\n",
      "13/24 [===============>..............] - ETA: 0s - loss: 0.0233\n",
      "Epoch 64: val_loss improved from 0.02023 to 0.01818, saving model to data/models\\mps.keras\n",
      "24/24 [==============================] - 0s 7ms/step - loss: 0.0227 - val_loss: 0.0182\n",
      "Epoch 65/100\n",
      "12/24 [==============>...............] - ETA: 0s - loss: 0.0208\n",
      "Epoch 65: val_loss did not improve from 0.01818\n",
      "24/24 [==============================] - 0s 6ms/step - loss: 0.0212 - val_loss: 0.0183\n",
      "Epoch 66/100\n",
      "13/24 [===============>..............] - ETA: 0s - loss: 0.0216\n",
      "Epoch 66: val_loss did not improve from 0.01818\n",
      "24/24 [==============================] - 0s 6ms/step - loss: 0.0223 - val_loss: 0.0191\n",
      "Epoch 67/100\n",
      "24/24 [==============================] - ETA: 0s - loss: 0.0224\n",
      "Epoch 67: val_loss improved from 0.01818 to 0.01786, saving model to data/models\\mps.keras\n",
      "24/24 [==============================] - 0s 7ms/step - loss: 0.0224 - val_loss: 0.0179\n",
      "Epoch 68/100\n",
      "23/24 [===========================>..] - ETA: 0s - loss: 0.0204\n",
      "Epoch 68: val_loss improved from 0.01786 to 0.01736, saving model to data/models\\mps.keras\n",
      "24/24 [==============================] - 0s 7ms/step - loss: 0.0209 - val_loss: 0.0174\n",
      "Epoch 69/100\n",
      "13/24 [===============>..............] - ETA: 0s - loss: 0.0204\n",
      "Epoch 69: val_loss did not improve from 0.01736\n",
      "24/24 [==============================] - 0s 6ms/step - loss: 0.0205 - val_loss: 0.0177\n",
      "Epoch 70/100\n",
      "24/24 [==============================] - ETA: 0s - loss: 0.0229\n",
      "Epoch 70: val_loss improved from 0.01736 to 0.01734, saving model to data/models\\mps.keras\n",
      "24/24 [==============================] - 0s 7ms/step - loss: 0.0229 - val_loss: 0.0173\n",
      "Epoch 71/100\n",
      "23/24 [===========================>..] - ETA: 0s - loss: 0.0204\n",
      "Epoch 71: val_loss did not improve from 0.01734\n",
      "24/24 [==============================] - 0s 7ms/step - loss: 0.0205 - val_loss: 0.0174\n",
      "Epoch 72/100\n",
      "13/24 [===============>..............] - ETA: 0s - loss: 0.0200\n",
      "Epoch 72: val_loss improved from 0.01734 to 0.01703, saving model to data/models\\mps.keras\n",
      "24/24 [==============================] - 0s 7ms/step - loss: 0.0202 - val_loss: 0.0170\n",
      "Epoch 73/100\n",
      "23/24 [===========================>..] - ETA: 0s - loss: 0.0197\n",
      "Epoch 73: val_loss did not improve from 0.01703\n",
      "24/24 [==============================] - 0s 7ms/step - loss: 0.0204 - val_loss: 0.0171\n",
      "Epoch 74/100\n",
      "23/24 [===========================>..] - ETA: 0s - loss: 0.0205\n",
      "Epoch 74: val_loss did not improve from 0.01703\n",
      "24/24 [==============================] - 0s 6ms/step - loss: 0.0206 - val_loss: 0.0178\n",
      "Epoch 75/100\n",
      "13/24 [===============>..............] - ETA: 0s - loss: 0.0176\n",
      "Epoch 75: val_loss did not improve from 0.01703\n",
      "24/24 [==============================] - 0s 6ms/step - loss: 0.0200 - val_loss: 0.0178\n",
      "Epoch 76/100\n",
      "13/24 [===============>..............] - ETA: 0s - loss: 0.0194\n",
      "Epoch 76: val_loss improved from 0.01703 to 0.01664, saving model to data/models\\mps.keras\n",
      "24/24 [==============================] - 0s 7ms/step - loss: 0.0192 - val_loss: 0.0166\n",
      "Epoch 77/100\n",
      "24/24 [==============================] - ETA: 0s - loss: 0.0196\n",
      "Epoch 77: val_loss did not improve from 0.01664\n",
      "24/24 [==============================] - 0s 6ms/step - loss: 0.0196 - val_loss: 0.0174\n",
      "Epoch 78/100\n",
      "13/24 [===============>..............] - ETA: 0s - loss: 0.0188\n",
      "Epoch 78: val_loss did not improve from 0.01664\n",
      "24/24 [==============================] - 0s 6ms/step - loss: 0.0196 - val_loss: 0.0171\n",
      "Epoch 79/100\n",
      "18/24 [=====================>........] - ETA: 0s - loss: 0.0192\n",
      "Epoch 79: val_loss did not improve from 0.01664\n",
      "24/24 [==============================] - 0s 8ms/step - loss: 0.0196 - val_loss: 0.0181\n",
      "Epoch 80/100\n",
      "20/24 [========================>.....] - ETA: 0s - loss: 0.0185\n",
      "Epoch 80: val_loss did not improve from 0.01664\n",
      "24/24 [==============================] - 0s 8ms/step - loss: 0.0189 - val_loss: 0.0168\n",
      "Epoch 81/100\n",
      "20/24 [========================>.....] - ETA: 0s - loss: 0.0195\n",
      "Epoch 81: val_loss did not improve from 0.01664\n",
      "24/24 [==============================] - 0s 7ms/step - loss: 0.0200 - val_loss: 0.0167\n",
      "Epoch 82/100\n",
      "20/24 [========================>.....] - ETA: 0s - loss: 0.0184\n",
      "Epoch 82: val_loss did not improve from 0.01664\n",
      "24/24 [==============================] - 0s 7ms/step - loss: 0.0189 - val_loss: 0.0168\n",
      "Epoch 83/100\n",
      "21/24 [=========================>....] - ETA: 0s - loss: 0.0181\n",
      "Epoch 83: val_loss did not improve from 0.01664\n",
      "24/24 [==============================] - 0s 10ms/step - loss: 0.0189 - val_loss: 0.0169\n",
      "Epoch 84/100\n",
      "20/24 [========================>.....] - ETA: 0s - loss: 0.0178\n",
      "Epoch 84: val_loss did not improve from 0.01664\n",
      "24/24 [==============================] - 0s 7ms/step - loss: 0.0189 - val_loss: 0.0167\n",
      "Epoch 85/100\n",
      "20/24 [========================>.....] - ETA: 0s - loss: 0.0191\n",
      "Epoch 85: val_loss improved from 0.01664 to 0.01647, saving model to data/models\\mps.keras\n",
      "24/24 [==============================] - 0s 8ms/step - loss: 0.0190 - val_loss: 0.0165\n",
      "Epoch 86/100\n",
      "18/24 [=====================>........] - ETA: 0s - loss: 0.0174\n",
      "Epoch 86: val_loss improved from 0.01647 to 0.01637, saving model to data/models\\mps.keras\n",
      "24/24 [==============================] - 0s 8ms/step - loss: 0.0175 - val_loss: 0.0164\n",
      "Epoch 87/100\n",
      "13/24 [===============>..............] - ETA: 0s - loss: 0.0179\n",
      "Epoch 87: val_loss did not improve from 0.01637\n",
      "24/24 [==============================] - 0s 6ms/step - loss: 0.0197 - val_loss: 0.0164\n",
      "Epoch 88/100\n",
      "13/24 [===============>..............] - ETA: 0s - loss: 0.0200\n",
      "Epoch 88: val_loss did not improve from 0.01637\n",
      "24/24 [==============================] - 0s 6ms/step - loss: 0.0199 - val_loss: 0.0166\n",
      "Epoch 89/100\n",
      "24/24 [==============================] - ETA: 0s - loss: 0.0179\n",
      "Epoch 89: val_loss did not improve from 0.01637\n",
      "24/24 [==============================] - 0s 6ms/step - loss: 0.0179 - val_loss: 0.0168\n",
      "Epoch 90/100\n",
      "13/24 [===============>..............] - ETA: 0s - loss: 0.0184\n",
      "Epoch 90: val_loss did not improve from 0.01637\n",
      "24/24 [==============================] - 0s 6ms/step - loss: 0.0185 - val_loss: 0.0164\n",
      "Epoch 91/100\n",
      "13/24 [===============>..............] - ETA: 0s - loss: 0.0175\n",
      "Epoch 91: val_loss did not improve from 0.01637\n",
      "24/24 [==============================] - 0s 6ms/step - loss: 0.0190 - val_loss: 0.0168\n",
      "Epoch 92/100\n",
      "23/24 [===========================>..] - ETA: 0s - loss: 0.0188\n",
      "Epoch 92: val_loss did not improve from 0.01637\n",
      "24/24 [==============================] - 0s 6ms/step - loss: 0.0191 - val_loss: 0.0170\n",
      "Epoch 93/100\n",
      "13/24 [===============>..............] - ETA: 0s - loss: 0.0188\n",
      "Epoch 93: val_loss did not improve from 0.01637\n",
      "24/24 [==============================] - 0s 6ms/step - loss: 0.0192 - val_loss: 0.0169\n",
      "Epoch 94/100\n",
      "23/24 [===========================>..] - ETA: 0s - loss: 0.0190\n",
      "Epoch 94: val_loss did not improve from 0.01637\n",
      "24/24 [==============================] - 0s 7ms/step - loss: 0.0194 - val_loss: 0.0165\n",
      "Epoch 95/100\n",
      "13/24 [===============>..............] - ETA: 0s - loss: 0.0185\n",
      "Epoch 95: val_loss did not improve from 0.01637\n",
      "24/24 [==============================] - 0s 6ms/step - loss: 0.0187 - val_loss: 0.0165\n",
      "Epoch 96/100\n",
      "23/24 [===========================>..] - ETA: 0s - loss: 0.0183\n",
      "Epoch 96: val_loss did not improve from 0.01637\n",
      "24/24 [==============================] - 0s 6ms/step - loss: 0.0186 - val_loss: 0.0164\n",
      "Epoch 97/100\n",
      "24/24 [==============================] - ETA: 0s - loss: 0.0189\n",
      "Epoch 97: val_loss improved from 0.01637 to 0.01633, saving model to data/models\\mps.keras\n",
      "24/24 [==============================] - 0s 7ms/step - loss: 0.0189 - val_loss: 0.0163\n",
      "Epoch 98/100\n",
      "13/24 [===============>..............] - ETA: 0s - loss: 0.0174\n",
      "Epoch 98: val_loss improved from 0.01633 to 0.01625, saving model to data/models\\mps.keras\n",
      "24/24 [==============================] - 0s 7ms/step - loss: 0.0181 - val_loss: 0.0163\n",
      "Epoch 99/100\n",
      "24/24 [==============================] - ETA: 0s - loss: 0.0182\n",
      "Epoch 99: val_loss improved from 0.01625 to 0.01618, saving model to data/models\\mps.keras\n",
      "24/24 [==============================] - 0s 7ms/step - loss: 0.0182 - val_loss: 0.0162\n",
      "Epoch 100/100\n",
      "24/24 [==============================] - ETA: 0s - loss: 0.0190\n",
      "Epoch 100: val_loss improved from 0.01618 to 0.01612, saving model to data/models\\mps.keras\n",
      "24/24 [==============================] - 0s 7ms/step - loss: 0.0190 - val_loss: 0.0161\n"
     ]
    }
   ],
   "source": [
    "def plot():\n",
    "    plt.legend()\n",
    "    plt.grid(True)\n",
    "    plt.show()\n",
    "\n",
    "def plot_loss(history):\n",
    "    plt.plot(history.history['loss'], label='loss', marker=\".\")\n",
    "    plt.plot(history.history['val_loss'], label='val_loss')\n",
    "    plt.xlabel('Epoch')\n",
    "    plt.ylabel('Error [MPG]')\n",
    "    plot()\n",
    "\n",
    "mcp_save = tf.keras.callbacks.ModelCheckpoint(filepath='data/models/mps.keras', save_best_only=True,\n",
    "                                              monitor='val_loss', mode='min', verbose=1, save_weights_only=False,\n",
    "                                              save_freq='epoch')\n",
    "\n",
    "history = model.fit([features_train, np.array(num_train)], labels_train,\n",
    "                    epochs=100, batch_size=16, shuffle=True,\n",
    "                    validation_data=([features_test, np.array(num_test)], labels_test), callbacks=[mcp_save])\n",
    "plot_loss(history)"
   ],
   "metadata": {
    "collapsed": false,
    "ExecuteTime": {
     "end_time": "2024-11-06T19:38:09.654147Z",
     "start_time": "2024-11-06T19:37:50.606291Z"
    }
   },
   "id": "8dbd2b2040a87313",
   "execution_count": 704
  },
  {
   "cell_type": "code",
   "outputs": [
    {
     "ename": "ValueError",
     "evalue": "Unknown loss function: mps_loss. Please ensure this object is passed to the `custom_objects` argument. See https://www.tensorflow.org/guide/keras/save_and_serialize#registering_the_custom_object for details.",
     "output_type": "error",
     "traceback": [
      "\u001B[1;31m---------------------------------------------------------------------------\u001B[0m",
      "\u001B[1;31mValueError\u001B[0m                                Traceback (most recent call last)",
      "Cell \u001B[1;32mIn[671], line 1\u001B[0m\n\u001B[1;32m----> 1\u001B[0m model \u001B[38;5;241m=\u001B[39m \u001B[43mtf\u001B[49m\u001B[38;5;241;43m.\u001B[39;49m\u001B[43mkeras\u001B[49m\u001B[38;5;241;43m.\u001B[39;49m\u001B[43mmodels\u001B[49m\u001B[38;5;241;43m.\u001B[39;49m\u001B[43mload_model\u001B[49m\u001B[43m(\u001B[49m\u001B[38;5;124;43m'\u001B[39;49m\u001B[38;5;124;43mdata/models/mps.keras\u001B[39;49m\u001B[38;5;124;43m'\u001B[39;49m\u001B[43m)\u001B[49m\n",
      "File \u001B[1;32m~\\PycharmProjects\\isotherm\\venv10\\lib\\site-packages\\keras\\utils\\traceback_utils.py:70\u001B[0m, in \u001B[0;36mfilter_traceback.<locals>.error_handler\u001B[1;34m(*args, **kwargs)\u001B[0m\n\u001B[0;32m     67\u001B[0m     filtered_tb \u001B[38;5;241m=\u001B[39m _process_traceback_frames(e\u001B[38;5;241m.\u001B[39m__traceback__)\n\u001B[0;32m     68\u001B[0m     \u001B[38;5;66;03m# To get the full stack trace, call:\u001B[39;00m\n\u001B[0;32m     69\u001B[0m     \u001B[38;5;66;03m# `tf.debugging.disable_traceback_filtering()`\u001B[39;00m\n\u001B[1;32m---> 70\u001B[0m     \u001B[38;5;28;01mraise\u001B[39;00m e\u001B[38;5;241m.\u001B[39mwith_traceback(filtered_tb) \u001B[38;5;28;01mfrom\u001B[39;00m \u001B[38;5;28;01mNone\u001B[39;00m\n\u001B[0;32m     71\u001B[0m \u001B[38;5;28;01mfinally\u001B[39;00m:\n\u001B[0;32m     72\u001B[0m     \u001B[38;5;28;01mdel\u001B[39;00m filtered_tb\n",
      "File \u001B[1;32m~\\PycharmProjects\\isotherm\\venv10\\lib\\site-packages\\keras\\utils\\generic_utils.py:769\u001B[0m, in \u001B[0;36mdeserialize_keras_object\u001B[1;34m(identifier, module_objects, custom_objects, printable_module_name)\u001B[0m\n\u001B[0;32m    767\u001B[0m     obj \u001B[38;5;241m=\u001B[39m module_objects\u001B[38;5;241m.\u001B[39mget(object_name)\n\u001B[0;32m    768\u001B[0m     \u001B[38;5;28;01mif\u001B[39;00m obj \u001B[38;5;129;01mis\u001B[39;00m \u001B[38;5;28;01mNone\u001B[39;00m:\n\u001B[1;32m--> 769\u001B[0m         \u001B[38;5;28;01mraise\u001B[39;00m \u001B[38;5;167;01mValueError\u001B[39;00m(\n\u001B[0;32m    770\u001B[0m             \u001B[38;5;124mf\u001B[39m\u001B[38;5;124m\"\u001B[39m\u001B[38;5;124mUnknown \u001B[39m\u001B[38;5;132;01m{\u001B[39;00mprintable_module_name\u001B[38;5;132;01m}\u001B[39;00m\u001B[38;5;124m: \u001B[39m\u001B[38;5;132;01m{\u001B[39;00mobject_name\u001B[38;5;132;01m}\u001B[39;00m\u001B[38;5;124m. Please \u001B[39m\u001B[38;5;124m\"\u001B[39m\n\u001B[0;32m    771\u001B[0m             \u001B[38;5;124m\"\u001B[39m\u001B[38;5;124mensure this object is passed to the `custom_objects` \u001B[39m\u001B[38;5;124m\"\u001B[39m\n\u001B[0;32m    772\u001B[0m             \u001B[38;5;124m\"\u001B[39m\u001B[38;5;124margument. See \u001B[39m\u001B[38;5;124m\"\u001B[39m\n\u001B[0;32m    773\u001B[0m             \u001B[38;5;124m\"\u001B[39m\u001B[38;5;124mhttps://www.tensorflow.org/guide/keras/save_and_serialize\u001B[39m\u001B[38;5;124m\"\u001B[39m\n\u001B[0;32m    774\u001B[0m             \u001B[38;5;124m\"\u001B[39m\u001B[38;5;124m#registering_the_custom_object for details.\u001B[39m\u001B[38;5;124m\"\u001B[39m\n\u001B[0;32m    775\u001B[0m         )\n\u001B[0;32m    777\u001B[0m \u001B[38;5;66;03m# Classes passed by name are instantiated with no args, functions are\u001B[39;00m\n\u001B[0;32m    778\u001B[0m \u001B[38;5;66;03m# returned as-is.\u001B[39;00m\n\u001B[0;32m    779\u001B[0m \u001B[38;5;28;01mif\u001B[39;00m tf_inspect\u001B[38;5;241m.\u001B[39misclass(obj):\n",
      "\u001B[1;31mValueError\u001B[0m: Unknown loss function: mps_loss. Please ensure this object is passed to the `custom_objects` argument. See https://www.tensorflow.org/guide/keras/save_and_serialize#registering_the_custom_object for details."
     ]
    }
   ],
   "source": [
    "model = tf.keras.models.load_model('data/models/mps.keras')"
   ],
   "metadata": {
    "collapsed": false,
    "ExecuteTime": {
     "end_time": "2024-11-06T19:33:47.484278Z",
     "start_time": "2024-11-06T19:33:47.343839Z"
    }
   },
   "id": "277cb2bd8d68a374",
   "execution_count": 671
  },
  {
   "cell_type": "code",
   "outputs": [
    {
     "name": "stdout",
     "output_type": "stream",
     "text": [
      "4/4 [==============================] - 0s 3ms/step\n"
     ]
    }
   ],
   "source": [
    "predictions = model.predict([features_test, np.array(num_test)])"
   ],
   "metadata": {
    "collapsed": false,
    "ExecuteTime": {
     "end_time": "2024-11-06T19:38:12.831899Z",
     "start_time": "2024-11-06T19:38:12.701031Z"
    }
   },
   "id": "d989c7ba9fee5ba",
   "execution_count": 705
  },
  {
   "cell_type": "code",
   "outputs": [
    {
     "data": {
      "text/plain": "Al                    92.00\nSi                   100.00\nCation #1             88.00\nCation #2              2.00\nRadius #1              1.38\nRadius #2              1.00\nPolarizability #1     43.40\nPolarizability #2     22.80\nCharge #1              1.00\nCharge #2              2.00\nName: 348, dtype: float64"
     },
     "execution_count": 706,
     "metadata": {},
     "output_type": "execute_result"
    }
   ],
   "source": [
    "features_test.iloc[88]"
   ],
   "metadata": {
    "collapsed": false,
    "ExecuteTime": {
     "end_time": "2024-11-06T19:38:13.464845Z",
     "start_time": "2024-11-06T19:38:13.446844Z"
    }
   },
   "id": "62673388b00637fc",
   "execution_count": 706
  },
  {
   "cell_type": "code",
   "outputs": [
    {
     "name": "stdout",
     "output_type": "stream",
     "text": [
      "№ 61\n",
      "[0.0, 0.0, 2.7, 0.0, 14.5, 7.0, 36.5, 29.4]\n",
      "[1.0, 0.0, 1.0, 0.0, 14.0, 1.0, 38.0, 33.0]\n",
      "90.00000476837158 88\n"
     ]
    }
   ],
   "source": [
    "import random\n",
    "\n",
    "def mps(first, second):\n",
    "    delta = []\n",
    "    for i in range(len(first)):\n",
    "        delta.append(abs(first[i] - second[i]))\n",
    "    delta_ = sum(delta) / len(delta)\n",
    "    sigma = 0\n",
    "    for i in range(len(first)):\n",
    "        sigma += (delta_ - abs(first[i] - second[i]))**2\n",
    "    sigma = np.sqrt(sigma/len(delta))\n",
    "    return delta_/len(delta)*(sigma/len(delta) + 1)\n",
    "    \n",
    "i = random.randint(0, len(predictions)-1)\n",
    "print(\"№\", i)\n",
    "rounded_prediction = [round(p, 1) for p in predictions[i]]\n",
    "print(rounded_prediction)\n",
    "\n",
    "rounded_real= [round(float(p), 1) for p in np.array(labels_test.iloc[i])]\n",
    "print(rounded_real)\n",
    "print(sum(predictions[i]), sum(labels_test.iloc[i]))"
   ],
   "metadata": {
    "collapsed": false,
    "ExecuteTime": {
     "end_time": "2024-11-06T19:39:25.811557Z",
     "start_time": "2024-11-06T19:39:25.790581Z"
    }
   },
   "id": "5e8a4bf39d9b5a56",
   "execution_count": 719
  },
  {
   "cell_type": "code",
   "outputs": [
    {
     "name": "stdout",
     "output_type": "stream",
     "text": [
      "40.790410466496716\n"
     ]
    }
   ],
   "source": [
    "mps_list = []\n",
    "for i in range(len(predictions)):\n",
    "    p = predictions[i]\n",
    "    real = np.array(labels_test.iloc[i])\n",
    "    mps_list.append(mps(p, real))\n",
    "print(sum(mps_list))"
   ],
   "metadata": {
    "collapsed": false,
    "ExecuteTime": {
     "end_time": "2024-11-06T19:38:17.060409Z",
     "start_time": "2024-11-06T19:38:17.038433Z"
    }
   },
   "id": "31bae2ae4559f7a",
   "execution_count": 708
  },
  {
   "cell_type": "code",
   "outputs": [],
   "source": [
    "plt.hist(mps_list)\n",
    "plt.show()"
   ],
   "metadata": {
    "collapsed": false,
    "ExecuteTime": {
     "end_time": "2024-11-06T19:39:09.299332Z",
     "start_time": "2024-11-06T19:39:02.308338Z"
    }
   },
   "id": "8c78d6f5138fccb6",
   "execution_count": 716
  },
  {
   "cell_type": "code",
   "outputs": [
    {
     "name": "stdout",
     "output_type": "stream",
     "text": [
      "37.59565462806723\n"
     ]
    }
   ],
   "source": [
    "print(sum(mps_list))"
   ],
   "metadata": {
    "collapsed": false,
    "ExecuteTime": {
     "end_time": "2024-11-06T19:16:53.404286Z",
     "start_time": "2024-11-06T19:16:53.400285Z"
    }
   },
   "id": "c3a85a01724668b5",
   "execution_count": 610
  },
  {
   "cell_type": "code",
   "outputs": [],
   "source": [],
   "metadata": {
    "collapsed": false
   },
   "id": "38511ac28158482b"
  }
 ],
 "metadata": {
  "kernelspec": {
   "display_name": "Python 3",
   "language": "python",
   "name": "python3"
  },
  "language_info": {
   "codemirror_mode": {
    "name": "ipython",
    "version": 2
   },
   "file_extension": ".py",
   "mimetype": "text/x-python",
   "name": "python",
   "nbconvert_exporter": "python",
   "pygments_lexer": "ipython2",
   "version": "2.7.6"
  }
 },
 "nbformat": 4,
 "nbformat_minor": 5
}
