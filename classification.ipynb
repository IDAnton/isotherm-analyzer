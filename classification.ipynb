{
 "cells": [
  {
   "cell_type": "code",
   "execution_count": 1,
   "id": "initial_id",
   "metadata": {
    "collapsed": true,
    "ExecuteTime": {
     "end_time": "2024-05-29T23:03:07.876685Z",
     "start_time": "2024-05-29T23:03:02.482987Z"
    }
   },
   "outputs": [],
   "source": [
    "import random\n",
    "import numpy as np\n",
    "import tensorflow.compat.v1 as tf\n",
    "import matplotlib.pyplot as plt\n",
    "from tensorflow.keras import layers, Sequential, Input\n",
    "from sklearn.model_selection import train_test_split\n",
    "from sklearn.utils import shuffle\n",
    "from generator import Generator"
   ]
  },
  {
   "cell_type": "code",
   "execution_count": 2,
   "outputs": [],
   "source": [
    "def plot():\n",
    "    plt.legend()\n",
    "    plt.grid(True)\n",
    "    plt.show()\n",
    "\n",
    "def plot_loss(history):\n",
    "    plt.plot(history.history['loss'], label='loss', marker=\".\")\n",
    "    plt.plot(history.history['val_loss'], label='val_loss')\n",
    "    plt.xlabel('Epoch')\n",
    "    plt.ylabel('Error [MPG]')\n",
    "    plot()\n",
    "\n",
    "def pre_process_isotherm(isotherm):\n",
    "    isotherm -= min(isotherm)\n",
    "    isotherm /= max(isotherm)\n",
    "    return isotherm\n",
    "    \n",
    "def load_dataset(path, interp=False, gen_silica=None, gen_carbon=None):\n",
    "    min_exp_pressure_i = 40\n",
    "    max_exp_pressure_i = 458\n",
    "    with open(path, 'rb') as f:\n",
    "            dataset = np.load(f)\n",
    "            isotherm_data = dataset[\"isotherm_data\"]\n",
    "            pore_distribution_data = dataset[\"pore_distribution_data\"]\n",
    "    x = np.empty((isotherm_data.shape[0], (-min_exp_pressure_i + max_exp_pressure_i)))\n",
    "    y = np.empty(pore_distribution_data.shape)\n",
    "    for i in range(len(isotherm_data)):\n",
    "        if interp:\n",
    "            interp_isotherm = np.interp(gen_silica.pressures_s, gen_carbon.pressures_s, isotherm_data[i])\n",
    "        else:\n",
    "            interp_isotherm = isotherm_data[i]\n",
    "        isotherm = pre_process_isotherm(interp_isotherm[min_exp_pressure_i:max_exp_pressure_i])\n",
    "        pore_distribution = pre_process_isotherm(pore_distribution_data[i])\n",
    "        x[i] = isotherm\n",
    "        y[i] = pore_distribution\n",
    "    #x, y = shuffle(x, y)\n",
    "    return x, y\n",
    "\n",
    "def create_model(input_shape):\n",
    "    ## CONV NET\n",
    "    # model = Sequential()\n",
    "    # model.add(layers.Conv1D(filters=64, kernel_size=3, activation='relu', input_shape=(input_shape,1)))\n",
    "    # model.add(layers.Conv1D(filters=64, kernel_size=3, activation='relu'))\n",
    "    # model.add(layers.Dropout(0.5))\n",
    "    # model.add(layers.MaxPooling1D(pool_size=2))\n",
    "    # model.add(layers.Flatten())\n",
    "    # model.add(layers.Dense(100, activation='relu'))\n",
    "    # model.add(layers.Dense(2, activation='softmax'))\n",
    "    ###\n",
    "        ## DENSE NET\n",
    "    model = Sequential(\n",
    "        [\n",
    "            Input(shape=len(x_train[0],)),\n",
    "            layers.Dense(400, activation='relu'),\n",
    "            layers.Dense(200, activation='relu'),\n",
    "            layers.Dense(100, activation='relu'),\n",
    "            layers.Dense(50, activation='relu'),\n",
    "            layers.Dense(2, activation='softmax')\n",
    "        ]\n",
    "    )\n",
    "    model.compile(loss='categorical_crossentropy', optimizer='adam', metrics=['accuracy'])\n",
    "    return model"
   ],
   "metadata": {
    "collapsed": false,
    "ExecuteTime": {
     "end_time": "2024-05-29T23:03:07.892686Z",
     "start_time": "2024-05-29T23:03:07.879687Z"
    }
   },
   "id": "586d532d7b2b798d"
  },
  {
   "cell_type": "code",
   "execution_count": 10,
   "outputs": [],
   "source": [
    "gen_silica = Generator(path_s=\"data/kernel_generated2/Kernel_s_Silica-loc-isoth1.xlsx.npy\",\n",
    "                              path_d=\"data/kernel_generated2/Kernel_d_Silica-loc-isoth1.xlsx.npy\",\n",
    "                              path_p_d=\"data/kernel_generated2/Pressure_d_Silica-loc-isoth1.xlsx.npy\",\n",
    "                              path_p_s=\"data/kernel_generated2/Pressure_s_Silica-loc-isoth1.xlsx.npy\",\n",
    "                              path_a=\"data/kernel_generated2/Size_Silica-loc-isoth1.xlsx.npy\"\n",
    "                              )\n",
    "gen_carbon = Generator(path_s=\"data/initial kernels/Kernel_Carbon_Adsorption.npy\",\n",
    "                              path_d=\"data/initial kernels/Kernel_Carbon_Desorption.npy\",\n",
    "                              path_p_d=\"data/initial kernels/Pressure_Carbon.npy\",\n",
    "                              path_p_s=\"data/initial kernels/Pressure_Carbon.npy\",\n",
    "                              path_a=\"data/initial kernels/Size_Kernel_Carbon_Adsorption.npy\"\n",
    "                              )\n",
    "x1, y1 = load_dataset('data/datasets/Carbon_classification.npz', interp=True, gen_carbon=gen_carbon, gen_silica=gen_silica)\n",
    "x2, y2 = load_dataset('data/datasets/Silica_classification.npz', interp=False)"
   ],
   "metadata": {
    "collapsed": false,
    "ExecuteTime": {
     "end_time": "2024-03-13T05:52:23.581194900Z",
     "start_time": "2024-03-13T05:51:56.648161Z"
    }
   },
   "id": "52a4935677a58471"
  },
  {
   "cell_type": "code",
   "execution_count": 15,
   "outputs": [],
   "source": [
    "i = random.randint(0, len(x1))\n",
    "plt.plot(x1[i], marker=\".\", label=\"Carbon isotherm\")\n",
    "plt.plot(x2[i], marker=\".\", label=\"Silica isotherm\")\n",
    "# plt.plot(gen_carbon.a_array, y1[i], marker=\".\", label=\"Carbon distribution\")\n",
    "# plt.plot(gen_silica.a_array, y2[i], marker=\".\", label=\"Silica distribution\")\n",
    "plot()"
   ],
   "metadata": {
    "collapsed": false,
    "ExecuteTime": {
     "end_time": "2024-03-13T05:56:55.868331800Z",
     "start_time": "2024-03-13T05:56:43.652406500Z"
    }
   },
   "id": "9e18e14b8cfdd6a7"
  },
  {
   "cell_type": "code",
   "execution_count": 16,
   "outputs": [],
   "source": [
    "y_carbon = np.empty(shape = (len(x1), 2))\n",
    "y_silica = np.empty(shape = (len(x1), 2))\n",
    "for i in range(len(x1)):\n",
    "    y_carbon[i] = np.array([0, 1])\n",
    "    y_silica[i] = np.array([1, 0])"
   ],
   "metadata": {
    "collapsed": false,
    "ExecuteTime": {
     "end_time": "2024-03-13T05:57:03.158276500Z",
     "start_time": "2024-03-13T05:57:02.898278200Z"
    }
   },
   "id": "63cc2fed24fea18c"
  },
  {
   "cell_type": "code",
   "execution_count": 17,
   "outputs": [],
   "source": [
    "x = np.concatenate((x1, x2), axis=0)\n",
    "y = np.concatenate((y_carbon, y_silica), axis=0)"
   ],
   "metadata": {
    "collapsed": false,
    "ExecuteTime": {
     "end_time": "2024-03-13T05:57:04.055444700Z",
     "start_time": "2024-03-13T05:57:03.836446800Z"
    }
   },
   "id": "e89a163621b67952"
  },
  {
   "cell_type": "code",
   "execution_count": 18,
   "outputs": [],
   "source": [
    "x_train, x_test, y_train, y_test = train_test_split(x, y, test_size=0.25)"
   ],
   "metadata": {
    "collapsed": false,
    "ExecuteTime": {
     "end_time": "2024-03-13T05:57:05.013251500Z",
     "start_time": "2024-03-13T05:57:04.755254600Z"
    }
   },
   "id": "f7e19ca9ee63cd00"
  },
  {
   "cell_type": "code",
   "execution_count": 19,
   "outputs": [],
   "source": [
    "model = create_model(input_shape=len(x[0]))"
   ],
   "metadata": {
    "collapsed": false,
    "ExecuteTime": {
     "end_time": "2024-03-13T05:57:10.003447700Z",
     "start_time": "2024-03-13T05:57:09.884450800Z"
    }
   },
   "id": "485d210c2dda2d6e"
  },
  {
   "cell_type": "code",
   "execution_count": 20,
   "outputs": [
    {
     "name": "stdout",
     "output_type": "stream",
     "text": [
      "Epoch 1/10\n",
      "40/40 [==============================] - ETA: 0s - loss: 0.5916 - accuracy: 0.6727\n",
      "Epoch 1: accuracy improved from -inf to 0.67270, saving model to data/models\\classification.keras\n",
      "40/40 [==============================] - 2s 47ms/step - loss: 0.5916 - accuracy: 0.6727 - val_loss: 0.5029 - val_accuracy: 0.7971 - lr: 0.0010\n",
      "Epoch 2/10\n",
      "39/40 [============================>.] - ETA: 0s - loss: 0.4447 - accuracy: 0.8090\n",
      "Epoch 2: accuracy improved from 0.67270 to 0.80950, saving model to data/models\\classification.keras\n",
      "40/40 [==============================] - 2s 61ms/step - loss: 0.4438 - accuracy: 0.8095 - val_loss: 0.3216 - val_accuracy: 0.8843 - lr: 0.0010\n",
      "Epoch 3/10\n",
      "39/40 [============================>.] - ETA: 0s - loss: 0.2394 - accuracy: 0.9220\n",
      "Epoch 3: accuracy improved from 0.80950 to 0.92245, saving model to data/models\\classification.keras\n",
      "40/40 [==============================] - 3s 67ms/step - loss: 0.2383 - accuracy: 0.9224 - val_loss: 0.1310 - val_accuracy: 0.9709 - lr: 0.0010\n",
      "Epoch 4/10\n",
      "39/40 [============================>.] - ETA: 0s - loss: 0.0744 - accuracy: 0.9834\n",
      "Epoch 4: accuracy improved from 0.92245 to 0.98345, saving model to data/models\\classification.keras\n",
      "40/40 [==============================] - 2s 61ms/step - loss: 0.0741 - accuracy: 0.9835 - val_loss: 0.0500 - val_accuracy: 0.9875 - lr: 0.0010\n",
      "Epoch 5/10\n",
      "39/40 [============================>.] - ETA: 0s - loss: 0.7475 - accuracy: 0.7064\n",
      "Epoch 5: accuracy did not improve from 0.98345\n",
      "40/40 [==============================] - 2s 54ms/step - loss: 0.7456 - accuracy: 0.7067 - val_loss: 0.4913 - val_accuracy: 0.8080 - lr: 0.0010\n",
      "Epoch 6/10\n",
      "39/40 [============================>.] - ETA: 0s - loss: 0.3065 - accuracy: 0.9178\n",
      "Epoch 6: accuracy did not improve from 0.98345\n",
      "40/40 [==============================] - 3s 65ms/step - loss: 0.3050 - accuracy: 0.9183 - val_loss: 0.1139 - val_accuracy: 0.9806 - lr: 0.0010\n",
      "Epoch 7/10\n",
      "39/40 [============================>.] - ETA: 0s - loss: 0.0546 - accuracy: 0.9879\n",
      "Epoch 7: accuracy improved from 0.98345 to 0.98797, saving model to data/models\\classification.keras\n",
      "40/40 [==============================] - 3s 65ms/step - loss: 0.0543 - accuracy: 0.9880 - val_loss: 0.0344 - val_accuracy: 0.9899 - lr: 0.0010\n",
      "Epoch 8/10\n",
      "40/40 [==============================] - ETA: 0s - loss: 0.0265 - accuracy: 0.9918\n",
      "Epoch 8: accuracy improved from 0.98797 to 0.99183, saving model to data/models\\classification.keras\n",
      "40/40 [==============================] - 3s 64ms/step - loss: 0.0265 - accuracy: 0.9918 - val_loss: 0.0230 - val_accuracy: 0.9914 - lr: 0.0010\n",
      "Epoch 9/10\n",
      "39/40 [============================>.] - ETA: 0s - loss: 0.0188 - accuracy: 0.9941\n",
      "Epoch 9: accuracy improved from 0.99183 to 0.99407, saving model to data/models\\classification.keras\n",
      "40/40 [==============================] - 3s 63ms/step - loss: 0.0188 - accuracy: 0.9941 - val_loss: 0.0182 - val_accuracy: 0.9949 - lr: 0.0010\n",
      "Epoch 10/10\n",
      "40/40 [==============================] - ETA: 0s - loss: 0.0162 - accuracy: 0.9948\n",
      "Epoch 10: accuracy improved from 0.99407 to 0.99481, saving model to data/models\\classification.keras\n",
      "40/40 [==============================] - 2s 52ms/step - loss: 0.0162 - accuracy: 0.9948 - val_loss: 0.0146 - val_accuracy: 0.9954 - lr: 0.0010\n"
     ]
    }
   ],
   "source": [
    "mcp_save = tf.keras.callbacks.ModelCheckpoint(filepath='data/models/classification.keras', save_best_only=True,\n",
    "                                           monitor='accuracy', mode='max', verbose=1, save_weights_only=False,\n",
    "                                           save_freq='epoch')\n",
    "\n",
    "reduce_lr_loss = tf.keras.callbacks.ReduceLROnPlateau(monitor='val_loss', factor=0.5,\n",
    "                                                   patience=100, verbose=1, mode='auto')\n",
    "history = model.fit(np.array(x_train), np.array(y_train),\n",
    "                    epochs=10, batch_size=5000, shuffle=True,\n",
    "                    validation_data=(np.array(x_test), np.array(y_test)), callbacks=[mcp_save, reduce_lr_loss])\n",
    "plot_loss(history)"
   ],
   "metadata": {
    "collapsed": false,
    "ExecuteTime": {
     "end_time": "2024-03-13T05:57:40.553142300Z",
     "start_time": "2024-03-13T05:57:10.687767500Z"
    }
   },
   "id": "f3eb22e74bff9cd0"
  },
  {
   "cell_type": "code",
   "execution_count": 25,
   "outputs": [],
   "source": [
    "# Test on experimental data\n",
    "exp_file_list = [\"MCM-41-adsorb\", \"SBA-15\", \"SBA-16\", \"MIL-101\", \"MIL-101_2\"]\n",
    "exp_data_list = [np.loadtxt(f\"data/real/{i}.txt\") for i in exp_file_list]\n",
    "p_exp_list = []\n",
    "n_s_exp_raw_list = []\n",
    "for exp_data in exp_data_list:\n",
    "    p_exp_list.append(exp_data.T[0])\n",
    "    n_s_exp_raw_list.append(exp_data.T[1])"
   ],
   "metadata": {
    "collapsed": false,
    "ExecuteTime": {
     "end_time": "2024-03-13T06:00:09.878201400Z",
     "start_time": "2024-03-13T06:00:09.837697500Z"
    }
   },
   "id": "f74420bb0c7dd326"
  },
  {
   "cell_type": "code",
   "execution_count": 26,
   "outputs": [],
   "source": [
    "# интерполируем экспериментальную изотерму под давления кернала\n",
    "n_s_exp_list = []\n",
    "for i in range(len(p_exp_list)):\n",
    "    n_s_exp_list.append(np.interp(gen_silica.pressures_s[40:], p_exp_list[i], n_s_exp_raw_list[i]))"
   ],
   "metadata": {
    "collapsed": false,
    "ExecuteTime": {
     "end_time": "2024-03-13T06:00:10.321777100Z",
     "start_time": "2024-03-13T06:00:10.306775900Z"
    }
   },
   "id": "630dacdf89beb67c"
  },
  {
   "cell_type": "code",
   "execution_count": 27,
   "outputs": [
    {
     "name": "stdout",
     "output_type": "stream",
     "text": [
      "1/1 [==============================] - 0s 23ms/step\n",
      "1/1 [==============================] - 0s 23ms/step\n",
      "1/1 [==============================] - 0s 18ms/step\n",
      "1/1 [==============================] - 0s 20ms/step\n",
      "1/1 [==============================] - 0s 19ms/step\n"
     ]
    }
   ],
   "source": [
    "n_s_exp_for_net_list = [pre_process_isotherm(n_s_exp) for n_s_exp in n_s_exp_list]\n",
    "fit_exp_list = [model.predict(np.array([n_s_exp_for_net])).T for n_s_exp_for_net in n_s_exp_for_net_list]"
   ],
   "metadata": {
    "collapsed": false,
    "ExecuteTime": {
     "end_time": "2024-03-13T06:00:19.899885500Z",
     "start_time": "2024-03-13T06:00:19.604887100Z"
    }
   },
   "id": "9d9bba6cd5b05a67"
  },
  {
   "cell_type": "code",
   "execution_count": 31,
   "outputs": [
    {
     "name": "stdout",
     "output_type": "stream",
     "text": [
      "MCM-41-adsorb carbon [0.99990964]\n",
      "SBA-15 carbon [0.9424174]\n",
      "SBA-16 silica [0.90984577]\n",
      "MIL-101 silica [0.5373309]\n",
      "MIL-101_2 silica [0.7386389]\n"
     ]
    }
   ],
   "source": [
    "for i, prediction in enumerate(fit_exp_list):\n",
    "    if np.argmax(prediction) == 0:\n",
    "        print(exp_file_list[i], \"silica\", prediction[0])\n",
    "    else:\n",
    "        print(exp_file_list[i], \"carbon\", prediction[1])"
   ],
   "metadata": {
    "collapsed": false,
    "ExecuteTime": {
     "end_time": "2024-03-13T07:42:08.668904900Z",
     "start_time": "2024-03-13T07:42:08.654874600Z"
    }
   },
   "id": "beb2bc6b1a61f235"
  },
  {
   "cell_type": "code",
   "execution_count": null,
   "outputs": [],
   "source": [],
   "metadata": {
    "collapsed": false,
    "ExecuteTime": {
     "start_time": "2024-02-17T15:19:12.318470Z"
    }
   },
   "id": "554088104cad624e"
  }
 ],
 "metadata": {
  "kernelspec": {
   "display_name": "Python 3",
   "language": "python",
   "name": "python3"
  },
  "language_info": {
   "codemirror_mode": {
    "name": "ipython",
    "version": 2
   },
   "file_extension": ".py",
   "mimetype": "text/x-python",
   "name": "python",
   "nbconvert_exporter": "python",
   "pygments_lexer": "ipython2",
   "version": "2.7.6"
  }
 },
 "nbformat": 4,
 "nbformat_minor": 5
}
