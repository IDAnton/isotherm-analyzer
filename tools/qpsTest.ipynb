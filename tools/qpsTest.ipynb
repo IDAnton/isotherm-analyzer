{
 "cells": [
  {
   "cell_type": "code",
   "execution_count": 88,
   "metadata": {
    "collapsed": true,
    "pycharm": {
     "name": "#%%\n"
    },
    "ExecuteTime": {
     "end_time": "2024-10-02T04:39:55.852447Z",
     "start_time": "2024-10-02T04:39:55.834447Z"
    }
   },
   "outputs": [],
   "source": [
    "import time\n",
    "\n",
    "from prompt_toolkit.keys import Keys\n",
    "from pywinauto.application import Application\n",
    "from pywinauto.keyboard import send_keys"
   ]
  },
  {
   "cell_type": "code",
   "execution_count": 89,
   "outputs": [],
   "source": [
    "app = Application(backend='uia').start(r\"C:\\\\Program Files (x86)\\Quantachrome Instruments\\VersaWin\\VersaWin.exe\")\n",
    "time.sleep(1)"
   ],
   "metadata": {
    "collapsed": false,
    "pycharm": {
     "name": "#%%\n"
    },
    "ExecuteTime": {
     "end_time": "2024-10-02T04:39:59.172884Z",
     "start_time": "2024-10-02T04:39:55.854449Z"
    }
   }
  },
  {
   "cell_type": "code",
   "execution_count": 90,
   "outputs": [],
   "source": [
    "window = app.window(best_match='Quantachrome')\n",
    "time.sleep(1)"
   ],
   "metadata": {
    "collapsed": false,
    "pycharm": {
     "name": "#%%\n"
    },
    "ExecuteTime": {
     "end_time": "2024-10-02T04:40:00.206197Z",
     "start_time": "2024-10-02T04:39:59.173798Z"
    }
   }
  },
  {
   "cell_type": "code",
   "execution_count": 104,
   "outputs": [],
   "source": [
    "window.menu_select(\"0->2\")"
   ],
   "metadata": {
    "collapsed": false,
    "pycharm": {
     "name": "#%%\n"
    },
    "ExecuteTime": {
     "end_time": "2024-10-02T04:41:56.729362Z",
     "start_time": "2024-10-02T04:41:52.630400Z"
    }
   }
  },
  {
   "cell_type": "code",
   "execution_count": 105,
   "outputs": [],
   "source": [
    "file_dlg = app.window(best_match=\"Открыть\", found_index=0)"
   ],
   "metadata": {
    "collapsed": false,
    "pycharm": {
     "name": "#%%\n"
    },
    "ExecuteTime": {
     "end_time": "2024-10-02T04:42:01.690004Z",
     "start_time": "2024-10-02T04:42:01.686005Z"
    }
   }
  },
  {
   "cell_type": "code",
   "execution_count": 106,
   "outputs": [
    {
     "data": {
      "text/plain": "<uia_controls.EditWrapper - 'Имя файла:', Edit, -6915168899320297454>"
     },
     "execution_count": 106,
     "metadata": {},
     "output_type": "execute_result"
    }
   ],
   "source": [
    "time.sleep(1)\n",
    "file_dlg.child_window(best_match=\"Имя файла:Edit\").type_keys(r\"test.QPS\")"
   ],
   "metadata": {
    "collapsed": false,
    "pycharm": {
     "name": "#%%\n"
    },
    "ExecuteTime": {
     "end_time": "2024-10-02T04:42:04.957990Z",
     "start_time": "2024-10-02T04:42:03.473375Z"
    }
   }
  },
  {
   "cell_type": "code",
   "execution_count": 107,
   "outputs": [
    {
     "data": {
      "text/plain": "<uia_controls.ButtonWrapper - 'Открыть', Button, -5901934189050307142>"
     },
     "execution_count": 107,
     "metadata": {},
     "output_type": "execute_result"
    }
   ],
   "source": [
    "file_dlg.child_window(best_match=\"Открыть4\", control_type=\"Button\").click()"
   ],
   "metadata": {
    "collapsed": false,
    "pycharm": {
     "name": "#%%\n"
    },
    "ExecuteTime": {
     "end_time": "2024-10-02T04:42:06.972565Z",
     "start_time": "2024-10-02T04:42:06.689574Z"
    }
   }
  },
  {
   "cell_type": "code",
   "execution_count": 108,
   "outputs": [],
   "source": [
    "isotherm_window = app.window(best_match='Dialog')"
   ],
   "metadata": {
    "collapsed": false,
    "pycharm": {
     "name": "#%%\n"
    },
    "ExecuteTime": {
     "end_time": "2024-10-02T04:42:15.049988Z",
     "start_time": "2024-10-02T04:42:15.033013Z"
    }
   }
  },
  {
   "cell_type": "code",
   "execution_count": 109,
   "outputs": [],
   "source": [
    "isotherm_window.click_input(button='right')\n",
    "time.sleep(0.3)\n",
    "send_keys('{DOWN}')\n",
    "time.sleep(0.3)\n",
    "send_keys('{DOWN}')\n",
    "time.sleep(0.3)\n",
    "send_keys('{ENTER}')\n",
    "time.sleep(0.3)\n",
    "send_keys('{ENTER}')\n",
    "time.sleep(0.3)\n",
    "send_keys('{ENTER}')\n",
    "time.sleep(0.3)\n",
    "######################\n",
    "isotherm_window.click_input(button='right')\n",
    "for i in range(10):\n",
    "    send_keys('{DOWN}')\n",
    "    time.sleep(0.3)\n",
    "send_keys('{ENTER}')"
   ],
   "metadata": {
    "collapsed": false,
    "pycharm": {
     "name": "#%%\n"
    },
    "ExecuteTime": {
     "end_time": "2024-10-02T04:42:22.931145Z",
     "start_time": "2024-10-02T04:42:16.109181Z"
    }
   }
  },
  {
   "cell_type": "code",
   "execution_count": null,
   "outputs": [],
   "source": [
    "save_dlg = app.window(best_match=\"Name file\", found_index=0)"
   ],
   "metadata": {
    "collapsed": false,
    "pycharm": {
     "name": "#%%\n"
    }
   }
  },
  {
   "cell_type": "code",
   "outputs": [],
   "source": [
    "save_dlg.child_window(best_match=\"Сохранить4\", control_type=\"Button\").click()"
   ],
   "metadata": {
    "collapsed": false,
    "ExecuteTime": {
     "start_time": "2024-10-02T04:40:06.290202Z"
    }
   },
   "execution_count": null
  },
  {
   "cell_type": "code",
   "outputs": [],
   "source": [
    "report_dlg = app.window(best_match=\"Dialog\", found_index=0)"
   ],
   "metadata": {
    "collapsed": false,
    "ExecuteTime": {
     "end_time": "2024-10-02T04:41:05.589707Z",
     "start_time": "2024-10-02T04:41:05.570710Z"
    }
   },
   "execution_count": 99
  },
  {
   "cell_type": "code",
   "outputs": [
    {
     "data": {
      "text/plain": "<uia_controls.ButtonWrapper - 'Закрыть', Button, -7246676498569195291>"
     },
     "execution_count": 100,
     "metadata": {},
     "output_type": "execute_result"
    }
   ],
   "source": [
    "report_dlg.child_window(best_match=\"Закрыть\", control_type=\"Button\").click()"
   ],
   "metadata": {
    "collapsed": false,
    "ExecuteTime": {
     "end_time": "2024-10-02T04:41:10.497530Z",
     "start_time": "2024-10-02T04:41:06.190586Z"
    }
   },
   "execution_count": 100
  },
  {
   "cell_type": "code",
   "outputs": [],
   "source": [],
   "metadata": {
    "collapsed": false,
    "ExecuteTime": {
     "start_time": "2024-10-02T04:40:06.295204Z"
    }
   }
  }
 ],
 "metadata": {
  "kernelspec": {
   "display_name": "Python 3",
   "language": "python",
   "name": "python3"
  },
  "language_info": {
   "codemirror_mode": {
    "name": "ipython",
    "version": 2
   },
   "file_extension": ".py",
   "mimetype": "text/x-python",
   "name": "python",
   "nbconvert_exporter": "python",
   "pygments_lexer": "ipython2",
   "version": "2.7.6"
  }
 },
 "nbformat": 4,
 "nbformat_minor": 0
}
