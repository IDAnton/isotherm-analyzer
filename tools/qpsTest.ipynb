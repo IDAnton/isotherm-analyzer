{
 "cells": [
  {
   "cell_type": "code",
   "execution_count": 1,
   "outputs": [],
   "source": [
    "import time\n",
    "from pywinauto.application import Application\n",
    "from pywinauto.keyboard import send_keys"
   ],
   "metadata": {
    "collapsed": false,
    "pycharm": {
     "name": "#%%\n"
    }
   }
  },
  {
   "cell_type": "code",
   "execution_count": 2,
   "outputs": [],
   "source": [
    "app = Application(backend='uia').start(r\"E:\\\\VersaWin\\VersaWin.exe\")\n",
    "time.sleep(0.3)"
   ],
   "metadata": {
    "collapsed": false,
    "pycharm": {
     "name": "#%%\n"
    }
   }
  },
  {
   "cell_type": "code",
   "execution_count": 3,
   "outputs": [],
   "source": [
    "window = app.window(best_match='Quantachrome')\n",
    "time.sleep(0.3)"
   ],
   "metadata": {
    "collapsed": false,
    "pycharm": {
     "name": "#%%\n"
    }
   }
  },
  {
   "cell_type": "code",
   "execution_count": 4,
   "outputs": [],
   "source": [
    "window.menu_select(\"0->2\")"
   ],
   "metadata": {
    "collapsed": false,
    "pycharm": {
     "name": "#%%\n"
    }
   }
  },
  {
   "cell_type": "code",
   "execution_count": 5,
   "outputs": [],
   "source": [
    "file_dlg = app.window(best_match=\"Открыть\", found_index=0)"
   ],
   "metadata": {
    "collapsed": false,
    "pycharm": {
     "name": "#%%\n"
    }
   }
  },
  {
   "cell_type": "code",
   "execution_count": 6,
   "outputs": [
    {
     "ename": "ElementNotFoundError",
     "evalue": "{'best_match': 'Имя файла:Edit', 'top_level_only': False, 'parent': <uia_element_info.UIAElementInfo - 'Открыть', #32770, 1901510>, 'backend': 'uia'}",
     "output_type": "error",
     "traceback": [
      "\u001B[1;31m---------------------------------------------------------------------------\u001B[0m",
      "\u001B[1;31mTimeoutError\u001B[0m                              Traceback (most recent call last)",
      "File \u001B[1;32m~\\Desktop\\iso\\isotherm-analyzer\\venv\\Lib\\site-packages\\pywinauto\\application.py:250\u001B[0m, in \u001B[0;36mWindowSpecification.__resolve_control\u001B[1;34m(self, criteria, timeout, retry_interval)\u001B[0m\n\u001B[0;32m    249\u001B[0m \u001B[38;5;28;01mtry\u001B[39;00m:\n\u001B[1;32m--> 250\u001B[0m     ctrl \u001B[38;5;241m=\u001B[39m \u001B[43mwait_until_passes\u001B[49m\u001B[43m(\u001B[49m\n\u001B[0;32m    251\u001B[0m \u001B[43m        \u001B[49m\u001B[43mtimeout\u001B[49m\u001B[43m,\u001B[49m\n\u001B[0;32m    252\u001B[0m \u001B[43m        \u001B[49m\u001B[43mretry_interval\u001B[49m\u001B[43m,\u001B[49m\n\u001B[0;32m    253\u001B[0m \u001B[43m        \u001B[49m\u001B[38;5;28;43mself\u001B[39;49m\u001B[38;5;241;43m.\u001B[39;49m\u001B[43m__get_ctrl\u001B[49m\u001B[43m,\u001B[49m\n\u001B[0;32m    254\u001B[0m \u001B[43m        \u001B[49m\u001B[43m(\u001B[49m\u001B[43mfindwindows\u001B[49m\u001B[38;5;241;43m.\u001B[39;49m\u001B[43mElementNotFoundError\u001B[49m\u001B[43m,\u001B[49m\n\u001B[0;32m    255\u001B[0m \u001B[43m         \u001B[49m\u001B[43mfindbestmatch\u001B[49m\u001B[38;5;241;43m.\u001B[39;49m\u001B[43mMatchError\u001B[49m\u001B[43m,\u001B[49m\n\u001B[0;32m    256\u001B[0m \u001B[43m         \u001B[49m\u001B[43mcontrols\u001B[49m\u001B[38;5;241;43m.\u001B[39;49m\u001B[43mInvalidWindowHandle\u001B[49m\u001B[43m,\u001B[49m\n\u001B[0;32m    257\u001B[0m \u001B[43m         \u001B[49m\u001B[43mcontrols\u001B[49m\u001B[38;5;241;43m.\u001B[39;49m\u001B[43mInvalidElement\u001B[49m\u001B[43m)\u001B[49m\u001B[43m,\u001B[49m\n\u001B[0;32m    258\u001B[0m \u001B[43m        \u001B[49m\u001B[43mcriteria\u001B[49m\u001B[43m)\u001B[49m\n\u001B[0;32m    260\u001B[0m \u001B[38;5;28;01mexcept\u001B[39;00m \u001B[38;5;167;01mTimeoutError\u001B[39;00m \u001B[38;5;28;01mas\u001B[39;00m e:\n",
      "File \u001B[1;32m~\\Desktop\\iso\\isotherm-analyzer\\venv\\Lib\\site-packages\\pywinauto\\timings.py:458\u001B[0m, in \u001B[0;36mwait_until_passes\u001B[1;34m(timeout, retry_interval, func, exceptions, *args, **kwargs)\u001B[0m\n\u001B[0;32m    457\u001B[0m             err\u001B[38;5;241m.\u001B[39moriginal_exception \u001B[38;5;241m=\u001B[39m e\n\u001B[1;32m--> 458\u001B[0m             \u001B[38;5;28;01mraise\u001B[39;00m err\n\u001B[0;32m    460\u001B[0m \u001B[38;5;66;03m# return the function value\u001B[39;00m\n",
      "\u001B[1;31mTimeoutError\u001B[0m: ",
      "\nDuring handling of the above exception, another exception occurred:\n",
      "\u001B[1;31mElementNotFoundError\u001B[0m                      Traceback (most recent call last)",
      "Cell \u001B[1;32mIn[6], line 2\u001B[0m\n\u001B[0;32m      1\u001B[0m time\u001B[38;5;241m.\u001B[39msleep(\u001B[38;5;241m1\u001B[39m)\n\u001B[1;32m----> 2\u001B[0m \u001B[43mfile_dlg\u001B[49m\u001B[38;5;241;43m.\u001B[39;49m\u001B[43mchild_window\u001B[49m\u001B[43m(\u001B[49m\u001B[43mbest_match\u001B[49m\u001B[38;5;241;43m=\u001B[39;49m\u001B[38;5;124;43m\"\u001B[39;49m\u001B[38;5;124;43mИмя файла:Edit\u001B[39;49m\u001B[38;5;124;43m\"\u001B[39;49m\u001B[43m)\u001B[49m\u001B[38;5;241;43m.\u001B[39;49m\u001B[43mtype_keys\u001B[49m(\u001B[38;5;124mr\u001B[39m\u001B[38;5;124m\"\u001B[39m\u001B[38;5;124mtest.QPS\u001B[39m\u001B[38;5;124m\"\u001B[39m)\n",
      "File \u001B[1;32m~\\Desktop\\iso\\isotherm-analyzer\\venv\\Lib\\site-packages\\pywinauto\\application.py:379\u001B[0m, in \u001B[0;36mWindowSpecification.__getattribute__\u001B[1;34m(self, attr_name)\u001B[0m\n\u001B[0;32m    374\u001B[0m \u001B[38;5;66;03m# if we already have 2 levels of criteria (dlg, control)\u001B[39;00m\n\u001B[0;32m    375\u001B[0m \u001B[38;5;66;03m# this third must be an attribute so resolve and get the\u001B[39;00m\n\u001B[0;32m    376\u001B[0m \u001B[38;5;66;03m# attribute and return it\u001B[39;00m\n\u001B[0;32m    377\u001B[0m \u001B[38;5;28;01mif\u001B[39;00m \u001B[38;5;28mlen\u001B[39m(\u001B[38;5;28mself\u001B[39m\u001B[38;5;241m.\u001B[39mcriteria) \u001B[38;5;241m>\u001B[39m\u001B[38;5;241m=\u001B[39m \u001B[38;5;241m2\u001B[39m:  \u001B[38;5;66;03m# FIXME - this is surprising\u001B[39;00m\n\u001B[1;32m--> 379\u001B[0m     ctrls \u001B[38;5;241m=\u001B[39m \u001B[38;5;28;43mself\u001B[39;49m\u001B[38;5;241;43m.\u001B[39;49m\u001B[43m__resolve_control\u001B[49m\u001B[43m(\u001B[49m\u001B[38;5;28;43mself\u001B[39;49m\u001B[38;5;241;43m.\u001B[39;49m\u001B[43mcriteria\u001B[49m\u001B[43m)\u001B[49m\n\u001B[0;32m    381\u001B[0m     \u001B[38;5;28;01mtry\u001B[39;00m:\n\u001B[0;32m    382\u001B[0m         \u001B[38;5;28;01mreturn\u001B[39;00m \u001B[38;5;28mgetattr\u001B[39m(ctrls[\u001B[38;5;241m-\u001B[39m\u001B[38;5;241m1\u001B[39m], attr_name)\n",
      "File \u001B[1;32m~\\Desktop\\iso\\isotherm-analyzer\\venv\\Lib\\site-packages\\pywinauto\\application.py:261\u001B[0m, in \u001B[0;36mWindowSpecification.__resolve_control\u001B[1;34m(self, criteria, timeout, retry_interval)\u001B[0m\n\u001B[0;32m    250\u001B[0m     ctrl \u001B[38;5;241m=\u001B[39m wait_until_passes(\n\u001B[0;32m    251\u001B[0m         timeout,\n\u001B[0;32m    252\u001B[0m         retry_interval,\n\u001B[1;32m   (...)\u001B[0m\n\u001B[0;32m    257\u001B[0m          controls\u001B[38;5;241m.\u001B[39mInvalidElement),\n\u001B[0;32m    258\u001B[0m         criteria)\n\u001B[0;32m    260\u001B[0m \u001B[38;5;28;01mexcept\u001B[39;00m \u001B[38;5;167;01mTimeoutError\u001B[39;00m \u001B[38;5;28;01mas\u001B[39;00m e:\n\u001B[1;32m--> 261\u001B[0m     \u001B[38;5;28;01mraise\u001B[39;00m e\u001B[38;5;241m.\u001B[39moriginal_exception\n\u001B[0;32m    263\u001B[0m \u001B[38;5;28;01mreturn\u001B[39;00m ctrl\n",
      "File \u001B[1;32m~\\Desktop\\iso\\isotherm-analyzer\\venv\\Lib\\site-packages\\pywinauto\\timings.py:436\u001B[0m, in \u001B[0;36mwait_until_passes\u001B[1;34m(timeout, retry_interval, func, exceptions, *args, **kwargs)\u001B[0m\n\u001B[0;32m    433\u001B[0m \u001B[38;5;28;01mwhile\u001B[39;00m \u001B[38;5;28;01mTrue\u001B[39;00m:\n\u001B[0;32m    434\u001B[0m     \u001B[38;5;28;01mtry\u001B[39;00m:\n\u001B[0;32m    435\u001B[0m         \u001B[38;5;66;03m# Call the function with any arguments\u001B[39;00m\n\u001B[1;32m--> 436\u001B[0m         func_val \u001B[38;5;241m=\u001B[39m \u001B[43mfunc\u001B[49m\u001B[43m(\u001B[49m\u001B[38;5;241;43m*\u001B[39;49m\u001B[43margs\u001B[49m\u001B[43m,\u001B[49m\u001B[43m \u001B[49m\u001B[38;5;241;43m*\u001B[39;49m\u001B[38;5;241;43m*\u001B[39;49m\u001B[43mkwargs\u001B[49m\u001B[43m)\u001B[49m\n\u001B[0;32m    438\u001B[0m         \u001B[38;5;66;03m# if no exception is raised then we are finished\u001B[39;00m\n\u001B[0;32m    439\u001B[0m         \u001B[38;5;28;01mbreak\u001B[39;00m\n",
      "File \u001B[1;32m~\\Desktop\\iso\\isotherm-analyzer\\venv\\Lib\\site-packages\\pywinauto\\application.py:222\u001B[0m, in \u001B[0;36mWindowSpecification.__get_ctrl\u001B[1;34m(self, criteria_)\u001B[0m\n\u001B[0;32m    220\u001B[0m \u001B[38;5;28;01mif\u001B[39;00m \u001B[38;5;124m'\u001B[39m\u001B[38;5;124mbackend\u001B[39m\u001B[38;5;124m'\u001B[39m \u001B[38;5;129;01mnot\u001B[39;00m \u001B[38;5;129;01min\u001B[39;00m ctrl_criteria:\n\u001B[0;32m    221\u001B[0m     ctrl_criteria[\u001B[38;5;124m'\u001B[39m\u001B[38;5;124mbackend\u001B[39m\u001B[38;5;124m'\u001B[39m] \u001B[38;5;241m=\u001B[39m \u001B[38;5;28mself\u001B[39m\u001B[38;5;241m.\u001B[39mbackend\u001B[38;5;241m.\u001B[39mname\n\u001B[1;32m--> 222\u001B[0m ctrl \u001B[38;5;241m=\u001B[39m \u001B[38;5;28mself\u001B[39m\u001B[38;5;241m.\u001B[39mbackend\u001B[38;5;241m.\u001B[39mgeneric_wrapper_class(\u001B[43mfindwindows\u001B[49m\u001B[38;5;241;43m.\u001B[39;49m\u001B[43mfind_element\u001B[49m\u001B[43m(\u001B[49m\u001B[38;5;241;43m*\u001B[39;49m\u001B[38;5;241;43m*\u001B[39;49m\u001B[43mctrl_criteria\u001B[49m\u001B[43m)\u001B[49m)\n\u001B[0;32m    223\u001B[0m previous_parent \u001B[38;5;241m=\u001B[39m ctrl\u001B[38;5;241m.\u001B[39melement_info\n\u001B[0;32m    224\u001B[0m ctrls\u001B[38;5;241m.\u001B[39mappend(ctrl)\n",
      "File \u001B[1;32m~\\Desktop\\iso\\isotherm-analyzer\\venv\\Lib\\site-packages\\pywinauto\\findwindows.py:87\u001B[0m, in \u001B[0;36mfind_element\u001B[1;34m(**kwargs)\u001B[0m\n\u001B[0;32m     84\u001B[0m elements \u001B[38;5;241m=\u001B[39m find_elements(\u001B[38;5;241m*\u001B[39m\u001B[38;5;241m*\u001B[39mkwargs)\n\u001B[0;32m     86\u001B[0m \u001B[38;5;28;01mif\u001B[39;00m \u001B[38;5;129;01mnot\u001B[39;00m elements:\n\u001B[1;32m---> 87\u001B[0m     \u001B[38;5;28;01mraise\u001B[39;00m ElementNotFoundError(kwargs)\n\u001B[0;32m     89\u001B[0m \u001B[38;5;28;01mif\u001B[39;00m \u001B[38;5;28mlen\u001B[39m(elements) \u001B[38;5;241m>\u001B[39m \u001B[38;5;241m1\u001B[39m:\n\u001B[0;32m     90\u001B[0m     exception \u001B[38;5;241m=\u001B[39m ElementAmbiguousError(\n\u001B[0;32m     91\u001B[0m         \u001B[38;5;124m\"\u001B[39m\u001B[38;5;124mThere are \u001B[39m\u001B[38;5;132;01m{0}\u001B[39;00m\u001B[38;5;124m elements that match the criteria \u001B[39m\u001B[38;5;132;01m{1}\u001B[39;00m\u001B[38;5;124m\"\u001B[39m\u001B[38;5;241m.\u001B[39mformat(\n\u001B[0;32m     92\u001B[0m             \u001B[38;5;28mlen\u001B[39m(elements),\n\u001B[0;32m     93\u001B[0m             six\u001B[38;5;241m.\u001B[39mtext_type(kwargs),\n\u001B[0;32m     94\u001B[0m         )\n\u001B[0;32m     95\u001B[0m     )\n",
      "\u001B[1;31mElementNotFoundError\u001B[0m: {'best_match': 'Имя файла:Edit', 'top_level_only': False, 'parent': <uia_element_info.UIAElementInfo - 'Открыть', #32770, 1901510>, 'backend': 'uia'}"
     ]
    }
   ],
   "source": [
    "time.sleep(1)\n",
    "file_dlg.child_window(best_match=\"Имя файла:Edit\").type_keys(r\"test.QPS\")"
   ],
   "metadata": {
    "collapsed": false,
    "pycharm": {
     "name": "#%%\n"
    }
   }
  },
  {
   "cell_type": "code",
   "execution_count": null,
   "outputs": [],
   "source": [
    "file_dlg.child_window(best_match=\"Открыть4\", control_type=\"Button\").click()"
   ],
   "metadata": {
    "collapsed": false,
    "pycharm": {
     "name": "#%%\n"
    }
   }
  },
  {
   "cell_type": "code",
   "execution_count": null,
   "outputs": [],
   "source": [
    "isotherm_window = app.window(best_match='Dialog')"
   ],
   "metadata": {
    "collapsed": false,
    "pycharm": {
     "name": "#%%\n"
    }
   }
  },
  {
   "cell_type": "code",
   "execution_count": null,
   "outputs": [],
   "source": [
    "isotherm_window.click_input(button='right')\n",
    "time.sleep(0.3)\n",
    "send_keys('{DOWN}')\n",
    "time.sleep(0.1)\n",
    "send_keys('{DOWN}')\n",
    "time.sleep(0.1)\n",
    "send_keys('{ENTER}')\n",
    "time.sleep(0.1)\n",
    "send_keys('{ENTER}')\n",
    "time.sleep(0.1)\n",
    "send_keys('{ENTER}')\n",
    "time.sleep(0.1)\n",
    "######################\n",
    "isotherm_window.click_input(button='right')\n",
    "for i in range(10):\n",
    "    send_keys('{DOWN}')\n",
    "    time.sleep(0.3)\n",
    "send_keys('{ENTER}')"
   ],
   "metadata": {
    "collapsed": false,
    "pycharm": {
     "name": "#%%\n"
    }
   }
  },
  {
   "cell_type": "code",
   "execution_count": null,
   "outputs": [],
   "source": [
    "save_dlg = app.window(best_match=\"Name file\", found_index=0)"
   ],
   "metadata": {
    "collapsed": false,
    "pycharm": {
     "name": "#%%\n"
    }
   }
  },
  {
   "cell_type": "code",
   "execution_count": null,
   "outputs": [],
   "source": [
    "save_dlg.child_window(best_match=\"Сохранить4\", control_type=\"Button\").click()"
   ],
   "metadata": {
    "collapsed": false,
    "pycharm": {
     "name": "#%%\n"
    }
   }
  },
  {
   "cell_type": "code",
   "execution_count": null,
   "outputs": [],
   "source": [
    "report_dlg = app.window(best_match=\"Dialog\", found_index=0)"
   ],
   "metadata": {
    "collapsed": false,
    "pycharm": {
     "name": "#%%\n"
    }
   }
  },
  {
   "cell_type": "code",
   "execution_count": null,
   "outputs": [],
   "source": [
    "report_dlg.child_window(best_match=\"Закрыть\", control_type=\"Button\").click()"
   ],
   "metadata": {
    "collapsed": false,
    "pycharm": {
     "name": "#%%\n"
    }
   }
  },
  {
   "cell_type": "code",
   "outputs": [],
   "source": [
    "save_dlg.child_window(best_match=\"Сохранить4\", control_type=\"Button\").click()"
   ],
   "metadata": {
    "collapsed": false,
    "ExecuteTime": {
     "start_time": "2024-10-02T04:40:06.290202Z"
    }
   },
   "execution_count": null
  },
  {
   "cell_type": "code",
   "outputs": [],
   "source": [
    "report_dlg = app.window(best_match=\"Dialog\", found_index=0)"
   ],
   "metadata": {
    "collapsed": false,
    "ExecuteTime": {
     "end_time": "2024-10-02T04:41:05.589707Z",
     "start_time": "2024-10-02T04:41:05.570710Z"
    }
   },
   "execution_count": 99
  },
  {
   "cell_type": "code",
   "outputs": [
    {
     "data": {
      "text/plain": "<uia_controls.ButtonWrapper - 'Закрыть', Button, -7246676498569195291>"
     },
     "execution_count": 100,
     "metadata": {},
     "output_type": "execute_result"
    }
   ],
   "source": [
    "report_dlg.child_window(best_match=\"Закрыть\", control_type=\"Button\").click()"
   ],
   "metadata": {
    "collapsed": false,
    "ExecuteTime": {
     "end_time": "2024-10-02T04:41:10.497530Z",
     "start_time": "2024-10-02T04:41:06.190586Z"
    }
   },
   "execution_count": 100
  },
  {
   "cell_type": "code",
   "outputs": [],
   "source": [],
   "metadata": {
    "collapsed": false,
    "ExecuteTime": {
     "start_time": "2024-10-02T04:40:06.295204Z"
    }
   }
  }
 ],
 "metadata": {
  "kernelspec": {
   "display_name": "Python 3",
   "language": "python",
   "name": "python3"
  },
  "language_info": {
   "codemirror_mode": {
    "name": "ipython",
    "version": 2
   },
   "file_extension": ".py",
   "mimetype": "text/x-python",
   "name": "python",
   "nbconvert_exporter": "python",
   "pygments_lexer": "ipython2",
   "version": "2.7.6"
  }
 },
 "nbformat": 4,
 "nbformat_minor": 0
}