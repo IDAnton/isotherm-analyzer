{
 "cells": [
  {
   "cell_type": "code",
   "execution_count": 37,
   "outputs": [],
   "source": [
    "import time\n",
    "from pywinauto.application import Application\n",
    "from pywinauto.keyboard import send_keys"
   ],
   "metadata": {
    "collapsed": false,
    "pycharm": {
     "name": "#%%\n"
    },
    "ExecuteTime": {
     "end_time": "2024-10-02T15:44:59.216428Z",
     "start_time": "2024-10-02T15:44:59.198398Z"
    }
   }
  },
  {
   "cell_type": "code",
   "execution_count": null,
   "outputs": [],
   "source": [
    "app = Application(backend='uia').start(r\"C:\\\\Program Files (x86)\\Quantachrome Instruments\\VersaWin\\VersaWin.exe\")\n",
    "time.sleep(0.3)"
   ],
   "metadata": {
    "collapsed": false,
    "pycharm": {
     "name": "#%%\n"
    }
   }
  },
  {
   "cell_type": "code",
   "execution_count": null,
   "outputs": [],
   "source": [
    "window = app.window(best_match='Quantachrome')\n",
    "time.sleep(0.3)"
   ],
   "metadata": {
    "collapsed": false,
    "pycharm": {
     "name": "#%%\n"
    }
   }
  },
  {
   "cell_type": "code",
   "execution_count": null,
   "outputs": [],
   "source": [
    "window.menu_select(\"0->2\")"
   ],
   "metadata": {
    "collapsed": false,
    "pycharm": {
     "name": "#%%\n"
    }
   }
  },
  {
   "cell_type": "code",
   "execution_count": null,
   "outputs": [],
   "source": [
    "file_dlg = app.window(best_match=\"Открыть\", found_index=0)"
   ],
   "metadata": {
    "collapsed": false,
    "pycharm": {
     "name": "#%%\n"
    }
   }
  },
  {
   "cell_type": "code",
   "execution_count": null,
   "outputs": [],
   "source": [
    "time.sleep(1)\n",
    "file_dlg.child_window(best_match=\"Имя файла:Edit\").type_keys(r\"001-ASMS_St1_2011_06_16_01.QPS\")"
   ],
   "metadata": {
    "collapsed": false,
    "pycharm": {
     "name": "#%%\n"
    }
   }
  },
  {
   "cell_type": "code",
   "execution_count": null,
   "outputs": [],
   "source": [
    "file_dlg.child_window(best_match=\"Открыть4\", control_type=\"Button\").click()"
   ],
   "metadata": {
    "collapsed": false,
    "pycharm": {
     "name": "#%%\n"
    }
   }
  },
  {
   "cell_type": "code",
   "execution_count": null,
   "outputs": [],
   "source": [
    "isotherm_window = app.window(best_match='Dialog')"
   ],
   "metadata": {
    "collapsed": false,
    "pycharm": {
     "name": "#%%\n"
    }
   }
  },
  {
   "cell_type": "code",
   "execution_count": null,
   "outputs": [],
   "source": [
    "isotherm_window.click_input(button='right')\n",
    "time.sleep(0.5)\n",
    "send_keys('{DOWN}')\n",
    "time.sleep(0.3)\n",
    "send_keys('{DOWN}')\n",
    "time.sleep(0.3)\n",
    "send_keys('{ENTER}')\n",
    "for i in range(13):\n",
    "    time.sleep(0.3)\n",
    "    send_keys('{DOWN}')\n",
    "time.sleep(0.3)\n",
    "send_keys('{ENTER}')\n",
    "time.sleep(0.3)\n",
    "send_keys('{ENTER}')\n",
    "time.sleep(0.3)\n",
    "######################"
   ],
   "metadata": {
    "collapsed": false,
    "pycharm": {
     "name": "#%%\n"
    }
   }
  },
  {
   "cell_type": "code",
   "execution_count": null,
   "outputs": [],
   "source": [
    "confirmWin = app.window(best_match=u'Quantachrome® VersaWin™ Confirmation') "
   ],
   "metadata": {
    "collapsed": false,
    "pycharm": {
     "name": "#%%\n"
    }
   }
  },
  {
   "cell_type": "code",
   "execution_count": null,
   "outputs": [],
   "source": [
    "confirmWin.set_focus()\n",
    "yesBtn = confirmWin[u'&Да']\n",
    "            # Check the object name of the Yes button. You can use Swapy tool(It is deprecated but it works, else you can use inspect.exe)\n",
    "yesBtn.click()"
   ],
   "metadata": {
    "collapsed": false,
    "pycharm": {
     "name": "#%%\n"
    }
   }
  },
  {
   "cell_type": "code",
   "outputs": [],
   "source": [
    "confirmWin = app.window(best_match=u'Quantachrome® VersaWin™ Confirmation') "
   ],
   "metadata": {
    "collapsed": false,
    "ExecuteTime": {
     "end_time": "2024-10-02T15:45:27.010071Z",
     "start_time": "2024-10-02T15:45:26.998192Z"
    }
   },
   "execution_count": 46
  },
  {
   "cell_type": "code",
   "outputs": [
    {
     "data": {
      "text/plain": "<uia_controls.ButtonWrapper - 'Да', Button, 7822299182997692518>"
     },
     "execution_count": 47,
     "metadata": {},
     "output_type": "execute_result"
    }
   ],
   "source": [
    "confirmWin.set_focus()\n",
    "yesBtn = confirmWin[u'&Да']\n",
    "            # Check the object name of the Yes button. You can use Swapy tool(It is deprecated but it works, else you can use inspect.exe)\n",
    "yesBtn.click()"
   ],
   "metadata": {
    "collapsed": false,
    "ExecuteTime": {
     "end_time": "2024-10-02T15:45:27.721565Z",
     "start_time": "2024-10-02T15:45:27.011065Z"
    }
   },
   "execution_count": 47
  },
  {
   "cell_type": "code",
   "execution_count": 48,
   "outputs": [],
   "source": [
    "save_dlg = app.window(best_match=\"Name file\", found_index=0)"
   ],
   "metadata": {
    "collapsed": false,
    "pycharm": {
     "name": "#%%\n"
    },
    "ExecuteTime": {
     "end_time": "2024-10-02T15:45:27.737589Z",
     "start_time": "2024-10-02T15:45:27.723564Z"
    }
   }
  },
  {
   "cell_type": "code",
   "execution_count": 49,
   "outputs": [
    {
     "ename": "MatchError",
     "evalue": "Could not find 'Name file' in 'dict_keys(['Quantachrome® VersaWin™', 'Dialog', 'Quantachrome® VersaWin™Dialog'])'",
     "output_type": "error",
     "traceback": [
      "\u001B[1;31m---------------------------------------------------------------------------\u001B[0m",
      "\u001B[1;31mTimeoutError\u001B[0m                              Traceback (most recent call last)",
      "File \u001B[1;32m~\\PycharmProjects\\isotherm\\venv10\\lib\\site-packages\\pywinauto\\application.py:250\u001B[0m, in \u001B[0;36mWindowSpecification.__resolve_control\u001B[1;34m(self, criteria, timeout, retry_interval)\u001B[0m\n\u001B[0;32m    249\u001B[0m \u001B[38;5;28;01mtry\u001B[39;00m:\n\u001B[1;32m--> 250\u001B[0m     ctrl \u001B[38;5;241m=\u001B[39m \u001B[43mwait_until_passes\u001B[49m\u001B[43m(\u001B[49m\n\u001B[0;32m    251\u001B[0m \u001B[43m        \u001B[49m\u001B[43mtimeout\u001B[49m\u001B[43m,\u001B[49m\n\u001B[0;32m    252\u001B[0m \u001B[43m        \u001B[49m\u001B[43mretry_interval\u001B[49m\u001B[43m,\u001B[49m\n\u001B[0;32m    253\u001B[0m \u001B[43m        \u001B[49m\u001B[38;5;28;43mself\u001B[39;49m\u001B[38;5;241;43m.\u001B[39;49m\u001B[43m__get_ctrl\u001B[49m\u001B[43m,\u001B[49m\n\u001B[0;32m    254\u001B[0m \u001B[43m        \u001B[49m\u001B[43m(\u001B[49m\u001B[43mfindwindows\u001B[49m\u001B[38;5;241;43m.\u001B[39;49m\u001B[43mElementNotFoundError\u001B[49m\u001B[43m,\u001B[49m\n\u001B[0;32m    255\u001B[0m \u001B[43m         \u001B[49m\u001B[43mfindbestmatch\u001B[49m\u001B[38;5;241;43m.\u001B[39;49m\u001B[43mMatchError\u001B[49m\u001B[43m,\u001B[49m\n\u001B[0;32m    256\u001B[0m \u001B[43m         \u001B[49m\u001B[43mcontrols\u001B[49m\u001B[38;5;241;43m.\u001B[39;49m\u001B[43mInvalidWindowHandle\u001B[49m\u001B[43m,\u001B[49m\n\u001B[0;32m    257\u001B[0m \u001B[43m         \u001B[49m\u001B[43mcontrols\u001B[49m\u001B[38;5;241;43m.\u001B[39;49m\u001B[43mInvalidElement\u001B[49m\u001B[43m)\u001B[49m\u001B[43m,\u001B[49m\n\u001B[0;32m    258\u001B[0m \u001B[43m        \u001B[49m\u001B[43mcriteria\u001B[49m\u001B[43m)\u001B[49m\n\u001B[0;32m    260\u001B[0m \u001B[38;5;28;01mexcept\u001B[39;00m \u001B[38;5;167;01mTimeoutError\u001B[39;00m \u001B[38;5;28;01mas\u001B[39;00m e:\n",
      "File \u001B[1;32m~\\PycharmProjects\\isotherm\\venv10\\lib\\site-packages\\pywinauto\\timings.py:458\u001B[0m, in \u001B[0;36mwait_until_passes\u001B[1;34m(timeout, retry_interval, func, exceptions, *args, **kwargs)\u001B[0m\n\u001B[0;32m    457\u001B[0m             err\u001B[38;5;241m.\u001B[39moriginal_exception \u001B[38;5;241m=\u001B[39m e\n\u001B[1;32m--> 458\u001B[0m             \u001B[38;5;28;01mraise\u001B[39;00m err\n\u001B[0;32m    460\u001B[0m \u001B[38;5;66;03m# return the function value\u001B[39;00m\n",
      "\u001B[1;31mTimeoutError\u001B[0m: ",
      "\nDuring handling of the above exception, another exception occurred:\n",
      "\u001B[1;31mMatchError\u001B[0m                                Traceback (most recent call last)",
      "Cell \u001B[1;32mIn[49], line 1\u001B[0m\n\u001B[1;32m----> 1\u001B[0m \u001B[43msave_dlg\u001B[49m\u001B[38;5;241;43m.\u001B[39;49m\u001B[43mchild_window\u001B[49m\u001B[43m(\u001B[49m\u001B[43mbest_match\u001B[49m\u001B[38;5;241;43m=\u001B[39;49m\u001B[38;5;124;43m\"\u001B[39;49m\u001B[38;5;124;43mСохранить4\u001B[39;49m\u001B[38;5;124;43m\"\u001B[39;49m\u001B[43m,\u001B[49m\u001B[43m \u001B[49m\u001B[43mcontrol_type\u001B[49m\u001B[38;5;241;43m=\u001B[39;49m\u001B[38;5;124;43m\"\u001B[39;49m\u001B[38;5;124;43mButton\u001B[39;49m\u001B[38;5;124;43m\"\u001B[39;49m\u001B[43m)\u001B[49m\u001B[38;5;241;43m.\u001B[39;49m\u001B[43mclick\u001B[49m()\n",
      "File \u001B[1;32m~\\PycharmProjects\\isotherm\\venv10\\lib\\site-packages\\pywinauto\\application.py:379\u001B[0m, in \u001B[0;36mWindowSpecification.__getattribute__\u001B[1;34m(self, attr_name)\u001B[0m\n\u001B[0;32m    374\u001B[0m \u001B[38;5;66;03m# if we already have 2 levels of criteria (dlg, control)\u001B[39;00m\n\u001B[0;32m    375\u001B[0m \u001B[38;5;66;03m# this third must be an attribute so resolve and get the\u001B[39;00m\n\u001B[0;32m    376\u001B[0m \u001B[38;5;66;03m# attribute and return it\u001B[39;00m\n\u001B[0;32m    377\u001B[0m \u001B[38;5;28;01mif\u001B[39;00m \u001B[38;5;28mlen\u001B[39m(\u001B[38;5;28mself\u001B[39m\u001B[38;5;241m.\u001B[39mcriteria) \u001B[38;5;241m>\u001B[39m\u001B[38;5;241m=\u001B[39m \u001B[38;5;241m2\u001B[39m:  \u001B[38;5;66;03m# FIXME - this is surprising\u001B[39;00m\n\u001B[1;32m--> 379\u001B[0m     ctrls \u001B[38;5;241m=\u001B[39m \u001B[38;5;28;43mself\u001B[39;49m\u001B[38;5;241;43m.\u001B[39;49m\u001B[43m__resolve_control\u001B[49m\u001B[43m(\u001B[49m\u001B[38;5;28;43mself\u001B[39;49m\u001B[38;5;241;43m.\u001B[39;49m\u001B[43mcriteria\u001B[49m\u001B[43m)\u001B[49m\n\u001B[0;32m    381\u001B[0m     \u001B[38;5;28;01mtry\u001B[39;00m:\n\u001B[0;32m    382\u001B[0m         \u001B[38;5;28;01mreturn\u001B[39;00m \u001B[38;5;28mgetattr\u001B[39m(ctrls[\u001B[38;5;241m-\u001B[39m\u001B[38;5;241m1\u001B[39m], attr_name)\n",
      "File \u001B[1;32m~\\PycharmProjects\\isotherm\\venv10\\lib\\site-packages\\pywinauto\\application.py:261\u001B[0m, in \u001B[0;36mWindowSpecification.__resolve_control\u001B[1;34m(self, criteria, timeout, retry_interval)\u001B[0m\n\u001B[0;32m    250\u001B[0m     ctrl \u001B[38;5;241m=\u001B[39m wait_until_passes(\n\u001B[0;32m    251\u001B[0m         timeout,\n\u001B[0;32m    252\u001B[0m         retry_interval,\n\u001B[1;32m   (...)\u001B[0m\n\u001B[0;32m    257\u001B[0m          controls\u001B[38;5;241m.\u001B[39mInvalidElement),\n\u001B[0;32m    258\u001B[0m         criteria)\n\u001B[0;32m    260\u001B[0m \u001B[38;5;28;01mexcept\u001B[39;00m \u001B[38;5;167;01mTimeoutError\u001B[39;00m \u001B[38;5;28;01mas\u001B[39;00m e:\n\u001B[1;32m--> 261\u001B[0m     \u001B[38;5;28;01mraise\u001B[39;00m e\u001B[38;5;241m.\u001B[39moriginal_exception\n\u001B[0;32m    263\u001B[0m \u001B[38;5;28;01mreturn\u001B[39;00m ctrl\n",
      "File \u001B[1;32m~\\PycharmProjects\\isotherm\\venv10\\lib\\site-packages\\pywinauto\\timings.py:436\u001B[0m, in \u001B[0;36mwait_until_passes\u001B[1;34m(timeout, retry_interval, func, exceptions, *args, **kwargs)\u001B[0m\n\u001B[0;32m    433\u001B[0m \u001B[38;5;28;01mwhile\u001B[39;00m \u001B[38;5;28;01mTrue\u001B[39;00m:\n\u001B[0;32m    434\u001B[0m     \u001B[38;5;28;01mtry\u001B[39;00m:\n\u001B[0;32m    435\u001B[0m         \u001B[38;5;66;03m# Call the function with any arguments\u001B[39;00m\n\u001B[1;32m--> 436\u001B[0m         func_val \u001B[38;5;241m=\u001B[39m func(\u001B[38;5;241m*\u001B[39margs, \u001B[38;5;241m*\u001B[39m\u001B[38;5;241m*\u001B[39mkwargs)\n\u001B[0;32m    438\u001B[0m         \u001B[38;5;66;03m# if no exception is raised then we are finished\u001B[39;00m\n\u001B[0;32m    439\u001B[0m         \u001B[38;5;28;01mbreak\u001B[39;00m\n",
      "File \u001B[1;32m~\\PycharmProjects\\isotherm\\venv10\\lib\\site-packages\\pywinauto\\application.py:203\u001B[0m, in \u001B[0;36mWindowSpecification.__get_ctrl\u001B[1;34m(self, criteria_)\u001B[0m\n\u001B[0;32m    201\u001B[0m     criteria[\u001B[38;5;241m0\u001B[39m][\u001B[38;5;124m'\u001B[39m\u001B[38;5;124mprocess\u001B[39m\u001B[38;5;124m'\u001B[39m] \u001B[38;5;241m=\u001B[39m \u001B[38;5;28mself\u001B[39m\u001B[38;5;241m.\u001B[39mapp\u001B[38;5;241m.\u001B[39mprocess\n\u001B[0;32m    202\u001B[0m     \u001B[38;5;28;01mdel\u001B[39;00m criteria[\u001B[38;5;241m0\u001B[39m][\u001B[38;5;124m'\u001B[39m\u001B[38;5;124mapp\u001B[39m\u001B[38;5;124m'\u001B[39m]\n\u001B[1;32m--> 203\u001B[0m dialog \u001B[38;5;241m=\u001B[39m \u001B[38;5;28mself\u001B[39m\u001B[38;5;241m.\u001B[39mbackend\u001B[38;5;241m.\u001B[39mgeneric_wrapper_class(findwindows\u001B[38;5;241m.\u001B[39mfind_element(\u001B[38;5;241m*\u001B[39m\u001B[38;5;241m*\u001B[39mcriteria[\u001B[38;5;241m0\u001B[39m]))\n\u001B[0;32m    205\u001B[0m ctrls \u001B[38;5;241m=\u001B[39m []\n\u001B[0;32m    206\u001B[0m \u001B[38;5;66;03m# if there is only criteria for a dialog then return it\u001B[39;00m\n",
      "File \u001B[1;32m~\\PycharmProjects\\isotherm\\venv10\\lib\\site-packages\\pywinauto\\findwindows.py:84\u001B[0m, in \u001B[0;36mfind_element\u001B[1;34m(**kwargs)\u001B[0m\n\u001B[0;32m     77\u001B[0m \u001B[38;5;28;01mdef\u001B[39;00m \u001B[38;5;21mfind_element\u001B[39m(\u001B[38;5;241m*\u001B[39m\u001B[38;5;241m*\u001B[39mkwargs):\n\u001B[0;32m     78\u001B[0m \u001B[38;5;250m    \u001B[39m\u001B[38;5;124;03m\"\"\"\u001B[39;00m\n\u001B[0;32m     79\u001B[0m \u001B[38;5;124;03m    Call find_elements and ensure that only one element is returned\u001B[39;00m\n\u001B[0;32m     80\u001B[0m \n\u001B[0;32m     81\u001B[0m \u001B[38;5;124;03m    Calls find_elements with exactly the same arguments as it is called with\u001B[39;00m\n\u001B[0;32m     82\u001B[0m \u001B[38;5;124;03m    so please see :py:func:`find_elements` for the full parameters description.\u001B[39;00m\n\u001B[0;32m     83\u001B[0m \u001B[38;5;124;03m    \"\"\"\u001B[39;00m\n\u001B[1;32m---> 84\u001B[0m     elements \u001B[38;5;241m=\u001B[39m find_elements(\u001B[38;5;241m*\u001B[39m\u001B[38;5;241m*\u001B[39mkwargs)\n\u001B[0;32m     86\u001B[0m     \u001B[38;5;28;01mif\u001B[39;00m \u001B[38;5;129;01mnot\u001B[39;00m elements:\n\u001B[0;32m     87\u001B[0m         \u001B[38;5;28;01mraise\u001B[39;00m ElementNotFoundError(kwargs)\n",
      "File \u001B[1;32m~\\PycharmProjects\\isotherm\\venv10\\lib\\site-packages\\pywinauto\\findwindows.py:305\u001B[0m, in \u001B[0;36mfind_elements\u001B[1;34m(class_name, class_name_re, parent, process, title, title_re, top_level_only, visible_only, enabled_only, best_match, handle, ctrl_index, found_index, predicate_func, active_only, control_id, control_type, auto_id, framework_id, backend, depth)\u001B[0m\n\u001B[0;32m    300\u001B[0m     \u001B[38;5;28;01mexcept\u001B[39;00m (controls\u001B[38;5;241m.\u001B[39mInvalidWindowHandle,\n\u001B[0;32m    301\u001B[0m             controls\u001B[38;5;241m.\u001B[39mInvalidElement):\n\u001B[0;32m    302\u001B[0m         \u001B[38;5;66;03m# skip invalid handles - they have dissapeared\u001B[39;00m\n\u001B[0;32m    303\u001B[0m         \u001B[38;5;66;03m# since the list of elements was retrieved\u001B[39;00m\n\u001B[0;32m    304\u001B[0m         \u001B[38;5;28;01mcontinue\u001B[39;00m\n\u001B[1;32m--> 305\u001B[0m elements \u001B[38;5;241m=\u001B[39m \u001B[43mfindbestmatch\u001B[49m\u001B[38;5;241;43m.\u001B[39;49m\u001B[43mfind_best_control_matches\u001B[49m\u001B[43m(\u001B[49m\u001B[43mbest_match\u001B[49m\u001B[43m,\u001B[49m\u001B[43m \u001B[49m\u001B[43mwrapped_elems\u001B[49m\u001B[43m)\u001B[49m\n\u001B[0;32m    307\u001B[0m \u001B[38;5;66;03m# convert found elements back to ElementInfo\u001B[39;00m\n\u001B[0;32m    308\u001B[0m backup_elements \u001B[38;5;241m=\u001B[39m elements[:]\n",
      "File \u001B[1;32m~\\PycharmProjects\\isotherm\\venv10\\lib\\site-packages\\pywinauto\\findbestmatch.py:536\u001B[0m, in \u001B[0;36mfind_best_control_matches\u001B[1;34m(search_text, controls)\u001B[0m\n\u001B[0;32m    533\u001B[0m     best_texts \u001B[38;5;241m=\u001B[39m best_texts_clean_ci\n\u001B[0;32m    535\u001B[0m \u001B[38;5;28;01mif\u001B[39;00m best_ratio \u001B[38;5;241m<\u001B[39m find_best_control_match_cutoff:\n\u001B[1;32m--> 536\u001B[0m     \u001B[38;5;28;01mraise\u001B[39;00m MatchError(items \u001B[38;5;241m=\u001B[39m name_control_map\u001B[38;5;241m.\u001B[39mkeys(), tofind \u001B[38;5;241m=\u001B[39m search_text)\n\u001B[0;32m    538\u001B[0m \u001B[38;5;28;01mreturn\u001B[39;00m [name_control_map[best_text] \u001B[38;5;28;01mfor\u001B[39;00m best_text \u001B[38;5;129;01min\u001B[39;00m best_texts]\n",
      "\u001B[1;31mMatchError\u001B[0m: Could not find 'Name file' in 'dict_keys(['Quantachrome® VersaWin™', 'Dialog', 'Quantachrome® VersaWin™Dialog'])'"
     ]
    }
   ],
   "source": [
    "save_dlg.child_window(best_match=\"Сохранить4\", control_type=\"Button\").click()"
   ],
   "metadata": {
    "collapsed": false,
    "pycharm": {
     "name": "#%%\n"
    },
    "ExecuteTime": {
     "end_time": "2024-10-02T15:45:32.884757Z",
     "start_time": "2024-10-02T15:45:27.738565Z"
    }
   }
  },
  {
   "cell_type": "code",
   "execution_count": null,
   "outputs": [],
   "source": [
    "report_dlg = app.window(best_match=\"Dialog\", found_index=0)"
   ],
   "metadata": {
    "collapsed": false,
    "pycharm": {
     "name": "#%%\n"
    },
    "ExecuteTime": {
     "start_time": "2024-10-02T15:45:32.885704Z"
    }
   }
  },
  {
   "cell_type": "code",
   "execution_count": null,
   "outputs": [],
   "source": [
    "report_dlg.child_window(best_match=\"Закрыть\", control_type=\"Button\").click()"
   ],
   "metadata": {
    "collapsed": false,
    "pycharm": {
     "name": "#%%\n"
    },
    "ExecuteTime": {
     "start_time": "2024-10-02T15:45:32.887718Z"
    }
   }
  },
  {
   "cell_type": "code",
   "outputs": [],
   "source": [
    "save_dlg.child_window(best_match=\"Сохранить4\", control_type=\"Button\").click()"
   ],
   "metadata": {
    "collapsed": false
   },
   "execution_count": null
  },
  {
   "cell_type": "code",
   "outputs": [],
   "source": [
    "report_dlg = app.window(best_match=\"Dialog\", found_index=0)"
   ],
   "metadata": {
    "collapsed": false,
    "ExecuteTime": {
     "start_time": "2024-10-02T15:45:32.890705Z"
    }
   },
   "execution_count": null
  },
  {
   "cell_type": "code",
   "outputs": [],
   "source": [
    "report_dlg.child_window(best_match=\"Закрыть\", control_type=\"Button\").click()"
   ],
   "metadata": {
    "collapsed": false,
    "ExecuteTime": {
     "start_time": "2024-10-02T15:45:32.892707Z"
    }
   },
   "execution_count": null
  },
  {
   "cell_type": "code",
   "outputs": [],
   "source": [],
   "metadata": {
    "collapsed": false
   }
  }
 ],
 "metadata": {
  "kernelspec": {
   "display_name": "Python 3",
   "language": "python",
   "name": "python3"
  },
  "language_info": {
   "codemirror_mode": {
    "name": "ipython",
    "version": 2
   },
   "file_extension": ".py",
   "mimetype": "text/x-python",
   "name": "python",
   "nbconvert_exporter": "python",
   "pygments_lexer": "ipython2",
   "version": "2.7.6"
  }
 },
 "nbformat": 4,
 "nbformat_minor": 0
}