{
 "cells": [
  {
   "cell_type": "code",
   "execution_count": 1,
   "id": "initial_id",
   "metadata": {
    "collapsed": true,
    "ExecuteTime": {
     "end_time": "2024-09-24T12:52:27.294894Z",
     "start_time": "2024-09-24T12:52:26.437867Z"
    }
   },
   "outputs": [
    {
     "name": "stderr",
     "output_type": "stream",
     "text": [
      "C:\\Users\\ivano\\AppData\\Local\\Temp\\ipykernel_13496\\2197252401.py:5: DeprecationWarning: \n",
      "Pyarrow will become a required dependency of pandas in the next major release of pandas (pandas 3.0),\n",
      "(to allow more performant data types, such as the Arrow string type, and better interoperability with other libraries)\n",
      "but was not found to be installed on your system.\n",
      "If this would cause problems for you,\n",
      "please provide us feedback at https://github.com/pandas-dev/pandas/issues/54466\n",
      "        \n",
      "  import pandas as pd\n"
     ]
    }
   ],
   "source": [
    "import sys\n",
    "import matplotlib\n",
    "import matplotlib.pyplot as plt\n",
    "import numpy as np\n",
    "import pandas as pd\n",
    "from tools.isotherm import Isotherm\n",
    "matplotlib.use('TkAgg')"
   ]
  },
  {
   "cell_type": "code",
   "outputs": [],
   "source": [
    "data = pd.read_csv(\"norit.txt\", delimiter=\" \")"
   ],
   "metadata": {
    "collapsed": false,
    "ExecuteTime": {
     "end_time": "2024-09-24T12:52:27.304894Z",
     "start_time": "2024-09-24T12:52:27.296868Z"
    }
   },
   "id": "ab6a3776552d0660",
   "execution_count": 2
  },
  {
   "cell_type": "code",
   "outputs": [
    {
     "data": {
      "text/plain": "[<matplotlib.lines.Line2D at 0x2397106d930>]"
     },
     "execution_count": 4,
     "metadata": {},
     "output_type": "execute_result"
    }
   ],
   "source": [
    "plt.plot(data['p'], data['a'], marker=\".\")"
   ],
   "metadata": {
    "collapsed": false,
    "ExecuteTime": {
     "end_time": "2024-09-24T12:52:27.476121Z",
     "start_time": "2024-09-24T12:52:27.326869Z"
    }
   },
   "id": "ae8de7016afad0b3",
   "execution_count": 4
  },
  {
   "cell_type": "code",
   "outputs": [],
   "source": [
    "isotherm = Isotherm()\n",
    "isotherm.load_kernel(kernel_path=\"../../data/initial kernels/excel/Silica-loc-isoth1.xlsx\")"
   ],
   "metadata": {
    "collapsed": false,
    "ExecuteTime": {
     "end_time": "2024-09-24T12:52:28.754732Z",
     "start_time": "2024-09-24T12:52:27.554121Z"
    }
   },
   "id": "2a5f54f741b6b3e5",
   "execution_count": 6
  },
  {
   "cell_type": "code",
   "outputs": [],
   "source": [
    "data['p'] = data['p'] / max (data['p'])"
   ],
   "metadata": {
    "collapsed": false,
    "ExecuteTime": {
     "end_time": "2024-09-24T12:52:27.542123Z",
     "start_time": "2024-09-24T12:52:27.537123Z"
    }
   },
   "id": "6bd6b1c1f2c5c41b",
   "execution_count": 5
  },
  {
   "cell_type": "code",
   "outputs": [],
   "source": [
    "isotherm.isothermData = data['a'].to_numpy().reshape(len(data['a']))\n",
    "isotherm.pressureData = data['p'].to_numpy().reshape(len(data['p']))"
   ],
   "metadata": {
    "collapsed": false,
    "ExecuteTime": {
     "end_time": "2024-09-24T12:52:28.761732Z",
     "start_time": "2024-09-24T12:52:28.755735Z"
    }
   },
   "id": "29e2d7eb16611f26",
   "execution_count": 7
  },
  {
   "cell_type": "code",
   "outputs": [],
   "source": [
    "isotherm.interpolate_isotherm()"
   ],
   "metadata": {
    "collapsed": false,
    "ExecuteTime": {
     "end_time": "2024-09-24T12:52:28.770732Z",
     "start_time": "2024-09-24T12:52:28.763732Z"
    }
   },
   "id": "79d4d997265ffd2c",
   "execution_count": 8
  },
  {
   "cell_type": "code",
   "outputs": [],
   "source": [
    "isotherm.process_kernel()"
   ],
   "metadata": {
    "collapsed": false,
    "ExecuteTime": {
     "end_time": "2024-09-24T12:52:28.782732Z",
     "start_time": "2024-09-24T12:52:28.772733Z"
    }
   },
   "id": "460f379ce5d8d1fc",
   "execution_count": 9
  },
  {
   "cell_type": "code",
   "outputs": [
    {
     "name": "stderr",
     "output_type": "stream",
     "text": [
      "C:\\Users\\ivano\\PycharmProjects\\isotherm\\inverse.py:17: RuntimeWarning: divide by zero encountered in log\n",
      "  adsorption)).sum(axis=0) + alpha * np.sum(pore_dist * np.log(pore_dist)) +\n",
      "C:\\Users\\ivano\\PycharmProjects\\isotherm\\inverse.py:17: RuntimeWarning: invalid value encountered in multiply\n",
      "  adsorption)).sum(axis=0) + alpha * np.sum(pore_dist * np.log(pore_dist)) +\n"
     ]
    }
   ],
   "source": [
    "isotherm.process_isotherm(0.05, 0)"
   ],
   "metadata": {
    "collapsed": false,
    "ExecuteTime": {
     "end_time": "2024-09-24T13:32:46.368276Z",
     "start_time": "2024-09-24T13:32:39.370682Z"
    }
   },
   "id": "49b65c58860cedfa",
   "execution_count": 59
  },
  {
   "cell_type": "code",
   "outputs": [],
   "source": [
    "plt.plot(isotherm.kernel_a_array, isotherm.defined_PSD, marker=\".\")\n",
    "plt.xscale(\"log\")\n",
    "plt.show()"
   ],
   "metadata": {
    "collapsed": false,
    "ExecuteTime": {
     "end_time": "2024-09-24T13:33:15.177601Z",
     "start_time": "2024-09-24T13:32:46.380277Z"
    }
   },
   "id": "33619a1fe68d69cd",
   "execution_count": 60
  },
  {
   "cell_type": "code",
   "outputs": [],
   "source": [
    "plt.plot(isotherm.interpolated_kernel_p ,isotherm.restored_isotherm, marker=\".\")\n",
    "plt.plot(isotherm.pressureData, isotherm.isothermData, marker=\".\")\n",
    "plt.show()"
   ],
   "metadata": {
    "collapsed": false,
    "ExecuteTime": {
     "end_time": "2024-09-24T13:10:07.585666Z",
     "start_time": "2024-09-24T13:08:57.954633Z"
    }
   },
   "id": "3988950832dab4e2",
   "execution_count": 33
  },
  {
   "cell_type": "code",
   "outputs": [],
   "source": [],
   "metadata": {
    "collapsed": false,
    "ExecuteTime": {
     "end_time": "2024-09-24T12:53:06.509572Z",
     "start_time": "2024-09-24T12:53:06.506572Z"
    }
   },
   "id": "d46e17c87193fb9b",
   "execution_count": 12
  }
 ],
 "metadata": {
  "kernelspec": {
   "display_name": "Python 3",
   "language": "python",
   "name": "python3"
  },
  "language_info": {
   "codemirror_mode": {
    "name": "ipython",
    "version": 2
   },
   "file_extension": ".py",
   "mimetype": "text/x-python",
   "name": "python",
   "nbconvert_exporter": "python",
   "pygments_lexer": "ipython2",
   "version": "2.7.6"
  }
 },
 "nbformat": 4,
 "nbformat_minor": 5
}
