{
 "cells": [
  {
   "cell_type": "code",
   "execution_count": 33,
   "id": "initial_id",
   "metadata": {
    "collapsed": true,
    "ExecuteTime": {
     "end_time": "2024-11-03T17:00:24.799337Z",
     "start_time": "2024-11-03T17:00:24.786363Z"
    }
   },
   "outputs": [],
   "source": [
    "import numpy as np\n",
    "import matplotlib \n",
    "matplotlib.use('Qt5Agg') \n",
    "import matplotlib.pyplot as plt\n",
    "import random\n",
    "import re\n",
    "\n",
    "from os import listdir\n",
    "from os.path import isfile, join\n",
    "from itertools import filterfalse"
   ]
  },
  {
   "cell_type": "code",
   "outputs": [
    {
     "name": "stdout",
     "output_type": "stream",
     "text": [
      "1143\n"
     ]
    }
   ],
   "source": [
    "def read_qps(file_path: str, file_name: str):\n",
    "    def is_data_row(line):\n",
    "        return bool(re.match(r\"^\\s*\\d*\\.?\\d+e?[-+]?\\d*\\s+\\d*\\.?\\d+e?[-+]?\\d*\\s*$\", line))\n",
    "    pressure = []\n",
    "    volume = []    \n",
    "    with open(file_path, 'r') as file:\n",
    "        for line in file:\n",
    "            if is_data_row(line):\n",
    "                p, v = map(float, line.split())\n",
    "                pressure.append(p)\n",
    "                volume.append(v)\n",
    "    \n",
    "    pressure = np.array(pressure)\n",
    "    volume = np.array(volume)\n",
    "    return [pressure, volume, file_name]\n",
    "\n",
    "def separate_branches(iso):\n",
    "    pressure = iso[0]\n",
    "    volume = iso[1]\n",
    "    max_p_idx = np.where(pressure == max(pressure))[0][0]\n",
    "    isotherm = {\"adsorption_p\": pressure[:max_p_idx+1], \"adsorption\": volume[:max_p_idx+1],\n",
    "                \"desorption_p\": pressure[max_p_idx:][::-1], \"desorption\": volume[max_p_idx:][::-1], \"file_name\": iso[2]}\n",
    "    return isotherm\n",
    "    \n",
    "data_path = \"../data/experimental_isotherms/qps\"\n",
    "file_names = [f for f in listdir(data_path) if isfile(join(data_path, f))]\n",
    "data = [read_qps(join(data_path, f), f) for f in file_names]\n",
    "isotherms = [separate_branches(d) for d in data if len(d[0]) != 0]\n",
    "print(len(isotherms))"
   ],
   "metadata": {
    "collapsed": false,
    "ExecuteTime": {
     "end_time": "2024-11-03T17:00:25.384490Z",
     "start_time": "2024-11-03T17:00:24.801340Z"
    }
   },
   "id": "c6fc77bf9b927f4a",
   "execution_count": 34
  },
  {
   "cell_type": "code",
   "outputs": [],
   "source": [
    "def filter_number_of_points(isotherm, min_number_of_points=15):\n",
    "    if len(isotherm[\"adsorption_p\"]) <= min_number_of_points:\n",
    "        return False\n",
    "    return True\n",
    "\n",
    "def filter_pressure_fall(isotherm):\n",
    "    for i in range(len(isotherm[\"adsorption_p\"])-1):\n",
    "        if isotherm[\"adsorption_p\"][i] >= isotherm[\"adsorption_p\"][i+1]:\n",
    "            return False\n",
    "    return True\n",
    "\n",
    "def filter_adsorption_fall(isotherm):\n",
    "    for i in range(len(isotherm[\"adsorption_p\"])-1):\n",
    "        if isotherm[\"adsorption\"][i+1]/isotherm[\"adsorption\"][i] < 1:\n",
    "            return False\n",
    "    return True"
   ],
   "metadata": {
    "collapsed": false,
    "ExecuteTime": {
     "end_time": "2024-11-03T17:00:25.399416Z",
     "start_time": "2024-11-03T17:00:25.386391Z"
    }
   },
   "id": "bb086d3df99d66d8",
   "execution_count": 35
  },
  {
   "cell_type": "code",
   "outputs": [
    {
     "name": "stdout",
     "output_type": "stream",
     "text": [
      "filter_number_of_points : 53\n",
      "filter_pressure_fall : 188\n",
      "filter_adsorption_fall : 101\n",
      "1143 ==FILTERS==> 801\n"
     ]
    },
    {
     "name": "stderr",
     "output_type": "stream",
     "text": [
      "C:\\Users\\ivano\\AppData\\Local\\Temp\\ipykernel_11088\\3598729498.py:14: RuntimeWarning: invalid value encountered in scalar divide\n",
      "  if isotherm[\"adsorption\"][i+1]/isotherm[\"adsorption\"][i] < 1:\n",
      "C:\\Users\\ivano\\AppData\\Local\\Temp\\ipykernel_11088\\3598729498.py:14: RuntimeWarning: divide by zero encountered in scalar divide\n",
      "  if isotherm[\"adsorption\"][i+1]/isotherm[\"adsorption\"][i] < 1:\n"
     ]
    }
   ],
   "source": [
    "filters = [filter_number_of_points, filter_pressure_fall, filter_adsorption_fall]\n",
    "clean_data = isotherms.copy()\n",
    "for f in filters:\n",
    "    print(f\"{f.__name__} : {len(list(filterfalse(f, clean_data)))}\")\n",
    "    clean_data = list(filter(f, clean_data))\n",
    "print(f\"{len(isotherms)} ==FILTERS==> {len(clean_data)}\")"
   ],
   "metadata": {
    "collapsed": false,
    "ExecuteTime": {
     "end_time": "2024-11-03T17:00:25.463050Z",
     "start_time": "2024-11-03T17:00:25.402391Z"
    }
   },
   "id": "adb04ca1bbc31e3e",
   "execution_count": 36
  },
  {
   "cell_type": "code",
   "outputs": [],
   "source": [
    "def plot_isotherm(isotherm):\n",
    "    plt.plot(isotherm[\"adsorption_p\"], isotherm[\"adsorption\"], marker=\".\")\n",
    "    plt.plot(isotherm[\"desorption_p\"], isotherm[\"desorption\"], marker=\".\")\n",
    "    plt.show()\n",
    "\n",
    "i = random.randint(0, len(clean_data)-1)\n",
    "plot_isotherm(clean_data[i])"
   ],
   "metadata": {
    "collapsed": false,
    "ExecuteTime": {
     "end_time": "2024-11-03T17:00:29.169776Z",
     "start_time": "2024-11-03T17:00:25.464025Z"
    }
   },
   "id": "3f9d446b6289f279",
   "execution_count": 37
  },
  {
   "cell_type": "code",
   "outputs": [],
   "source": [
    "pressure_issues = list(filterfalse(filter_pressure_fall, isotherms))\n",
    "i = random.randint(0, len(pressure_issues)-1)\n",
    "plot_isotherm(pressure_issues[i])"
   ],
   "metadata": {
    "collapsed": false,
    "ExecuteTime": {
     "end_time": "2024-11-03T17:00:31.204865Z",
     "start_time": "2024-11-03T17:00:29.170769Z"
    }
   },
   "id": "1ac3300bcd8ab9f3",
   "execution_count": 38
  },
  {
   "cell_type": "code",
   "outputs": [],
   "source": [],
   "metadata": {
    "collapsed": false,
    "ExecuteTime": {
     "end_time": "2024-11-03T17:00:31.220865Z",
     "start_time": "2024-11-03T17:00:31.206878Z"
    }
   },
   "id": "5795f93b5119fb39",
   "execution_count": 38
  }
 ],
 "metadata": {
  "kernelspec": {
   "display_name": "Python 3",
   "language": "python",
   "name": "python3"
  },
  "language_info": {
   "codemirror_mode": {
    "name": "ipython",
    "version": 2
   },
   "file_extension": ".py",
   "mimetype": "text/x-python",
   "name": "python",
   "nbconvert_exporter": "python",
   "pygments_lexer": "ipython2",
   "version": "2.7.6"
  }
 },
 "nbformat": 4,
 "nbformat_minor": 5
}
