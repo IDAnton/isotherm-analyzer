{
 "cells": [
  {
   "cell_type": "code",
   "execution_count": 1,
   "id": "initial_id",
   "metadata": {
    "collapsed": true,
    "ExecuteTime": {
     "end_time": "2024-11-03T16:52:58.299456Z",
     "start_time": "2024-11-03T16:52:57.872875Z"
    }
   },
   "outputs": [],
   "source": [
    "import numpy as np\n",
    "import matplotlib \n",
    "matplotlib.use('Qt5Agg') \n",
    "import matplotlib.pyplot as plt\n",
    "import random\n",
    "import re\n",
    "\n",
    "from os import listdir\n",
    "from os.path import isfile, join\n",
    "from itertools import filterfalse"
   ]
  },
  {
   "cell_type": "code",
   "outputs": [
    {
     "name": "stdout",
     "output_type": "stream",
     "text": [
      "1143\n"
     ]
    }
   ],
   "source": [
    "def read_qps(file_path: str, file_name: str):\n",
    "    def is_data_row(line):\n",
    "        return bool(re.match(r\"^\\s*\\d*\\.?\\d+e?[-+]?\\d*\\s+\\d*\\.?\\d+e?[-+]?\\d*\\s*$\", line))\n",
    "    pressure = []\n",
    "    volume = []    \n",
    "    with open(file_path, 'r') as file:\n",
    "        for line in file:\n",
    "            if is_data_row(line):\n",
    "                p, v = map(float, line.split())\n",
    "                pressure.append(p)\n",
    "                volume.append(v)\n",
    "    \n",
    "    pressure = np.array(pressure)\n",
    "    volume = np.array(volume)\n",
    "    return [pressure, volume, file_name]\n",
    "\n",
    "def separate_branches(iso):\n",
    "    pressure = iso[0]\n",
    "    volume = iso[1]\n",
    "    max_p_idx = np.where(pressure == max(pressure))[0][0]\n",
    "    isotherm = {\"adsorption_p\": pressure[:max_p_idx+1], \"adsorption\": volume[:max_p_idx+1],\n",
    "                \"desorption_p\": pressure[max_p_idx:][::-1], \"desorption\": volume[max_p_idx:][::-1], \"file_name\": iso[2]}\n",
    "    return isotherm\n",
    "    \n",
    "data_path = \"../data/experimental_isotherms/qps\"\n",
    "file_names = [f for f in listdir(data_path) if isfile(join(data_path, f))]\n",
    "data = [read_qps(join(data_path, f), f) for f in file_names]\n",
    "isotherms = [separate_branches(d) for d in data if len(d[0]) != 0]\n",
    "print(len(isotherms))"
   ],
   "metadata": {
    "collapsed": false,
    "ExecuteTime": {
     "end_time": "2024-11-03T16:52:58.822331Z",
     "start_time": "2024-11-03T16:52:58.302507Z"
    }
   },
   "id": "c6fc77bf9b927f4a",
   "execution_count": 2
  },
  {
   "cell_type": "code",
   "outputs": [],
   "source": [
    "def filter_number_of_points(isotherm, min_number_of_points=15):\n",
    "    if len(isotherm[\"adsorption_p\"]) <= min_number_of_points:\n",
    "        return False\n",
    "    return True\n",
    "\n",
    "def filter_pressure_fall(isotherm):\n",
    "    for i in range(len(isotherm[\"adsorption_p\"])-1):\n",
    "        if isotherm[\"adsorption_p\"][i] >= isotherm[\"adsorption_p\"][i+1]:\n",
    "            return False\n",
    "    return True\n",
    "\n",
    "def filter_adsorption_fall(isotherm):\n",
    "    for i in range(len(isotherm[\"adsorption_p\"])-1):\n",
    "        if isotherm[\"adsorption\"][i+1]/isotherm[\"adsorption\"][i] < 1:\n",
    "            return False\n",
    "    return True"
   ],
   "metadata": {
    "collapsed": false,
    "ExecuteTime": {
     "end_time": "2024-11-03T16:52:58.838265Z",
     "start_time": "2024-11-03T16:52:58.823234Z"
    }
   },
   "id": "bb086d3df99d66d8",
   "execution_count": 3
  },
  {
   "cell_type": "code",
   "outputs": [
    {
     "name": "stdout",
     "output_type": "stream",
     "text": [
      "filter_number_of_points : 53\n",
      "filter_pressure_fall : 188\n",
      "filter_adsorption_fall : 101\n",
      "1143 ==FILTERS==> 801\n"
     ]
    },
    {
     "name": "stderr",
     "output_type": "stream",
     "text": [
      "C:\\Users\\ivano\\AppData\\Local\\Temp\\ipykernel_11088\\3598729498.py:14: RuntimeWarning: invalid value encountered in scalar divide\n",
      "  if isotherm[\"adsorption\"][i+1]/isotherm[\"adsorption\"][i] < 1:\n",
      "C:\\Users\\ivano\\AppData\\Local\\Temp\\ipykernel_11088\\3598729498.py:14: RuntimeWarning: divide by zero encountered in scalar divide\n",
      "  if isotherm[\"adsorption\"][i+1]/isotherm[\"adsorption\"][i] < 1:\n"
     ]
    }
   ],
   "source": [
    "filters = [filter_number_of_points, filter_pressure_fall, filter_adsorption_fall]\n",
    "clean_data = isotherms.copy()\n",
    "for f in filters:\n",
    "    print(f\"{f.__name__} : {len(list(filterfalse(f, clean_data)))}\")\n",
    "    clean_data = list(filter(f, clean_data))\n",
    "print(f\"{len(isotherms)} ==FILTERS==> {len(clean_data)}\")"
   ],
   "metadata": {
    "collapsed": false,
    "ExecuteTime": {
     "end_time": "2024-11-03T16:52:58.902236Z",
     "start_time": "2024-11-03T16:52:58.840234Z"
    }
   },
   "id": "adb04ca1bbc31e3e",
   "execution_count": 4
  },
  {
   "cell_type": "code",
   "outputs": [],
   "source": [
    "i = random.randint(0, len(clean_data)-1)\n",
    "plt.plot(clean_data[i][\"adsorption_p\"], clean_data[i][\"adsorption\"], marker=\".\")\n",
    "plt.plot(clean_data[i][\"desorption_p\"], clean_data[i][\"desorption\"], marker=\".\")\n",
    "plt.show()"
   ],
   "metadata": {
    "collapsed": false,
    "ExecuteTime": {
     "end_time": "2024-11-03T16:53:04.789200Z",
     "start_time": "2024-11-03T16:52:58.905235Z"
    }
   },
   "id": "3f9d446b6289f279",
   "execution_count": 5
  },
  {
   "cell_type": "code",
   "outputs": [],
   "source": [],
   "metadata": {
    "collapsed": false,
    "ExecuteTime": {
     "end_time": "2024-11-03T16:53:04.805225Z",
     "start_time": "2024-11-03T16:53:04.791199Z"
    }
   },
   "id": "1ac3300bcd8ab9f3",
   "execution_count": 5
  }
 ],
 "metadata": {
  "kernelspec": {
   "display_name": "Python 3",
   "language": "python",
   "name": "python3"
  },
  "language_info": {
   "codemirror_mode": {
    "name": "ipython",
    "version": 2
   },
   "file_extension": ".py",
   "mimetype": "text/x-python",
   "name": "python",
   "nbconvert_exporter": "python",
   "pygments_lexer": "ipython2",
   "version": "2.7.6"
  }
 },
 "nbformat": 4,
 "nbformat_minor": 5
}
