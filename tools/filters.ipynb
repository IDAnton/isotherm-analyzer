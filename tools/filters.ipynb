{
 "cells": [
  {
   "cell_type": "code",
   "execution_count": 63,
   "id": "initial_id",
   "metadata": {
    "collapsed": true,
    "ExecuteTime": {
     "end_time": "2024-11-04T13:10:37.148029Z",
     "start_time": "2024-11-04T13:10:37.142025Z"
    }
   },
   "outputs": [],
   "source": [
    "import numpy as np\n",
    "import matplotlib \n",
    "matplotlib.use('Qt5Agg') \n",
    "import matplotlib.pyplot as plt\n",
    "import random\n",
    "import re\n",
    "\n",
    "from os import listdir\n",
    "from os.path import isfile, join\n",
    "from itertools import filterfalse"
   ]
  },
  {
   "cell_type": "code",
   "outputs": [
    {
     "name": "stdout",
     "output_type": "stream",
     "text": [
      "1143\n"
     ]
    }
   ],
   "source": [
    "def read_qps(file_path: str, file_name: str):\n",
    "    def is_data_row(line):\n",
    "        return bool(re.match(r\"^\\s*\\d*\\.?\\d+e?[-+]?\\d*\\s+\\d*\\.?\\d+e?[-+]?\\d*\\s*$\", line))\n",
    "    pressure = []\n",
    "    volume = []    \n",
    "    with open(file_path, 'r') as file:\n",
    "        for line in file:\n",
    "            if is_data_row(line):\n",
    "                p, v = map(float, line.split())\n",
    "                pressure.append(p)\n",
    "                volume.append(v)\n",
    "    \n",
    "    pressure = np.array(pressure)\n",
    "    volume = np.array(volume)\n",
    "    return [pressure, volume, file_name]\n",
    "\n",
    "def separate_branches(iso):\n",
    "    pressure = iso[0]\n",
    "    volume = iso[1]\n",
    "    max_p_idx = np.where(pressure == max(pressure))[0][0]\n",
    "    isotherm = {\"adsorption_p\": pressure[:max_p_idx+1], \"adsorption\": volume[:max_p_idx+1],\n",
    "                \"desorption_p\": pressure[max_p_idx:][::-1], \"desorption\": volume[max_p_idx:][::-1], \"file_name\": iso[2]}\n",
    "    return isotherm\n",
    "    \n",
    "data_path = \"../data/experimental_isotherms/qps\"\n",
    "file_names = [f for f in listdir(data_path) if isfile(join(data_path, f))]\n",
    "data = [read_qps(join(data_path, f), f) for f in file_names]\n",
    "isotherms = [separate_branches(d) for d in data if len(d[0]) != 0]\n",
    "print(len(isotherms))"
   ],
   "metadata": {
    "collapsed": false,
    "ExecuteTime": {
     "end_time": "2024-11-04T13:10:38.499268Z",
     "start_time": "2024-11-04T13:10:37.156026Z"
    }
   },
   "id": "c6fc77bf9b927f4a",
   "execution_count": 64
  },
  {
   "cell_type": "code",
   "outputs": [],
   "source": [
    "def filter_number_of_points(isotherm, min_number_of_points=15):\n",
    "    if len(isotherm[\"adsorption_p\"]) <= min_number_of_points:\n",
    "        return False\n",
    "    return True\n",
    "\n",
    "def filter_pressure_fall(isotherm):\n",
    "    for i in range(len(isotherm[\"adsorption_p\"])-1):\n",
    "        if isotherm[\"adsorption_p\"][i] >= isotherm[\"adsorption_p\"][i+1]:\n",
    "            return False\n",
    "    return True\n",
    "\n",
    "def filter_adsorption_fall(isotherm):\n",
    "    for i in range(len(isotherm[\"adsorption_p\"])-1):\n",
    "        if isotherm[\"adsorption\"][i+1]/isotherm[\"adsorption\"][i] < 1:\n",
    "            return False\n",
    "    return True"
   ],
   "metadata": {
    "collapsed": false,
    "ExecuteTime": {
     "end_time": "2024-11-04T13:10:38.510270Z",
     "start_time": "2024-11-04T13:10:38.503268Z"
    }
   },
   "id": "bb086d3df99d66d8",
   "execution_count": 65
  },
  {
   "cell_type": "code",
   "outputs": [
    {
     "name": "stdout",
     "output_type": "stream",
     "text": [
      "filter_number_of_points : 53\n",
      "filter_pressure_fall : 188\n",
      "filter_adsorption_fall : 101\n",
      "1143 ==FILTERS==> 801\n"
     ]
    },
    {
     "name": "stderr",
     "output_type": "stream",
     "text": [
      "C:\\Users\\ivano\\AppData\\Local\\Temp\\ipykernel_2980\\3598729498.py:14: RuntimeWarning: invalid value encountered in scalar divide\n",
      "  if isotherm[\"adsorption\"][i+1]/isotherm[\"adsorption\"][i] < 1:\n",
      "C:\\Users\\ivano\\AppData\\Local\\Temp\\ipykernel_2980\\3598729498.py:14: RuntimeWarning: divide by zero encountered in scalar divide\n",
      "  if isotherm[\"adsorption\"][i+1]/isotherm[\"adsorption\"][i] < 1:\n"
     ]
    }
   ],
   "source": [
    "filters = [filter_number_of_points, filter_pressure_fall, filter_adsorption_fall]\n",
    "clean_data = isotherms.copy()\n",
    "for f in filters:\n",
    "    print(f\"{f.__name__} : {len(list(filterfalse(f, clean_data)))}\")\n",
    "    clean_data = list(filter(f, clean_data))\n",
    "print(f\"{len(isotherms)} ==FILTERS==> {len(clean_data)}\")"
   ],
   "metadata": {
    "collapsed": false,
    "ExecuteTime": {
     "end_time": "2024-11-04T13:10:38.654267Z",
     "start_time": "2024-11-04T13:10:38.513271Z"
    }
   },
   "id": "adb04ca1bbc31e3e",
   "execution_count": 66
  },
  {
   "cell_type": "code",
   "outputs": [],
   "source": [
    "def plot_isotherm(isotherm):\n",
    "    plt.plot(isotherm[\"adsorption_p\"], isotherm[\"adsorption\"], marker=\".\")\n",
    "    plt.plot(isotherm[\"desorption_p\"], isotherm[\"desorption\"], marker=\".\")\n",
    "    plt.show()\n",
    "\n",
    "i = random.randint(0, len(clean_data)-1)\n",
    "plot_isotherm(clean_data[i])"
   ],
   "metadata": {
    "collapsed": false,
    "ExecuteTime": {
     "end_time": "2024-11-04T13:24:41.486885Z",
     "start_time": "2024-11-04T13:24:33.887062Z"
    }
   },
   "id": "3f9d446b6289f279",
   "execution_count": 103
  },
  {
   "cell_type": "code",
   "outputs": [],
   "source": [
    "pressure_issues = list(filterfalse(filter_pressure_fall, isotherms))\n",
    "i = random.randint(0, len(pressure_issues)-1)\n",
    "plot_isotherm(pressure_issues[i])"
   ],
   "metadata": {
    "collapsed": false,
    "ExecuteTime": {
     "end_time": "2024-11-04T13:16:46.461915Z",
     "start_time": "2024-11-04T13:16:32.934188Z"
    }
   },
   "id": "1ac3300bcd8ab9f3",
   "execution_count": 83
  },
  {
   "cell_type": "code",
   "outputs": [],
   "source": [],
   "metadata": {
    "collapsed": false,
    "ExecuteTime": {
     "end_time": "2024-11-04T13:10:40.806818Z",
     "start_time": "2024-11-04T13:10:40.803818Z"
    }
   },
   "id": "72f5ace6be0264f",
   "execution_count": 68
  },
  {
   "cell_type": "code",
   "outputs": [
    {
     "name": "stderr",
     "output_type": "stream",
     "text": [
      "C:\\Users\\ivano\\AppData\\Local\\Temp\\ipykernel_2980\\3598729498.py:14: RuntimeWarning: invalid value encountered in scalar divide\n",
      "  if isotherm[\"adsorption\"][i+1]/isotherm[\"adsorption\"][i] < 1:\n",
      "C:\\Users\\ivano\\AppData\\Local\\Temp\\ipykernel_2980\\3598729498.py:14: RuntimeWarning: divide by zero encountered in scalar divide\n",
      "  if isotherm[\"adsorption\"][i+1]/isotherm[\"adsorption\"][i] < 1:\n"
     ]
    }
   ],
   "source": [
    "volume_issues = list(filterfalse(filter_adsorption_fall, isotherms))\n",
    "i = random.randint(0, len(volume_issues)-1)\n",
    "plot_isotherm(volume_issues[i])"
   ],
   "metadata": {
    "collapsed": false,
    "ExecuteTime": {
     "end_time": "2024-11-04T13:25:27.874747Z",
     "start_time": "2024-11-04T13:25:18.748986Z"
    }
   },
   "id": "c8cbb5ab1d2f3b56",
   "execution_count": 108
  },
  {
   "cell_type": "code",
   "outputs": [
    {
     "data": {
      "text/plain": "73"
     },
     "execution_count": 90,
     "metadata": {},
     "output_type": "execute_result"
    }
   ],
   "source": [
    "i"
   ],
   "metadata": {
    "collapsed": false,
    "ExecuteTime": {
     "end_time": "2024-11-04T13:20:06.809802Z",
     "start_time": "2024-11-04T13:20:06.803802Z"
    }
   },
   "id": "eed57efd1c19de24",
   "execution_count": 90
  },
  {
   "cell_type": "code",
   "outputs": [],
   "source": [],
   "metadata": {
    "collapsed": false,
    "ExecuteTime": {
     "end_time": "2024-11-04T13:10:40.824816Z",
     "start_time": "2024-11-04T13:10:40.822816Z"
    }
   },
   "id": "4ca71d5152f81c46",
   "execution_count": 68
  },
  {
   "cell_type": "code",
   "outputs": [
    {
     "data": {
      "text/plain": "1"
     },
     "execution_count": 69,
     "metadata": {},
     "output_type": "execute_result"
    }
   ],
   "source": [
    "i"
   ],
   "metadata": {
    "collapsed": false,
    "ExecuteTime": {
     "end_time": "2024-11-04T13:10:40.833816Z",
     "start_time": "2024-11-04T13:10:40.826818Z"
    }
   },
   "id": "6779bac8770f088f",
   "execution_count": 69
  },
  {
   "cell_type": "code",
   "outputs": [],
   "source": [
    "def pressure_corrector(isotherm):\n",
    "    i = 0\n",
    "    while i < len(isotherm[\"adsorption_p\"])-1:\n",
    "        if isotherm[\"adsorption_p\"][i] >= isotherm[\"adsorption_p\"][i+1]:\n",
    "            isotherm[\"adsorption\"] = np.delete(isotherm[\"adsorption\"], i)\n",
    "            isotherm[\"adsorption_p\"] = np.delete(isotherm[\"adsorption_p\"], i)\n",
    "        i += 1\n",
    "    return isotherm\n",
    "\n",
    "pressure_corrected = [pressure_corrector(isotherm) for isotherm in pressure_issues]\n",
    "i = 1 #random.randint(0, len(pressure_corrected)-1)\n",
    "plot_isotherm(pressure_corrected[i])"
   ],
   "metadata": {
    "collapsed": false,
    "ExecuteTime": {
     "end_time": "2024-11-04T13:10:41.674121Z",
     "start_time": "2024-11-04T13:10:40.836817Z"
    }
   },
   "id": "5795f93b5119fb39",
   "execution_count": 70
  },
  {
   "cell_type": "code",
   "outputs": [
    {
     "data": {
      "text/plain": "(91, 91)"
     },
     "execution_count": 71,
     "metadata": {},
     "output_type": "execute_result"
    }
   ],
   "source": [
    "len(pressure_issues[i][\"adsorption_p\"]), len(pressure_corrected[i][\"adsorption_p\"])"
   ],
   "metadata": {
    "collapsed": false,
    "ExecuteTime": {
     "end_time": "2024-11-04T13:10:41.687118Z",
     "start_time": "2024-11-04T13:10:41.677118Z"
    }
   },
   "id": "84649026b191bcb4",
   "execution_count": 71
  },
  {
   "cell_type": "code",
   "outputs": [],
   "source": [],
   "metadata": {
    "collapsed": false,
    "ExecuteTime": {
     "end_time": "2024-11-04T13:10:55.438577Z",
     "start_time": "2024-11-04T13:10:55.435576Z"
    }
   },
   "id": "9dd03d302b6384c1",
   "execution_count": 71
  }
 ],
 "metadata": {
  "kernelspec": {
   "display_name": "Python 3",
   "language": "python",
   "name": "python3"
  },
  "language_info": {
   "codemirror_mode": {
    "name": "ipython",
    "version": 2
   },
   "file_extension": ".py",
   "mimetype": "text/x-python",
   "name": "python",
   "nbconvert_exporter": "python",
   "pygments_lexer": "ipython2",
   "version": "2.7.6"
  }
 },
 "nbformat": 4,
 "nbformat_minor": 5
}
