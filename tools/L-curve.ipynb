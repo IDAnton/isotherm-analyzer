{
 "cells": [
  {
   "cell_type": "code",
   "execution_count": 1,
   "id": "initial_id",
   "metadata": {
    "collapsed": true,
    "ExecuteTime": {
     "end_time": "2024-10-01T05:34:20.038391Z",
     "start_time": "2024-10-01T05:34:18.495639Z"
    }
   },
   "outputs": [],
   "source": [
    "import numpy as np\n",
    "import matplotlib.pyplot as plt\n",
    "import reportParser\n",
    "import pandas as pd\n",
    "from isotherm import Isotherm"
   ]
  },
  {
   "cell_type": "code",
   "outputs": [],
   "source": [
    "data = Isotherm()\n",
    "data.load_kernel()"
   ],
   "metadata": {
    "collapsed": false,
    "ExecuteTime": {
     "end_time": "2024-09-24T13:01:42.847859Z",
     "start_time": "2024-09-24T13:01:41.955871Z"
    }
   },
   "id": "6700dae850e9204f",
   "execution_count": 2
  },
  {
   "cell_type": "code",
   "outputs": [
    {
     "name": "stderr",
     "output_type": "stream",
     "text": [
      "C:\\Users\\ivano\\PycharmProjects\\isotherm\\tools\\reportParser.py:34: ParserWarning: Falling back to the 'python' engine because the 'c' engine does not support regex separators (separators > 1 char and different from '\\s+' are interpreted as regex); you can avoid this warning by specifying engine='python'.\n",
      "  data = pd.read_csv(io.StringIO(value), sep=\"\\s+|\\t+|\\s+\\t+|\\t+\\s+\")\n",
      "C:\\Users\\ivano\\PycharmProjects\\isotherm\\tools\\reportParser.py:34: ParserWarning: Falling back to the 'python' engine because the 'c' engine does not support regex separators (separators > 1 char and different from '\\s+' are interpreted as regex); you can avoid this warning by specifying engine='python'.\n",
      "  data = pd.read_csv(io.StringIO(value), sep=\"\\s+|\\t+|\\s+\\t+|\\t+\\s+\")\n"
     ]
    }
   ],
   "source": [
    "raw_data = reportParser.get_isotherm_and_distribution(\"test_report.txt\")\n",
    "isotherm_data = reportParser.get_numpy_arrays(raw_data)\n",
    "\n",
    "#\n",
    "norit = pd.read_csv(\"carbon task/norit.txt\", delimiter=\" \")\n",
    "#\n",
    "data.isothermData = norit[\"a\"]#isotherm_data[\"adsorption\"]\n",
    "data.pressureData = norit[\"p\"] / max(norit[\"p\"])#isotherm_data[\"p_adsorption\"]\n",
    "data.interpolate_isotherm()\n",
    "data.process_kernel()"
   ],
   "metadata": {
    "collapsed": false,
    "ExecuteTime": {
     "end_time": "2024-09-24T13:01:43.323834Z",
     "start_time": "2024-09-24T13:01:43.307857Z"
    }
   },
   "id": "2a2fdca34d978549",
   "execution_count": 3
  },
  {
   "cell_type": "code",
   "outputs": [],
   "source": [
    "alpha = 1\n",
    "beta = 0"
   ],
   "metadata": {
    "collapsed": false,
    "ExecuteTime": {
     "end_time": "2024-09-24T13:01:44.409350Z",
     "start_time": "2024-09-24T13:01:44.404352Z"
    }
   },
   "id": "53ba3e30ffa2d89b",
   "execution_count": 4
  },
  {
   "cell_type": "code",
   "outputs": [
    {
     "name": "stderr",
     "output_type": "stream",
     "text": [
      "C:\\Users\\ivano\\PycharmProjects\\isotherm\\inverse.py:17: RuntimeWarning: divide by zero encountered in log\n",
      "  adsorption)).sum(axis=0) + alpha * np.sum(pore_dist * np.log(pore_dist)) +\n",
      "C:\\Users\\ivano\\PycharmProjects\\isotherm\\inverse.py:17: RuntimeWarning: invalid value encountered in multiply\n",
      "  adsorption)).sum(axis=0) + alpha * np.sum(pore_dist * np.log(pore_dist)) +\n"
     ]
    }
   ],
   "source": [
    "data.process_isotherm(alpha, beta)"
   ],
   "metadata": {
    "collapsed": false,
    "ExecuteTime": {
     "end_time": "2024-09-24T13:01:51.807706Z",
     "start_time": "2024-09-24T13:01:45.322352Z"
    }
   },
   "id": "e93601338f48a9f0",
   "execution_count": 5
  },
  {
   "cell_type": "code",
   "outputs": [
    {
     "data": {
      "text/plain": "<Figure size 640x480 with 1 Axes>",
      "image/png": "[encoded data removed]"
     },
     "metadata": {},
     "output_type": "display_data"
    }
   ],
   "source": [
    "plt.plot(data.kernel_a_array, data.defined_PSD, marker=\".\")\n",
    "plt.show()"
   ],
   "metadata": {
    "collapsed": false,
    "ExecuteTime": {
     "end_time": "2024-09-24T13:01:52.565994Z",
     "start_time": "2024-09-24T13:01:52.429998Z"
    }
   },
   "id": "599756517ffeeb78",
   "execution_count": 6
  },
  {
   "cell_type": "code",
   "outputs": [],
   "source": [
    "def calculate_isotherm_error(data):\n",
    "    return np.square(np.subtract(data.restored_isotherm, data.interpolated_isotherm)).sum(axis=0)\n",
    "\n",
    "def calculate_alpha_regularisation_error(data):\n",
    "    return np.sum(data.defined_PSD * np.log(data.defined_PSD))\n",
    "\n",
    "def calculate_beta_regularisation_error(data):\n",
    "    return np.sum(np.square(np.diff(data.defined_PSD)/data.kernel_a_array[:-1]))"
   ],
   "metadata": {
    "collapsed": false,
    "ExecuteTime": {
     "end_time": "2024-09-24T13:01:53.760590Z",
     "start_time": "2024-09-24T13:01:53.756588Z"
    }
   },
   "id": "2a3b48a269c3b957",
   "execution_count": 7
  },
  {
   "cell_type": "code",
   "outputs": [
    {
     "data": {
      "text/plain": "11449.409246906596"
     },
     "execution_count": 8,
     "metadata": {},
     "output_type": "execute_result"
    }
   ],
   "source": [
    "calculate_isotherm_error(data)"
   ],
   "metadata": {
    "collapsed": false,
    "ExecuteTime": {
     "end_time": "2024-09-24T13:01:54.650952Z",
     "start_time": "2024-09-24T13:01:54.644974Z"
    }
   },
   "id": "2151cf4495445b09",
   "execution_count": 8
  },
  {
   "cell_type": "code",
   "outputs": [
    {
     "data": {
      "text/plain": "125175.35430921921"
     },
     "execution_count": 9,
     "metadata": {},
     "output_type": "execute_result"
    }
   ],
   "source": [
    "calculate_alpha_regularisation_error(data)"
   ],
   "metadata": {
    "collapsed": false,
    "ExecuteTime": {
     "end_time": "2024-09-24T13:01:55.508694Z",
     "start_time": "2024-09-24T13:01:55.502691Z"
    }
   },
   "id": "8ad6a33a6b4bb13",
   "execution_count": 9
  },
  {
   "cell_type": "code",
   "outputs": [
    {
     "name": "stderr",
     "output_type": "stream",
     "text": [
      "C:\\Users\\ivano\\PycharmProjects\\isotherm\\inverse.py:17: RuntimeWarning: divide by zero encountered in log\n",
      "  adsorption)).sum(axis=0) + alpha * np.sum(pore_dist * np.log(pore_dist)) +\n",
      "C:\\Users\\ivano\\PycharmProjects\\isotherm\\inverse.py:17: RuntimeWarning: invalid value encountered in multiply\n",
      "  adsorption)).sum(axis=0) + alpha * np.sum(pore_dist * np.log(pore_dist)) +\n"
     ]
    }
   ],
   "source": [
    "beta_array = [0,0.001, 0.005, 0.01, 0.05, 0.1,  0.5, 1]\n",
    "isotherm_errors = []\n",
    "regularisation_errors = []\n",
    "for beta in beta_array:\n",
    "    data.process_isotherm(0, beta)\n",
    "    isotherm_errors.append(calculate_isotherm_error(data))\n",
    "    #regularisation_errors.append(calculate_alpha_regularisation_error(data))\n",
    "    regularisation_errors.append(calculate_beta_regularisation_error(data))"
   ],
   "metadata": {
    "collapsed": false,
    "ExecuteTime": {
     "end_time": "2024-09-24T13:31:25.882124Z",
     "start_time": "2024-09-24T13:30:34.732169Z"
    }
   },
   "id": "c0c96d6cad9d5c7",
   "execution_count": 14
  },
  {
   "cell_type": "code",
   "outputs": [
    {
     "data": {
      "text/plain": "<Figure size 640x480 with 1 Axes>",
      "image/png": "[encoded data removed]"
     },
     "metadata": {},
     "output_type": "display_data"
    }
   ],
   "source": [
    "plt.plot(isotherm_errors, regularisation_errors, marker=\".\")\n",
    "for i, txt in enumerate(beta_array):\n",
    "    plt.annotate(txt, (isotherm_errors[i], regularisation_errors[i]))"
   ],
   "metadata": {
    "collapsed": false,
    "ExecuteTime": {
     "end_time": "2024-09-24T13:32:01.439411Z",
     "start_time": "2024-09-24T13:32:01.164412Z"
    }
   },
   "id": "df4a56cac1f2dcbc",
   "execution_count": 15
  },
  {
   "cell_type": "code",
   "outputs": [],
   "source": [],
   "metadata": {
    "collapsed": false,
    "ExecuteTime": {
     "end_time": "2024-09-24T07:29:27.508574Z",
     "start_time": "2024-09-24T07:29:27.493556Z"
    }
   },
   "id": "770949be31cc6ae9",
   "execution_count": 23
  }
 ],
 "metadata": {
  "kernelspec": {
   "display_name": "Python 3",
   "language": "python",
   "name": "python3"
  },
  "language_info": {
   "codemirror_mode": {
    "name": "ipython",
    "version": 2
   },
   "file_extension": ".py",
   "mimetype": "text/x-python",
   "name": "python",
   "nbconvert_exporter": "python",
   "pygments_lexer": "ipython2",
   "version": "2.7.6"
  }
 },
 "nbformat": 4,
 "nbformat_minor": 5
}
