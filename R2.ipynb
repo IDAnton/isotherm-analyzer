{
 "cells": [
  {
   "cell_type": "code",
   "execution_count": 1,
   "metadata": {
    "collapsed": true,
    "pycharm": {
     "name": "#%%\n"
    },
    "ExecuteTime": {
     "end_time": "2024-07-26T06:34:55.533525Z",
     "start_time": "2024-07-26T06:34:54.748085Z"
    }
   },
   "outputs": [],
   "source": [
    "%matplotlib qt\n",
    "import numpy as np\n",
    "import matplotlib.pyplot as plt\n",
    "from inverse import fit_SLSQP"
   ]
  },
  {
   "cell_type": "code",
   "execution_count": 2,
   "outputs": [],
   "source": [
    "with open(\"data/datasets/report.npz\", 'rb') as f:\n",
    "    dataset = np.load(f)\n",
    "    isotherm_data = dataset[\"isotherm_data\"]\n",
    "    pore_distribution_data = dataset[\"pore_distribution_data\"]"
   ],
   "metadata": {
    "collapsed": false,
    "pycharm": {
     "name": "#%%\n"
    },
    "ExecuteTime": {
     "end_time": "2024-07-26T06:34:55.993343Z",
     "start_time": "2024-07-26T06:34:55.960320Z"
    }
   }
  },
  {
   "cell_type": "code",
   "execution_count": null,
   "outputs": [],
   "source": [
    "kernel = np.load(\"data/initial kernels/Kernel_Silica_Adsorption.npy\")[:, 77:367]\n",
    "pore_widths = np.load(\"data/initial kernels/Size_Kernel_Silica_Adsorption.npy\")\n",
    "pressures = np.load(\"data/initial kernels/Pressure_Silica.npy\")[77:367]\n",
    "i = 112\n",
    "res = fit_SLSQP(adsorption=isotherm_data[i], kernel=kernel, a_array=pore_widths, alpha=0)"
   ],
   "metadata": {
    "collapsed": false,
    "pycharm": {
     "name": "#%%\n"
    }
   }
  },
  {
   "cell_type": "code",
   "execution_count": null,
   "outputs": [],
   "source": [
    "plt.plot(pore_widths, res.x, marker='.', label=\"SLSQP\")\n",
    "plt.plot(pore_widths, pore_distribution_data[i] , marker='.', label=\"FILE\")\n",
    "plt.legend()\n",
    "plt.show()"
   ],
   "metadata": {
    "collapsed": false,
    "pycharm": {
     "name": "#%%\n"
    }
   }
  },
  {
   "cell_type": "code",
   "execution_count": null,
   "outputs": [],
   "source": [
    "isotherm_by_distribution = np.dot(kernel.T, res.x)\n",
    "plt.plot(pressures, isotherm_data[i], marker='.', label=\"original isotherm\")\n",
    "plt.plot(pressures, isotherm_by_distribution, marker='.', label=\"isotherm by distribution\")\n",
    "#plt.plot(pressures, np.dot(kernel.T, pore_distribution_data[i] *4000), marker='.', label=\"isotherm by FILE distribution\")\n",
    "plt.legend()\n",
    "plt.show()"
   ],
   "metadata": {
    "collapsed": false,
    "pycharm": {
     "name": "#%%\n"
    }
   }
  },
  {
   "cell_type": "code",
   "execution_count": null,
   "outputs": [],
   "source": [
    "np.sum(np.square(isotherm_by_distribution - isotherm_data[i]))"
   ],
   "metadata": {
    "collapsed": false,
    "pycharm": {
     "name": "#%%\n"
    }
   }
  },
  {
   "cell_type": "code",
   "execution_count": null,
   "outputs": [],
   "source": [
    "alpha_arr = [0, 5, 10, 20, 30, 40]\n",
    "err_res = []\n",
    "i = 0\n",
    "for alpha in alpha_arr:\n",
    "    err = 0\n",
    "    for isotherm in isotherm_data:\n",
    "        #distr = fit_SLSQP(adsorption=isotherm, kernel=kernel, a_array=pore_widths, alpha=alpha).x\n",
    "        isotherm_by_distribution = np.dot(kernel.T, pore_distribution_data[i])\n",
    "        err += np.sum(np.square(isotherm_by_distribution - isotherm))\n",
    "    err_res.append(err)"
   ],
   "metadata": {
    "collapsed": false,
    "pycharm": {
     "name": "#%%\n"
    }
   }
  },
  {
   "cell_type": "code",
   "execution_count": 22,
   "outputs": [],
   "source": [
    "plt.plot(alpha_arr, err_res, marker=\".\")\n",
    "plt.show()"
   ],
   "metadata": {
    "collapsed": false,
    "pycharm": {
     "name": "#%%\n"
    },
    "ExecuteTime": {
     "end_time": "2024-07-26T09:21:23.752027Z",
     "start_time": "2024-07-26T09:21:23.698027Z"
    }
   }
  },
  {
   "cell_type": "code",
   "execution_count": null,
   "outputs": [],
   "source": [],
   "metadata": {
    "collapsed": false,
    "pycharm": {
     "name": "#%%\n"
    }
   }
  }
 ],
 "metadata": {
  "kernelspec": {
   "display_name": "Python 3",
   "language": "python",
   "name": "python3"
  },
  "language_info": {
   "codemirror_mode": {
    "name": "ipython",
    "version": 2
   },
   "file_extension": ".py",
   "mimetype": "text/x-python",
   "name": "python",
   "nbconvert_exporter": "python",
   "pygments_lexer": "ipython2",
   "version": "2.7.6"
  }
 },
 "nbformat": 4,
 "nbformat_minor": 0
}