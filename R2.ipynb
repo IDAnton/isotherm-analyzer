{
 "cells": [
  {
   "cell_type": "code",
   "execution_count": null,
   "metadata": {
    "collapsed": true,
    "pycharm": {
     "name": "#%%\n"
    }
   },
   "outputs": [],
   "source": [
    "%matplotlib qt\n",
    "import numpy as np\n",
    "import matplotlib.pyplot as plt\n",
    "from inverse import fit_SLSQP"
   ]
  },
  {
   "cell_type": "code",
   "execution_count": null,
   "outputs": [],
   "source": [
    "with open(\"data/datasets/report.npz\", 'rb') as f:\n",
    "    dataset = np.load(f)\n",
    "    isotherm_data = dataset[\"isotherm_data\"]\n",
    "    pore_distribution_data = dataset[\"pore_distribution_data\"]"
   ],
   "metadata": {
    "collapsed": false,
    "pycharm": {
     "name": "#%%\n"
    }
   }
  },
  {
   "cell_type": "code",
   "execution_count": 174,
   "outputs": [],
   "source": [
    "kernel = np.load(\"data/initial kernels/Kernel_Silica_Adsorption.npy\")\n",
    "pore_widths = np.load(\"data/initial kernels/Size_Kernel_Silica_Adsorption.npy\")\n",
    "pressures = np.load(\"data/initial kernels/Pressure_Silica.npy\")\n",
    "i = 711\n",
    "res = fit_SLSQP(adsorption=isotherm_data[i], kernel=kernel, a_array=pore_widths, alpha=0)"
   ],
   "metadata": {
    "collapsed": false,
    "pycharm": {
     "name": "#%%\n"
    }
   }
  },
  {
   "cell_type": "code",
   "execution_count": 175,
   "outputs": [],
   "source": [
    "plt.plot(pore_widths, res.x, marker='.', label=\"SLSQP\")\n",
    "plt.plot(pore_widths, pore_distribution_data[i]/pore_widths *41000, marker='.', label=\"FILE\")\n",
    "plt.legend()\n",
    "plt.show()"
   ],
   "metadata": {
    "collapsed": false,
    "pycharm": {
     "name": "#%%\n"
    }
   }
  },
  {
   "cell_type": "code",
   "execution_count": 176,
   "outputs": [],
   "source": [
    "isotherm_by_distribution = np.dot(kernel.T, res.x)\n",
    "plt.plot(pressures, isotherm_data[i], marker='.', label=\"original isotherm\")\n",
    "plt.plot(pressures, isotherm_by_distribution, marker='.', label=\"isotherm by distribution\")\n",
    "plt.plot(pressures, np.dot(kernel.T, pore_distribution_data[i] *4000), marker='.', label=\"isotherm by FILE distribution\")\n",
    "plt.legend()\n",
    "plt.show()"
   ],
   "metadata": {
    "collapsed": false,
    "pycharm": {
     "name": "#%%\n"
    }
   }
  },
  {
   "cell_type": "code",
   "execution_count": null,
   "outputs": [],
   "source": [
    "np.sum(np.square(isotherm_by_distribution - isotherm_data[i]))"
   ],
   "metadata": {
    "collapsed": false,
    "pycharm": {
     "name": "#%%\n"
    }
   }
  },
  {
   "cell_type": "code",
   "execution_count": 122,
   "outputs": [
    {
     "name": "stderr",
     "output_type": "stream",
     "text": [
      "C:\\Users\\Admin\\Desktop\\iso\\isotherm-analyzer\\inverse.py:27: RuntimeWarning: divide by zero encountered in log\n",
      "  adsorption)).sum(axis=0) + alpha * np.sum(pore_dist * np.log(pore_dist)) #/ len(pore_dist) #+ beta * np.sum(\n",
      "C:\\Users\\Admin\\Desktop\\iso\\isotherm-analyzer\\inverse.py:27: RuntimeWarning: invalid value encountered in multiply\n",
      "  adsorption)).sum(axis=0) + alpha * np.sum(pore_dist * np.log(pore_dist)) #/ len(pore_dist) #+ beta * np.sum(\n"
     ]
    },
    {
     "name": "stdout",
     "output_type": "stream",
     "text": [
      "0\n",
      "1\n",
      "2\n",
      "3\n",
      "4\n",
      "5\n",
      "6\n",
      "7\n",
      "8\n",
      "9\n",
      "10\n",
      "11\n",
      "12\n",
      "13\n",
      "14\n",
      "15\n",
      "16\n",
      "17\n",
      "18\n",
      "19\n",
      "20\n",
      "21\n",
      "22\n",
      "23\n",
      "24\n",
      "25\n",
      "26\n",
      "27\n",
      "28\n",
      "29\n",
      "30\n",
      "31\n",
      "32\n",
      "33\n",
      "34\n",
      "35\n",
      "36\n",
      "37\n",
      "38\n",
      "39\n",
      "40\n",
      "41\n",
      "42\n",
      "43\n",
      "44\n",
      "45\n",
      "46\n",
      "47\n",
      "48\n",
      "49\n",
      "50\n",
      "51\n",
      "52\n",
      "53\n",
      "54\n",
      "55\n",
      "56\n",
      "57\n",
      "58\n",
      "59\n"
     ]
    }
   ],
   "source": [
    "alpha_arr = [0, 5, 10, 20, 30, 40]\n",
    "err_res = []\n",
    "i = 0\n",
    "for alpha in alpha_arr:\n",
    "    err = 0\n",
    "    for isotherm in isotherm_data[:10]:\n",
    "        distr = fit_SLSQP(adsorption=isotherm, kernel=kernel, a_array=pore_widths, alpha=alpha)\n",
    "        isotherm_by_distribution = np.dot(kernel.T, distr.x)\n",
    "        err += np.sum(np.square(isotherm_by_distribution - isotherm))\n",
    "        print(i)\n",
    "        i+=1\n",
    "    err_res.append(err)"
   ],
   "metadata": {
    "collapsed": false,
    "pycharm": {
     "name": "#%%\n"
    }
   }
  },
  {
   "cell_type": "code",
   "execution_count": 139,
   "outputs": [],
   "source": [
    "plt.plot(alpha_arr, err_res, marker=\".\")\n",
    "plt.show()"
   ],
   "metadata": {
    "collapsed": false,
    "pycharm": {
     "name": "#%%\n"
    }
   }
  },
  {
   "cell_type": "code",
   "execution_count": null,
   "outputs": [],
   "source": [],
   "metadata": {
    "collapsed": false,
    "pycharm": {
     "name": "#%%\n"
    }
   }
  }
 ],
 "metadata": {
  "kernelspec": {
   "display_name": "Python 3",
   "language": "python",
   "name": "python3"
  },
  "language_info": {
   "codemirror_mode": {
    "name": "ipython",
    "version": 2
   },
   "file_extension": ".py",
   "mimetype": "text/x-python",
   "name": "python",
   "nbconvert_exporter": "python",
   "pygments_lexer": "ipython2",
   "version": "2.7.6"
  }
 },
 "nbformat": 4,
 "nbformat_minor": 0
}