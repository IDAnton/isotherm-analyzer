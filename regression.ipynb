{
 "cells": [
  {
   "cell_type": "code",
   "execution_count": 2,
   "outputs": [],
   "source": [
    "import numpy as np\n",
    "import tensorflow.compat.v1 as tf\n",
    "import matplotlib.pyplot as plt\n",
    "import pandas as pd\n",
    "from tensorflow.keras import layers, Sequential, Input\n",
    "from sklearn.model_selection import train_test_split\n",
    "from generator import Generator\n",
    "from keras import metrics\n",
    "import importlib\n",
    "import keras.backend as K"
   ],
   "metadata": {
    "collapsed": false,
    "pycharm": {
     "name": "#%%\n"
    }
   }
  },
  {
   "cell_type": "code",
   "execution_count": 3,
   "outputs": [],
   "source": [
    "from datasetLoader import *"
   ],
   "metadata": {
    "collapsed": false,
    "pycharm": {
     "name": "#%%\n"
    }
   }
  },
  {
   "cell_type": "code",
   "execution_count": 4,
   "outputs": [],
   "source": [
    "def plot():\n",
    "    plt.legend()\n",
    "    plt.grid(True)\n",
    "    plt.show()\n",
    "\n",
    "\n",
    "def plot_loss(history):\n",
    "    plt.plot(history.history['loss'], label='loss', marker=\".\")\n",
    "    plt.plot(history.history['val_loss'], label='val_loss')\n",
    "    plt.xlabel('Epoch')\n",
    "    plt.ylabel('Error [MPG]')\n",
    "    plot()"
   ],
   "metadata": {
    "collapsed": false,
    "pycharm": {
     "name": "#%%\n"
    }
   }
  },
  {
   "cell_type": "code",
   "execution_count": 5,
   "outputs": [
    {
     "ename": "AttributeError",
     "evalue": "module 'keras.backend' has no attribute 'constant'",
     "output_type": "error",
     "traceback": [
      "\u001B[1;31m---------------------------------------------------------------------------\u001B[0m",
      "\u001B[1;31mAttributeError\u001B[0m                            Traceback (most recent call last)",
      "Cell \u001B[1;32mIn[5], line 3\u001B[0m\n\u001B[0;32m      1\u001B[0m \u001B[38;5;28;01mwith\u001B[39;00m \u001B[38;5;28mopen\u001B[39m(\u001B[38;5;124m\"\u001B[39m\u001B[38;5;124mdata/initial kernels/Kernel_Silica_Adsorption.npy\u001B[39m\u001B[38;5;124m\"\u001B[39m, \u001B[38;5;124m'\u001B[39m\u001B[38;5;124mrb\u001B[39m\u001B[38;5;124m'\u001B[39m) \u001B[38;5;28;01mas\u001B[39;00m f:\n\u001B[0;32m      2\u001B[0m     data_sorb \u001B[38;5;241m=\u001B[39m np\u001B[38;5;241m.\u001B[39mload(f)\n\u001B[1;32m----> 3\u001B[0m     data_sorb_tensor \u001B[38;5;241m=\u001B[39m \u001B[43mK\u001B[49m\u001B[38;5;241;43m.\u001B[39;49m\u001B[43mconstant\u001B[49m((data_sorb\u001B[38;5;241m.\u001B[39mT[\u001B[38;5;241m40\u001B[39m:])\u001B[38;5;241m.\u001B[39mT)\n\u001B[0;32m      5\u001B[0m \u001B[38;5;28;01mdef\u001B[39;00m \u001B[38;5;21mcustom_loss\u001B[39m(y_true, y_pred):\n\u001B[0;32m      6\u001B[0m     \u001B[38;5;66;03m#print(\"data_sorb_tensor.shape = \", data_sorb_tensor.shape, y_pred[:,:128].shape)\u001B[39;00m\n\u001B[0;32m      7\u001B[0m     isotherm_from_distribution \u001B[38;5;241m=\u001B[39m K\u001B[38;5;241m.\u001B[39mdot(y_pred[:,:\u001B[38;5;241m128\u001B[39m], data_sorb_tensor)\n",
      "\u001B[1;31mAttributeError\u001B[0m: module 'keras.backend' has no attribute 'constant'"
     ]
    }
   ],
   "source": [
    "with open(\"data/initial kernels/Kernel_Silica_Adsorption.npy\", 'rb') as f:\n",
    "    data_sorb = np.load(f)\n",
    "    data_sorb_tensor = K.constant((data_sorb.T[40:]).T)\n",
    "\n",
    "def custom_loss(y_true, y_pred):\n",
    "    #print(\"data_sorb_tensor.shape = \", data_sorb_tensor.shape, y_pred[:,:128].shape)\n",
    "    isotherm_from_distribution = K.dot(y_pred[:,:128], data_sorb_tensor)\n",
    "    #print(\"isotherm_from_distribution = \", isotherm_from_distribution.shape, y_pred[:,128:].shape)\n",
    "    return K.mean(K.square(y_pred[:,:128] - y_true[:,:128]) + \n",
    "                   0*K.mean(K.square(y_pred[:,128:] - isotherm_from_distribution)))\n",
    "\n",
    "#np.ediff1d(pore_widths, to_begin=pore_widths[0])    "
   ],
   "metadata": {
    "collapsed": false,
    "pycharm": {
     "name": "#%%\n"
    }
   }
  },
  {
   "cell_type": "code",
   "execution_count": 26,
   "outputs": [],
   "source": [
    "def create_model():\n",
    "    layer = []\n",
    "    layer.append(Input(shape=290))\n",
    "    layer.append(layers.Dense(290, activation='relu')(layer[-1]))\n",
    "    layer.append(layers.Dense(180, activation='relu')(layer[-1]))\n",
    "    layer.append(layers.Dense(128, activation='relu')(layer[-1]))\n",
    "    layer.append(layers.Dense(128, activation='relu')(layer[-1]))\n",
    "    layer.append(layers.Dense(128, activation='relu')(layer[-1]))\n",
    "    #layer.append(layers.Concatenate()([layer[-1], layer[0]]))\n",
    "    model = tf.keras.Model(inputs=layer[0], outputs=layer[-1])\n",
    "    #model.compile(loss=custom_loss, optimizer='Adam')\n",
    "    model.compile(loss='mean_squared_error', optimizer='Adam')\n",
    "    return model"
   ],
   "metadata": {
    "collapsed": false,
    "pycharm": {
     "name": "#%%\n"
    }
   }
  },
  {
   "cell_type": "code",
   "execution_count": 27,
   "outputs": [],
   "source": [
    "with open(\"data/datasets/reports_no_regularization.npz\", 'rb') as f:\n",
    "    dataset = np.load(f)\n",
    "    isotherm_data = dataset[\"isotherm_data\"]\n",
    "    pore_distribution_data = dataset[\"pore_distribution_data\"]"
   ],
   "metadata": {
    "collapsed": false,
    "pycharm": {
     "name": "#%%\n"
    }
   }
  },
  {
   "cell_type": "code",
   "execution_count": 28,
   "outputs": [],
   "source": [
    "x, y = load_dataset('data/datasets/report.npz')"
   ],
   "metadata": {
    "collapsed": false,
    "pycharm": {
     "name": "#%%\n"
    }
   }
  },
  {
   "cell_type": "code",
   "execution_count": 29,
   "outputs": [],
   "source": [
    "x_train, x_test, y_train, y_test = train_test_split(x, y, test_size=0.25)"
   ],
   "metadata": {
    "collapsed": false,
    "pycharm": {
     "name": "#%%\n"
    }
   }
  },
  {
   "cell_type": "code",
   "execution_count": 30,
   "outputs": [
    {
     "ename": "ValueError",
     "evalue": "Cannot convert '459' to a shape.",
     "output_type": "error",
     "traceback": [
      "\u001B[1;31m---------------------------------------------------------------------------\u001B[0m",
      "\u001B[1;31mValueError\u001B[0m                                Traceback (most recent call last)",
      "Cell \u001B[1;32mIn[30], line 1\u001B[0m\n\u001B[1;32m----> 1\u001B[0m model \u001B[38;5;241m=\u001B[39m \u001B[43mcreate_model\u001B[49m\u001B[43m(\u001B[49m\u001B[43m)\u001B[49m\n",
      "Cell \u001B[1;32mIn[26], line 3\u001B[0m, in \u001B[0;36mcreate_model\u001B[1;34m()\u001B[0m\n\u001B[0;32m      1\u001B[0m \u001B[38;5;28;01mdef\u001B[39;00m \u001B[38;5;21mcreate_model\u001B[39m():\n\u001B[0;32m      2\u001B[0m     layer \u001B[38;5;241m=\u001B[39m []\n\u001B[1;32m----> 3\u001B[0m     layer\u001B[38;5;241m.\u001B[39mappend(\u001B[43mInput\u001B[49m\u001B[43m(\u001B[49m\u001B[43mshape\u001B[49m\u001B[38;5;241;43m=\u001B[39;49m\u001B[38;5;241;43m459\u001B[39;49m\u001B[43m)\u001B[49m)\n\u001B[0;32m      4\u001B[0m     layer\u001B[38;5;241m.\u001B[39mappend(layers\u001B[38;5;241m.\u001B[39mDense(\u001B[38;5;241m290\u001B[39m, activation\u001B[38;5;241m=\u001B[39m\u001B[38;5;124m'\u001B[39m\u001B[38;5;124mrelu\u001B[39m\u001B[38;5;124m'\u001B[39m)(layer[\u001B[38;5;241m-\u001B[39m\u001B[38;5;241m1\u001B[39m]))\n\u001B[0;32m      5\u001B[0m     layer\u001B[38;5;241m.\u001B[39mappend(layers\u001B[38;5;241m.\u001B[39mDense(\u001B[38;5;241m180\u001B[39m, activation\u001B[38;5;241m=\u001B[39m\u001B[38;5;124m'\u001B[39m\u001B[38;5;124mrelu\u001B[39m\u001B[38;5;124m'\u001B[39m)(layer[\u001B[38;5;241m-\u001B[39m\u001B[38;5;241m1\u001B[39m]))\n",
      "File \u001B[1;32m~\\Desktop\\iso\\isotherm-analyzer\\venv\\Lib\\site-packages\\keras\\src\\layers\\core\\input_layer.py:148\u001B[0m, in \u001B[0;36mInput\u001B[1;34m(shape, batch_size, dtype, sparse, batch_shape, name, tensor, optional)\u001B[0m\n\u001B[0;32m     91\u001B[0m \u001B[38;5;129m@keras_export\u001B[39m([\u001B[38;5;124m\"\u001B[39m\u001B[38;5;124mkeras.layers.Input\u001B[39m\u001B[38;5;124m\"\u001B[39m, \u001B[38;5;124m\"\u001B[39m\u001B[38;5;124mkeras.Input\u001B[39m\u001B[38;5;124m\"\u001B[39m])\n\u001B[0;32m     92\u001B[0m \u001B[38;5;28;01mdef\u001B[39;00m \u001B[38;5;21mInput\u001B[39m(\n\u001B[0;32m     93\u001B[0m     shape\u001B[38;5;241m=\u001B[39m\u001B[38;5;28;01mNone\u001B[39;00m,\n\u001B[1;32m   (...)\u001B[0m\n\u001B[0;32m    100\u001B[0m     optional\u001B[38;5;241m=\u001B[39m\u001B[38;5;28;01mFalse\u001B[39;00m,\n\u001B[0;32m    101\u001B[0m ):\n\u001B[0;32m    102\u001B[0m \u001B[38;5;250m    \u001B[39m\u001B[38;5;124;03m\"\"\"Used to instantiate a Keras tensor.\u001B[39;00m\n\u001B[0;32m    103\u001B[0m \n\u001B[0;32m    104\u001B[0m \u001B[38;5;124;03m    A Keras tensor is a symbolic tensor-like object, which we augment with\u001B[39;00m\n\u001B[1;32m   (...)\u001B[0m\n\u001B[0;32m    146\u001B[0m \u001B[38;5;124;03m    ```\u001B[39;00m\n\u001B[0;32m    147\u001B[0m \u001B[38;5;124;03m    \"\"\"\u001B[39;00m\n\u001B[1;32m--> 148\u001B[0m     layer \u001B[38;5;241m=\u001B[39m \u001B[43mInputLayer\u001B[49m\u001B[43m(\u001B[49m\n\u001B[0;32m    149\u001B[0m \u001B[43m        \u001B[49m\u001B[43mshape\u001B[49m\u001B[38;5;241;43m=\u001B[39;49m\u001B[43mshape\u001B[49m\u001B[43m,\u001B[49m\n\u001B[0;32m    150\u001B[0m \u001B[43m        \u001B[49m\u001B[43mbatch_size\u001B[49m\u001B[38;5;241;43m=\u001B[39;49m\u001B[43mbatch_size\u001B[49m\u001B[43m,\u001B[49m\n\u001B[0;32m    151\u001B[0m \u001B[43m        \u001B[49m\u001B[43mdtype\u001B[49m\u001B[38;5;241;43m=\u001B[39;49m\u001B[43mdtype\u001B[49m\u001B[43m,\u001B[49m\n\u001B[0;32m    152\u001B[0m \u001B[43m        \u001B[49m\u001B[43msparse\u001B[49m\u001B[38;5;241;43m=\u001B[39;49m\u001B[43msparse\u001B[49m\u001B[43m,\u001B[49m\n\u001B[0;32m    153\u001B[0m \u001B[43m        \u001B[49m\u001B[43mbatch_shape\u001B[49m\u001B[38;5;241;43m=\u001B[39;49m\u001B[43mbatch_shape\u001B[49m\u001B[43m,\u001B[49m\n\u001B[0;32m    154\u001B[0m \u001B[43m        \u001B[49m\u001B[43mname\u001B[49m\u001B[38;5;241;43m=\u001B[39;49m\u001B[43mname\u001B[49m\u001B[43m,\u001B[49m\n\u001B[0;32m    155\u001B[0m \u001B[43m        \u001B[49m\u001B[43minput_tensor\u001B[49m\u001B[38;5;241;43m=\u001B[39;49m\u001B[43mtensor\u001B[49m\u001B[43m,\u001B[49m\n\u001B[0;32m    156\u001B[0m \u001B[43m        \u001B[49m\u001B[43moptional\u001B[49m\u001B[38;5;241;43m=\u001B[39;49m\u001B[43moptional\u001B[49m\u001B[43m,\u001B[49m\n\u001B[0;32m    157\u001B[0m \u001B[43m    \u001B[49m\u001B[43m)\u001B[49m\n\u001B[0;32m    158\u001B[0m     \u001B[38;5;28;01mreturn\u001B[39;00m layer\u001B[38;5;241m.\u001B[39moutput\n",
      "File \u001B[1;32m~\\Desktop\\iso\\isotherm-analyzer\\venv\\Lib\\site-packages\\keras\\src\\layers\\core\\input_layer.py:47\u001B[0m, in \u001B[0;36mInputLayer.__init__\u001B[1;34m(self, shape, batch_size, dtype, sparse, batch_shape, input_tensor, optional, name, **kwargs)\u001B[0m\n\u001B[0;32m     44\u001B[0m     \u001B[38;5;28;01mraise\u001B[39;00m \u001B[38;5;167;01mValueError\u001B[39;00m(\u001B[38;5;124m\"\u001B[39m\u001B[38;5;124mYou must pass a `shape` argument.\u001B[39m\u001B[38;5;124m\"\u001B[39m)\n\u001B[0;32m     46\u001B[0m \u001B[38;5;28;01mif\u001B[39;00m shape \u001B[38;5;129;01mis\u001B[39;00m \u001B[38;5;129;01mnot\u001B[39;00m \u001B[38;5;28;01mNone\u001B[39;00m:\n\u001B[1;32m---> 47\u001B[0m     shape \u001B[38;5;241m=\u001B[39m \u001B[43mbackend\u001B[49m\u001B[38;5;241;43m.\u001B[39;49m\u001B[43mstandardize_shape\u001B[49m\u001B[43m(\u001B[49m\u001B[43mshape\u001B[49m\u001B[43m)\u001B[49m\n\u001B[0;32m     48\u001B[0m     batch_shape \u001B[38;5;241m=\u001B[39m (batch_size,) \u001B[38;5;241m+\u001B[39m shape\n\u001B[0;32m     49\u001B[0m \u001B[38;5;28mself\u001B[39m\u001B[38;5;241m.\u001B[39mbatch_shape \u001B[38;5;241m=\u001B[39m \u001B[38;5;28mtuple\u001B[39m(batch_shape)\n",
      "File \u001B[1;32m~\\Desktop\\iso\\isotherm-analyzer\\venv\\Lib\\site-packages\\keras\\src\\backend\\common\\variables.py:530\u001B[0m, in \u001B[0;36mstandardize_shape\u001B[1;34m(shape)\u001B[0m\n\u001B[0;32m    528\u001B[0m     \u001B[38;5;28;01mraise\u001B[39;00m \u001B[38;5;167;01mValueError\u001B[39;00m(\u001B[38;5;124m\"\u001B[39m\u001B[38;5;124mUndefined shapes are not supported.\u001B[39m\u001B[38;5;124m\"\u001B[39m)\n\u001B[0;32m    529\u001B[0m \u001B[38;5;28;01mif\u001B[39;00m \u001B[38;5;129;01mnot\u001B[39;00m \u001B[38;5;28mhasattr\u001B[39m(shape, \u001B[38;5;124m\"\u001B[39m\u001B[38;5;124m__iter__\u001B[39m\u001B[38;5;124m\"\u001B[39m):\n\u001B[1;32m--> 530\u001B[0m     \u001B[38;5;28;01mraise\u001B[39;00m \u001B[38;5;167;01mValueError\u001B[39;00m(\u001B[38;5;124mf\u001B[39m\u001B[38;5;124m\"\u001B[39m\u001B[38;5;124mCannot convert \u001B[39m\u001B[38;5;124m'\u001B[39m\u001B[38;5;132;01m{\u001B[39;00mshape\u001B[38;5;132;01m}\u001B[39;00m\u001B[38;5;124m'\u001B[39m\u001B[38;5;124m to a shape.\u001B[39m\u001B[38;5;124m\"\u001B[39m)\n\u001B[0;32m    531\u001B[0m \u001B[38;5;28;01mif\u001B[39;00m config\u001B[38;5;241m.\u001B[39mbackend() \u001B[38;5;241m==\u001B[39m \u001B[38;5;124m\"\u001B[39m\u001B[38;5;124mtensorflow\u001B[39m\u001B[38;5;124m\"\u001B[39m:\n\u001B[0;32m    532\u001B[0m     \u001B[38;5;28;01mif\u001B[39;00m \u001B[38;5;28misinstance\u001B[39m(shape, tf\u001B[38;5;241m.\u001B[39mTensorShape):\n\u001B[0;32m    533\u001B[0m         \u001B[38;5;66;03m# `tf.TensorShape` may contain `Dimension` objects.\u001B[39;00m\n\u001B[0;32m    534\u001B[0m         \u001B[38;5;66;03m# We need to convert the items in it to either int or `None`\u001B[39;00m\n",
      "\u001B[1;31mValueError\u001B[0m: Cannot convert '459' to a shape."
     ]
    }
   ],
   "source": [
    "model = create_model()"
   ],
   "metadata": {
    "collapsed": false,
    "pycharm": {
     "name": "#%%\n"
    }
   }
  },
  {
   "cell_type": "code",
   "execution_count": null,
   "outputs": [],
   "source": [
    "# from keras import backend as K\n",
    "# K.set_value(model.optimizer.learning_rate, 0.0001)\n",
    "mcp_save = tf.keras.callbacks.ModelCheckpoint(filepath='data/models/reports.keras', save_best_only=True,\n",
    "                                              monitor='val_loss', mode='min', verbose=1, save_weights_only=False,\n",
    "                                              save_freq='epoch')\n",
    "\n",
    "reduce_lr_loss = tf.keras.callbacks.ReduceLROnPlateau(monitor='val_loss', factor=0.5,\n",
    "                                                      patience=10000, verbose=1, mode='auto')\n",
    "history = model.fit(np.array(x_train), np.array(y_train),\n",
    "                    epochs=200, batch_size=20, shuffle=True,\n",
    "                    validation_data=(np.array(x_train), np.array(y_train)), callbacks=[mcp_save, reduce_lr_loss])\n",
    "plot_loss(history)"
   ],
   "metadata": {
    "collapsed": false,
    "pycharm": {
     "name": "#%%\n"
    }
   }
  },
  {
   "cell_type": "code",
   "execution_count": null,
   "outputs": [],
   "source": [
    "# load model\n",
    "model = tf.keras.models.load_model('data/models/reports.keras', custom_objects={'abs': tf.math.abs, 'custom_loss': custom_loss})"
   ],
   "metadata": {
    "collapsed": false,
    "pycharm": {
     "name": "#%%\n"
    }
   }
  },
  {
   "cell_type": "code",
   "execution_count": null,
   "outputs": [],
   "source": [
    "# load model\n",
    "model = tf.keras.models.load_model('data/models/reports.keras', custom_objects={'abs': tf.math.abs, 'custom_loss': custom_loss})"
   ],
   "metadata": {
    "collapsed": false,
    "pycharm": {
     "name": "#%%\n"
    }
   }
  },
  {
   "cell_type": "code",
   "execution_count": null,
   "outputs": [],
   "source": [
    "prediction = model.evaluate(np.array(x_test), np.array(y_test))\n",
    "#prediction = model.predict(np.array(x_test))"
   ],
   "metadata": {
    "collapsed": false,
    "pycharm": {
     "name": "#%%\n"
    }
   }
  },
  {
   "cell_type": "code",
   "execution_count": null,
   "outputs": [],
   "source": [
    "prediction"
   ],
   "metadata": {
    "collapsed": false,
    "pycharm": {
     "name": "#%%\n"
    }
   }
  },
  {
   "cell_type": "code",
   "execution_count": null,
   "outputs": [],
   "source": [
    "# test on x_train\n",
    "def fetch_prediction(prediction):\n",
    "    return prediction[:128]\n",
    "\n",
    "pore_widths = np.load(\"data/initial kernels/Size_Kernel_Silica_Adsorption.npy\")\n",
    "pressures = np.load(\"data/initial kernels/Pressure_Silica.npy\")\n",
    "NX, NY = 3, 4\n",
    "figure, axis = plt.subplots(NX, NY)\n",
    "for i in range(NX):\n",
    "    for j in range(NY):\n",
    "        k = np.random.randint(0, len(x_test))\n",
    "        x_scale_factor = max(pore_widths) / len(x_test[k])\n",
    "        axis[i, j].plot(pore_widths / x_scale_factor, fetch_prediction(prediction[k]), marker=\".\", label=f\"Prediction\")\n",
    "        axis[i, j].plot(pore_widths / x_scale_factor, y_test[k], marker=\".\", label=\"Real distribution\")\n",
    "        axis[i, j].plot(pressures[77:367]*500, x_test[k], label=\"Isotherm\")\n",
    "        kernal = (data_sorb.T[40:])\n",
    "        axis[i, j].plot(pressures[40:]*500, np.dot(kernal, prediction[k][:128]), label=\"New Isotherm\")\n",
    "        axis[i, j].set_title(f\"№ {k}\")\n",
    "        axis[i, j].title.set_size(10)\n",
    "plt.subplots_adjust(hspace=0.6, right=0.95, left=0.05, bottom=0.05, top=0.95)\n",
    "plt.legend()\n",
    "plot()"
   ],
   "metadata": {
    "collapsed": false,
    "pycharm": {
     "name": "#%%\n"
    }
   }
  },
  {
   "cell_type": "code",
   "execution_count": null,
   "outputs": [],
   "source": [
    "# test with test Generator\n",
    "from tools import TestApp\n",
    "\n",
    "gen = Generator(path_s=\"data/initial kernels/Kernel_Silica_Adsorption.npy\",\n",
    "                path_d=\"data/initial kernels/Kernel_Silica_Desorption.npy\",\n",
    "                path_p_d=\"data/initial kernels/Pressure_Silica.npy\",\n",
    "                path_p_s=\"data/initial kernels/Pressure_Silica.npy\",\n",
    "                path_a=\"data/initial kernels/Size_Kernel_Silica_Adsorption.npy\"\n",
    "                )\n",
    "# gen = Generator(path_s=\"data/initial kernels/Kernel_Carbon_Adsorption.npy\",\n",
    "#                               path_d=\"data/initial kernels/Kernel_Carbon_Desorption.npy\",\n",
    "#                               path_p_d=\"data/initial kernels/Pressure_Carbon.npy\",\n",
    "#                               path_p_s=\"data/initial kernels/Pressure_Carbon.npy\",\n",
    "#                               path_a=\"data/initial kernels/Size_Kernel_Carbon_Adsorption.npy\"\n",
    "#                             )\n",
    "\n",
    "#TestApp.App(model, gen)"
   ],
   "metadata": {
    "collapsed": false,
    "pycharm": {
     "name": "#%%\n"
    }
   }
  },
  {
   "cell_type": "code",
   "execution_count": null,
   "outputs": [],
   "source": [
    "exp_file_list = [\"MCM-41\", \"SBA-15\", \"SBA-16\", \"MIL-101\", \"MIL-101_2\", \"DUT-49\", \"FDM-4\", \"PCN-333\", \"PCN-777\",\n",
    "                 \"MIL-100\"]\n",
    "\n",
    "p_exp_list = []\n",
    "n_s_exp_raw_list = []\n",
    "for exp_file_name in exp_file_list:\n",
    "    data = pd.read_csv(f\"data/real/{exp_file_name}.txt\", header=None)\n",
    "    # p_exp_list.append(data.iloc[:,1].to_numpy())\n",
    "    # n_s_exp_raw_list.append(data.iloc[:,3].to_numpy())\n",
    "    p_exp_list.append(data.iloc[:, 1].to_numpy())\n",
    "    n_s_exp_raw_list.append(data.iloc[:, 3].to_numpy())"
   ],
   "metadata": {
    "collapsed": false,
    "pycharm": {
     "name": "#%%\n"
    }
   }
  },
  {
   "cell_type": "code",
   "execution_count": null,
   "outputs": [],
   "source": [
    "j = 2\n",
    "plt.plot(p_exp_list[j], n_s_exp_raw_list[j], marker=\".\", label=exp_file_list[j])\n",
    "plot()"
   ],
   "metadata": {
    "collapsed": false,
    "pycharm": {
     "name": "#%%\n"
    }
   }
  },
  {
   "cell_type": "code",
   "execution_count": null,
   "outputs": [],
   "source": [
    "# интерполируем экспериментальную изотерму под давления кернала\n",
    "n_s_exp_list = []\n",
    "for i in range(len(p_exp_list)):\n",
    "    n_s_exp_list.append(np.interp(gen.pressures_s[77:367], p_exp_list[i], n_s_exp_raw_list[i]))"
   ],
   "metadata": {
    "collapsed": false,
    "pycharm": {
     "name": "#%%\n"
    }
   }
  },
  {
   "cell_type": "code",
   "execution_count": null,
   "outputs": [],
   "source": [
    "j = 2\n",
    "plt.plot(gen.pressures_s[77:367], n_s_exp_list[j], marker=\".\", label=exp_file_list[j])\n",
    "plot()"
   ],
   "metadata": {
    "collapsed": false,
    "pycharm": {
     "name": "#%%\n"
    }
   }
  },
  {
   "cell_type": "code",
   "execution_count": null,
   "outputs": [],
   "source": [
    "n_s_exp_for_net_list = [pre_process_isotherm(np.copy(n_s_exp), scale=False) for n_s_exp in n_s_exp_list]\n",
    "fit_exp_list = [model.predict(np.array([n_s_exp_for_net])).T for n_s_exp_for_net in n_s_exp_for_net_list]\n",
    "fit_exp_list = [fetch_prediction(i) for i in fit_exp_list]"
   ],
   "metadata": {
    "collapsed": false,
    "pycharm": {
     "name": "#%%\n"
    }
   }
  },
  {
   "cell_type": "code",
   "execution_count": null,
   "outputs": [],
   "source": [
    "NX, NY = 3, 4\n",
    "figure, axis = plt.subplots(NX, NY)\n",
    "k = 0\n",
    "for i in range(NX):\n",
    "    for j in range(NY):\n",
    "        x_scale_factor = max(gen.a_array) / max(p_exp_list[k])\n",
    "        y_scale_factor = max(fit_exp_list[k]) / max(n_s_exp_raw_list[k])\n",
    "        axis[i, j].plot(pore_widths, fit_exp_list[k], marker=\".\", label=f\"Distribution\")\n",
    "        axis[i, j].plot(p_exp_list[k] * x_scale_factor, n_s_exp_raw_list[k],\n",
    "                        label=f\"{exp_file_list[k]}\", marker=\".\")\n",
    "        \n",
    "        kernal = (data_sorb.T[40:])\n",
    "        axis[i, j].plot(gen.pressures_s[40:458]* x_scale_factor, np.dot(kernal, fit_exp_list[k]), label=\"Isotherm by distribution\")\n",
    "        \n",
    "        axis[i, j].set_title(f\"max at {round(gen.a_array[np.argmax(fit_exp_list[k])], 2)} nm\")\n",
    "        axis[i, j].title.set_size(12)\n",
    "        axis[i, j].legend(loc=\"upper right\")\n",
    "        axis[i, j].grid()\n",
    "        k += 1\n",
    "        if k >= len(fit_exp_list):\n",
    "            break\n",
    "plt.subplots_adjust(hspace=0.6, right=0.95, left=0.05, bottom=0.05, top=0.95)\n",
    "plot()"
   ],
   "metadata": {
    "collapsed": false,
    "pycharm": {
     "name": "#%%\n"
    }
   }
  },
  {
   "cell_type": "code",
   "execution_count": null,
   "outputs": [],
   "source": [
    "### Classic\n",
    "import inverse\n",
    "\n",
    "kernel = np.load(\"data/initial kernels/Kernel_Silica_Adsorption.npy\")\n",
    "\n",
    "### normalize on size\n",
    "# a_array = np.load(\"data/initial kernels/Size_Kernel_Silica_Adsorption.npy\")\n",
    "# for i in range(len(a_array)):\n",
    "#     kernel[i] /= a_array[i]\n",
    "#     kernel[i] /= a_array[i]\n",
    "###\n",
    "\n",
    "cut_kernel = []\n",
    "for i in range(len(kernel)):\n",
    "    cut_kernel.append(kernel[i][40:458])\n",
    "cut_kernel = np.array(cut_kernel)\n",
    "fit_classic_list = [inverse.fit_SLSQP(adsorption=n_s, kernel=cut_kernel, a_array=pore_widths) for n_s in n_s_exp_list]"
   ],
   "metadata": {
    "collapsed": false,
    "pycharm": {
     "name": "#%%\n"
    }
   }
  },
  {
   "cell_type": "code",
   "execution_count": null,
   "outputs": [],
   "source": [
    "from matplotlib import animation\n",
    "\n",
    "importlib.reload(inverse)\n",
    "\n",
    "\n",
    "def create_regularization_animation(file):\n",
    "    fig, ax = plt.subplots()\n",
    "    fig.set_size_inches(10, 5, True)\n",
    "    fit_classic = inverse.fit_SLSQP(adsorption=n_s_exp_list[2], kernel=cut_kernel, a_array=pore_widths, alpha=0)\n",
    "    line1, = ax.plot(pore_widths[:-30], fit_classic.x[:-30], marker=\".\", label=f\"a = {0}\")\n",
    "\n",
    "    y_scale_factor = max(fit_classic.x) / max(fit_exp_list[2])\n",
    "    #plt.plot(pore_widths, fit_exp_list[2] * y_scale_factor, marker=\".\", label=f\"Суррогатная модель\")\n",
    "\n",
    "    ax.set_ylabel(\"Объем пор, $см^3$/ нм * г\")\n",
    "    ax.set_xlabel(\"Размер пор, нм\")\n",
    "\n",
    "    L = plt.legend(loc=1)  # Define legend objects\n",
    "\n",
    "    def update(frame):\n",
    "        a = frame / 4 + 2\n",
    "        fit_classic = inverse.fit_SLSQP(adsorption=n_s_exp_list[2], kernel=cut_kernel, a_array=pore_widths, alpha=a)\n",
    "        line1.set_ydata(fit_classic.x[:-30])\n",
    "        L.get_texts()[0].set_text(\n",
    "            f\"Распределение пор по размерам, параметр регуляризации α = {round(a-2,1)}\")  # Update label each at frame\n",
    "        return line1,\n",
    "\n",
    "    ani = animation.FuncAnimation(fig=fig, func=update, frames=100, interval=100)\n",
    "    writervideo = animation.FFMpegWriter(fps=30)\n",
    "    ani.save(file, writer=writervideo, dpi=200)\n",
    "    plt.grid()\n",
    "    plt.show()\n",
    "create_regularization_animation(\"SBA-16_regularization.mp4\")\n",
    "def plot_regularization_graphs():\n",
    "    for a in [1, 5, 10, 50]:\n",
    "        fit_classic = inverse.fit_SLSQP(adsorption=n_s_exp_list[2], kernel=cut_kernel, a_array=pore_widths, alpha=a)\n",
    "        plt.plot(pore_widths, fit_classic.x, marker=\".\", label=f\"α = {a}\")\n",
    "    plt.ylabel(\"Объем пор, $см^3$/ нм * гр\")\n",
    "    plt.xlabel(\"Размер пор, нм\")\n",
    "    plot()\n",
    "#plot_regularization_graphs()"
   ],
   "metadata": {
    "collapsed": false,
    "pycharm": {
     "name": "#%%\n"
    }
   }
  },
  {
   "cell_type": "code",
   "execution_count": null,
   "outputs": [],
   "source": [
    "NX, NY = 3, 4\n",
    "figure, axis = plt.subplots(NX, NY)\n",
    "k = 0\n",
    "for i in range(NX):\n",
    "    for j in range(NY):\n",
    "        x_scale_factor = max(gen.a_array) / max(p_exp_list[k])\n",
    "        y_scale_factor = max(fit_classic_list[k].x) / max(n_s_exp_raw_list[k])\n",
    "        y_scale_factor_net = max(fit_classic_list[k].x) / max(fit_exp_list[k])\n",
    "\n",
    "        axis[i, j].plot(pore_widths, fit_exp_list[k] * y_scale_factor_net, marker=\".\", label=f\"net\")\n",
    "        axis[i, j].plot(pore_widths, fit_classic_list[k].x, marker=\".\", label=f\"classic\")\n",
    "        axis[i, j].plot(p_exp_list[k] * x_scale_factor, n_s_exp_raw_list[k] * y_scale_factor,\n",
    "                        label=f\"{exp_file_list[k]}\", marker=\".\")\n",
    "        axis[i, j].set_title(f\"max at {round(gen.a_array[np.argmax(fit_classic_list[k].x)], 2)} nm\")\n",
    "        axis[i, j].title.set_size(12)\n",
    "        axis[i, j].legend(loc=\"upper right\")\n",
    "        axis[i, j].grid()\n",
    "        k += 1\n",
    "        if k >= len(fit_exp_list):\n",
    "            break\n",
    "plt.subplots_adjust(hspace=0.6, right=0.95, left=0.05, bottom=0.05, top=0.95)\n",
    "plot()"
   ],
   "metadata": {
    "collapsed": false,
    "pycharm": {
     "name": "#%%\n"
    }
   }
  },
  {
   "cell_type": "code",
   "execution_count": 10,
   "outputs": [
    {
     "name": "stderr",
     "output_type": "stream",
     "text": [
      "C:\\Users\\ivano\\PycharmProjects\\isotherm\\inverse.py:27: RuntimeWarning: divide by zero encountered in log\n",
      "  adsorption)).sum(axis=0) + alpha * np.sum(pore_dist * np.log(pore_dist)) #/ len(pore_dist) #+ beta * np.sum(\n",
      "C:\\Users\\ivano\\PycharmProjects\\isotherm\\inverse.py:27: RuntimeWarning: invalid value encountered in multiply\n",
      "  adsorption)).sum(axis=0) + alpha * np.sum(pore_dist * np.log(pore_dist)) #/ len(pore_dist) #+ beta * np.sum(\n"
     ]
    }
   ],
   "source": [
    "### Classic\n",
    "import inverse\n",
    "\n",
    "kernel = np.load(\"data/initial kernels/Kernel_Silica_Adsorption.npy\")\n",
    "\n",
    "### normalize on size\n",
    "# a_array = np.load(\"data/initial kernels/Size_Kernel_Silica_Adsorption.npy\")\n",
    "# for i in range(len(a_array)):\n",
    "#     kernel[i] /= a_array[i]\n",
    "#     kernel[i] /= a_array[i]\n",
    "###\n",
    "\n",
    "cut_kernel = []\n",
    "for i in range(len(kernel)):\n",
    "    cut_kernel.append(kernel[i][40:458])\n",
    "cut_kernel = np.array(cut_kernel)\n",
    "fit_classic_list = [inverse.fit_SLSQP(adsorption=n_s, kernel=cut_kernel, a_array=pore_widths) for n_s in n_s_exp_list]"
   ],
   "metadata": {
    "collapsed": false,
    "ExecuteTime": {
     "end_time": "2024-06-18T13:40:22.307670Z",
     "start_time": "2024-06-18T13:39:59.907685Z"
    },
    "pycharm": {
     "name": "#%%\n"
    }
   },
   "id": "9949a77c1d2e89c0"
  },
  {
   "cell_type": "code",
   "outputs": [
    {
     "name": "stderr",
     "output_type": "stream",
     "text": [
      "C:\\Users\\ivano\\PycharmProjects\\isotherm\\inverse.py:27: RuntimeWarning: divide by zero encountered in log\n",
      "  adsorption)).sum(axis=0) + alpha * np.sum(pore_dist * np.log(pore_dist)) #/ len(pore_dist) #+ beta * np.sum(\n",
      "C:\\Users\\ivano\\PycharmProjects\\isotherm\\inverse.py:27: RuntimeWarning: invalid value encountered in multiply\n",
      "  adsorption)).sum(axis=0) + alpha * np.sum(pore_dist * np.log(pore_dist)) #/ len(pore_dist) #+ beta * np.sum(\n"
     ]
    }
   ],
   "source": [
    "from matplotlib import animation\n",
    "\n",
    "importlib.reload(inverse)\n",
    "\n",
    "\n",
    "def create_regularization_animation(file):\n",
    "    fig, ax = plt.subplots()\n",
    "    fig.set_size_inches(10, 5, True)\n",
    "    fit_classic = inverse.fit_SLSQP(adsorption=n_s_exp_list[2], kernel=cut_kernel, a_array=pore_widths, alpha=0)\n",
    "    line1, = ax.plot(pore_widths[:-30], fit_classic.x[:-30], marker=\".\", label=f\"a = {0}\")\n",
    "\n",
    "    y_scale_factor = max(fit_classic.x) / max(fit_exp_list[2])\n",
    "    #plt.plot(pore_widths, fit_exp_list[2] * y_scale_factor, marker=\".\", label=f\"Суррогатная модель\")\n",
    "\n",
    "    ax.set_ylabel(\"Объем пор, $см^3$/ нм * г\")\n",
    "    ax.set_xlabel(\"Размер пор, нм\")\n",
    "\n",
    "    L = plt.legend(loc=1)  # Define legend objects\n",
    "\n",
    "    def update(frame):\n",
    "        a = frame / 4 + 2\n",
    "        fit_classic = inverse.fit_SLSQP(adsorption=n_s_exp_list[2], kernel=cut_kernel, a_array=pore_widths, alpha=a)\n",
    "        line1.set_ydata(fit_classic.x[:-30])\n",
    "        L.get_texts()[0].set_text(\n",
    "            f\"Распределение пор по размерам, параметр регуляризации α = {round(a-2,1)}\")  # Update label each at frame\n",
    "        return line1,\n",
    "\n",
    "    ani = animation.FuncAnimation(fig=fig, func=update, frames=100, interval=100)\n",
    "    writervideo = animation.FFMpegWriter(fps=30)\n",
    "    ani.save(file, writer=writervideo, dpi=200)\n",
    "    plt.grid()\n",
    "    plt.show()\n",
    "create_regularization_animation(\"SBA-16_regularization.mp4\")\n",
    "def plot_regularization_graphs():\n",
    "    for a in [1, 5, 10, 50]:\n",
    "        fit_classic = inverse.fit_SLSQP(adsorption=n_s_exp_list[2], kernel=cut_kernel, a_array=pore_widths, alpha=a)\n",
    "        plt.plot(pore_widths, fit_classic.x, marker=\".\", label=f\"α = {a}\")\n",
    "    plt.ylabel(\"Объем пор, $см^3$/ нм * гр\")\n",
    "    plt.xlabel(\"Размер пор, нм\")\n",
    "    plot()\n",
    "#plot_regularization_graphs()"
   ],
   "metadata": {
    "collapsed": false,
    "ExecuteTime": {
     "end_time": "2024-06-18T14:50:01.331621Z",
     "start_time": "2024-06-18T14:46:23.487577Z"
    },
    "pycharm": {
     "name": "#%%\n"
    }
   },
   "id": "ca3051b964f378a",
   "execution_count": 25
  },
  {
   "cell_type": "code",
   "execution_count": null,
   "outputs": [],
   "source": [
    "NX, NY = 3, 4\n",
    "figure, axis = plt.subplots(NX, NY)\n",
    "k = 0\n",
    "for i in range(NX):\n",
    "    for j in range(NY):\n",
    "        x_scale_factor = max(gen.a_array) / max(p_exp_list[k])\n",
    "        y_scale_factor = max(fit_classic_list[k].x) / max(n_s_exp_raw_list[k])\n",
    "        y_scale_factor_net = max(fit_classic_list[k].x) / max(fit_exp_list[k])\n",
    "\n",
    "        axis[i, j].plot(pore_widths, fit_exp_list[k] * y_scale_factor_net, marker=\".\", label=f\"net\")\n",
    "        axis[i, j].plot(pore_widths, fit_classic_list[k].x, marker=\".\", label=f\"classic\")\n",
    "        axis[i, j].plot(p_exp_list[k] * x_scale_factor, n_s_exp_raw_list[k] * y_scale_factor,\n",
    "                        label=f\"{exp_file_list[k]}\", marker=\".\")\n",
    "        axis[i, j].set_title(f\"max at {round(gen.a_array[np.argmax(fit_classic_list[k].x)], 2)} nm\")\n",
    "        axis[i, j].title.set_size(12)\n",
    "        axis[i, j].legend(loc=\"upper right\")\n",
    "        axis[i, j].grid()\n",
    "        k += 1\n",
    "        if k >= len(fit_exp_list):\n",
    "            break\n",
    "plt.subplots_adjust(hspace=0.6, right=0.95, left=0.05, bottom=0.05, top=0.95)\n",
    "plot()"
   ],
   "metadata": {
    "collapsed": false,
    "pycharm": {
     "name": "#%%\n"
    }
   },
   "id": "707d030f7db4a23"
  },
  {
   "cell_type": "code",
   "execution_count": null,
   "outputs": [],
   "source": [
    "# compare net, classic, quantachrome distributions\n",
    "NX, NY = 3, 4\n",
    "figure, axis = plt.subplots(NX, NY)\n",
    "k = 0\n",
    "\n",
    "\n",
    "def calculate_isotherm_by_distribution(generator: Generator, a_array, distribution):\n",
    "    generator.a_array = a_array\n",
    "    generator.pore_distribution = distribution\n",
    "    generator.calculate_isotherms()\n",
    "    return generator.n_s\n",
    "\n",
    "\n",
    "#/np.ediff1d(pore_widths, to_begin=pore_widths[0])\n",
    "for i in range(NX):\n",
    "    for j in range(NY):\n",
    "        quantachrome_pore_size = \\\n",
    "            np.genfromtxt(f\"data/real/quantachrome/silica/distribution/{exp_file_list[k]}.csv\", delimiter=\",\")[1:].T[\n",
    "                0] / 10 * 2  # /10 - перевод в НМ * 2 - в QH размер - Half pore width.\n",
    "        quantachrome_dV = \\\n",
    "            np.genfromtxt(f\"data/real/quantachrome/silica/distribution/{exp_file_list[k]}.csv\", delimiter=\",\")[1:].T[3]\n",
    "        # isotherm_formQC = calculate_isotherm_by_distribution(gen, pore_widths, np.interp(pore_widths, quantachrome_pore_size, quantachrome_dV))\n",
    "        # y_scale_factor_QH = max(n_s_exp_raw_list[k]) / max(isotherm_formQC)\n",
    "        # quantachrome_dV *= y_scale_factor_QH\n",
    "\n",
    "        y_scale_factor_classic = max(quantachrome_dV) / max(fit_classic_list[k].x)\n",
    "        y_scale_factor_net = max(quantachrome_dV) / max(fit_exp_list[k])\n",
    "\n",
    "        axis[i, j].plot(pore_widths, fit_exp_list[k] * y_scale_factor_net, marker=\".\", label=f\"net\")\n",
    "        axis[i, j].plot(pore_widths, fit_classic_list[k].x * y_scale_factor_classic, marker=\".\", label=f\"classic\")\n",
    "        axis[i, j].plot(quantachrome_pore_size, quantachrome_dV, marker=\".\", label=f\"quantachrome\")\n",
    "        axis[i, j].set_title(f\"{exp_file_list[k]}\")\n",
    "        axis[i, j].title.set_size(12)\n",
    "        axis[i, j].legend(loc=\"upper right\")\n",
    "        axis[i, j].grid()\n",
    "        k += 1\n",
    "        if k >= len(fit_exp_list):\n",
    "            break\n",
    "plt.subplots_adjust(hspace=0.6, right=0.95, left=0.05, bottom=0.05, top=0.95)\n",
    "plot()"
   ],
   "metadata": {
    "collapsed": false,
    "pycharm": {
     "name": "#%%\n"
    }
   },
   "id": "8e0b9fbf987405b3"
  },
  {
   "cell_type": "code",
   "outputs": [],
   "source": [
    "# plots for presentation\n",
    "import matplotlib.pyplot as plt\n",
    "from importlib import reload\n",
    "\n",
    "plt = reload(plt)\n",
    "\n",
    "k = 0\n",
    "\n",
    "quantachrome_pore_size = \\\n",
    "    np.genfromtxt(f\"data/real/quantachrome/silica/distribution/{exp_file_list[k]}.csv\", delimiter=\",\")[1:].T[\n",
    "        0] / 10 * 2  # /10 - перевод в НМ * 2 - в QH размер - Half pore width.\n",
    "quantachrome_dV = \\\n",
    "    np.genfromtxt(f\"data/real/quantachrome/silica/distribution/{exp_file_list[k]}.csv\", delimiter=\",\")[1:].T[3]\n",
    "# isotherm_formQC = calculate_isotherm_by_distribution(gen, pore_widths, np.interp(pore_widths, quantachrome_pore_size, quantachrome_dV))\n",
    "# y_scale_factor_QH = max(n_s_exp_raw_list[k]) / max(isotherm_formQC)\n",
    "# quantachrome_dV *= y_scale_factor_QH\n",
    "\n",
    "y_scale_factor_classic = max(quantachrome_dV) / max(fit_classic_list[k].x)\n",
    "y_scale_factor_net = max(quantachrome_dV) / max(fit_exp_list[k])\n",
    "\n",
    "plt.plot(pore_widths, fit_exp_list[k] * y_scale_factor_net, marker=\".\", label=f\"Суррогатная модель\")\n",
    "plt.plot(pore_widths, fit_classic_list[k].x * y_scale_factor_classic, marker=\".\", label=f\"Математическое решение\")\n",
    "#plt.plot(quantachrome_pore_size, quantachrome_dV, marker=\".\", label=f\"Математическое решение QH\") \n",
    "plt.legend(loc=\"upper right\")\n",
    "plt.grid()\n",
    "plt.title(f\"{exp_file_list[k]}\")\n",
    "\n",
    "# plt.xscale('log')\n",
    "plt.subplots_adjust(left=0.15,\n",
    "                    bottom=0.133,\n",
    "                    right=0.979,\n",
    "                    top=0.917,\n",
    "                    wspace=0.4,\n",
    "                    hspace=0.4)\n",
    "plt.legend()\n",
    "plt.grid(True)\n",
    "plt.ylabel(\"Объем пор, $см^3$/ нм * гр\")\n",
    "plt.xlabel(\"Размер пор, нм\")\n",
    "plt.show()\n"
   ],
   "metadata": {
    "collapsed": false,
    "pycharm": {
     "name": "#%%\n"
    }
   },
   "id": "c5e26ea811ae701c",
   "execution_count": null
  },
  {
   "cell_type": "code",
   "outputs": [],
   "source": [
    "# plots for presentation 2\n",
    "k = 3\n",
    "plt.plot(p_exp_list[k], n_s_exp_raw_list[k], marker=\".\", color='b', label=f\"{exp_file_list[k]}\")\n",
    "k = 9\n",
    "plt.plot(p_exp_list[k], n_s_exp_raw_list[k], marker=\".\", color='r', label=f\"{exp_file_list[k]}\")\n",
    "plt.legend(loc=\"upper right\")\n",
    "plt.grid()\n",
    "plt.title(f\"Изотермы адсорбции\")\n",
    "\n",
    "# plt.xscale('log')\n",
    "plt.subplots_adjust(left=0.15,\n",
    "                    bottom=0.133,\n",
    "                    right=0.979,\n",
    "                    top=0.917,\n",
    "                    wspace=0.4,\n",
    "                    hspace=0.4)\n",
    "plt.legend()\n",
    "plt.grid(True)\n",
    "plt.ylabel(\"Адсорбция, $см^3$/г\")\n",
    "plt.xlabel(\"Давление, $P/P_{0}$\")\n",
    "plt.show()\n"
   ],
   "metadata": {
    "collapsed": false,
    "pycharm": {
     "name": "#%%\n"
    }
   },
   "id": "be93198745d6bc2d",
   "execution_count": null
  },
  {
   "cell_type": "code",
   "outputs": [],
   "source": [
    "# plots for presentation 3\n",
    "\n",
    "fig, ax1 = plt.subplots(figsize=(6, 7))\n",
    "ax1.set_xlabel(\"Размер пор, нм\")\n",
    "ax1.set_ylabel(\"Объем пор, $см^3$/ нм * гр\")\n",
    "k = 0\n",
    "plt.title(f\"{exp_file_list[k]}\")\n",
    "quantachrome_pore_size = \\\n",
    "    np.genfromtxt(f\"data/real/quantachrome/silica/distribution/{exp_file_list[k]}.csv\", delimiter=\",\")[1:].T[\n",
    "        0] / 10 * 2  # /10 - перевод в НМ * 2 - в QH размер - Half pore width.\n",
    "quantachrome_dV = \\\n",
    "    np.genfromtxt(f\"data/real/quantachrome/silica/distribution/{exp_file_list[k]}.csv\", delimiter=\",\")[1:].T[3]\n",
    "# isotherm_formQC = calculate_isotherm_by_distribution(gen, pore_widths, np.interp(pore_widths, quantachrome_pore_size, quantachrome_dV))\n",
    "# y_scale_factor_QH = max(n_s_exp_raw_list[k]) / max(isotherm_formQC)\n",
    "# quantachrome_dV *= y_scale_factor_QH\n",
    "\n",
    "y_scale_factor_classic = max(quantachrome_dV) / max(fit_classic_list[k].x)\n",
    "y_scale_factor_net = max(quantachrome_dV) / max(fit_exp_list[k])\n",
    "\n",
    "ax1.plot(pore_widths[0:100], (fit_exp_list[k] * y_scale_factor_net)[0:100], marker=\".\", label=f\"Суррогатная модель\")\n",
    "ax1.plot(pore_widths[0:100], (fit_classic_list[k].x * y_scale_factor_classic)[0:100], marker=\".\",\n",
    "         label=f\"Математическое решение\")\n",
    "# ax1.tick_params(axis='y')\n",
    "# plt.legend(loc=\"right\")\n",
    "\n",
    "\n",
    "ax2 = ax1.twinx()\n",
    "ax3 = ax2.twiny()  # instantiate a second axes that shares the same x-axis\n",
    "ax3.set_xlabel(\"Давление, $P/P_{0}$\")\n",
    "ax2.set_ylabel(\"Адсорбция, $см^3$/г\")  # we already handled the x-label with ax1\n",
    "ax3.plot(p_exp_list[k], n_s_exp_raw_list[k], color='g', label=f\"Изотерма адсорбции\")\n",
    "# plt.legend(loc=\"right\")\n",
    "# \n",
    "# ax2.tick_params(axis='y')\n",
    "# plt.subplots_adjust(left=0.15,\n",
    "#                     bottom=0.133, \n",
    "#                     right=0.979, \n",
    "#                     top=0.917, \n",
    "#                     wspace=0.4, \n",
    "#                     hspace=0.4)\n",
    "\n",
    "fig.tight_layout()\n",
    "plt.show()"
   ],
   "metadata": {
    "collapsed": false,
    "pycharm": {
     "name": "#%%\n"
    }
   },
   "id": "2d0a60b839334253",
   "execution_count": null
  },
  {
   "cell_type": "code",
   "outputs": [],
   "source": [
    "# Compare isotherms\n",
    "NX, NY = 2, 3\n",
    "figure, axis = plt.subplots(NX, NY)\n",
    "k = 0\n",
    "\n",
    "for i in range(NX):\n",
    "    for j in range(NY):\n",
    "        net_isotherm = calculate_isotherm_by_distribution(gen, pore_widths, fit_exp_list[k].T[0])\n",
    "        classic_isotherm = calculate_isotherm_by_distribution(gen, pore_widths, fit_classic_list[k].x)\n",
    "        quantachrome_data = np.genfromtxt(f\"data/real/quantachrome/silica/fitting/{exp_file_list[k]}.csv\",\n",
    "                                          delimiter=\",\")[1:].T\n",
    "        quantachrome_pore_size = \\\n",
    "            np.genfromtxt(f\"data/real/quantachrome/silica/distribution/{exp_file_list[k]}.csv\", delimiter=\",\")[1:].T[\n",
    "                0] / 10 * 2\n",
    "        quantachrome_dV = \\\n",
    "            np.genfromtxt(f\"data/real/quantachrome/silica/distribution/{exp_file_list[k]}.csv\", delimiter=\",\")[1:].T[3]\n",
    "        quantachrome_data2 = calculate_isotherm_by_distribution(gen, pore_widths,\n",
    "                                                                np.interp(pore_widths, quantachrome_pore_size,\n",
    "                                                                          quantachrome_dV))\n",
    "\n",
    "        y_scale_factor_net = max(net_isotherm) / max(n_s_exp_raw_list[k])\n",
    "        y_scale_factor_classic = max(classic_isotherm) / max(n_s_exp_raw_list[k])\n",
    "        y_scale_factor_quantachrome = max(quantachrome_data[1]) / max(n_s_exp_raw_list[k])\n",
    "        y_scale_factor_quantachrome2 = max(quantachrome_data2) / (\n",
    "            n_s_exp_raw_list[k][-1])  #max(quantachrome_data[1]) / max(n_s_exp_raw_list[k])\n",
    "        print(1 / y_scale_factor_quantachrome2)\n",
    "\n",
    "        axis[i, j].plot(p_exp_list[k], n_s_exp_raw_list[k], label=\"real\")\n",
    "        axis[i, j].plot(gen.pressures_s, classic_isotherm / y_scale_factor_classic, marker=\".\", label=f\"classic\")\n",
    "        axis[i, j].plot(gen.pressures_s, net_isotherm / y_scale_factor_net, label=\"net\")\n",
    "        # axis[i, j].plot(quantachrome_data[0], quantachrome_data[1]/y_scale_factor_quantachrome, label=\"quantachrome\")\n",
    "        # axis[i, j].plot(gen.pressures_s, quantachrome_data2/y_scale_factor_quantachrome2, label=\"quantachrome_from_kernal\")\n",
    "        axis[i, j].set_title(f\"{exp_file_list[k]}\")\n",
    "        axis[i, j].legend(loc=\"lower right\")\n",
    "        axis[i, j].grid()\n",
    "        k += 1\n",
    "        if k >= len(fit_exp_list):\n",
    "            break\n",
    "plt.subplots_adjust(hspace=0.6, right=0.95, left=0.05, bottom=0.05, top=0.95)\n",
    "plot()"
   ],
   "metadata": {
    "collapsed": false,
    "pycharm": {
     "name": "#%%\n"
    }
   },
   "id": "5e20fa504d7c45cc",
   "execution_count": null
  },
  {
   "cell_type": "code",
   "outputs": [],
   "source": [
    "#QUANTACHROME\n",
    "data = np.genfromtxt(\"data/real/quantachrome/silica/distribution/MIL-101.csv\", delimiter=\",\")[1:].T[0]"
   ],
   "metadata": {
    "collapsed": false,
    "pycharm": {
     "name": "#%%\n"
    }
   },
   "id": "a2947b6286fe73b7",
   "execution_count": null
  },
  {
   "cell_type": "code",
   "outputs": [],
   "source": [],
   "metadata": {
    "collapsed": false,
    "pycharm": {
     "name": "#%%\n"
    }
   },
   "id": "29ec7e76cb0598ac"
  }
 ],
 "metadata": {
  "kernelspec": {
   "display_name": "Python 3",
   "language": "python",
   "name": "python3"
  },
  "language_info": {
   "codemirror_mode": {
    "name": "ipython",
    "version": 2
   },
   "file_extension": ".py",
   "mimetype": "text/x-python",
   "name": "python",
   "nbconvert_exporter": "python",
   "pygments_lexer": "ipython2",
   "version": "2.7.6"
  }
 },
 "nbformat": 4,
 "nbformat_minor": 5
}