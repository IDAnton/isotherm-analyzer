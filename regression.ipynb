{
 "cells": [
  {
   "cell_type": "code",
   "source": [
    "import numpy as np\n",
    "import tensorflow as tf\n",
    "import matplotlib.pyplot as plt\n",
    "import pandas as pd\n",
    "from keras.layers import Dense,LSTM, Concatenate, Input, Conv1D, Flatten, Dropout, BatchNormalization, GlobalAveragePooling1D, MaxPooling1D, GlobalAveragePooling1D, UpSampling1D, concatenate, Conv1DTranspose, Cropping1D, UpSampling1D, ZeroPadding1D, Reshape\n",
    "from keras.models import Sequential,Model\n",
    "from sklearn.model_selection import train_test_split\n",
    "from generator import Generator\n",
    "from keras import metrics\n",
    "import importlib"
   ],
   "metadata": {
    "collapsed": false,
    "pycharm": {
     "name": "#%%\n"
    },
    "ExecuteTime": {
     "end_time": "2024-11-02T16:26:30.590139Z",
     "start_time": "2024-11-02T16:26:17.623324Z"
    }
   },
   "id": "f70dabf5c8e7e463",
   "outputs": [],
   "execution_count": 1
  },
  {
   "cell_type": "code",
   "source": [
    "from datasetLoader import *"
   ],
   "metadata": {
    "collapsed": false,
    "pycharm": {
     "name": "#%%\n"
    },
    "ExecuteTime": {
     "end_time": "2024-11-02T16:26:30.653011Z",
     "start_time": "2024-11-02T16:26:30.611137Z"
    }
   },
   "id": "8d981596359c20a5",
   "outputs": [],
   "execution_count": 2
  },
  {
   "cell_type": "code",
   "source": [
    "def plot():\n",
    "    plt.legend()\n",
    "    plt.grid(True)\n",
    "    plt.show()\n",
    "\n",
    "\n",
    "def plot_loss(history):\n",
    "    plt.plot(history.history['loss'], label='loss', marker=\".\")\n",
    "    plt.plot(history.history['val_loss'], label='val_loss')\n",
    "    plt.xlabel('Epoch')\n",
    "    plt.ylabel('Error [MPG]')\n",
    "    plot()"
   ],
   "metadata": {
    "collapsed": false,
    "pycharm": {
     "name": "#%%\n"
    },
    "ExecuteTime": {
     "end_time": "2024-11-02T16:26:30.702013Z",
     "start_time": "2024-11-02T16:26:30.678010Z"
    }
   },
   "id": "d8275c36c94a1d86",
   "outputs": [],
   "execution_count": 3
  },
  {
   "cell_type": "code",
   "source": [
    "with open(\"data/initial kernels/Kernel_Silica_Adsorption.npy\", 'rb') as f:\n",
    "    data_sorb = np.load(f)\n",
    "    data_sorb_tensor = tf.constant((data_sorb.T[87:]).T)\n",
    "    data_sorb_tensor = tf.cast(data_sorb_tensor, tf.float32)\n",
    "\n",
    "def custom_loss(y_true, y_pred):\n",
    "    pass\n",
    "    #print(\"data_sorb_tensor.shape = \", data_sorb_tensor.shape, y_pred[:,:128].shape)\n",
    "    isotherm_from_distribution = tf.tensordot(y_pred[:,:128], data_sorb_tensor, axes=1)\n",
    "    #print(\"isotherm_from_distribution = \", isotherm_from_distribution.shape, y_pred[:,128:].shape)\n",
    "    return 1*tf.reduce_sum(tf.square(y_pred[:,:128] - y_true[:,:128])) + 0.1*tf.reduce_sum(tf.square(y_pred[:,128:] - isotherm_from_distribution))\n",
    "\n",
    "# np.ediff1d(pore_widths, to_begin=pore_widths[0])"
   ],
   "metadata": {
    "collapsed": false,
    "pycharm": {
     "name": "#%%\n"
    },
    "ExecuteTime": {
     "end_time": "2024-11-02T19:36:34.220702Z",
     "start_time": "2024-11-02T19:36:34.163704Z"
    }
   },
   "id": "619b039f2d0a573a",
   "outputs": [],
   "execution_count": 127
  },
  {
   "cell_type": "code",
   "source": [
    "def create_model(x):\n",
    "    layer = []\n",
    "    layer.append(Input(shape=x[0].shape))\n",
    "    layer.append(Dense(200, activation='relu')(layer[-1]))\n",
    "    layer.append(Dense(200, activation='relu')(layer[-1]))\n",
    "    layer.append(Dense(200, activation='relu')(layer[-1]))\n",
    "    layer.append(Dense(200, activation='relu')(layer[-1]))\n",
    "    layer.append(Dense(128, activation='relu')(layer[-1]))\n",
    "    layer.append(Dense(128, activation='relu')(layer[-1]))\n",
    "    layer.append(Dense(128, activation='relu')(layer[-1]))\n",
    "    layer.append(Dense(128, activation='relu')(layer[-1]))\n",
    "    layer.append(Concatenate()([layer[-1], layer[0]]))\n",
    "    model = tf.keras.Model(inputs=layer[0], outputs=layer[-1])\n",
    "    model.compile(loss=custom_loss, optimizer='Adam')\n",
    "    #model.compile(loss='mean_squared_error', optimizer='Adam')\n",
    "    return model\n",
    "\n",
    "def create_model_LSTM(x):\n",
    "    model = Sequential()\n",
    "    model.add(LSTM(units=64, input_shape=(371, 1), return_sequences=False, activation = \"elu\"))\n",
    "    #model.add(LSTM(units=64, activation = \"elu\"))\n",
    "    model.add(Dense(units=128, activation='relu'))\n",
    "    model.compile(loss='mean_squared_error', optimizer='Adam')\n",
    "    return model\n",
    "\n",
    "def create_model_CNN(x):\n",
    "    inputs = Input(shape=(371, 1), name=\"Input\")\n",
    "    c1 = Conv1D(filters=8, kernel_size=3, activation='relu', padding='same', name=\"c1\")(inputs)\n",
    "    p1 = MaxPooling1D(pool_size=2, padding='same', name=\"p1\")(c1)\n",
    "\n",
    "    c2 = Conv1D(filters=16, kernel_size=3, activation='relu', padding='same', name=\"c2\")(p1)\n",
    "    p2 = MaxPooling1D(pool_size=2, padding='same', name=\"p2\")(c2)\n",
    "    \n",
    "    c3 = Conv1D(filters=32, kernel_size=3, activation='relu', padding='same', name=\"c3\")(p2)\n",
    "    p3 = MaxPooling1D(pool_size=2, padding='same', name=\"p3\")(c3)\n",
    "    \n",
    "    c4 = Conv1D(filters=64, kernel_size=3, activation='relu', padding='same', name=\"c4\")(p3)\n",
    "    p4 = MaxPooling1D(pool_size=2, padding='same', name=\"p4\")(c4)\n",
    "    \n",
    "    c5 = Conv1D(filters=128, kernel_size=3, activation='relu', padding='same', name=\"c5\")(p4)\n",
    "    p5 = MaxPooling1D(pool_size=2, padding='same', name=\"p5\")(c5)\n",
    "    \n",
    "    f1 = Flatten(name=\"f1\")(p5)\n",
    "    \n",
    "    d1 = Dense(128, activation='relu', name=\"d1\")(f1)\n",
    "    dp1 = Dropout(0.1)(d1)\n",
    "    d2 = Dense(128, activation='relu', name=\"d2\")(dp1)\n",
    "    dp2 = Dropout(0.1)(d2)\n",
    "    d3 = Dense(128, activation='relu', name=\"d3\")(dp2)\n",
    "    \n",
    "    input_for_loss = Reshape((371, ))(inputs)\n",
    "    outputs = Concatenate()([d3, input_for_loss])\n",
    "    \n",
    "    #outputs = d3\n",
    "    \n",
    "    model = Model(inputs=[inputs], outputs=[outputs], name=\"CNN\")\n",
    "    #model.compile(loss='mean_squared_error', optimizer='Adam')\n",
    "    model.compile(loss=custom_loss, optimizer='Adam')\n",
    "    return model"
   ],
   "metadata": {
    "collapsed": false,
    "pycharm": {
     "name": "#%%\n"
    },
    "ExecuteTime": {
     "end_time": "2024-11-02T19:36:36.683176Z",
     "start_time": "2024-11-02T19:36:36.637175Z"
    }
   },
   "id": "8016a917c590c98a",
   "outputs": [],
   "execution_count": 128
  },
  {
   "cell_type": "code",
   "source": [
    "# with open(\"data/datasets/reports_best_tyhanov.npz\", 'rb') as f:\n",
    "#     dataset = np.load(f)\n",
    "#     isotherm_data = dataset[\"isotherm_data\"]\n",
    "#     pore_distribution_data = dataset[\"pore_distribution_data\"]\n",
    "#     pore_widths = np.load(\"data/initial kernels/Size_Kernel_Silica_Adsorption.npy\")"
   ],
   "metadata": {
    "collapsed": false,
    "pycharm": {
     "name": "#%%\n"
    }
   },
   "id": "58dd8a7b2ff1a173",
   "outputs": [],
   "execution_count": null
  },
  {
   "cell_type": "code",
   "source": [
    "#x, y = load_dataset('data/datasets/reports_best_tyhanov.npz')\n",
    "x, y = load_dataset('data/datasets/silica_random.npz')"
   ],
   "metadata": {
    "collapsed": false,
    "pycharm": {
     "name": "#%%\n"
    },
    "ExecuteTime": {
     "end_time": "2024-11-02T19:05:44.820455Z",
     "start_time": "2024-11-02T19:05:32.112698Z"
    }
   },
   "id": "a0d9a25ca1cb5c4b",
   "outputs": [],
   "execution_count": 107
  },
  {
   "cell_type": "code",
   "source": [
    "x_train, x_test, y_train, y_test = train_test_split(x, y, test_size=0.15, random_state=1)"
   ],
   "metadata": {
    "collapsed": false,
    "pycharm": {
     "name": "#%%\n"
    },
    "ExecuteTime": {
     "end_time": "2024-11-02T19:05:45.127452Z",
     "start_time": "2024-11-02T19:05:44.878455Z"
    }
   },
   "id": "fffa14b27b9fcdc7",
   "outputs": [],
   "execution_count": 108
  },
  {
   "cell_type": "code",
   "source": [
    "with open(f'data/datasets/tyhanov_test.npz', \"wb\") as f:\n",
    "    np.savez_compressed(f, x_train=x_train, y_train=y_train, x_test=x_test, y_test=y_test)"
   ],
   "metadata": {
    "collapsed": false,
    "pycharm": {
     "name": "#%%\n"
    },
    "ExecuteTime": {
     "end_time": "2024-11-02T16:19:11.302378Z",
     "start_time": "2024-11-02T16:19:10.873075Z"
    }
   },
   "id": "6a25848952e39fe",
   "outputs": [],
   "execution_count": 68
  },
  {
   "cell_type": "code",
   "source": [
    "model = create_model_CNN(x)"
   ],
   "metadata": {
    "collapsed": false,
    "pycharm": {
     "name": "#%%\n"
    },
    "ExecuteTime": {
     "end_time": "2024-11-02T19:36:43.148296Z",
     "start_time": "2024-11-02T19:36:40.862165Z"
    }
   },
   "id": "a098bec7cbb731de",
   "outputs": [],
   "execution_count": 129
  },
  {
   "cell_type": "code",
   "outputs": [
    {
     "name": "stdout",
     "output_type": "stream",
     "text": [
      "Model: \"CNN\"\n",
      "__________________________________________________________________________________________________\n",
      " Layer (type)                   Output Shape         Param #     Connected to                     \n",
      "==================================================================================================\n",
      " Input (InputLayer)             [(None, 371, 1)]     0           []                               \n",
      "                                                                                                  \n",
      " c1 (Conv1D)                    (None, 371, 8)       32          ['Input[0][0]']                  \n",
      "                                                                                                  \n",
      " p1 (MaxPooling1D)              (None, 186, 8)       0           ['c1[0][0]']                     \n",
      "                                                                                                  \n",
      " c2 (Conv1D)                    (None, 186, 16)      400         ['p1[0][0]']                     \n",
      "                                                                                                  \n",
      " p2 (MaxPooling1D)              (None, 93, 16)       0           ['c2[0][0]']                     \n",
      "                                                                                                  \n",
      " c3 (Conv1D)                    (None, 93, 32)       1568        ['p2[0][0]']                     \n",
      "                                                                                                  \n",
      " p3 (MaxPooling1D)              (None, 47, 32)       0           ['c3[0][0]']                     \n",
      "                                                                                                  \n",
      " c4 (Conv1D)                    (None, 47, 64)       6208        ['p3[0][0]']                     \n",
      "                                                                                                  \n",
      " p4 (MaxPooling1D)              (None, 24, 64)       0           ['c4[0][0]']                     \n",
      "                                                                                                  \n",
      " c5 (Conv1D)                    (None, 24, 128)      24704       ['p4[0][0]']                     \n",
      "                                                                                                  \n",
      " p5 (MaxPooling1D)              (None, 12, 128)      0           ['c5[0][0]']                     \n",
      "                                                                                                  \n",
      " f1 (Flatten)                   (None, 1536)         0           ['p5[0][0]']                     \n",
      "                                                                                                  \n",
      " d1 (Dense)                     (None, 128)          196736      ['f1[0][0]']                     \n",
      "                                                                                                  \n",
      " dropout_19 (Dropout)           (None, 128)          0           ['d1[0][0]']                     \n",
      "                                                                                                  \n",
      " d2 (Dense)                     (None, 128)          16512       ['dropout_19[0][0]']             \n",
      "                                                                                                  \n",
      " dropout_20 (Dropout)           (None, 128)          0           ['d2[0][0]']                     \n",
      "                                                                                                  \n",
      " d3 (Dense)                     (None, 128)          16512       ['dropout_20[0][0]']             \n",
      "                                                                                                  \n",
      " reshape_1 (Reshape)            (None, 371)          0           ['Input[0][0]']                  \n",
      "                                                                                                  \n",
      " concatenate_1 (Concatenate)    (None, 499)          0           ['d3[0][0]',                     \n",
      "                                                                  'reshape_1[0][0]']              \n",
      "                                                                                                  \n",
      "==================================================================================================\n",
      "Total params: 262,672\n",
      "Trainable params: 262,672\n",
      "Non-trainable params: 0\n",
      "__________________________________________________________________________________________________\n"
     ]
    }
   ],
   "source": [
    "model.summary()"
   ],
   "metadata": {
    "collapsed": false,
    "ExecuteTime": {
     "end_time": "2024-11-02T19:08:40.648426Z",
     "start_time": "2024-11-02T19:08:40.394428Z"
    }
   },
   "id": "27693f59c91f17da",
   "execution_count": 116
  },
  {
   "cell_type": "code",
   "outputs": [
    {
     "name": "stdout",
     "output_type": "stream",
     "text": [
      "<keras.engine.input_layer.InputLayer object at 0x000001EDEA2BE4A0> False\n",
      "<keras.layers.convolutional.conv1d.Conv1D object at 0x000001EDEA2BCD00> False\n",
      "<keras.layers.pooling.max_pooling1d.MaxPooling1D object at 0x000001EDEA2BEFE0> False\n",
      "<keras.layers.convolutional.conv1d.Conv1D object at 0x000001EDE98D3F40> False\n",
      "<keras.layers.pooling.max_pooling1d.MaxPooling1D object at 0x000001EDE98D2440> False\n",
      "<keras.layers.convolutional.conv1d.Conv1D object at 0x000001EDE9638730> False\n",
      "<keras.layers.pooling.max_pooling1d.MaxPooling1D object at 0x000001EDE96385E0> False\n",
      "<keras.layers.convolutional.conv1d.Conv1D object at 0x000001EE00075BD0> False\n",
      "<keras.layers.pooling.max_pooling1d.MaxPooling1D object at 0x000001EDEA2BD480> False\n",
      "<keras.layers.convolutional.conv1d.Conv1D object at 0x000001EE29C75030> False\n",
      "<keras.layers.pooling.max_pooling1d.MaxPooling1D object at 0x000001EE29C747F0> False\n",
      "<keras.layers.reshaping.flatten.Flatten object at 0x000001EE29C75F00> True\n",
      "<keras.layers.core.dense.Dense object at 0x000001EDEA2BD450> True\n",
      "<keras.layers.regularization.dropout.Dropout object at 0x000001EE29D8A530> True\n",
      "<keras.layers.core.dense.Dense object at 0x000001EE29D8AA70> True\n",
      "<keras.layers.regularization.dropout.Dropout object at 0x000001EE29D89990> False\n",
      "<keras.layers.core.dense.Dense object at 0x000001EE29D8BDF0> False\n"
     ]
    }
   ],
   "source": [
    "for layer in model.layers:\n",
    "    layer.trainable = False\n",
    "for i in range(11, 15):\n",
    "    model.layers[i].trainable = True\n",
    "for layer in model.layers:\n",
    "    print(layer, layer.trainable)"
   ],
   "metadata": {
    "collapsed": false,
    "ExecuteTime": {
     "end_time": "2024-11-02T18:55:14.125382Z",
     "start_time": "2024-11-02T18:55:14.030386Z"
    }
   },
   "id": "8406040b54b028f9",
   "execution_count": 99
  },
  {
   "cell_type": "code",
   "source": [
    "# from keras import backend as K\n",
    "# K.set_value(model.optimizer.learning_rate, 0.001)\n",
    "mcp_save = tf.keras.callbacks.ModelCheckpoint(filepath='data/models/silica_CNN4_PINN.keras', save_best_only=True,\n",
    "                                              monitor='val_loss', mode='min', verbose=1, save_weights_only=False,\n",
    "                                              save_freq='epoch')\n",
    "\n",
    "reduce_lr_loss = tf.keras.callbacks.ReduceLROnPlateau(monitor='val_loss', factor=0.5,\n",
    "                                                      patience=50, verbose=1, mode='auto')\n",
    "history = model.fit(np.array(x_train), np.array(y_train),\n",
    "                    epochs=100, batch_size=512, shuffle=True,\n",
    "                    validation_data=(np.array(x_train), np.array(y_train)), callbacks=[reduce_lr_loss, mcp_save])\n",
    "plot_loss(history)"
   ],
   "metadata": {
    "collapsed": false,
    "pycharm": {
     "name": "#%%\n"
    },
    "ExecuteTime": {
     "end_time": "2024-11-02T19:49:34.327454Z",
     "start_time": "2024-11-02T19:36:52.755714Z"
    }
   },
   "id": "191dc523763f2938",
   "outputs": [
    {
     "name": "stdout",
     "output_type": "stream",
     "text": [
      "Epoch 1/100\n",
      "166/167 [============================>.] - ETA: 0s - loss: 468.7148\n",
      "Epoch 1: val_loss improved from inf to 135.08244, saving model to data/models\\silica_CNN4_PINN.keras\n",
      "167/167 [==============================] - 9s 43ms/step - loss: 468.6708 - val_loss: 135.0824 - lr: 0.0010\n",
      "Epoch 2/100\n",
      "166/167 [============================>.] - ETA: 0s - loss: 118.2439\n",
      "Epoch 2: val_loss improved from 135.08244 to 91.23414, saving model to data/models\\silica_CNN4_PINN.keras\n",
      "167/167 [==============================] - 7s 42ms/step - loss: 118.2329 - val_loss: 91.2341 - lr: 0.0010\n",
      "Epoch 3/100\n",
      "165/167 [============================>.] - ETA: 0s - loss: 86.3930\n",
      "Epoch 3: val_loss improved from 91.23414 to 75.05602, saving model to data/models\\silica_CNN4_PINN.keras\n",
      "167/167 [==============================] - 7s 43ms/step - loss: 86.4166 - val_loss: 75.0560 - lr: 0.0010\n",
      "Epoch 4/100\n",
      "167/167 [==============================] - ETA: 0s - loss: 70.9872\n",
      "Epoch 4: val_loss improved from 75.05602 to 60.35913, saving model to data/models\\silica_CNN4_PINN.keras\n",
      "167/167 [==============================] - 7s 39ms/step - loss: 70.9872 - val_loss: 60.3591 - lr: 0.0010\n",
      "Epoch 5/100\n",
      "167/167 [==============================] - ETA: 0s - loss: 61.7738\n",
      "Epoch 5: val_loss improved from 60.35913 to 44.34999, saving model to data/models\\silica_CNN4_PINN.keras\n",
      "167/167 [==============================] - 7s 40ms/step - loss: 61.7738 - val_loss: 44.3500 - lr: 0.0010\n",
      "Epoch 6/100\n",
      "167/167 [==============================] - ETA: 0s - loss: 54.3761\n",
      "Epoch 6: val_loss did not improve from 44.34999\n",
      "167/167 [==============================] - 7s 40ms/step - loss: 54.3761 - val_loss: 54.4371 - lr: 0.0010\n",
      "Epoch 7/100\n",
      "166/167 [============================>.] - ETA: 0s - loss: 51.4058\n",
      "Epoch 7: val_loss improved from 44.34999 to 36.26664, saving model to data/models\\silica_CNN4_PINN.keras\n",
      "167/167 [==============================] - 6s 39ms/step - loss: 51.4010 - val_loss: 36.2666 - lr: 0.0010\n",
      "Epoch 8/100\n",
      "165/167 [============================>.] - ETA: 0s - loss: 45.4664\n",
      "Epoch 8: val_loss did not improve from 36.26664\n",
      "167/167 [==============================] - 6s 39ms/step - loss: 45.4642 - val_loss: 56.9287 - lr: 0.0010\n",
      "Epoch 9/100\n",
      "166/167 [============================>.] - ETA: 0s - loss: 43.5794\n",
      "Epoch 9: val_loss improved from 36.26664 to 29.61961, saving model to data/models\\silica_CNN4_PINN.keras\n",
      "167/167 [==============================] - 7s 41ms/step - loss: 43.5754 - val_loss: 29.6196 - lr: 0.0010\n",
      "Epoch 10/100\n",
      "166/167 [============================>.] - ETA: 0s - loss: 40.0537\n",
      "Epoch 10: val_loss did not improve from 29.61961\n",
      "167/167 [==============================] - 7s 41ms/step - loss: 40.0500 - val_loss: 37.3977 - lr: 0.0010\n",
      "Epoch 11/100\n",
      "166/167 [============================>.] - ETA: 0s - loss: 38.1169\n",
      "Epoch 11: val_loss did not improve from 29.61961\n",
      "167/167 [==============================] - 7s 42ms/step - loss: 38.1134 - val_loss: 34.1634 - lr: 0.0010\n",
      "Epoch 12/100\n",
      "165/167 [============================>.] - ETA: 0s - loss: 36.6567\n",
      "Epoch 12: val_loss improved from 29.61961 to 25.27742, saving model to data/models\\silica_CNN4_PINN.keras\n",
      "167/167 [==============================] - 7s 39ms/step - loss: 36.6682 - val_loss: 25.2774 - lr: 0.0010\n",
      "Epoch 13/100\n",
      "165/167 [============================>.] - ETA: 0s - loss: 34.6913\n",
      "Epoch 13: val_loss improved from 25.27742 to 24.88059, saving model to data/models\\silica_CNN4_PINN.keras\n",
      "167/167 [==============================] - 7s 43ms/step - loss: 34.6705 - val_loss: 24.8806 - lr: 0.0010\n",
      "Epoch 14/100\n",
      "166/167 [============================>.] - ETA: 0s - loss: 33.4712\n",
      "Epoch 14: val_loss improved from 24.88059 to 22.77926, saving model to data/models\\silica_CNN4_PINN.keras\n",
      "167/167 [==============================] - 4s 26ms/step - loss: 33.4681 - val_loss: 22.7793 - lr: 0.0010\n",
      "Epoch 15/100\n",
      "167/167 [==============================] - ETA: 0s - loss: 32.2166\n",
      "Epoch 15: val_loss did not improve from 22.77926\n",
      "167/167 [==============================] - 4s 25ms/step - loss: 32.2166 - val_loss: 27.3293 - lr: 0.0010\n",
      "Epoch 16/100\n",
      "167/167 [==============================] - ETA: 0s - loss: 31.7679\n",
      "Epoch 16: val_loss did not improve from 22.77926\n",
      "167/167 [==============================] - 4s 26ms/step - loss: 31.7679 - val_loss: 22.9070 - lr: 0.0010\n",
      "Epoch 17/100\n",
      "165/167 [============================>.] - ETA: 0s - loss: 30.1951\n",
      "Epoch 17: val_loss improved from 22.77926 to 20.03057, saving model to data/models\\silica_CNN4_PINN.keras\n",
      "167/167 [==============================] - 4s 27ms/step - loss: 30.1975 - val_loss: 20.0306 - lr: 0.0010\n",
      "Epoch 18/100\n",
      "167/167 [==============================] - ETA: 0s - loss: 29.2876\n",
      "Epoch 18: val_loss did not improve from 20.03057\n",
      "167/167 [==============================] - 4s 26ms/step - loss: 29.2876 - val_loss: 20.6476 - lr: 0.0010\n",
      "Epoch 19/100\n",
      "167/167 [==============================] - ETA: 0s - loss: 29.0828\n",
      "Epoch 19: val_loss improved from 20.03057 to 19.01609, saving model to data/models\\silica_CNN4_PINN.keras\n",
      "167/167 [==============================] - 5s 27ms/step - loss: 29.0828 - val_loss: 19.0161 - lr: 0.0010\n",
      "Epoch 20/100\n",
      "166/167 [============================>.] - ETA: 0s - loss: 28.3433\n",
      "Epoch 20: val_loss did not improve from 19.01609\n",
      "167/167 [==============================] - 4s 25ms/step - loss: 28.3407 - val_loss: 20.5459 - lr: 0.0010\n",
      "Epoch 21/100\n",
      "166/167 [============================>.] - ETA: 0s - loss: 27.7105\n",
      "Epoch 21: val_loss improved from 19.01609 to 17.89629, saving model to data/models\\silica_CNN4_PINN.keras\n",
      "167/167 [==============================] - 4s 26ms/step - loss: 27.7079 - val_loss: 17.8963 - lr: 0.0010\n",
      "Epoch 22/100\n",
      "165/167 [============================>.] - ETA: 0s - loss: 26.9804\n",
      "Epoch 22: val_loss did not improve from 17.89629\n",
      "167/167 [==============================] - 4s 26ms/step - loss: 26.9771 - val_loss: 18.4865 - lr: 0.0010\n",
      "Epoch 23/100\n",
      "166/167 [============================>.] - ETA: 0s - loss: 26.4214\n",
      "Epoch 23: val_loss did not improve from 17.89629\n",
      "167/167 [==============================] - 4s 26ms/step - loss: 26.4190 - val_loss: 18.7982 - lr: 0.0010\n",
      "Epoch 24/100\n",
      "165/167 [============================>.] - ETA: 0s - loss: 26.1519\n",
      "Epoch 24: val_loss improved from 17.89629 to 17.51848, saving model to data/models\\silica_CNN4_PINN.keras\n",
      "167/167 [==============================] - 4s 26ms/step - loss: 26.1370 - val_loss: 17.5185 - lr: 0.0010\n",
      "Epoch 25/100\n",
      "167/167 [==============================] - ETA: 0s - loss: 25.8461\n",
      "Epoch 25: val_loss did not improve from 17.51848\n",
      "167/167 [==============================] - 4s 25ms/step - loss: 25.8461 - val_loss: 28.6626 - lr: 0.0010\n",
      "Epoch 26/100\n",
      "166/167 [============================>.] - ETA: 0s - loss: 25.8546\n",
      "Epoch 26: val_loss improved from 17.51848 to 16.49250, saving model to data/models\\silica_CNN4_PINN.keras\n",
      "167/167 [==============================] - 4s 26ms/step - loss: 25.8522 - val_loss: 16.4925 - lr: 0.0010\n",
      "Epoch 27/100\n",
      "165/167 [============================>.] - ETA: 0s - loss: 24.7274\n",
      "Epoch 27: val_loss did not improve from 16.49250\n",
      "167/167 [==============================] - 4s 25ms/step - loss: 24.7374 - val_loss: 23.0397 - lr: 0.0010\n",
      "Epoch 28/100\n",
      "166/167 [============================>.] - ETA: 0s - loss: 24.4384\n",
      "Epoch 28: val_loss improved from 16.49250 to 15.85662, saving model to data/models\\silica_CNN4_PINN.keras\n",
      "167/167 [==============================] - 4s 26ms/step - loss: 24.4362 - val_loss: 15.8566 - lr: 0.0010\n",
      "Epoch 29/100\n",
      "166/167 [============================>.] - ETA: 0s - loss: 23.8057\n",
      "Epoch 29: val_loss did not improve from 15.85662\n",
      "167/167 [==============================] - 4s 25ms/step - loss: 23.8034 - val_loss: 17.1368 - lr: 0.0010\n",
      "Epoch 30/100\n",
      "165/167 [============================>.] - ETA: 0s - loss: 23.6913\n",
      "Epoch 30: val_loss did not improve from 15.85662\n",
      "167/167 [==============================] - 4s 25ms/step - loss: 23.6876 - val_loss: 17.9977 - lr: 0.0010\n",
      "Epoch 31/100\n",
      "164/167 [============================>.] - ETA: 0s - loss: 23.2628\n",
      "Epoch 31: val_loss improved from 15.85662 to 15.27268, saving model to data/models\\silica_CNN4_PINN.keras\n",
      "167/167 [==============================] - 4s 26ms/step - loss: 23.2516 - val_loss: 15.2727 - lr: 0.0010\n",
      "Epoch 32/100\n",
      "165/167 [============================>.] - ETA: 0s - loss: 22.8222\n",
      "Epoch 32: val_loss improved from 15.27268 to 14.15732, saving model to data/models\\silica_CNN4_PINN.keras\n",
      "167/167 [==============================] - 4s 25ms/step - loss: 22.8317 - val_loss: 14.1573 - lr: 0.0010\n",
      "Epoch 33/100\n",
      "166/167 [============================>.] - ETA: 0s - loss: 22.7244\n",
      "Epoch 33: val_loss did not improve from 14.15732\n",
      "167/167 [==============================] - 4s 26ms/step - loss: 22.7223 - val_loss: 15.6221 - lr: 0.0010\n",
      "Epoch 34/100\n",
      "167/167 [==============================] - ETA: 0s - loss: 22.5634\n",
      "Epoch 34: val_loss did not improve from 14.15732\n",
      "167/167 [==============================] - 4s 26ms/step - loss: 22.5634 - val_loss: 17.4440 - lr: 0.0010\n",
      "Epoch 35/100\n",
      "166/167 [============================>.] - ETA: 0s - loss: 21.8901\n",
      "Epoch 35: val_loss did not improve from 14.15732\n",
      "167/167 [==============================] - 4s 26ms/step - loss: 21.8881 - val_loss: 14.8488 - lr: 0.0010\n",
      "Epoch 36/100\n",
      "164/167 [============================>.] - ETA: 0s - loss: 21.8882\n",
      "Epoch 36: val_loss did not improve from 14.15732\n",
      "167/167 [==============================] - 4s 25ms/step - loss: 21.8705 - val_loss: 16.1244 - lr: 0.0010\n",
      "Epoch 37/100\n",
      "167/167 [==============================] - ETA: 0s - loss: 21.4066\n",
      "Epoch 37: val_loss did not improve from 14.15732\n",
      "167/167 [==============================] - 4s 25ms/step - loss: 21.4066 - val_loss: 15.2313 - lr: 0.0010\n",
      "Epoch 38/100\n",
      "166/167 [============================>.] - ETA: 0s - loss: 21.5839\n",
      "Epoch 38: val_loss did not improve from 14.15732\n",
      "167/167 [==============================] - 4s 26ms/step - loss: 21.5819 - val_loss: 15.7379 - lr: 0.0010\n",
      "Epoch 39/100\n",
      "165/167 [============================>.] - ETA: 0s - loss: 21.1486\n",
      "Epoch 39: val_loss improved from 14.15732 to 13.83508, saving model to data/models\\silica_CNN4_PINN.keras\n",
      "167/167 [==============================] - 4s 25ms/step - loss: 21.1461 - val_loss: 13.8351 - lr: 0.0010\n",
      "Epoch 40/100\n",
      "165/167 [============================>.] - ETA: 0s - loss: 21.0244\n",
      "Epoch 40: val_loss did not improve from 13.83508\n",
      "167/167 [==============================] - 4s 26ms/step - loss: 21.0254 - val_loss: 15.8238 - lr: 0.0010\n",
      "Epoch 41/100\n",
      "164/167 [============================>.] - ETA: 0s - loss: 20.6643\n",
      "Epoch 41: val_loss did not improve from 13.83508\n",
      "167/167 [==============================] - 4s 26ms/step - loss: 20.6619 - val_loss: 14.2748 - lr: 0.0010\n",
      "Epoch 42/100\n",
      "166/167 [============================>.] - ETA: 0s - loss: 20.5297\n",
      "Epoch 42: val_loss did not improve from 13.83508\n",
      "167/167 [==============================] - 4s 26ms/step - loss: 20.5278 - val_loss: 14.2110 - lr: 0.0010\n",
      "Epoch 43/100\n",
      "165/167 [============================>.] - ETA: 0s - loss: 20.3615\n",
      "Epoch 43: val_loss did not improve from 13.83508\n",
      "167/167 [==============================] - 4s 26ms/step - loss: 20.3517 - val_loss: 13.9803 - lr: 0.0010\n",
      "Epoch 44/100\n",
      "165/167 [============================>.] - ETA: 0s - loss: 20.2935\n",
      "Epoch 44: val_loss did not improve from 13.83508\n",
      "167/167 [==============================] - 4s 26ms/step - loss: 20.2886 - val_loss: 28.6035 - lr: 0.0010\n",
      "Epoch 45/100\n",
      "167/167 [==============================] - ETA: 0s - loss: 22.5776\n",
      "Epoch 45: val_loss did not improve from 13.83508\n",
      "167/167 [==============================] - 4s 26ms/step - loss: 22.5776 - val_loss: 16.2285 - lr: 0.0010\n",
      "Epoch 46/100\n",
      "166/167 [============================>.] - ETA: 0s - loss: 21.2284\n",
      "Epoch 46: val_loss did not improve from 13.83508\n",
      "167/167 [==============================] - 4s 26ms/step - loss: 21.2264 - val_loss: 18.0045 - lr: 0.0010\n",
      "Epoch 47/100\n",
      "165/167 [============================>.] - ETA: 0s - loss: 20.3176\n",
      "Epoch 47: val_loss did not improve from 13.83508\n",
      "167/167 [==============================] - 4s 25ms/step - loss: 20.3201 - val_loss: 14.0130 - lr: 0.0010\n",
      "Epoch 48/100\n",
      "165/167 [============================>.] - ETA: 0s - loss: 20.0711\n",
      "Epoch 48: val_loss improved from 13.83508 to 13.79438, saving model to data/models\\silica_CNN4_PINN.keras\n",
      "167/167 [==============================] - 5s 28ms/step - loss: 20.0682 - val_loss: 13.7944 - lr: 0.0010\n",
      "Epoch 49/100\n",
      "167/167 [==============================] - ETA: 0s - loss: 19.6324\n",
      "Epoch 49: val_loss improved from 13.79438 to 12.48530, saving model to data/models\\silica_CNN4_PINN.keras\n",
      "167/167 [==============================] - 5s 27ms/step - loss: 19.6324 - val_loss: 12.4853 - lr: 0.0010\n",
      "Epoch 50/100\n",
      "166/167 [============================>.] - ETA: 0s - loss: 19.3233\n",
      "Epoch 50: val_loss did not improve from 12.48530\n",
      "167/167 [==============================] - 4s 26ms/step - loss: 19.3216 - val_loss: 15.3189 - lr: 0.0010\n",
      "Epoch 51/100\n",
      "165/167 [============================>.] - ETA: 0s - loss: 19.7925\n",
      "Epoch 51: val_loss did not improve from 12.48530\n",
      "167/167 [==============================] - 4s 26ms/step - loss: 19.7848 - val_loss: 17.5063 - lr: 0.0010\n",
      "Epoch 52/100\n",
      "165/167 [============================>.] - ETA: 0s - loss: 19.7063\n",
      "Epoch 52: val_loss did not improve from 12.48530\n",
      "167/167 [==============================] - 4s 26ms/step - loss: 19.7062 - val_loss: 13.8497 - lr: 0.0010\n",
      "Epoch 53/100\n",
      "165/167 [============================>.] - ETA: 0s - loss: 19.2034\n",
      "Epoch 53: val_loss did not improve from 12.48530\n",
      "167/167 [==============================] - 4s 26ms/step - loss: 19.2007 - val_loss: 19.9188 - lr: 0.0010\n",
      "Epoch 54/100\n",
      "166/167 [============================>.] - ETA: 0s - loss: 19.1835\n",
      "Epoch 54: val_loss did not improve from 12.48530\n",
      "167/167 [==============================] - 4s 26ms/step - loss: 19.1817 - val_loss: 15.3343 - lr: 0.0010\n",
      "Epoch 55/100\n",
      "166/167 [============================>.] - ETA: 0s - loss: 19.0919\n",
      "Epoch 55: val_loss did not improve from 12.48530\n",
      "167/167 [==============================] - 4s 26ms/step - loss: 19.0902 - val_loss: 19.1186 - lr: 0.0010\n",
      "Epoch 56/100\n",
      "167/167 [==============================] - ETA: 0s - loss: 19.0916\n",
      "Epoch 56: val_loss did not improve from 12.48530\n",
      "167/167 [==============================] - 4s 26ms/step - loss: 19.0916 - val_loss: 13.9367 - lr: 0.0010\n",
      "Epoch 57/100\n",
      "167/167 [==============================] - ETA: 0s - loss: 18.8009\n",
      "Epoch 57: val_loss did not improve from 12.48530\n",
      "167/167 [==============================] - 4s 25ms/step - loss: 18.8009 - val_loss: 13.5215 - lr: 0.0010\n",
      "Epoch 58/100\n",
      "166/167 [============================>.] - ETA: 0s - loss: 18.7683\n",
      "Epoch 58: val_loss did not improve from 12.48530\n",
      "167/167 [==============================] - 4s 26ms/step - loss: 18.7666 - val_loss: 17.6150 - lr: 0.0010\n",
      "Epoch 59/100\n",
      "166/167 [============================>.] - ETA: 0s - loss: 18.8978\n",
      "Epoch 59: val_loss did not improve from 12.48530\n",
      "167/167 [==============================] - 4s 26ms/step - loss: 18.8961 - val_loss: 12.6838 - lr: 0.0010\n",
      "Epoch 60/100\n",
      "165/167 [============================>.] - ETA: 0s - loss: 18.5850\n",
      "Epoch 60: val_loss did not improve from 12.48530\n",
      "167/167 [==============================] - 4s 26ms/step - loss: 18.5851 - val_loss: 12.6080 - lr: 0.0010\n",
      "Epoch 61/100\n",
      "164/167 [============================>.] - ETA: 0s - loss: 18.3267\n",
      "Epoch 61: val_loss did not improve from 12.48530\n",
      "167/167 [==============================] - 4s 25ms/step - loss: 18.3251 - val_loss: 14.2662 - lr: 0.0010\n",
      "Epoch 62/100\n",
      "166/167 [============================>.] - ETA: 0s - loss: 18.4076\n",
      "Epoch 62: val_loss did not improve from 12.48530\n",
      "167/167 [==============================] - 4s 25ms/step - loss: 18.4059 - val_loss: 13.9817 - lr: 0.0010\n",
      "Epoch 63/100\n",
      "165/167 [============================>.] - ETA: 0s - loss: 18.5068\n",
      "Epoch 63: val_loss did not improve from 12.48530\n",
      "167/167 [==============================] - 4s 26ms/step - loss: 18.4995 - val_loss: 15.2642 - lr: 0.0010\n",
      "Epoch 64/100\n",
      "165/167 [============================>.] - ETA: 0s - loss: 18.2034\n",
      "Epoch 64: val_loss improved from 12.48530 to 12.00809, saving model to data/models\\silica_CNN4_PINN.keras\n",
      "167/167 [==============================] - 4s 26ms/step - loss: 18.1957 - val_loss: 12.0081 - lr: 0.0010\n",
      "Epoch 65/100\n",
      "166/167 [============================>.] - ETA: 0s - loss: 18.3503\n",
      "Epoch 65: val_loss did not improve from 12.00809\n",
      "167/167 [==============================] - 4s 26ms/step - loss: 18.3486 - val_loss: 13.6879 - lr: 0.0010\n",
      "Epoch 66/100\n",
      "167/167 [==============================] - ETA: 0s - loss: 18.2816\n",
      "Epoch 66: val_loss did not improve from 12.00809\n",
      "167/167 [==============================] - 4s 26ms/step - loss: 18.2816 - val_loss: 12.2528 - lr: 0.0010\n",
      "Epoch 67/100\n",
      "167/167 [==============================] - ETA: 0s - loss: 17.9460\n",
      "Epoch 67: val_loss did not improve from 12.00809\n",
      "167/167 [==============================] - 4s 26ms/step - loss: 17.9460 - val_loss: 12.9846 - lr: 0.0010\n",
      "Epoch 68/100\n",
      "164/167 [============================>.] - ETA: 0s - loss: 17.9267\n",
      "Epoch 68: val_loss did not improve from 12.00809\n",
      "167/167 [==============================] - 4s 27ms/step - loss: 17.9188 - val_loss: 12.5155 - lr: 0.0010\n",
      "Epoch 69/100\n",
      "167/167 [==============================] - ETA: 0s - loss: 17.9618\n",
      "Epoch 69: val_loss did not improve from 12.00809\n",
      "167/167 [==============================] - 4s 25ms/step - loss: 17.9618 - val_loss: 13.9895 - lr: 0.0010\n",
      "Epoch 70/100\n",
      "165/167 [============================>.] - ETA: 0s - loss: 17.6476\n",
      "Epoch 70: val_loss did not improve from 12.00809\n",
      "167/167 [==============================] - 4s 26ms/step - loss: 17.6609 - val_loss: 19.8438 - lr: 0.0010\n",
      "Epoch 71/100\n",
      "167/167 [==============================] - ETA: 0s - loss: 18.2507\n",
      "Epoch 71: val_loss did not improve from 12.00809\n",
      "167/167 [==============================] - 4s 25ms/step - loss: 18.2507 - val_loss: 13.2614 - lr: 0.0010\n",
      "Epoch 72/100\n",
      "164/167 [============================>.] - ETA: 0s - loss: 17.5016\n",
      "Epoch 72: val_loss did not improve from 12.00809\n",
      "167/167 [==============================] - 4s 27ms/step - loss: 17.4976 - val_loss: 12.2112 - lr: 0.0010\n",
      "Epoch 73/100\n",
      "167/167 [==============================] - ETA: 0s - loss: 17.5174\n",
      "Epoch 73: val_loss did not improve from 12.00809\n",
      "167/167 [==============================] - 4s 26ms/step - loss: 17.5174 - val_loss: 16.5642 - lr: 0.0010\n",
      "Epoch 74/100\n",
      "166/167 [============================>.] - ETA: 0s - loss: 17.8039\n",
      "Epoch 74: val_loss improved from 12.00809 to 11.13489, saving model to data/models\\silica_CNN4_PINN.keras\n",
      "167/167 [==============================] - 4s 26ms/step - loss: 17.8022 - val_loss: 11.1349 - lr: 0.0010\n",
      "Epoch 75/100\n",
      "165/167 [============================>.] - ETA: 0s - loss: 17.3036\n",
      "Epoch 75: val_loss did not improve from 11.13489\n",
      "167/167 [==============================] - 4s 25ms/step - loss: 17.3000 - val_loss: 12.2330 - lr: 0.0010\n",
      "Epoch 76/100\n",
      "167/167 [==============================] - ETA: 0s - loss: 17.1938\n",
      "Epoch 76: val_loss did not improve from 11.13489\n",
      "167/167 [==============================] - 4s 26ms/step - loss: 17.1938 - val_loss: 11.8724 - lr: 0.0010\n",
      "Epoch 77/100\n",
      "166/167 [============================>.] - ETA: 0s - loss: 17.3180\n",
      "Epoch 77: val_loss did not improve from 11.13489\n",
      "167/167 [==============================] - 4s 26ms/step - loss: 17.3164 - val_loss: 14.2585 - lr: 0.0010\n",
      "Epoch 78/100\n",
      "166/167 [============================>.] - ETA: 0s - loss: 17.1972\n",
      "Epoch 78: val_loss did not improve from 11.13489\n",
      "167/167 [==============================] - 4s 26ms/step - loss: 17.1956 - val_loss: 13.7112 - lr: 0.0010\n",
      "Epoch 79/100\n",
      "167/167 [==============================] - ETA: 0s - loss: 17.3831\n",
      "Epoch 79: val_loss did not improve from 11.13489\n",
      "167/167 [==============================] - 4s 27ms/step - loss: 17.3831 - val_loss: 13.6113 - lr: 0.0010\n",
      "Epoch 80/100\n",
      "166/167 [============================>.] - ETA: 0s - loss: 17.0567\n",
      "Epoch 80: val_loss did not improve from 11.13489\n",
      "167/167 [==============================] - 4s 26ms/step - loss: 17.0551 - val_loss: 13.5590 - lr: 0.0010\n",
      "Epoch 81/100\n",
      "166/167 [============================>.] - ETA: 0s - loss: 16.9893\n",
      "Epoch 81: val_loss did not improve from 11.13489\n",
      "167/167 [==============================] - 4s 27ms/step - loss: 16.9878 - val_loss: 12.6996 - lr: 0.0010\n",
      "Epoch 82/100\n",
      "165/167 [============================>.] - ETA: 0s - loss: 17.2259\n",
      "Epoch 82: val_loss did not improve from 11.13489\n",
      "167/167 [==============================] - 4s 26ms/step - loss: 17.2216 - val_loss: 13.2956 - lr: 0.0010\n",
      "Epoch 83/100\n",
      "165/167 [============================>.] - ETA: 0s - loss: 16.9932\n",
      "Epoch 83: val_loss did not improve from 11.13489\n",
      "167/167 [==============================] - 4s 26ms/step - loss: 16.9829 - val_loss: 13.2276 - lr: 0.0010\n",
      "Epoch 84/100\n",
      "164/167 [============================>.] - ETA: 0s - loss: 16.9575\n",
      "Epoch 84: val_loss did not improve from 11.13489\n",
      "167/167 [==============================] - 4s 26ms/step - loss: 16.9460 - val_loss: 13.5239 - lr: 0.0010\n",
      "Epoch 85/100\n",
      "165/167 [============================>.] - ETA: 0s - loss: 16.9616\n",
      "Epoch 85: val_loss did not improve from 11.13489\n",
      "167/167 [==============================] - 4s 26ms/step - loss: 16.9515 - val_loss: 13.8417 - lr: 0.0010\n",
      "Epoch 86/100\n",
      "165/167 [============================>.] - ETA: 0s - loss: 16.8569\n",
      "Epoch 86: val_loss did not improve from 11.13489\n",
      "167/167 [==============================] - 4s 26ms/step - loss: 16.8507 - val_loss: 11.7279 - lr: 0.0010\n",
      "Epoch 87/100\n",
      "165/167 [============================>.] - ETA: 0s - loss: 16.8450\n",
      "Epoch 87: val_loss did not improve from 11.13489\n",
      "167/167 [==============================] - 4s 26ms/step - loss: 16.8383 - val_loss: 13.1081 - lr: 0.0010\n",
      "Epoch 88/100\n",
      "167/167 [==============================] - ETA: 0s - loss: 16.6345\n",
      "Epoch 88: val_loss did not improve from 11.13489\n",
      "167/167 [==============================] - 4s 26ms/step - loss: 16.6345 - val_loss: 12.9696 - lr: 0.0010\n",
      "Epoch 89/100\n",
      "165/167 [============================>.] - ETA: 0s - loss: 16.7604\n",
      "Epoch 89: val_loss did not improve from 11.13489\n",
      "167/167 [==============================] - 4s 27ms/step - loss: 16.7573 - val_loss: 12.0730 - lr: 0.0010\n",
      "Epoch 90/100\n",
      "167/167 [==============================] - ETA: 0s - loss: 16.7332\n",
      "Epoch 90: val_loss did not improve from 11.13489\n",
      "167/167 [==============================] - 5s 28ms/step - loss: 16.7332 - val_loss: 13.2003 - lr: 0.0010\n",
      "Epoch 91/100\n",
      "164/167 [============================>.] - ETA: 0s - loss: 16.6940\n",
      "Epoch 91: val_loss did not improve from 11.13489\n",
      "167/167 [==============================] - 4s 25ms/step - loss: 16.6846 - val_loss: 11.8457 - lr: 0.0010\n",
      "Epoch 92/100\n",
      "165/167 [============================>.] - ETA: 0s - loss: 16.5970\n",
      "Epoch 92: val_loss did not improve from 11.13489\n",
      "167/167 [==============================] - 4s 26ms/step - loss: 16.5998 - val_loss: 13.4813 - lr: 0.0010\n",
      "Epoch 93/100\n",
      "165/167 [============================>.] - ETA: 0s - loss: 16.5270\n",
      "Epoch 93: val_loss did not improve from 11.13489\n",
      "167/167 [==============================] - 4s 26ms/step - loss: 16.5214 - val_loss: 13.1903 - lr: 0.0010\n",
      "Epoch 94/100\n",
      "165/167 [============================>.] - ETA: 0s - loss: 16.5448\n",
      "Epoch 94: val_loss improved from 11.13489 to 10.91869, saving model to data/models\\silica_CNN4_PINN.keras\n",
      "167/167 [==============================] - 5s 27ms/step - loss: 16.5455 - val_loss: 10.9187 - lr: 0.0010\n",
      "Epoch 95/100\n",
      "165/167 [============================>.] - ETA: 0s - loss: 16.4868\n",
      "Epoch 95: val_loss did not improve from 10.91869\n",
      "167/167 [==============================] - 4s 26ms/step - loss: 16.4900 - val_loss: 14.0296 - lr: 0.0010\n",
      "Epoch 96/100\n",
      "167/167 [==============================] - ETA: 0s - loss: 16.5946\n",
      "Epoch 96: val_loss did not improve from 10.91869\n",
      "167/167 [==============================] - 4s 27ms/step - loss: 16.5946 - val_loss: 12.4450 - lr: 0.0010\n",
      "Epoch 97/100\n",
      "166/167 [============================>.] - ETA: 0s - loss: 16.5104\n",
      "Epoch 97: val_loss did not improve from 10.91869\n",
      "167/167 [==============================] - 4s 26ms/step - loss: 16.5089 - val_loss: 13.0020 - lr: 0.0010\n",
      "Epoch 98/100\n",
      "165/167 [============================>.] - ETA: 0s - loss: 16.5459\n",
      "Epoch 98: val_loss did not improve from 10.91869\n",
      "167/167 [==============================] - 4s 26ms/step - loss: 16.5378 - val_loss: 12.6544 - lr: 0.0010\n",
      "Epoch 99/100\n",
      "165/167 [============================>.] - ETA: 0s - loss: 16.4473\n",
      "Epoch 99: val_loss did not improve from 10.91869\n",
      "167/167 [==============================] - 4s 26ms/step - loss: 16.4554 - val_loss: 13.7115 - lr: 0.0010\n",
      "Epoch 100/100\n",
      "164/167 [============================>.] - ETA: 0s - loss: 16.3741\n",
      "Epoch 100: val_loss did not improve from 10.91869\n",
      "167/167 [==============================] - 4s 26ms/step - loss: 16.3640 - val_loss: 12.8207 - lr: 0.0010\n"
     ]
    }
   ],
   "execution_count": 130
  },
  {
   "cell_type": "code",
   "outputs": [],
   "source": [
    "plot_loss(history)"
   ],
   "metadata": {
    "collapsed": false,
    "ExecuteTime": {
     "end_time": "2024-11-02T16:03:41.030461Z",
     "start_time": "2024-11-02T16:03:38.891147Z"
    }
   },
   "id": "5f88365122af1453",
   "execution_count": 46
  },
  {
   "cell_type": "code",
   "source": [
    "# load model\n",
    "model = tf.keras.models.load_model('data/models/silica_CNN4_PINN.keras', custom_objects={'abs': tf.math.abs, 'custom_loss': custom_loss})"
   ],
   "metadata": {
    "collapsed": false,
    "pycharm": {
     "name": "#%%\n"
    },
    "ExecuteTime": {
     "end_time": "2024-11-02T19:14:00.663697Z",
     "start_time": "2024-11-02T19:13:59.258569Z"
    }
   },
   "id": "c9a1a6a8cf9f8ba1",
   "outputs": [],
   "execution_count": 120
  },
  {
   "cell_type": "code",
   "outputs": [],
   "source": [
    "#tf.keras.models.save_model(model,'data/models/silica_CNN3.keras')"
   ],
   "metadata": {
    "collapsed": false,
    "ExecuteTime": {
     "end_time": "2024-11-02T18:38:16.754344Z",
     "start_time": "2024-11-02T18:38:16.630902Z"
    }
   },
   "id": "444075ca347a176b",
   "execution_count": 83
  },
  {
   "cell_type": "code",
   "source": [
    "# prediction = model.evaluate(np.array(x_test), np.array(y_test))\n",
    "prediction = model.predict(np.array(x_test))"
   ],
   "metadata": {
    "collapsed": false,
    "pycharm": {
     "name": "#%%\n"
    },
    "ExecuteTime": {
     "end_time": "2024-11-02T19:49:48.792472Z",
     "start_time": "2024-11-02T19:49:39.599868Z"
    }
   },
   "id": "d7c4e1ecdee1bcf7",
   "outputs": [
    {
     "name": "stdout",
     "output_type": "stream",
     "text": [
      "469/469 [==============================] - 8s 10ms/step\n"
     ]
    }
   ],
   "execution_count": 131
  },
  {
   "cell_type": "code",
   "source": [
    "# test on x_train\n",
    "def fetch_prediction(prediction):\n",
    "    return prediction[:128]\n",
    "\n",
    "pore_widths = np.load(\"data/initial kernels/Size_Kernel_Silica_Adsorption.npy\")\n",
    "pressures = np.load(\"data/initial kernels/Pressure_Silica.npy\")\n",
    "NX, NY = 3, 4\n",
    "figure, axis = plt.subplots(NX, NY)\n",
    "for i in range(NX):\n",
    "    for j in range(NY):\n",
    "        k = np.random.randint(0, len(x_test))\n",
    "        x_scale_factor = max(pore_widths) / len(x_test[k])\n",
    "        axis[i, j].plot(pore_widths / x_scale_factor, fetch_prediction(prediction[k]), marker=\".\", label=f\"Prediction\")\n",
    "        axis[i, j].plot(pore_widths / x_scale_factor, y_test[k], marker=\".\", label=\"Real distribution\")\n",
    "        axis[i, j].plot(pressures[77:-10]*500, x_test[k], label=\"Isotherm\")\n",
    "        kernal = (data_sorb.T[40:])\n",
    "        axis[i, j].plot(pressures[40:]*500, np.dot(kernal, prediction[k][:128]), label=\"New Isotherm\")\n",
    "        axis[i, j].set_title(f\"№ {k}\")\n",
    "        axis[i, j].title.set_size(10)\n",
    "plt.subplots_adjust(hspace=0.6, right=0.95, left=0.05, bottom=0.05, top=0.95)\n",
    "plt.legend()\n",
    "plot()"
   ],
   "metadata": {
    "collapsed": false,
    "pycharm": {
     "name": "#%%\n"
    },
    "ExecuteTime": {
     "end_time": "2024-11-02T19:49:57.852679Z",
     "start_time": "2024-11-02T19:49:48.878473Z"
    }
   },
   "id": "bbc48118bf79bc08",
   "outputs": [],
   "execution_count": 132
  },
  {
   "cell_type": "code",
   "execution_count": null,
   "outputs": [],
   "source": [
    "# test with test Generator\n",
    "from tools import TestApp\n",
    "\n",
    "gen = Generator(path_s=\"data/initial kernels/Kernel_Silica_Adsorption.npy\",\n",
    "                path_d=\"data/initial kernels/Kernel_Silica_Desorption.npy\",\n",
    "                path_p_d=\"data/initial kernels/Pressure_Silica.npy\",\n",
    "                path_p_s=\"data/initial kernels/Pressure_Silica.npy\",\n",
    "                path_a=\"data/initial kernels/Size_Kernel_Silica_Adsorption.npy\"\n",
    "                )\n",
    "# gen = Generator(path_s=\"data/initial kernels/Kernel_Carbon_Adsorption.npy\",\n",
    "#                               path_d=\"data/initial kernels/Kernel_Carbon_Desorption.npy\",\n",
    "#                               path_p_d=\"data/initial kernels/Pressure_Carbon.npy\",\n",
    "#                               path_p_s=\"data/initial kernels/Pressure_Carbon.npy\",\n",
    "#                               path_a=\"data/initial kernels/Size_Kernel_Carbon_Adsorption.npy\"\n",
    "#                             )\n",
    "\n",
    "#TestApp.App(model, gen)"
   ],
   "metadata": {
    "collapsed": false,
    "pycharm": {
     "name": "#%%\n"
    }
   },
   "id": "b25b4132001702fe"
  },
  {
   "cell_type": "code",
   "execution_count": null,
   "outputs": [],
   "source": [
    "exp_file_list = [\"MCM-41\", \"SBA-15\", \"SBA-16\", \"MIL-101\", \"MIL-101_2\", \"DUT-49\", \"FDM-4\", \"PCN-333\", \"PCN-777\",\n",
    "                 \"MIL-100\"]\n",
    "\n",
    "p_exp_list = []\n",
    "n_s_exp_raw_list = []\n",
    "for exp_file_name in exp_file_list:\n",
    "    data = pd.read_csv(f\"data/real/{exp_file_name}.txt\", header=None)\n",
    "    # p_exp_list.append(data.iloc[:,1].to_numpy())\n",
    "    # n_s_exp_raw_list.append(data.iloc[:,3].to_numpy())\n",
    "    p_exp_list.append(data.iloc[:, 1].to_numpy())\n",
    "    n_s_exp_raw_list.append(data.iloc[:, 3].to_numpy())"
   ],
   "metadata": {
    "collapsed": false,
    "pycharm": {
     "name": "#%%\n"
    }
   },
   "id": "d0179658dd4e6c12"
  },
  {
   "cell_type": "code",
   "execution_count": null,
   "outputs": [],
   "source": [
    "j = 2\n",
    "plt.plot(p_exp_list[j], n_s_exp_raw_list[j], marker=\".\", label=exp_file_list[j])\n",
    "plot()"
   ],
   "metadata": {
    "collapsed": false,
    "pycharm": {
     "name": "#%%\n"
    }
   },
   "id": "316deb7add602c0a"
  },
  {
   "cell_type": "code",
   "execution_count": null,
   "outputs": [],
   "source": [
    "# интерполируем экспериментальную изотерму под давления кернала\n",
    "n_s_exp_list = []\n",
    "for i in range(len(p_exp_list)):\n",
    "    n_s_exp_list.append(np.interp(gen.pressures_s[77:367], p_exp_list[i], n_s_exp_raw_list[i]))"
   ],
   "metadata": {
    "collapsed": false,
    "pycharm": {
     "name": "#%%\n"
    }
   },
   "id": "bfb8c81559e024d"
  },
  {
   "cell_type": "code",
   "execution_count": null,
   "outputs": [],
   "source": [
    "j = 2\n",
    "plt.plot(gen.pressures_s[77:367], n_s_exp_list[j], marker=\".\", label=exp_file_list[j])\n",
    "plot()"
   ],
   "metadata": {
    "collapsed": false,
    "pycharm": {
     "name": "#%%\n"
    }
   },
   "id": "61ca6d25ee7153f0"
  },
  {
   "cell_type": "code",
   "execution_count": null,
   "outputs": [],
   "source": [
    "n_s_exp_for_net_list = [pre_process_isotherm(np.copy(n_s_exp), scale=False) for n_s_exp in n_s_exp_list]\n",
    "fit_exp_list = [model.predict(np.array([n_s_exp_for_net])).T for n_s_exp_for_net in n_s_exp_for_net_list]\n",
    "fit_exp_list = [fetch_prediction(i) for i in fit_exp_list]"
   ],
   "metadata": {
    "collapsed": false,
    "pycharm": {
     "name": "#%%\n"
    }
   },
   "id": "964f2bfe8f0bb107"
  },
  {
   "cell_type": "code",
   "execution_count": null,
   "outputs": [],
   "source": [
    "NX, NY = 3, 4\n",
    "figure, axis = plt.subplots(NX, NY)\n",
    "k = 0\n",
    "for i in range(NX):\n",
    "    for j in range(NY):\n",
    "        x_scale_factor = max(gen.a_array) / max(p_exp_list[k])\n",
    "        y_scale_factor = max(fit_exp_list[k]) / max(n_s_exp_raw_list[k])\n",
    "        axis[i, j].plot(pore_widths, fit_exp_list[k], marker=\".\", label=f\"Distribution\")\n",
    "        axis[i, j].plot(p_exp_list[k] * x_scale_factor, n_s_exp_raw_list[k],\n",
    "                        label=f\"{exp_file_list[k]}\", marker=\".\")\n",
    "        \n",
    "        kernal = (data_sorb.T[40:])\n",
    "        axis[i, j].plot(gen.pressures_s[40:458]* x_scale_factor, np.dot(kernal, fit_exp_list[k]), label=\"Isotherm by distribution\")\n",
    "        \n",
    "        axis[i, j].set_title(f\"max at {round(gen.a_array[np.argmax(fit_exp_list[k])], 2)} nm\")\n",
    "        axis[i, j].title.set_size(12)\n",
    "        axis[i, j].legend(loc=\"upper right\")\n",
    "        axis[i, j].grid()\n",
    "        k += 1\n",
    "        if k >= len(fit_exp_list):\n",
    "            break\n",
    "plt.subplots_adjust(hspace=0.6, right=0.95, left=0.05, bottom=0.05, top=0.95)\n",
    "plot()"
   ],
   "metadata": {
    "collapsed": false,
    "pycharm": {
     "name": "#%%\n"
    }
   },
   "id": "dced44b8e1da2a3f"
  },
  {
   "cell_type": "code",
   "execution_count": null,
   "outputs": [],
   "source": [
    "### Classic\n",
    "import inverse\n",
    "\n",
    "kernel = np.load(\"data/initial kernels/Kernel_Silica_Adsorption.npy\")\n",
    "\n",
    "### normalize on size\n",
    "# a_array = np.load(\"data/initial kernels/Size_Kernel_Silica_Adsorption.npy\")\n",
    "# for i in range(len(a_array)):\n",
    "#     kernel[i] /= a_array[i]\n",
    "#     kernel[i] /= a_array[i]\n",
    "###\n",
    "\n",
    "cut_kernel = []\n",
    "for i in range(len(kernel)):\n",
    "    cut_kernel.append(kernel[i][40:458])\n",
    "cut_kernel = np.array(cut_kernel)\n",
    "fit_classic_list = [inverse.fit_SLSQP(adsorption=n_s, kernel=cut_kernel, a_array=pore_widths) for n_s in n_s_exp_list]"
   ],
   "metadata": {
    "collapsed": false,
    "pycharm": {
     "name": "#%%\n"
    }
   },
   "id": "435b91d710c2ce9e"
  },
  {
   "cell_type": "code",
   "execution_count": null,
   "outputs": [],
   "source": [
    "from matplotlib import animation\n",
    "\n",
    "importlib.reload(inverse)\n",
    "\n",
    "\n",
    "def create_regularization_animation(file):\n",
    "    fig, ax = plt.subplots()\n",
    "    fig.set_size_inches(10, 5, True)\n",
    "    fit_classic = inverse.fit_SLSQP(adsorption=n_s_exp_list[2], kernel=cut_kernel, a_array=pore_widths, alpha=0)\n",
    "    line1, = ax.plot(pore_widths[:-30], fit_classic.x[:-30], marker=\".\", label=f\"a = {0}\")\n",
    "\n",
    "    y_scale_factor = max(fit_classic.x) / max(fit_exp_list[2])\n",
    "    #plt.plot(pore_widths, fit_exp_list[2] * y_scale_factor, marker=\".\", label=f\"Суррогатная модель\")\n",
    "\n",
    "    ax.set_ylabel(\"Объем пор, $см^3$/ нм * г\")\n",
    "    ax.set_xlabel(\"Размер пор, нм\")\n",
    "\n",
    "    L = plt.legend(loc=1)  # Define legend objects\n",
    "\n",
    "    def update(frame):\n",
    "        a = frame / 4 + 2\n",
    "        fit_classic = inverse.fit_SLSQP(adsorption=n_s_exp_list[2], kernel=cut_kernel, a_array=pore_widths, alpha=a)\n",
    "        line1.set_ydata(fit_classic.x[:-30])\n",
    "        L.get_texts()[0].set_text(\n",
    "            f\"Распределение пор по размерам, параметр регуляризации α = {round(a-2,1)}\")  # Update label each at frame\n",
    "        return line1,\n",
    "\n",
    "    ani = animation.FuncAnimation(fig=fig, func=update, frames=100, interval=100)\n",
    "    writervideo = animation.FFMpegWriter(fps=30)\n",
    "    ani.save(file, writer=writervideo, dpi=200)\n",
    "    plt.grid()\n",
    "    plt.show()\n",
    "create_regularization_animation(\"SBA-16_regularization.mp4\")\n",
    "def plot_regularization_graphs():\n",
    "    for a in [1, 5, 10, 50]:\n",
    "        fit_classic = inverse.fit_SLSQP(adsorption=n_s_exp_list[2], kernel=cut_kernel, a_array=pore_widths, alpha=a)\n",
    "        plt.plot(pore_widths, fit_classic.x, marker=\".\", label=f\"α = {a}\")\n",
    "    plt.ylabel(\"Объем пор, $см^3$/ нм * гр\")\n",
    "    plt.xlabel(\"Размер пор, нм\")\n",
    "    plot()\n",
    "#plot_regularization_graphs()"
   ],
   "metadata": {
    "collapsed": false,
    "pycharm": {
     "name": "#%%\n"
    }
   },
   "id": "1b0c708ab92c81f5"
  },
  {
   "cell_type": "code",
   "execution_count": null,
   "outputs": [],
   "source": [
    "NX, NY = 3, 4\n",
    "figure, axis = plt.subplots(NX, NY)\n",
    "k = 0\n",
    "for i in range(NX):\n",
    "    for j in range(NY):\n",
    "        x_scale_factor = max(gen.a_array) / max(p_exp_list[k])\n",
    "        y_scale_factor = max(fit_classic_list[k].x) / max(n_s_exp_raw_list[k])\n",
    "        y_scale_factor_net = max(fit_classic_list[k].x) / max(fit_exp_list[k])\n",
    "\n",
    "        axis[i, j].plot(pore_widths, fit_exp_list[k] * y_scale_factor_net, marker=\".\", label=f\"net\")\n",
    "        axis[i, j].plot(pore_widths, fit_classic_list[k].x, marker=\".\", label=f\"classic\")\n",
    "        axis[i, j].plot(p_exp_list[k] * x_scale_factor, n_s_exp_raw_list[k] * y_scale_factor,\n",
    "                        label=f\"{exp_file_list[k]}\", marker=\".\")\n",
    "        axis[i, j].set_title(f\"max at {round(gen.a_array[np.argmax(fit_classic_list[k].x)], 2)} nm\")\n",
    "        axis[i, j].title.set_size(12)\n",
    "        axis[i, j].legend(loc=\"upper right\")\n",
    "        axis[i, j].grid()\n",
    "        k += 1\n",
    "        if k >= len(fit_exp_list):\n",
    "            break\n",
    "plt.subplots_adjust(hspace=0.6, right=0.95, left=0.05, bottom=0.05, top=0.95)\n",
    "plot()"
   ],
   "metadata": {
    "collapsed": false,
    "pycharm": {
     "name": "#%%\n"
    }
   },
   "id": "aac060bb7ff7720e"
  },
  {
   "cell_type": "code",
   "execution_count": null,
   "outputs": [],
   "source": [
    "### Classic\n",
    "import inverse\n",
    "\n",
    "kernel = np.load(\"data/initial kernels/Kernel_Silica_Adsorption.npy\")\n",
    "\n",
    "### normalize on size\n",
    "# a_array = np.load(\"data/initial kernels/Size_Kernel_Silica_Adsorption.npy\")\n",
    "# for i in range(len(a_array)):\n",
    "#     kernel[i] /= a_array[i]\n",
    "#     kernel[i] /= a_array[i]\n",
    "###\n",
    "\n",
    "cut_kernel = []\n",
    "for i in range(len(kernel)):\n",
    "    cut_kernel.append(kernel[i][40:458])\n",
    "cut_kernel = np.array(cut_kernel)\n",
    "fit_classic_list = [inverse.fit_SLSQP(adsorption=n_s, kernel=cut_kernel, a_array=pore_widths) for n_s in n_s_exp_list]"
   ],
   "metadata": {
    "collapsed": false,
    "pycharm": {
     "name": "#%%\n"
    }
   },
   "id": "9949a77c1d2e89c0"
  },
  {
   "cell_type": "code",
   "outputs": [],
   "source": [
    "from matplotlib import animation\n",
    "\n",
    "importlib.reload(inverse)\n",
    "\n",
    "\n",
    "def create_regularization_animation(file):\n",
    "    fig, ax = plt.subplots()\n",
    "    fig.set_size_inches(10, 5, True)\n",
    "    fit_classic = inverse.fit_SLSQP(adsorption=n_s_exp_list[2], kernel=cut_kernel, a_array=pore_widths, alpha=0)\n",
    "    line1, = ax.plot(pore_widths[:-30], fit_classic.x[:-30], marker=\".\", label=f\"a = {0}\")\n",
    "\n",
    "    y_scale_factor = max(fit_classic.x) / max(fit_exp_list[2])\n",
    "    #plt.plot(pore_widths, fit_exp_list[2] * y_scale_factor, marker=\".\", label=f\"Суррогатная модель\")\n",
    "\n",
    "    ax.set_ylabel(\"Объем пор, $см^3$/ нм * г\")\n",
    "    ax.set_xlabel(\"Размер пор, нм\")\n",
    "\n",
    "    L = plt.legend(loc=1)  # Define legend objects\n",
    "\n",
    "    def update(frame):\n",
    "        a = frame / 4 + 2\n",
    "        fit_classic = inverse.fit_SLSQP(adsorption=n_s_exp_list[2], kernel=cut_kernel, a_array=pore_widths, alpha=a)\n",
    "        line1.set_ydata(fit_classic.x[:-30])\n",
    "        L.get_texts()[0].set_text(\n",
    "            f\"Распределение пор по размерам, параметр регуляризации α = {round(a-2,1)}\")  # Update label each at frame\n",
    "        return line1,\n",
    "\n",
    "    ani = animation.FuncAnimation(fig=fig, func=update, frames=100, interval=100)\n",
    "    writervideo = animation.FFMpegWriter(fps=30)\n",
    "    ani.save(file, writer=writervideo, dpi=200)\n",
    "    plt.grid()\n",
    "    plt.show()\n",
    "create_regularization_animation(\"SBA-16_regularization.mp4\")\n",
    "def plot_regularization_graphs():\n",
    "    for a in [1, 5, 10, 50]:\n",
    "        fit_classic = inverse.fit_SLSQP(adsorption=n_s_exp_list[2], kernel=cut_kernel, a_array=pore_widths, alpha=a)\n",
    "        plt.plot(pore_widths, fit_classic.x, marker=\".\", label=f\"α = {a}\")\n",
    "    plt.ylabel(\"Объем пор, $см^3$/ нм * гр\")\n",
    "    plt.xlabel(\"Размер пор, нм\")\n",
    "    plot()\n",
    "#plot_regularization_graphs()"
   ],
   "metadata": {
    "collapsed": false,
    "pycharm": {
     "name": "#%%\n"
    }
   },
   "id": "ca3051b964f378a",
   "execution_count": null
  },
  {
   "cell_type": "code",
   "execution_count": null,
   "outputs": [],
   "source": [
    "NX, NY = 3, 4\n",
    "figure, axis = plt.subplots(NX, NY)\n",
    "k = 0\n",
    "for i in range(NX):\n",
    "    for j in range(NY):\n",
    "        x_scale_factor = max(gen.a_array) / max(p_exp_list[k])\n",
    "        y_scale_factor = max(fit_classic_list[k].x) / max(n_s_exp_raw_list[k])\n",
    "        y_scale_factor_net = max(fit_classic_list[k].x) / max(fit_exp_list[k])\n",
    "\n",
    "        axis[i, j].plot(pore_widths, fit_exp_list[k] * y_scale_factor_net, marker=\".\", label=f\"net\")\n",
    "        axis[i, j].plot(pore_widths, fit_classic_list[k].x, marker=\".\", label=f\"classic\")\n",
    "        axis[i, j].plot(p_exp_list[k] * x_scale_factor, n_s_exp_raw_list[k] * y_scale_factor,\n",
    "                        label=f\"{exp_file_list[k]}\", marker=\".\")\n",
    "        axis[i, j].set_title(f\"max at {round(gen.a_array[np.argmax(fit_classic_list[k].x)], 2)} nm\")\n",
    "        axis[i, j].title.set_size(12)\n",
    "        axis[i, j].legend(loc=\"upper right\")\n",
    "        axis[i, j].grid()\n",
    "        k += 1\n",
    "        if k >= len(fit_exp_list):\n",
    "            break\n",
    "plt.subplots_adjust(hspace=0.6, right=0.95, left=0.05, bottom=0.05, top=0.95)\n",
    "plot()"
   ],
   "metadata": {
    "collapsed": false,
    "pycharm": {
     "name": "#%%\n"
    }
   },
   "id": "707d030f7db4a23"
  },
  {
   "cell_type": "code",
   "execution_count": null,
   "outputs": [],
   "source": [
    "# compare net, classic, quantachrome distributions\n",
    "NX, NY = 3, 4\n",
    "figure, axis = plt.subplots(NX, NY)\n",
    "k = 0\n",
    "\n",
    "\n",
    "def calculate_isotherm_by_distribution(generator: Generator, a_array, distribution):\n",
    "    generator.a_array = a_array\n",
    "    generator.pore_distribution = distribution\n",
    "    generator.calculate_isotherms()\n",
    "    return generator.n_s\n",
    "\n",
    "\n",
    "#/np.ediff1d(pore_widths, to_begin=pore_widths[0])\n",
    "for i in range(NX):\n",
    "    for j in range(NY):\n",
    "        quantachrome_pore_size = \\\n",
    "            np.genfromtxt(f\"data/real/quantachrome/silica/distribution/{exp_file_list[k]}.csv\", delimiter=\",\")[1:].T[\n",
    "                0] / 10 * 2  # /10 - перевод в НМ * 2 - в QH размер - Half pore width.\n",
    "        quantachrome_dV = \\\n",
    "            np.genfromtxt(f\"data/real/quantachrome/silica/distribution/{exp_file_list[k]}.csv\", delimiter=\",\")[1:].T[3]\n",
    "        # isotherm_formQC = calculate_isotherm_by_distribution(gen, pore_widths, np.interp(pore_widths, quantachrome_pore_size, quantachrome_dV))\n",
    "        # y_scale_factor_QH = max(n_s_exp_raw_list[k]) / max(isotherm_formQC)\n",
    "        # quantachrome_dV *= y_scale_factor_QH\n",
    "\n",
    "        y_scale_factor_classic = max(quantachrome_dV) / max(fit_classic_list[k].x)\n",
    "        y_scale_factor_net = max(quantachrome_dV) / max(fit_exp_list[k])\n",
    "\n",
    "        axis[i, j].plot(pore_widths, fit_exp_list[k] * y_scale_factor_net, marker=\".\", label=f\"net\")\n",
    "        axis[i, j].plot(pore_widths, fit_classic_list[k].x * y_scale_factor_classic, marker=\".\", label=f\"classic\")\n",
    "        axis[i, j].plot(quantachrome_pore_size, quantachrome_dV, marker=\".\", label=f\"quantachrome\")\n",
    "        axis[i, j].set_title(f\"{exp_file_list[k]}\")\n",
    "        axis[i, j].title.set_size(12)\n",
    "        axis[i, j].legend(loc=\"upper right\")\n",
    "        axis[i, j].grid()\n",
    "        k += 1\n",
    "        if k >= len(fit_exp_list):\n",
    "            break\n",
    "plt.subplots_adjust(hspace=0.6, right=0.95, left=0.05, bottom=0.05, top=0.95)\n",
    "plot()"
   ],
   "metadata": {
    "collapsed": false,
    "pycharm": {
     "name": "#%%\n"
    }
   },
   "id": "8e0b9fbf987405b3"
  },
  {
   "cell_type": "code",
   "outputs": [],
   "source": [
    "# plots for presentation\n",
    "import matplotlib.pyplot as plt\n",
    "from importlib import reload\n",
    "\n",
    "plt = reload(plt)\n",
    "\n",
    "k = 0\n",
    "\n",
    "quantachrome_pore_size = \\\n",
    "    np.genfromtxt(f\"data/real/quantachrome/silica/distribution/{exp_file_list[k]}.csv\", delimiter=\",\")[1:].T[\n",
    "        0] / 10 * 2  # /10 - перевод в НМ * 2 - в QH размер - Half pore width.\n",
    "quantachrome_dV = \\\n",
    "    np.genfromtxt(f\"data/real/quantachrome/silica/distribution/{exp_file_list[k]}.csv\", delimiter=\",\")[1:].T[3]\n",
    "# isotherm_formQC = calculate_isotherm_by_distribution(gen, pore_widths, np.interp(pore_widths, quantachrome_pore_size, quantachrome_dV))\n",
    "# y_scale_factor_QH = max(n_s_exp_raw_list[k]) / max(isotherm_formQC)\n",
    "# quantachrome_dV *= y_scale_factor_QH\n",
    "\n",
    "y_scale_factor_classic = max(quantachrome_dV) / max(fit_classic_list[k].x)\n",
    "y_scale_factor_net = max(quantachrome_dV) / max(fit_exp_list[k])\n",
    "\n",
    "plt.plot(pore_widths, fit_exp_list[k] * y_scale_factor_net, marker=\".\", label=f\"Суррогатная модель\")\n",
    "plt.plot(pore_widths, fit_classic_list[k].x * y_scale_factor_classic, marker=\".\", label=f\"Математическое решение\")\n",
    "#plt.plot(quantachrome_pore_size, quantachrome_dV, marker=\".\", label=f\"Математическое решение QH\") \n",
    "plt.legend(loc=\"upper right\")\n",
    "plt.grid()\n",
    "plt.title(f\"{exp_file_list[k]}\")\n",
    "\n",
    "# plt.xscale('log')\n",
    "plt.subplots_adjust(left=0.15,\n",
    "                    bottom=0.133,\n",
    "                    right=0.979,\n",
    "                    top=0.917,\n",
    "                    wspace=0.4,\n",
    "                    hspace=0.4)\n",
    "plt.legend()\n",
    "plt.grid(True)\n",
    "plt.ylabel(\"Объем пор, $см^3$/ нм * гр\")\n",
    "plt.xlabel(\"Размер пор, нм\")\n",
    "plt.show()\n"
   ],
   "metadata": {
    "collapsed": false,
    "pycharm": {
     "name": "#%%\n"
    }
   },
   "id": "c5e26ea811ae701c",
   "execution_count": null
  },
  {
   "cell_type": "code",
   "outputs": [],
   "source": [
    "# plots for presentation 2\n",
    "k = 3\n",
    "plt.plot(p_exp_list[k], n_s_exp_raw_list[k], marker=\".\", color='b', label=f\"{exp_file_list[k]}\")\n",
    "k = 9\n",
    "plt.plot(p_exp_list[k], n_s_exp_raw_list[k], marker=\".\", color='r', label=f\"{exp_file_list[k]}\")\n",
    "plt.legend(loc=\"upper right\")\n",
    "plt.grid()\n",
    "plt.title(f\"Изотермы адсорбции\")\n",
    "\n",
    "# plt.xscale('log')\n",
    "plt.subplots_adjust(left=0.15,\n",
    "                    bottom=0.133,\n",
    "                    right=0.979,\n",
    "                    top=0.917,\n",
    "                    wspace=0.4,\n",
    "                    hspace=0.4)\n",
    "plt.legend()\n",
    "plt.grid(True)\n",
    "plt.ylabel(\"Адсорбция, $см^3$/г\")\n",
    "plt.xlabel(\"Давление, $P/P_{0}$\")\n",
    "plt.show()\n"
   ],
   "metadata": {
    "collapsed": false,
    "pycharm": {
     "name": "#%%\n"
    }
   },
   "id": "be93198745d6bc2d",
   "execution_count": null
  },
  {
   "cell_type": "code",
   "outputs": [],
   "source": [
    "# plots for presentation 3\n",
    "\n",
    "fig, ax1 = plt.subplots(figsize=(6, 7))\n",
    "ax1.set_xlabel(\"Размер пор, нм\")\n",
    "ax1.set_ylabel(\"Объем пор, $см^3$/ нм * гр\")\n",
    "k = 0\n",
    "plt.title(f\"{exp_file_list[k]}\")\n",
    "quantachrome_pore_size = \\\n",
    "    np.genfromtxt(f\"data/real/quantachrome/silica/distribution/{exp_file_list[k]}.csv\", delimiter=\",\")[1:].T[\n",
    "        0] / 10 * 2  # /10 - перевод в НМ * 2 - в QH размер - Half pore width.\n",
    "quantachrome_dV = \\\n",
    "    np.genfromtxt(f\"data/real/quantachrome/silica/distribution/{exp_file_list[k]}.csv\", delimiter=\",\")[1:].T[3]\n",
    "# isotherm_formQC = calculate_isotherm_by_distribution(gen, pore_widths, np.interp(pore_widths, quantachrome_pore_size, quantachrome_dV))\n",
    "# y_scale_factor_QH = max(n_s_exp_raw_list[k]) / max(isotherm_formQC)\n",
    "# quantachrome_dV *= y_scale_factor_QH\n",
    "\n",
    "y_scale_factor_classic = max(quantachrome_dV) / max(fit_classic_list[k].x)\n",
    "y_scale_factor_net = max(quantachrome_dV) / max(fit_exp_list[k])\n",
    "\n",
    "ax1.plot(pore_widths[0:100], (fit_exp_list[k] * y_scale_factor_net)[0:100], marker=\".\", label=f\"Суррогатная модель\")\n",
    "ax1.plot(pore_widths[0:100], (fit_classic_list[k].x * y_scale_factor_classic)[0:100], marker=\".\",\n",
    "         label=f\"Математическое решение\")\n",
    "# ax1.tick_params(axis='y')\n",
    "# plt.legend(loc=\"right\")\n",
    "\n",
    "\n",
    "ax2 = ax1.twinx()\n",
    "ax3 = ax2.twiny()  # instantiate a second axes that shares the same x-axis\n",
    "ax3.set_xlabel(\"Давление, $P/P_{0}$\")\n",
    "ax2.set_ylabel(\"Адсорбция, $см^3$/г\")  # we already handled the x-label with ax1\n",
    "ax3.plot(p_exp_list[k], n_s_exp_raw_list[k], color='g', label=f\"Изотерма адсорбции\")\n",
    "# plt.legend(loc=\"right\")\n",
    "# \n",
    "# ax2.tick_params(axis='y')\n",
    "# plt.subplots_adjust(left=0.15,\n",
    "#                     bottom=0.133, \n",
    "#                     right=0.979, \n",
    "#                     top=0.917, \n",
    "#                     wspace=0.4, \n",
    "#                     hspace=0.4)\n",
    "\n",
    "fig.tight_layout()\n",
    "plt.show()"
   ],
   "metadata": {
    "collapsed": false,
    "pycharm": {
     "name": "#%%\n"
    }
   },
   "id": "2d0a60b839334253",
   "execution_count": null
  },
  {
   "cell_type": "code",
   "outputs": [],
   "source": [
    "# Compare isotherms\n",
    "NX, NY = 2, 3\n",
    "figure, axis = plt.subplots(NX, NY)\n",
    "k = 0\n",
    "\n",
    "for i in range(NX):\n",
    "    for j in range(NY):\n",
    "        net_isotherm = calculate_isotherm_by_distribution(gen, pore_widths, fit_exp_list[k].T[0])\n",
    "        classic_isotherm = calculate_isotherm_by_distribution(gen, pore_widths, fit_classic_list[k].x)\n",
    "        quantachrome_data = np.genfromtxt(f\"data/real/quantachrome/silica/fitting/{exp_file_list[k]}.csv\",\n",
    "                                          delimiter=\",\")[1:].T\n",
    "        quantachrome_pore_size = \\\n",
    "            np.genfromtxt(f\"data/real/quantachrome/silica/distribution/{exp_file_list[k]}.csv\", delimiter=\",\")[1:].T[\n",
    "                0] / 10 * 2\n",
    "        quantachrome_dV = \\\n",
    "            np.genfromtxt(f\"data/real/quantachrome/silica/distribution/{exp_file_list[k]}.csv\", delimiter=\",\")[1:].T[3]\n",
    "        quantachrome_data2 = calculate_isotherm_by_distribution(gen, pore_widths,\n",
    "                                                                np.interp(pore_widths, quantachrome_pore_size,\n",
    "                                                                          quantachrome_dV))\n",
    "\n",
    "        y_scale_factor_net = max(net_isotherm) / max(n_s_exp_raw_list[k])\n",
    "        y_scale_factor_classic = max(classic_isotherm) / max(n_s_exp_raw_list[k])\n",
    "        y_scale_factor_quantachrome = max(quantachrome_data[1]) / max(n_s_exp_raw_list[k])\n",
    "        y_scale_factor_quantachrome2 = max(quantachrome_data2) / (\n",
    "            n_s_exp_raw_list[k][-1])  #max(quantachrome_data[1]) / max(n_s_exp_raw_list[k])\n",
    "        print(1 / y_scale_factor_quantachrome2)\n",
    "\n",
    "        axis[i, j].plot(p_exp_list[k], n_s_exp_raw_list[k], label=\"real\")\n",
    "        axis[i, j].plot(gen.pressures_s, classic_isotherm / y_scale_factor_classic, marker=\".\", label=f\"classic\")\n",
    "        axis[i, j].plot(gen.pressures_s, net_isotherm / y_scale_factor_net, label=\"net\")\n",
    "        # axis[i, j].plot(quantachrome_data[0], quantachrome_data[1]/y_scale_factor_quantachrome, label=\"quantachrome\")\n",
    "        # axis[i, j].plot(gen.pressures_s, quantachrome_data2/y_scale_factor_quantachrome2, label=\"quantachrome_from_kernal\")\n",
    "        axis[i, j].set_title(f\"{exp_file_list[k]}\")\n",
    "        axis[i, j].legend(loc=\"lower right\")\n",
    "        axis[i, j].grid()\n",
    "        k += 1\n",
    "        if k >= len(fit_exp_list):\n",
    "            break\n",
    "plt.subplots_adjust(hspace=0.6, right=0.95, left=0.05, bottom=0.05, top=0.95)\n",
    "plot()"
   ],
   "metadata": {
    "collapsed": false,
    "pycharm": {
     "name": "#%%\n"
    }
   },
   "id": "5e20fa504d7c45cc",
   "execution_count": null
  },
  {
   "cell_type": "code",
   "outputs": [],
   "source": [
    "#QUANTACHROME\n",
    "data = np.genfromtxt(\"data/real/quantachrome/silica/distribution/MIL-101.csv\", delimiter=\",\")[1:].T[0]"
   ],
   "metadata": {
    "collapsed": false,
    "pycharm": {
     "name": "#%%\n"
    }
   },
   "id": "a2947b6286fe73b7",
   "execution_count": null
  },
  {
   "cell_type": "code",
   "outputs": [],
   "source": [],
   "metadata": {
    "collapsed": false,
    "pycharm": {
     "name": "#%%\n"
    }
   },
   "id": "29ec7e76cb0598ac",
   "execution_count": null
  },
  {
   "cell_type": "code",
   "outputs": [],
   "source": [],
   "metadata": {
    "collapsed": false,
    "pycharm": {
     "name": "#%%\n"
    }
   },
   "id": "5d7d844d6e720d14",
   "execution_count": null
  },
  {
   "cell_type": "code",
   "outputs": [],
   "source": [],
   "metadata": {
    "collapsed": false,
    "pycharm": {
     "name": "#%%\n"
    }
   },
   "id": "40a95cf0ab8cc517",
   "execution_count": null
  }
 ],
 "metadata": {
  "kernelspec": {
   "display_name": "Python 3",
   "language": "python",
   "name": "python3"
  },
  "language_info": {
   "codemirror_mode": {
    "name": "ipython",
    "version": 2
   },
   "file_extension": ".py",
   "mimetype": "text/x-python",
   "name": "python",
   "nbconvert_exporter": "python",
   "pygments_lexer": "ipython2",
   "version": "2.7.6"
  }
 },
 "nbformat": 4,
 "nbformat_minor": 5
}
