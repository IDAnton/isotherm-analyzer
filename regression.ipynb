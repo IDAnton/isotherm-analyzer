{
 "cells": [
  {
   "cell_type": "code",
   "source": [
    "import numpy as np\n",
    "import tensorflow as tf\n",
    "import matplotlib.pyplot as plt\n",
    "import pandas as pd\n",
    "from tensorflow.keras import layers, Sequential, Input\n",
    "from sklearn.model_selection import train_test_split\n",
    "from generator import Generator\n",
    "from keras import metrics\n",
    "import importlib"
   ],
   "metadata": {
    "collapsed": false,
    "pycharm": {
     "name": "#%%\n"
    },
    "ExecuteTime": {
     "end_time": "2024-10-17T14:40:17.291562Z",
     "start_time": "2024-10-17T14:40:12.025484Z"
    }
   },
   "id": "f70dabf5c8e7e463",
   "outputs": [],
   "execution_count": 1
  },
  {
   "cell_type": "code",
   "source": [
    "from datasetLoader import *"
   ],
   "metadata": {
    "collapsed": false,
    "pycharm": {
     "name": "#%%\n"
    },
    "ExecuteTime": {
     "end_time": "2024-10-17T14:40:44.269699Z",
     "start_time": "2024-10-17T14:40:44.253985Z"
    }
   },
   "id": "8d981596359c20a5",
   "outputs": [],
   "execution_count": 6
  },
  {
   "cell_type": "code",
   "source": [
    "def plot():\n",
    "    plt.legend()\n",
    "    plt.grid(True)\n",
    "    plt.show()\n",
    "\n",
    "\n",
    "def plot_loss(history):\n",
    "    plt.plot(history.history['loss'], label='loss', marker=\".\")\n",
    "    plt.plot(history.history['val_loss'], label='val_loss')\n",
    "    plt.xlabel('Epoch')\n",
    "    plt.ylabel('Error [MPG]')\n",
    "    plot()"
   ],
   "metadata": {
    "collapsed": false,
    "pycharm": {
     "name": "#%%\n"
    },
    "ExecuteTime": {
     "end_time": "2024-10-17T14:40:44.706078Z",
     "start_time": "2024-10-17T14:40:44.690624Z"
    }
   },
   "id": "d8275c36c94a1d86",
   "outputs": [],
   "execution_count": 7
  },
  {
   "cell_type": "code",
   "source": [
    "with open(\"data/initial kernels/Kernel_Silica_Adsorption.npy\", 'rb') as f:\n",
    "    data_sorb = np.load(f)\n",
    "    data_sorb_tensor = tf.constant((data_sorb.T[87:]).T)\n",
    "    data_sorb_tensor = tf.cast(data_sorb_tensor, tf.float32)\n",
    "\n",
    "def custom_loss(y_true, y_pred):\n",
    "    pass\n",
    "    #print(\"data_sorb_tensor.shape = \", data_sorb_tensor.shape, y_pred[:,:128].shape)\n",
    "    isotherm_from_distribution = tf.tensordot(y_pred[:,:128], data_sorb_tensor, axes=1)\n",
    "    #print(\"isotherm_from_distribution = \", isotherm_from_distribution.shape, y_pred[:,128:].shape)\n",
    "    return 1*tf.reduce_sum(tf.square(y_pred[:,:128] - y_true[:,:128])) + 0*tf.reduce_sum(tf.square(y_pred[:,128:] - isotherm_from_distribution))\n",
    "\n",
    "# np.ediff1d(pore_widths, to_begin=pore_widths[0])"
   ],
   "metadata": {
    "collapsed": false,
    "pycharm": {
     "name": "#%%\n"
    },
    "ExecuteTime": {
     "end_time": "2024-10-17T15:17:30.491001Z",
     "start_time": "2024-10-17T15:17:30.476306Z"
    }
   },
   "id": "619b039f2d0a573a",
   "outputs": [],
   "execution_count": 131
  },
  {
   "cell_type": "code",
   "source": [
    "def create_model(x):\n",
    "    layer = []\n",
    "    layer.append(Input(shape=x[0].shape))\n",
    "    layer.append(layers.Dense(200, activation='relu')(layer[-1]))\n",
    "    layer.append(layers.Dense(128, activation='relu')(layer[-1]))\n",
    "    # layer.append(layers.Dense(128, activation='relu')(layer[-1]))\n",
    "    #layer.append(layers.Dense(128, activation='relu')(layer[-1]))\n",
    "    #layer.append(layers.Dense(128, activation='relu')(layer[-1]))\n",
    "    layer.append(layers.Concatenate()([layer[-1], layer[0]]))\n",
    "    model = tf.keras.Model(inputs=layer[0], outputs=layer[-1])\n",
    "    model.compile(loss=custom_loss, optimizer='Adam')\n",
    "    #model.compile(loss='mean_squared_error', optimizer='Adam')\n",
    "    return model"
   ],
   "metadata": {
    "collapsed": false,
    "pycharm": {
     "name": "#%%\n"
    },
    "ExecuteTime": {
     "end_time": "2024-10-17T15:19:22.386560Z",
     "start_time": "2024-10-17T15:19:22.370705Z"
    }
   },
   "id": "8016a917c590c98a",
   "outputs": [],
   "execution_count": 147
  },
  {
   "cell_type": "code",
   "source": [
    "# with open(\"data/datasets/reports_best_tyhanov.npz\", 'rb') as f:\n",
    "#     dataset = np.load(f)\n",
    "#     isotherm_data = dataset[\"isotherm_data\"]\n",
    "#     pore_distribution_data = dataset[\"pore_distribution_data\"]\n",
    "#     pore_widths = np.load(\"data/initial kernels/Size_Kernel_Silica_Adsorption.npy\")"
   ],
   "metadata": {
    "collapsed": false,
    "pycharm": {
     "name": "#%%\n"
    },
    "ExecuteTime": {
     "end_time": "2024-10-17T15:19:22.895221Z",
     "start_time": "2024-10-17T15:19:22.879299Z"
    }
   },
   "id": "58dd8a7b2ff1a173",
   "outputs": [],
   "execution_count": 148
  },
  {
   "cell_type": "code",
   "source": "x, y = load_dataset('data/datasets/reports_best_tyhanov.npz')",
   "metadata": {
    "collapsed": false,
    "pycharm": {
     "name": "#%%\n"
    },
    "ExecuteTime": {
     "end_time": "2024-10-17T15:19:23.116969Z",
     "start_time": "2024-10-17T15:19:23.084027Z"
    }
   },
   "id": "a0d9a25ca1cb5c4b",
   "outputs": [],
   "execution_count": 149
  },
  {
   "cell_type": "code",
   "source": [
    "x_train, x_test, y_train, y_test = train_test_split(x, y, test_size=0.15, random_state=1)"
   ],
   "metadata": {
    "collapsed": false,
    "pycharm": {
     "name": "#%%\n"
    },
    "ExecuteTime": {
     "end_time": "2024-10-17T15:19:23.284322Z",
     "start_time": "2024-10-17T15:19:23.269733Z"
    }
   },
   "id": "fffa14b27b9fcdc7",
   "outputs": [],
   "execution_count": 150
  },
  {
   "cell_type": "code",
   "source": [
    "with open(f'data/datasets/tyhanov_test.npz', \"wb\") as f:\n",
    "    np.savez_compressed(f, x_test=x_test, y_test=y_test)"
   ],
   "metadata": {
    "collapsed": false,
    "pycharm": {
     "name": "#%%\n"
    },
    "ExecuteTime": {
     "end_time": "2024-10-17T15:19:23.449780Z",
     "start_time": "2024-10-17T15:19:23.428337Z"
    }
   },
   "id": "6a25848952e39fe",
   "outputs": [],
   "execution_count": 151
  },
  {
   "cell_type": "code",
   "source": [
    "model = create_model(x)"
   ],
   "metadata": {
    "collapsed": false,
    "pycharm": {
     "name": "#%%\n"
    },
    "ExecuteTime": {
     "end_time": "2024-10-17T15:19:23.634140Z",
     "start_time": "2024-10-17T15:19:23.602631Z"
    }
   },
   "id": "a098bec7cbb731de",
   "outputs": [],
   "execution_count": 152
  },
  {
   "cell_type": "code",
   "source": [
    "# from keras import backend as K\n",
    "# K.set_value(model.optimizer.learning_rate, 0.0001)\n",
    "mcp_save = tf.keras.callbacks.ModelCheckpoint(filepath='data/models/silica_best_tyhanov.keras', save_best_only=True,\n",
    "                                              monitor='val_loss', mode='min', verbose=1, save_weights_only=False,\n",
    "                                              save_freq='epoch')\n",
    "\n",
    "reduce_lr_loss = tf.keras.callbacks.ReduceLROnPlateau(monitor='val_loss', factor=0.5,\n",
    "                                                      patience=10000, verbose=1, mode='auto')\n",
    "history = model.fit(np.array(x_train), np.array(y_train),\n",
    "                    epochs=100, batch_size=20, shuffle=True,\n",
    "                    validation_data=(np.array(x_train), np.array(y_train)), callbacks=[mcp_save, reduce_lr_loss])\n",
    "plot_loss(history)"
   ],
   "metadata": {
    "collapsed": false,
    "pycharm": {
     "name": "#%%\n"
    },
    "ExecuteTime": {
     "end_time": "2024-10-17T15:19:38.575775Z",
     "start_time": "2024-10-17T15:19:24.222584Z"
    }
   },
   "id": "191dc523763f2938",
   "outputs": [
    {
     "name": "stdout",
     "output_type": "stream",
     "text": [
      "Epoch 1/100\n",
      "\u001B[1m 1/26\u001B[0m \u001B[37m━━━━━━━━━━━━━━━━━━━━\u001B[0m \u001B[1m21s\u001B[0m 851ms/step - loss: 180360848.0000\n",
      "Epoch 1: val_loss improved from inf to 34410168.00000, saving model to data/models/silica_best_tyhanov.keras\n",
      "\u001B[1m26/26\u001B[0m \u001B[32m━━━━━━━━━━━━━━━━━━━━\u001B[0m\u001B[37m\u001B[0m \u001B[1m1s\u001B[0m 8ms/step - loss: 69829024.0000 - val_loss: 34410168.0000 - learning_rate: 0.0010\n",
      "Epoch 2/100\n",
      "\u001B[1m 1/26\u001B[0m \u001B[37m━━━━━━━━━━━━━━━━━━━━\u001B[0m \u001B[1m3s\u001B[0m 156ms/step - loss: 53145660.0000\n",
      "Epoch 2: val_loss improved from 34410168.00000 to 31067278.00000, saving model to data/models/silica_best_tyhanov.keras\n",
      "\u001B[1m26/26\u001B[0m \u001B[32m━━━━━━━━━━━━━━━━━━━━\u001B[0m\u001B[37m\u001B[0m \u001B[1m0s\u001B[0m 4ms/step - loss: 34942248.0000 - val_loss: 31067278.0000 - learning_rate: 0.0010\n",
      "Epoch 3/100\n",
      "\u001B[1m 1/26\u001B[0m \u001B[37m━━━━━━━━━━━━━━━━━━━━\u001B[0m \u001B[1m0s\u001B[0m 16ms/step - loss: 12054886.0000\n",
      "Epoch 3: val_loss improved from 31067278.00000 to 29622556.00000, saving model to data/models/silica_best_tyhanov.keras\n",
      "\u001B[1m26/26\u001B[0m \u001B[32m━━━━━━━━━━━━━━━━━━━━\u001B[0m\u001B[37m\u001B[0m \u001B[1m0s\u001B[0m 4ms/step - loss: 33905232.0000 - val_loss: 29622556.0000 - learning_rate: 0.0010\n",
      "Epoch 4/100\n",
      "\u001B[1m 1/26\u001B[0m \u001B[37m━━━━━━━━━━━━━━━━━━━━\u001B[0m \u001B[1m0s\u001B[0m 15ms/step - loss: 28864288.0000\n",
      "Epoch 4: val_loss improved from 29622556.00000 to 29317196.00000, saving model to data/models/silica_best_tyhanov.keras\n",
      "\u001B[1m26/26\u001B[0m \u001B[32m━━━━━━━━━━━━━━━━━━━━\u001B[0m\u001B[37m\u001B[0m \u001B[1m0s\u001B[0m 3ms/step - loss: 28515614.0000 - val_loss: 29317196.0000 - learning_rate: 0.0010\n",
      "Epoch 5/100\n",
      "\u001B[1m 1/26\u001B[0m \u001B[37m━━━━━━━━━━━━━━━━━━━━\u001B[0m \u001B[1m0s\u001B[0m 31ms/step - loss: 17494720.0000\n",
      "Epoch 5: val_loss did not improve from 29317196.00000\n",
      "\u001B[1m26/26\u001B[0m \u001B[32m━━━━━━━━━━━━━━━━━━━━\u001B[0m\u001B[37m\u001B[0m \u001B[1m0s\u001B[0m 3ms/step - loss: 31629090.0000 - val_loss: 29632982.0000 - learning_rate: 0.0010\n",
      "Epoch 6/100\n",
      "\u001B[1m 1/26\u001B[0m \u001B[37m━━━━━━━━━━━━━━━━━━━━\u001B[0m \u001B[1m0s\u001B[0m 22ms/step - loss: 15743715.0000\n",
      "Epoch 6: val_loss improved from 29317196.00000 to 29083712.00000, saving model to data/models/silica_best_tyhanov.keras\n",
      "\u001B[1m26/26\u001B[0m \u001B[32m━━━━━━━━━━━━━━━━━━━━\u001B[0m\u001B[37m\u001B[0m \u001B[1m0s\u001B[0m 4ms/step - loss: 33937604.0000 - val_loss: 29083712.0000 - learning_rate: 0.0010\n",
      "Epoch 7/100\n",
      "\u001B[1m 1/26\u001B[0m \u001B[37m━━━━━━━━━━━━━━━━━━━━\u001B[0m \u001B[1m0s\u001B[0m 16ms/step - loss: 15031379.0000\n",
      "Epoch 7: val_loss improved from 29083712.00000 to 28670310.00000, saving model to data/models/silica_best_tyhanov.keras\n",
      "\u001B[1m26/26\u001B[0m \u001B[32m━━━━━━━━━━━━━━━━━━━━\u001B[0m\u001B[37m\u001B[0m \u001B[1m0s\u001B[0m 4ms/step - loss: 24035726.0000 - val_loss: 28670310.0000 - learning_rate: 0.0010\n",
      "Epoch 8/100\n",
      "\u001B[1m 1/26\u001B[0m \u001B[37m━━━━━━━━━━━━━━━━━━━━\u001B[0m \u001B[1m0s\u001B[0m 15ms/step - loss: 51800828.0000\n",
      "Epoch 8: val_loss improved from 28670310.00000 to 28480816.00000, saving model to data/models/silica_best_tyhanov.keras\n",
      "\u001B[1m26/26\u001B[0m \u001B[32m━━━━━━━━━━━━━━━━━━━━\u001B[0m\u001B[37m\u001B[0m \u001B[1m0s\u001B[0m 4ms/step - loss: 35843080.0000 - val_loss: 28480816.0000 - learning_rate: 0.0010\n",
      "Epoch 9/100\n",
      "\u001B[1m 1/26\u001B[0m \u001B[37m━━━━━━━━━━━━━━━━━━━━\u001B[0m \u001B[1m0s\u001B[0m 16ms/step - loss: 15098149.0000\n",
      "Epoch 9: val_loss improved from 28480816.00000 to 28315478.00000, saving model to data/models/silica_best_tyhanov.keras\n",
      "\u001B[1m26/26\u001B[0m \u001B[32m━━━━━━━━━━━━━━━━━━━━\u001B[0m\u001B[37m\u001B[0m \u001B[1m0s\u001B[0m 4ms/step - loss: 29398814.0000 - val_loss: 28315478.0000 - learning_rate: 0.0010\n",
      "Epoch 10/100\n",
      "\u001B[1m 1/26\u001B[0m \u001B[37m━━━━━━━━━━━━━━━━━━━━\u001B[0m \u001B[1m0s\u001B[0m 16ms/step - loss: 51413552.0000\n",
      "Epoch 10: val_loss did not improve from 28315478.00000\n",
      "\u001B[1m26/26\u001B[0m \u001B[32m━━━━━━━━━━━━━━━━━━━━\u001B[0m\u001B[37m\u001B[0m \u001B[1m0s\u001B[0m 3ms/step - loss: 28225232.0000 - val_loss: 28927352.0000 - learning_rate: 0.0010\n",
      "Epoch 11/100\n",
      "\u001B[1m 1/26\u001B[0m \u001B[37m━━━━━━━━━━━━━━━━━━━━\u001B[0m \u001B[1m0s\u001B[0m 16ms/step - loss: 26753492.0000\n",
      "Epoch 11: val_loss improved from 28315478.00000 to 28243644.00000, saving model to data/models/silica_best_tyhanov.keras\n",
      "\u001B[1m26/26\u001B[0m \u001B[32m━━━━━━━━━━━━━━━━━━━━\u001B[0m\u001B[37m\u001B[0m \u001B[1m0s\u001B[0m 4ms/step - loss: 30422644.0000 - val_loss: 28243644.0000 - learning_rate: 0.0010\n",
      "Epoch 12/100\n",
      "\u001B[1m 1/26\u001B[0m \u001B[37m━━━━━━━━━━━━━━━━━━━━\u001B[0m \u001B[1m0s\u001B[0m 11ms/step - loss: 16106483.0000\n",
      "Epoch 12: val_loss did not improve from 28243644.00000\n",
      "\u001B[1m26/26\u001B[0m \u001B[32m━━━━━━━━━━━━━━━━━━━━\u001B[0m\u001B[37m\u001B[0m \u001B[1m0s\u001B[0m 3ms/step - loss: 26419682.0000 - val_loss: 30400402.0000 - learning_rate: 0.0010\n",
      "Epoch 13/100\n",
      "\u001B[1m 1/26\u001B[0m \u001B[37m━━━━━━━━━━━━━━━━━━━━\u001B[0m \u001B[1m0s\u001B[0m 32ms/step - loss: 24996514.0000\n",
      "Epoch 13: val_loss did not improve from 28243644.00000\n",
      "\u001B[1m26/26\u001B[0m \u001B[32m━━━━━━━━━━━━━━━━━━━━\u001B[0m\u001B[37m\u001B[0m \u001B[1m0s\u001B[0m 3ms/step - loss: 23537688.0000 - val_loss: 29173054.0000 - learning_rate: 0.0010\n",
      "Epoch 14/100\n",
      "\u001B[1m 1/26\u001B[0m \u001B[37m━━━━━━━━━━━━━━━━━━━━\u001B[0m \u001B[1m0s\u001B[0m 6ms/step - loss: 20369192.0000\n",
      "Epoch 14: val_loss improved from 28243644.00000 to 28209064.00000, saving model to data/models/silica_best_tyhanov.keras\n",
      "\u001B[1m26/26\u001B[0m \u001B[32m━━━━━━━━━━━━━━━━━━━━\u001B[0m\u001B[37m\u001B[0m \u001B[1m0s\u001B[0m 4ms/step - loss: 26538298.0000 - val_loss: 28209064.0000 - learning_rate: 0.0010\n",
      "Epoch 15/100\n",
      "\u001B[1m 1/26\u001B[0m \u001B[37m━━━━━━━━━━━━━━━━━━━━\u001B[0m \u001B[1m0s\u001B[0m 16ms/step - loss: 13508136.0000\n",
      "Epoch 15: val_loss did not improve from 28209064.00000\n",
      "\u001B[1m26/26\u001B[0m \u001B[32m━━━━━━━━━━━━━━━━━━━━\u001B[0m\u001B[37m\u001B[0m \u001B[1m0s\u001B[0m 3ms/step - loss: 30379764.0000 - val_loss: 28375480.0000 - learning_rate: 0.0010\n",
      "Epoch 16/100\n",
      "\u001B[1m 1/26\u001B[0m \u001B[37m━━━━━━━━━━━━━━━━━━━━\u001B[0m \u001B[1m0s\u001B[0m 16ms/step - loss: 37392352.0000\n",
      "Epoch 16: val_loss did not improve from 28209064.00000\n",
      "\u001B[1m26/26\u001B[0m \u001B[32m━━━━━━━━━━━━━━━━━━━━\u001B[0m\u001B[37m\u001B[0m \u001B[1m0s\u001B[0m 3ms/step - loss: 26808482.0000 - val_loss: 28226002.0000 - learning_rate: 0.0010\n",
      "Epoch 17/100\n",
      "\u001B[1m 1/26\u001B[0m \u001B[37m━━━━━━━━━━━━━━━━━━━━\u001B[0m \u001B[1m0s\u001B[0m 16ms/step - loss: 5525342.0000\n",
      "Epoch 17: val_loss improved from 28209064.00000 to 28017426.00000, saving model to data/models/silica_best_tyhanov.keras\n",
      "\u001B[1m26/26\u001B[0m \u001B[32m━━━━━━━━━━━━━━━━━━━━\u001B[0m\u001B[37m\u001B[0m \u001B[1m0s\u001B[0m 4ms/step - loss: 23749918.0000 - val_loss: 28017426.0000 - learning_rate: 0.0010\n",
      "Epoch 18/100\n",
      "\u001B[1m 1/26\u001B[0m \u001B[37m━━━━━━━━━━━━━━━━━━━━\u001B[0m \u001B[1m0s\u001B[0m 6ms/step - loss: 41675384.0000\n",
      "Epoch 18: val_loss improved from 28017426.00000 to 27923742.00000, saving model to data/models/silica_best_tyhanov.keras\n",
      "\u001B[1m26/26\u001B[0m \u001B[32m━━━━━━━━━━━━━━━━━━━━\u001B[0m\u001B[37m\u001B[0m \u001B[1m0s\u001B[0m 4ms/step - loss: 29367204.0000 - val_loss: 27923742.0000 - learning_rate: 0.0010\n",
      "Epoch 19/100\n",
      "\u001B[1m 1/26\u001B[0m \u001B[37m━━━━━━━━━━━━━━━━━━━━\u001B[0m \u001B[1m0s\u001B[0m 16ms/step - loss: 48376880.0000\n",
      "Epoch 19: val_loss did not improve from 27923742.00000\n",
      "\u001B[1m26/26\u001B[0m \u001B[32m━━━━━━━━━━━━━━━━━━━━\u001B[0m\u001B[37m\u001B[0m \u001B[1m0s\u001B[0m 3ms/step - loss: 36015508.0000 - val_loss: 28033272.0000 - learning_rate: 0.0010\n",
      "Epoch 20/100\n",
      "\u001B[1m 1/26\u001B[0m \u001B[37m━━━━━━━━━━━━━━━━━━━━\u001B[0m \u001B[1m0s\u001B[0m 16ms/step - loss: 30054234.0000\n",
      "Epoch 20: val_loss did not improve from 27923742.00000\n",
      "\u001B[1m26/26\u001B[0m \u001B[32m━━━━━━━━━━━━━━━━━━━━\u001B[0m\u001B[37m\u001B[0m \u001B[1m0s\u001B[0m 3ms/step - loss: 25990122.0000 - val_loss: 27960332.0000 - learning_rate: 0.0010\n",
      "Epoch 21/100\n",
      "\u001B[1m 1/26\u001B[0m \u001B[37m━━━━━━━━━━━━━━━━━━━━\u001B[0m \u001B[1m0s\u001B[0m 28ms/step - loss: 16593698.0000\n",
      "Epoch 21: val_loss improved from 27923742.00000 to 26456372.00000, saving model to data/models/silica_best_tyhanov.keras\n",
      "\u001B[1m26/26\u001B[0m \u001B[32m━━━━━━━━━━━━━━━━━━━━\u001B[0m\u001B[37m\u001B[0m \u001B[1m0s\u001B[0m 4ms/step - loss: 29227446.0000 - val_loss: 26456372.0000 - learning_rate: 0.0010\n",
      "Epoch 22/100\n",
      "\u001B[1m 1/26\u001B[0m \u001B[37m━━━━━━━━━━━━━━━━━━━━\u001B[0m \u001B[1m0s\u001B[0m 16ms/step - loss: 12955596.0000\n",
      "Epoch 22: val_loss improved from 26456372.00000 to 26052540.00000, saving model to data/models/silica_best_tyhanov.keras\n",
      "\u001B[1m26/26\u001B[0m \u001B[32m━━━━━━━━━━━━━━━━━━━━\u001B[0m\u001B[37m\u001B[0m \u001B[1m0s\u001B[0m 4ms/step - loss: 23423688.0000 - val_loss: 26052540.0000 - learning_rate: 0.0010\n",
      "Epoch 23/100\n",
      "\u001B[1m 1/26\u001B[0m \u001B[37m━━━━━━━━━━━━━━━━━━━━\u001B[0m \u001B[1m0s\u001B[0m 19ms/step - loss: 13393086.0000\n",
      "Epoch 23: val_loss did not improve from 26052540.00000\n",
      "\u001B[1m26/26\u001B[0m \u001B[32m━━━━━━━━━━━━━━━━━━━━\u001B[0m\u001B[37m\u001B[0m \u001B[1m0s\u001B[0m 3ms/step - loss: 22802430.0000 - val_loss: 26117574.0000 - learning_rate: 0.0010\n",
      "Epoch 24/100\n",
      "\u001B[1m 1/26\u001B[0m \u001B[37m━━━━━━━━━━━━━━━━━━━━\u001B[0m \u001B[1m2s\u001B[0m 110ms/step - loss: 25840354.0000\n",
      "Epoch 24: val_loss did not improve from 26052540.00000\n",
      "\u001B[1m26/26\u001B[0m \u001B[32m━━━━━━━━━━━━━━━━━━━━\u001B[0m\u001B[37m\u001B[0m \u001B[1m0s\u001B[0m 3ms/step - loss: 28952654.0000 - val_loss: 26102550.0000 - learning_rate: 0.0010\n",
      "Epoch 25/100\n",
      "\u001B[1m 1/26\u001B[0m \u001B[37m━━━━━━━━━━━━━━━━━━━━\u001B[0m \u001B[1m0s\u001B[0m 31ms/step - loss: 23483724.0000\n",
      "Epoch 25: val_loss improved from 26052540.00000 to 25861834.00000, saving model to data/models/silica_best_tyhanov.keras\n",
      "\u001B[1m26/26\u001B[0m \u001B[32m━━━━━━━━━━━━━━━━━━━━\u001B[0m\u001B[37m\u001B[0m \u001B[1m0s\u001B[0m 4ms/step - loss: 25703502.0000 - val_loss: 25861834.0000 - learning_rate: 0.0010\n",
      "Epoch 26/100\n",
      "\u001B[1m 1/26\u001B[0m \u001B[37m━━━━━━━━━━━━━━━━━━━━\u001B[0m \u001B[1m0s\u001B[0m 16ms/step - loss: 44000944.0000\n",
      "Epoch 26: val_loss did not improve from 25861834.00000\n",
      "\u001B[1m26/26\u001B[0m \u001B[32m━━━━━━━━━━━━━━━━━━━━\u001B[0m\u001B[37m\u001B[0m \u001B[1m0s\u001B[0m 3ms/step - loss: 27047148.0000 - val_loss: 25864842.0000 - learning_rate: 0.0010\n",
      "Epoch 27/100\n",
      "\u001B[1m 1/26\u001B[0m \u001B[37m━━━━━━━━━━━━━━━━━━━━\u001B[0m \u001B[1m0s\u001B[0m 16ms/step - loss: 24313526.0000\n",
      "Epoch 27: val_loss improved from 25861834.00000 to 25774108.00000, saving model to data/models/silica_best_tyhanov.keras\n",
      "\u001B[1m26/26\u001B[0m \u001B[32m━━━━━━━━━━━━━━━━━━━━\u001B[0m\u001B[37m\u001B[0m \u001B[1m0s\u001B[0m 4ms/step - loss: 26839094.0000 - val_loss: 25774108.0000 - learning_rate: 0.0010\n",
      "Epoch 28/100\n",
      "\u001B[1m 1/26\u001B[0m \u001B[37m━━━━━━━━━━━━━━━━━━━━\u001B[0m \u001B[1m0s\u001B[0m 16ms/step - loss: 16795680.0000\n",
      "Epoch 28: val_loss did not improve from 25774108.00000\n",
      "\u001B[1m26/26\u001B[0m \u001B[32m━━━━━━━━━━━━━━━━━━━━\u001B[0m\u001B[37m\u001B[0m \u001B[1m0s\u001B[0m 3ms/step - loss: 26210958.0000 - val_loss: 31887286.0000 - learning_rate: 0.0010\n",
      "Epoch 29/100\n",
      "\u001B[1m 1/26\u001B[0m \u001B[37m━━━━━━━━━━━━━━━━━━━━\u001B[0m \u001B[1m0s\u001B[0m 16ms/step - loss: 26069308.0000\n",
      "Epoch 29: val_loss did not improve from 25774108.00000\n",
      "\u001B[1m26/26\u001B[0m \u001B[32m━━━━━━━━━━━━━━━━━━━━\u001B[0m\u001B[37m\u001B[0m \u001B[1m0s\u001B[0m 3ms/step - loss: 28111394.0000 - val_loss: 26932008.0000 - learning_rate: 0.0010\n",
      "Epoch 30/100\n",
      "\u001B[1m 1/26\u001B[0m \u001B[37m━━━━━━━━━━━━━━━━━━━━\u001B[0m \u001B[1m0s\u001B[0m 31ms/step - loss: 20346266.0000\n",
      "Epoch 30: val_loss did not improve from 25774108.00000\n",
      "\u001B[1m26/26\u001B[0m \u001B[32m━━━━━━━━━━━━━━━━━━━━\u001B[0m\u001B[37m\u001B[0m \u001B[1m0s\u001B[0m 2ms/step - loss: 26674720.0000 - val_loss: 25781534.0000 - learning_rate: 0.0010\n",
      "Epoch 31/100\n",
      "\u001B[1m 1/26\u001B[0m \u001B[37m━━━━━━━━━━━━━━━━━━━━\u001B[0m \u001B[1m0s\u001B[0m 16ms/step - loss: 23304498.0000\n",
      "Epoch 31: val_loss improved from 25774108.00000 to 25724616.00000, saving model to data/models/silica_best_tyhanov.keras\n",
      "\u001B[1m26/26\u001B[0m \u001B[32m━━━━━━━━━━━━━━━━━━━━\u001B[0m\u001B[37m\u001B[0m \u001B[1m0s\u001B[0m 4ms/step - loss: 24872304.0000 - val_loss: 25724616.0000 - learning_rate: 0.0010\n",
      "Epoch 32/100\n",
      "\u001B[1m 1/26\u001B[0m \u001B[37m━━━━━━━━━━━━━━━━━━━━\u001B[0m \u001B[1m0s\u001B[0m 31ms/step - loss: 29540422.0000\n",
      "Epoch 32: val_loss improved from 25724616.00000 to 25673452.00000, saving model to data/models/silica_best_tyhanov.keras\n",
      "\u001B[1m26/26\u001B[0m \u001B[32m━━━━━━━━━━━━━━━━━━━━\u001B[0m\u001B[37m\u001B[0m \u001B[1m0s\u001B[0m 3ms/step - loss: 25610972.0000 - val_loss: 25673452.0000 - learning_rate: 0.0010\n",
      "Epoch 33/100\n",
      "\u001B[1m 1/26\u001B[0m \u001B[37m━━━━━━━━━━━━━━━━━━━━\u001B[0m \u001B[1m0s\u001B[0m 16ms/step - loss: 8480664.0000\n",
      "Epoch 33: val_loss did not improve from 25673452.00000\n",
      "\u001B[1m26/26\u001B[0m \u001B[32m━━━━━━━━━━━━━━━━━━━━\u001B[0m\u001B[37m\u001B[0m \u001B[1m0s\u001B[0m 3ms/step - loss: 23312156.0000 - val_loss: 25806500.0000 - learning_rate: 0.0010\n",
      "Epoch 34/100\n",
      "\u001B[1m 1/26\u001B[0m \u001B[37m━━━━━━━━━━━━━━━━━━━━\u001B[0m \u001B[1m0s\u001B[0m 16ms/step - loss: 21548548.0000\n",
      "Epoch 34: val_loss did not improve from 25673452.00000\n",
      "\u001B[1m26/26\u001B[0m \u001B[32m━━━━━━━━━━━━━━━━━━━━\u001B[0m\u001B[37m\u001B[0m \u001B[1m0s\u001B[0m 3ms/step - loss: 24738968.0000 - val_loss: 25741932.0000 - learning_rate: 0.0010\n",
      "Epoch 35/100\n",
      "\u001B[1m 1/26\u001B[0m \u001B[37m━━━━━━━━━━━━━━━━━━━━\u001B[0m \u001B[1m0s\u001B[0m 31ms/step - loss: 27755210.0000\n",
      "Epoch 35: val_loss did not improve from 25673452.00000\n",
      "\u001B[1m26/26\u001B[0m \u001B[32m━━━━━━━━━━━━━━━━━━━━\u001B[0m\u001B[37m\u001B[0m \u001B[1m0s\u001B[0m 3ms/step - loss: 26765090.0000 - val_loss: 25712004.0000 - learning_rate: 0.0010\n",
      "Epoch 36/100\n",
      "\u001B[1m 1/26\u001B[0m \u001B[37m━━━━━━━━━━━━━━━━━━━━\u001B[0m \u001B[1m0s\u001B[0m 16ms/step - loss: 16784026.0000\n",
      "Epoch 36: val_loss did not improve from 25673452.00000\n",
      "\u001B[1m26/26\u001B[0m \u001B[32m━━━━━━━━━━━━━━━━━━━━\u001B[0m\u001B[37m\u001B[0m \u001B[1m0s\u001B[0m 3ms/step - loss: 22795148.0000 - val_loss: 25703680.0000 - learning_rate: 0.0010\n",
      "Epoch 37/100\n",
      "\u001B[1m 1/26\u001B[0m \u001B[37m━━━━━━━━━━━━━━━━━━━━\u001B[0m \u001B[1m0s\u001B[0m 16ms/step - loss: 11695451.0000\n",
      "Epoch 37: val_loss improved from 25673452.00000 to 25621882.00000, saving model to data/models/silica_best_tyhanov.keras\n",
      "\u001B[1m26/26\u001B[0m \u001B[32m━━━━━━━━━━━━━━━━━━━━\u001B[0m\u001B[37m\u001B[0m \u001B[1m0s\u001B[0m 4ms/step - loss: 23246696.0000 - val_loss: 25621882.0000 - learning_rate: 0.0010\n",
      "Epoch 38/100\n",
      "\u001B[1m 1/26\u001B[0m \u001B[37m━━━━━━━━━━━━━━━━━━━━\u001B[0m \u001B[1m0s\u001B[0m 27ms/step - loss: 24551456.0000\n",
      "Epoch 38: val_loss improved from 25621882.00000 to 25514136.00000, saving model to data/models/silica_best_tyhanov.keras\n",
      "\u001B[1m26/26\u001B[0m \u001B[32m━━━━━━━━━━━━━━━━━━━━\u001B[0m\u001B[37m\u001B[0m \u001B[1m0s\u001B[0m 3ms/step - loss: 26786446.0000 - val_loss: 25514136.0000 - learning_rate: 0.0010\n",
      "Epoch 39/100\n",
      "\u001B[1m 1/26\u001B[0m \u001B[37m━━━━━━━━━━━━━━━━━━━━\u001B[0m \u001B[1m0s\u001B[0m 31ms/step - loss: 39575816.0000\n",
      "Epoch 39: val_loss did not improve from 25514136.00000\n",
      "\u001B[1m26/26\u001B[0m \u001B[32m━━━━━━━━━━━━━━━━━━━━\u001B[0m\u001B[37m\u001B[0m \u001B[1m0s\u001B[0m 3ms/step - loss: 33215536.0000 - val_loss: 25605904.0000 - learning_rate: 0.0010\n",
      "Epoch 40/100\n",
      "\u001B[1m 1/26\u001B[0m \u001B[37m━━━━━━━━━━━━━━━━━━━━\u001B[0m \u001B[1m0s\u001B[0m 31ms/step - loss: 24063796.0000\n",
      "Epoch 40: val_loss did not improve from 25514136.00000\n",
      "\u001B[1m26/26\u001B[0m \u001B[32m━━━━━━━━━━━━━━━━━━━━\u001B[0m\u001B[37m\u001B[0m \u001B[1m0s\u001B[0m 2ms/step - loss: 27232956.0000 - val_loss: 25955856.0000 - learning_rate: 0.0010\n",
      "Epoch 41/100\n",
      "\u001B[1m 1/26\u001B[0m \u001B[37m━━━━━━━━━━━━━━━━━━━━\u001B[0m \u001B[1m0s\u001B[0m 16ms/step - loss: 20581114.0000\n",
      "Epoch 41: val_loss improved from 25514136.00000 to 25458974.00000, saving model to data/models/silica_best_tyhanov.keras\n",
      "\u001B[1m26/26\u001B[0m \u001B[32m━━━━━━━━━━━━━━━━━━━━\u001B[0m\u001B[37m\u001B[0m \u001B[1m0s\u001B[0m 4ms/step - loss: 25006846.0000 - val_loss: 25458974.0000 - learning_rate: 0.0010\n",
      "Epoch 42/100\n",
      "\u001B[1m 1/26\u001B[0m \u001B[37m━━━━━━━━━━━━━━━━━━━━\u001B[0m \u001B[1m0s\u001B[0m 30ms/step - loss: 14465632.0000\n",
      "Epoch 42: val_loss did not improve from 25458974.00000\n",
      "\u001B[1m26/26\u001B[0m \u001B[32m━━━━━━━━━━━━━━━━━━━━\u001B[0m\u001B[37m\u001B[0m \u001B[1m0s\u001B[0m 3ms/step - loss: 29993036.0000 - val_loss: 25986974.0000 - learning_rate: 0.0010\n",
      "Epoch 43/100\n",
      "\u001B[1m 1/26\u001B[0m \u001B[37m━━━━━━━━━━━━━━━━━━━━\u001B[0m \u001B[1m0s\u001B[0m 31ms/step - loss: 22217280.0000\n",
      "Epoch 43: val_loss did not improve from 25458974.00000\n",
      "\u001B[1m26/26\u001B[0m \u001B[32m━━━━━━━━━━━━━━━━━━━━\u001B[0m\u001B[37m\u001B[0m \u001B[1m0s\u001B[0m 2ms/step - loss: 25749986.0000 - val_loss: 25682118.0000 - learning_rate: 0.0010\n",
      "Epoch 44/100\n",
      "\u001B[1m 1/26\u001B[0m \u001B[37m━━━━━━━━━━━━━━━━━━━━\u001B[0m \u001B[1m0s\u001B[0m 32ms/step - loss: 25943424.0000\n",
      "Epoch 44: val_loss did not improve from 25458974.00000\n",
      "\u001B[1m26/26\u001B[0m \u001B[32m━━━━━━━━━━━━━━━━━━━━\u001B[0m\u001B[37m\u001B[0m \u001B[1m0s\u001B[0m 3ms/step - loss: 24455408.0000 - val_loss: 25509566.0000 - learning_rate: 0.0010\n",
      "Epoch 45/100\n",
      "\u001B[1m 1/26\u001B[0m \u001B[37m━━━━━━━━━━━━━━━━━━━━\u001B[0m \u001B[1m0s\u001B[0m 25ms/step - loss: 12090892.0000\n",
      "Epoch 45: val_loss did not improve from 25458974.00000\n",
      "\u001B[1m26/26\u001B[0m \u001B[32m━━━━━━━━━━━━━━━━━━━━\u001B[0m\u001B[37m\u001B[0m \u001B[1m0s\u001B[0m 3ms/step - loss: 23366418.0000 - val_loss: 25574098.0000 - learning_rate: 0.0010\n",
      "Epoch 46/100\n",
      "\u001B[1m 1/26\u001B[0m \u001B[37m━━━━━━━━━━━━━━━━━━━━\u001B[0m \u001B[1m0s\u001B[0m 16ms/step - loss: 59175688.0000\n",
      "Epoch 46: val_loss did not improve from 25458974.00000\n",
      "\u001B[1m26/26\u001B[0m \u001B[32m━━━━━━━━━━━━━━━━━━━━\u001B[0m\u001B[37m\u001B[0m \u001B[1m0s\u001B[0m 3ms/step - loss: 29706982.0000 - val_loss: 25627314.0000 - learning_rate: 0.0010\n",
      "Epoch 47/100\n",
      "\u001B[1m 1/26\u001B[0m \u001B[37m━━━━━━━━━━━━━━━━━━━━\u001B[0m \u001B[1m0s\u001B[0m 32ms/step - loss: 5807527.0000\n",
      "Epoch 47: val_loss did not improve from 25458974.00000\n",
      "\u001B[1m26/26\u001B[0m \u001B[32m━━━━━━━━━━━━━━━━━━━━\u001B[0m\u001B[37m\u001B[0m \u001B[1m0s\u001B[0m 3ms/step - loss: 24873078.0000 - val_loss: 25834790.0000 - learning_rate: 0.0010\n",
      "Epoch 48/100\n",
      "\u001B[1m 1/26\u001B[0m \u001B[37m━━━━━━━━━━━━━━━━━━━━\u001B[0m \u001B[1m0s\u001B[0m 16ms/step - loss: 49542456.0000\n",
      "Epoch 48: val_loss did not improve from 25458974.00000\n",
      "\u001B[1m26/26\u001B[0m \u001B[32m━━━━━━━━━━━━━━━━━━━━\u001B[0m\u001B[37m\u001B[0m \u001B[1m0s\u001B[0m 3ms/step - loss: 27470948.0000 - val_loss: 25459598.0000 - learning_rate: 0.0010\n",
      "Epoch 49/100\n",
      "\u001B[1m 1/26\u001B[0m \u001B[37m━━━━━━━━━━━━━━━━━━━━\u001B[0m \u001B[1m0s\u001B[0m 16ms/step - loss: 15030707.0000\n",
      "Epoch 49: val_loss improved from 25458974.00000 to 25370022.00000, saving model to data/models/silica_best_tyhanov.keras\n",
      "\u001B[1m26/26\u001B[0m \u001B[32m━━━━━━━━━━━━━━━━━━━━\u001B[0m\u001B[37m\u001B[0m \u001B[1m0s\u001B[0m 4ms/step - loss: 25268116.0000 - val_loss: 25370022.0000 - learning_rate: 0.0010\n",
      "Epoch 50/100\n",
      "\u001B[1m 1/26\u001B[0m \u001B[37m━━━━━━━━━━━━━━━━━━━━\u001B[0m \u001B[1m0s\u001B[0m 25ms/step - loss: 18885536.0000\n",
      "Epoch 50: val_loss did not improve from 25370022.00000\n",
      "\u001B[1m26/26\u001B[0m \u001B[32m━━━━━━━━━━━━━━━━━━━━\u001B[0m\u001B[37m\u001B[0m \u001B[1m0s\u001B[0m 3ms/step - loss: 26491964.0000 - val_loss: 25425406.0000 - learning_rate: 0.0010\n",
      "Epoch 51/100\n",
      "\u001B[1m 1/26\u001B[0m \u001B[37m━━━━━━━━━━━━━━━━━━━━\u001B[0m \u001B[1m0s\u001B[0m 16ms/step - loss: 24299160.0000\n",
      "Epoch 51: val_loss did not improve from 25370022.00000\n",
      "\u001B[1m26/26\u001B[0m \u001B[32m━━━━━━━━━━━━━━━━━━━━\u001B[0m\u001B[37m\u001B[0m \u001B[1m0s\u001B[0m 3ms/step - loss: 25074920.0000 - val_loss: 25632452.0000 - learning_rate: 0.0010\n",
      "Epoch 52/100\n",
      "\u001B[1m 1/26\u001B[0m \u001B[37m━━━━━━━━━━━━━━━━━━━━\u001B[0m \u001B[1m0s\u001B[0m 16ms/step - loss: 52612304.0000\n",
      "Epoch 52: val_loss did not improve from 25370022.00000\n",
      "\u001B[1m26/26\u001B[0m \u001B[32m━━━━━━━━━━━━━━━━━━━━\u001B[0m\u001B[37m\u001B[0m \u001B[1m0s\u001B[0m 3ms/step - loss: 28624276.0000 - val_loss: 26213130.0000 - learning_rate: 0.0010\n",
      "Epoch 53/100\n",
      "\u001B[1m 1/26\u001B[0m \u001B[37m━━━━━━━━━━━━━━━━━━━━\u001B[0m \u001B[1m0s\u001B[0m 15ms/step - loss: 5205348.5000\n",
      "Epoch 53: val_loss did not improve from 25370022.00000\n",
      "\u001B[1m26/26\u001B[0m \u001B[32m━━━━━━━━━━━━━━━━━━━━\u001B[0m\u001B[37m\u001B[0m \u001B[1m0s\u001B[0m 3ms/step - loss: 26305564.0000 - val_loss: 25449998.0000 - learning_rate: 0.0010\n",
      "Epoch 54/100\n",
      "\u001B[1m 1/26\u001B[0m \u001B[37m━━━━━━━━━━━━━━━━━━━━\u001B[0m \u001B[1m0s\u001B[0m 16ms/step - loss: 17716732.0000\n",
      "Epoch 54: val_loss did not improve from 25370022.00000\n",
      "\u001B[1m26/26\u001B[0m \u001B[32m━━━━━━━━━━━━━━━━━━━━\u001B[0m\u001B[37m\u001B[0m \u001B[1m0s\u001B[0m 3ms/step - loss: 25403800.0000 - val_loss: 27524270.0000 - learning_rate: 0.0010\n",
      "Epoch 55/100\n",
      "\u001B[1m 1/26\u001B[0m \u001B[37m━━━━━━━━━━━━━━━━━━━━\u001B[0m \u001B[1m0s\u001B[0m 29ms/step - loss: 14324078.0000\n",
      "Epoch 55: val_loss did not improve from 25370022.00000\n",
      "\u001B[1m26/26\u001B[0m \u001B[32m━━━━━━━━━━━━━━━━━━━━\u001B[0m\u001B[37m\u001B[0m \u001B[1m0s\u001B[0m 3ms/step - loss: 26357442.0000 - val_loss: 26282382.0000 - learning_rate: 0.0010\n",
      "Epoch 56/100\n",
      "\u001B[1m 1/26\u001B[0m \u001B[37m━━━━━━━━━━━━━━━━━━━━\u001B[0m \u001B[1m0s\u001B[0m 37ms/step - loss: 22173998.0000\n",
      "Epoch 56: val_loss did not improve from 25370022.00000\n",
      "\u001B[1m26/26\u001B[0m \u001B[32m━━━━━━━━━━━━━━━━━━━━\u001B[0m\u001B[37m\u001B[0m \u001B[1m0s\u001B[0m 2ms/step - loss: 25701772.0000 - val_loss: 25442560.0000 - learning_rate: 0.0010\n",
      "Epoch 57/100\n",
      "\u001B[1m 1/26\u001B[0m \u001B[37m━━━━━━━━━━━━━━━━━━━━\u001B[0m \u001B[1m0s\u001B[0m 16ms/step - loss: 42936432.0000\n",
      "Epoch 57: val_loss improved from 25370022.00000 to 25211842.00000, saving model to data/models/silica_best_tyhanov.keras\n",
      "\u001B[1m26/26\u001B[0m \u001B[32m━━━━━━━━━━━━━━━━━━━━\u001B[0m\u001B[37m\u001B[0m \u001B[1m0s\u001B[0m 3ms/step - loss: 27522652.0000 - val_loss: 25211842.0000 - learning_rate: 0.0010\n",
      "Epoch 58/100\n",
      "\u001B[1m 1/26\u001B[0m \u001B[37m━━━━━━━━━━━━━━━━━━━━\u001B[0m \u001B[1m0s\u001B[0m 31ms/step - loss: 31115450.0000\n",
      "Epoch 58: val_loss did not improve from 25211842.00000\n",
      "\u001B[1m26/26\u001B[0m \u001B[32m━━━━━━━━━━━━━━━━━━━━\u001B[0m\u001B[37m\u001B[0m \u001B[1m0s\u001B[0m 2ms/step - loss: 28045662.0000 - val_loss: 25237968.0000 - learning_rate: 0.0010\n",
      "Epoch 59/100\n",
      "\u001B[1m 1/26\u001B[0m \u001B[37m━━━━━━━━━━━━━━━━━━━━\u001B[0m \u001B[1m0s\u001B[0m 16ms/step - loss: 22601298.0000\n",
      "Epoch 59: val_loss did not improve from 25211842.00000\n",
      "\u001B[1m26/26\u001B[0m \u001B[32m━━━━━━━━━━━━━━━━━━━━\u001B[0m\u001B[37m\u001B[0m \u001B[1m0s\u001B[0m 3ms/step - loss: 26054380.0000 - val_loss: 25220848.0000 - learning_rate: 0.0010\n",
      "Epoch 60/100\n",
      "\u001B[1m 1/26\u001B[0m \u001B[37m━━━━━━━━━━━━━━━━━━━━\u001B[0m \u001B[1m0s\u001B[0m 16ms/step - loss: 26654472.0000\n",
      "Epoch 60: val_loss improved from 25211842.00000 to 25148160.00000, saving model to data/models/silica_best_tyhanov.keras\n",
      "\u001B[1m26/26\u001B[0m \u001B[32m━━━━━━━━━━━━━━━━━━━━\u001B[0m\u001B[37m\u001B[0m \u001B[1m0s\u001B[0m 4ms/step - loss: 29139180.0000 - val_loss: 25148160.0000 - learning_rate: 0.0010\n",
      "Epoch 61/100\n",
      "\u001B[1m 1/26\u001B[0m \u001B[37m━━━━━━━━━━━━━━━━━━━━\u001B[0m \u001B[1m0s\u001B[0m 25ms/step - loss: 27364794.0000\n",
      "Epoch 61: val_loss improved from 25148160.00000 to 25121098.00000, saving model to data/models/silica_best_tyhanov.keras\n",
      "\u001B[1m26/26\u001B[0m \u001B[32m━━━━━━━━━━━━━━━━━━━━\u001B[0m\u001B[37m\u001B[0m \u001B[1m0s\u001B[0m 3ms/step - loss: 25578980.0000 - val_loss: 25121098.0000 - learning_rate: 0.0010\n",
      "Epoch 62/100\n",
      "\u001B[1m 1/26\u001B[0m \u001B[37m━━━━━━━━━━━━━━━━━━━━\u001B[0m \u001B[1m0s\u001B[0m 16ms/step - loss: 20015906.0000\n",
      "Epoch 62: val_loss did not improve from 25121098.00000\n",
      "\u001B[1m26/26\u001B[0m \u001B[32m━━━━━━━━━━━━━━━━━━━━\u001B[0m\u001B[37m\u001B[0m \u001B[1m0s\u001B[0m 3ms/step - loss: 25398306.0000 - val_loss: 25273660.0000 - learning_rate: 0.0010\n",
      "Epoch 63/100\n",
      "\u001B[1m 1/26\u001B[0m \u001B[37m━━━━━━━━━━━━━━━━━━━━\u001B[0m \u001B[1m0s\u001B[0m 16ms/step - loss: 21115606.0000\n",
      "Epoch 63: val_loss did not improve from 25121098.00000\n",
      "\u001B[1m26/26\u001B[0m \u001B[32m━━━━━━━━━━━━━━━━━━━━\u001B[0m\u001B[37m\u001B[0m \u001B[1m0s\u001B[0m 3ms/step - loss: 22559926.0000 - val_loss: 25233124.0000 - learning_rate: 0.0010\n",
      "Epoch 64/100\n",
      "\u001B[1m 1/26\u001B[0m \u001B[37m━━━━━━━━━━━━━━━━━━━━\u001B[0m \u001B[1m0s\u001B[0m 16ms/step - loss: 6032941.0000\n",
      "Epoch 64: val_loss did not improve from 25121098.00000\n",
      "\u001B[1m26/26\u001B[0m \u001B[32m━━━━━━━━━━━━━━━━━━━━\u001B[0m\u001B[37m\u001B[0m \u001B[1m0s\u001B[0m 3ms/step - loss: 24548344.0000 - val_loss: 25171200.0000 - learning_rate: 0.0010\n",
      "Epoch 65/100\n",
      "\u001B[1m 1/26\u001B[0m \u001B[37m━━━━━━━━━━━━━━━━━━━━\u001B[0m \u001B[1m2s\u001B[0m 93ms/step - loss: 16388904.0000\n",
      "Epoch 65: val_loss improved from 25121098.00000 to 25075792.00000, saving model to data/models/silica_best_tyhanov.keras\n",
      "\u001B[1m26/26\u001B[0m \u001B[32m━━━━━━━━━━━━━━━━━━━━\u001B[0m\u001B[37m\u001B[0m \u001B[1m0s\u001B[0m 4ms/step - loss: 22596350.0000 - val_loss: 25075792.0000 - learning_rate: 0.0010\n",
      "Epoch 66/100\n",
      "\u001B[1m 1/26\u001B[0m \u001B[37m━━━━━━━━━━━━━━━━━━━━\u001B[0m \u001B[1m0s\u001B[0m 15ms/step - loss: 14234398.0000\n",
      "Epoch 66: val_loss did not improve from 25075792.00000\n",
      "\u001B[1m26/26\u001B[0m \u001B[32m━━━━━━━━━━━━━━━━━━━━\u001B[0m\u001B[37m\u001B[0m \u001B[1m0s\u001B[0m 3ms/step - loss: 27117012.0000 - val_loss: 25098414.0000 - learning_rate: 0.0010\n",
      "Epoch 67/100\n",
      "\u001B[1m 1/26\u001B[0m \u001B[37m━━━━━━━━━━━━━━━━━━━━\u001B[0m \u001B[1m0s\u001B[0m 29ms/step - loss: 28480762.0000\n",
      "Epoch 67: val_loss did not improve from 25075792.00000\n",
      "\u001B[1m26/26\u001B[0m \u001B[32m━━━━━━━━━━━━━━━━━━━━\u001B[0m\u001B[37m\u001B[0m \u001B[1m0s\u001B[0m 3ms/step - loss: 25504846.0000 - val_loss: 25096648.0000 - learning_rate: 0.0010\n",
      "Epoch 68/100\n",
      "\u001B[1m 1/26\u001B[0m \u001B[37m━━━━━━━━━━━━━━━━━━━━\u001B[0m \u001B[1m0s\u001B[0m 16ms/step - loss: 17995506.0000\n",
      "Epoch 68: val_loss did not improve from 25075792.00000\n",
      "\u001B[1m26/26\u001B[0m \u001B[32m━━━━━━━━━━━━━━━━━━━━\u001B[0m\u001B[37m\u001B[0m \u001B[1m0s\u001B[0m 3ms/step - loss: 26259916.0000 - val_loss: 25106544.0000 - learning_rate: 0.0010\n",
      "Epoch 69/100\n",
      "\u001B[1m 1/26\u001B[0m \u001B[37m━━━━━━━━━━━━━━━━━━━━\u001B[0m \u001B[1m0s\u001B[0m 32ms/step - loss: 22747038.0000\n",
      "Epoch 69: val_loss improved from 25075792.00000 to 25028240.00000, saving model to data/models/silica_best_tyhanov.keras\n",
      "\u001B[1m26/26\u001B[0m \u001B[32m━━━━━━━━━━━━━━━━━━━━\u001B[0m\u001B[37m\u001B[0m \u001B[1m0s\u001B[0m 4ms/step - loss: 25577662.0000 - val_loss: 25028240.0000 - learning_rate: 0.0010\n",
      "Epoch 70/100\n",
      "\u001B[1m 1/26\u001B[0m \u001B[37m━━━━━━━━━━━━━━━━━━━━\u001B[0m \u001B[1m0s\u001B[0m 16ms/step - loss: 25102612.0000\n",
      "Epoch 70: val_loss did not improve from 25028240.00000\n",
      "\u001B[1m26/26\u001B[0m \u001B[32m━━━━━━━━━━━━━━━━━━━━\u001B[0m\u001B[37m\u001B[0m \u001B[1m0s\u001B[0m 3ms/step - loss: 24721928.0000 - val_loss: 25136600.0000 - learning_rate: 0.0010\n",
      "Epoch 71/100\n",
      "\u001B[1m 1/26\u001B[0m \u001B[37m━━━━━━━━━━━━━━━━━━━━\u001B[0m \u001B[1m0s\u001B[0m 16ms/step - loss: 50904560.0000\n",
      "Epoch 71: val_loss did not improve from 25028240.00000\n",
      "\u001B[1m26/26\u001B[0m \u001B[32m━━━━━━━━━━━━━━━━━━━━\u001B[0m\u001B[37m\u001B[0m \u001B[1m0s\u001B[0m 2ms/step - loss: 28149316.0000 - val_loss: 25199390.0000 - learning_rate: 0.0010\n",
      "Epoch 72/100\n",
      "\u001B[1m 1/26\u001B[0m \u001B[37m━━━━━━━━━━━━━━━━━━━━\u001B[0m \u001B[1m0s\u001B[0m 16ms/step - loss: 37165576.0000\n",
      "Epoch 72: val_loss did not improve from 25028240.00000\n",
      "\u001B[1m26/26\u001B[0m \u001B[32m━━━━━━━━━━━━━━━━━━━━\u001B[0m\u001B[37m\u001B[0m \u001B[1m0s\u001B[0m 3ms/step - loss: 25619552.0000 - val_loss: 25226940.0000 - learning_rate: 0.0010\n",
      "Epoch 73/100\n",
      "\u001B[1m 1/26\u001B[0m \u001B[37m━━━━━━━━━━━━━━━━━━━━\u001B[0m \u001B[1m0s\u001B[0m 16ms/step - loss: 39853124.0000\n",
      "Epoch 73: val_loss did not improve from 25028240.00000\n",
      "\u001B[1m26/26\u001B[0m \u001B[32m━━━━━━━━━━━━━━━━━━━━\u001B[0m\u001B[37m\u001B[0m \u001B[1m0s\u001B[0m 3ms/step - loss: 25712654.0000 - val_loss: 25029860.0000 - learning_rate: 0.0010\n",
      "Epoch 74/100\n",
      "\u001B[1m 1/26\u001B[0m \u001B[37m━━━━━━━━━━━━━━━━━━━━\u001B[0m \u001B[1m2s\u001B[0m 109ms/step - loss: 12798928.0000\n",
      "Epoch 74: val_loss did not improve from 25028240.00000\n",
      "\u001B[1m26/26\u001B[0m \u001B[32m━━━━━━━━━━━━━━━━━━━━\u001B[0m\u001B[37m\u001B[0m \u001B[1m0s\u001B[0m 3ms/step - loss: 20387292.0000 - val_loss: 25136596.0000 - learning_rate: 0.0010\n",
      "Epoch 75/100\n",
      "\u001B[1m 1/26\u001B[0m \u001B[37m━━━━━━━━━━━━━━━━━━━━\u001B[0m \u001B[1m0s\u001B[0m 35ms/step - loss: 45138836.0000\n",
      "Epoch 75: val_loss did not improve from 25028240.00000\n",
      "\u001B[1m26/26\u001B[0m \u001B[32m━━━━━━━━━━━━━━━━━━━━\u001B[0m\u001B[37m\u001B[0m \u001B[1m0s\u001B[0m 3ms/step - loss: 25145822.0000 - val_loss: 25099594.0000 - learning_rate: 0.0010\n",
      "Epoch 76/100\n",
      "\u001B[1m 1/26\u001B[0m \u001B[37m━━━━━━━━━━━━━━━━━━━━\u001B[0m \u001B[1m0s\u001B[0m 31ms/step - loss: 6384894.0000\n",
      "Epoch 76: val_loss improved from 25028240.00000 to 24971378.00000, saving model to data/models/silica_best_tyhanov.keras\n",
      "\u001B[1m26/26\u001B[0m \u001B[32m━━━━━━━━━━━━━━━━━━━━\u001B[0m\u001B[37m\u001B[0m \u001B[1m0s\u001B[0m 4ms/step - loss: 20949562.0000 - val_loss: 24971378.0000 - learning_rate: 0.0010\n",
      "Epoch 77/100\n",
      "\u001B[1m 1/26\u001B[0m \u001B[37m━━━━━━━━━━━━━━━━━━━━\u001B[0m \u001B[1m0s\u001B[0m 16ms/step - loss: 18271714.0000\n",
      "Epoch 77: val_loss did not improve from 24971378.00000\n",
      "\u001B[1m26/26\u001B[0m \u001B[32m━━━━━━━━━━━━━━━━━━━━\u001B[0m\u001B[37m\u001B[0m \u001B[1m0s\u001B[0m 3ms/step - loss: 27186410.0000 - val_loss: 25085374.0000 - learning_rate: 0.0010\n",
      "Epoch 78/100\n",
      "\u001B[1m 1/26\u001B[0m \u001B[37m━━━━━━━━━━━━━━━━━━━━\u001B[0m \u001B[1m0s\u001B[0m 31ms/step - loss: 29894598.0000\n",
      "Epoch 78: val_loss improved from 24971378.00000 to 23681294.00000, saving model to data/models/silica_best_tyhanov.keras\n",
      "\u001B[1m26/26\u001B[0m \u001B[32m━━━━━━━━━━━━━━━━━━━━\u001B[0m\u001B[37m\u001B[0m \u001B[1m0s\u001B[0m 3ms/step - loss: 26784758.0000 - val_loss: 23681294.0000 - learning_rate: 0.0010\n",
      "Epoch 79/100\n",
      "\u001B[1m 1/26\u001B[0m \u001B[37m━━━━━━━━━━━━━━━━━━━━\u001B[0m \u001B[1m0s\u001B[0m 31ms/step - loss: 30788572.0000\n",
      "Epoch 79: val_loss improved from 23681294.00000 to 23315314.00000, saving model to data/models/silica_best_tyhanov.keras\n",
      "\u001B[1m26/26\u001B[0m \u001B[32m━━━━━━━━━━━━━━━━━━━━\u001B[0m\u001B[37m\u001B[0m \u001B[1m0s\u001B[0m 4ms/step - loss: 24290382.0000 - val_loss: 23315314.0000 - learning_rate: 0.0010\n",
      "Epoch 80/100\n",
      "\u001B[1m 1/26\u001B[0m \u001B[37m━━━━━━━━━━━━━━━━━━━━\u001B[0m \u001B[1m0s\u001B[0m 16ms/step - loss: 22192048.0000\n",
      "Epoch 80: val_loss improved from 23315314.00000 to 23233844.00000, saving model to data/models/silica_best_tyhanov.keras\n",
      "\u001B[1m26/26\u001B[0m \u001B[32m━━━━━━━━━━━━━━━━━━━━\u001B[0m\u001B[37m\u001B[0m \u001B[1m0s\u001B[0m 4ms/step - loss: 25288892.0000 - val_loss: 23233844.0000 - learning_rate: 0.0010\n",
      "Epoch 81/100\n",
      "\u001B[1m 1/26\u001B[0m \u001B[37m━━━━━━━━━━━━━━━━━━━━\u001B[0m \u001B[1m0s\u001B[0m 31ms/step - loss: 17788544.0000\n",
      "Epoch 81: val_loss improved from 23233844.00000 to 23196942.00000, saving model to data/models/silica_best_tyhanov.keras\n",
      "\u001B[1m26/26\u001B[0m \u001B[32m━━━━━━━━━━━━━━━━━━━━\u001B[0m\u001B[37m\u001B[0m \u001B[1m0s\u001B[0m 4ms/step - loss: 20759692.0000 - val_loss: 23196942.0000 - learning_rate: 0.0010\n",
      "Epoch 82/100\n",
      "\u001B[1m 1/26\u001B[0m \u001B[37m━━━━━━━━━━━━━━━━━━━━\u001B[0m \u001B[1m0s\u001B[0m 17ms/step - loss: 14397160.0000\n",
      "Epoch 82: val_loss did not improve from 23196942.00000\n",
      "\u001B[1m26/26\u001B[0m \u001B[32m━━━━━━━━━━━━━━━━━━━━\u001B[0m\u001B[37m\u001B[0m \u001B[1m0s\u001B[0m 3ms/step - loss: 25083784.0000 - val_loss: 25569164.0000 - learning_rate: 0.0010\n",
      "Epoch 83/100\n",
      "\u001B[1m 1/26\u001B[0m \u001B[37m━━━━━━━━━━━━━━━━━━━━\u001B[0m \u001B[1m0s\u001B[0m 31ms/step - loss: 13326309.0000\n",
      "Epoch 83: val_loss did not improve from 23196942.00000\n",
      "\u001B[1m26/26\u001B[0m \u001B[32m━━━━━━━━━━━━━━━━━━━━\u001B[0m\u001B[37m\u001B[0m \u001B[1m0s\u001B[0m 2ms/step - loss: 21213514.0000 - val_loss: 23351324.0000 - learning_rate: 0.0010\n",
      "Epoch 84/100\n",
      "\u001B[1m 1/26\u001B[0m \u001B[37m━━━━━━━━━━━━━━━━━━━━\u001B[0m \u001B[1m0s\u001B[0m 16ms/step - loss: 29478598.0000\n",
      "Epoch 84: val_loss did not improve from 23196942.00000\n",
      "\u001B[1m26/26\u001B[0m \u001B[32m━━━━━━━━━━━━━━━━━━━━\u001B[0m\u001B[37m\u001B[0m \u001B[1m0s\u001B[0m 3ms/step - loss: 23966234.0000 - val_loss: 23322768.0000 - learning_rate: 0.0010\n",
      "Epoch 85/100\n",
      "\u001B[1m 1/26\u001B[0m \u001B[37m━━━━━━━━━━━━━━━━━━━━\u001B[0m \u001B[1m0s\u001B[0m 16ms/step - loss: 27926404.0000\n",
      "Epoch 85: val_loss did not improve from 23196942.00000\n",
      "\u001B[1m26/26\u001B[0m \u001B[32m━━━━━━━━━━━━━━━━━━━━\u001B[0m\u001B[37m\u001B[0m \u001B[1m0s\u001B[0m 3ms/step - loss: 20113530.0000 - val_loss: 23230138.0000 - learning_rate: 0.0010\n",
      "Epoch 86/100\n",
      "\u001B[1m 1/26\u001B[0m \u001B[37m━━━━━━━━━━━━━━━━━━━━\u001B[0m \u001B[1m0s\u001B[0m 29ms/step - loss: 23319468.0000\n",
      "Epoch 86: val_loss did not improve from 23196942.00000\n",
      "\u001B[1m26/26\u001B[0m \u001B[32m━━━━━━━━━━━━━━━━━━━━\u001B[0m\u001B[37m\u001B[0m \u001B[1m0s\u001B[0m 3ms/step - loss: 22147130.0000 - val_loss: 23249966.0000 - learning_rate: 0.0010\n",
      "Epoch 87/100\n",
      "\u001B[1m 1/26\u001B[0m \u001B[37m━━━━━━━━━━━━━━━━━━━━\u001B[0m \u001B[1m0s\u001B[0m 16ms/step - loss: 13722570.0000\n",
      "Epoch 87: val_loss did not improve from 23196942.00000\n",
      "\u001B[1m26/26\u001B[0m \u001B[32m━━━━━━━━━━━━━━━━━━━━\u001B[0m\u001B[37m\u001B[0m \u001B[1m0s\u001B[0m 3ms/step - loss: 22381534.0000 - val_loss: 23486434.0000 - learning_rate: 0.0010\n",
      "Epoch 88/100\n",
      "\u001B[1m 1/26\u001B[0m \u001B[37m━━━━━━━━━━━━━━━━━━━━\u001B[0m \u001B[1m0s\u001B[0m 16ms/step - loss: 13198721.0000\n",
      "Epoch 88: val_loss did not improve from 23196942.00000\n",
      "\u001B[1m26/26\u001B[0m \u001B[32m━━━━━━━━━━━━━━━━━━━━\u001B[0m\u001B[37m\u001B[0m \u001B[1m0s\u001B[0m 3ms/step - loss: 19496694.0000 - val_loss: 24591508.0000 - learning_rate: 0.0010\n",
      "Epoch 89/100\n",
      "\u001B[1m 1/26\u001B[0m \u001B[37m━━━━━━━━━━━━━━━━━━━━\u001B[0m \u001B[1m0s\u001B[0m 31ms/step - loss: 14662544.0000\n",
      "Epoch 89: val_loss did not improve from 23196942.00000\n",
      "\u001B[1m26/26\u001B[0m \u001B[32m━━━━━━━━━━━━━━━━━━━━\u001B[0m\u001B[37m\u001B[0m \u001B[1m0s\u001B[0m 3ms/step - loss: 23543092.0000 - val_loss: 23577492.0000 - learning_rate: 0.0010\n",
      "Epoch 90/100\n",
      "\u001B[1m 1/26\u001B[0m \u001B[37m━━━━━━━━━━━━━━━━━━━━\u001B[0m \u001B[1m0s\u001B[0m 17ms/step - loss: 21405210.0000\n",
      "Epoch 90: val_loss did not improve from 23196942.00000\n",
      "\u001B[1m26/26\u001B[0m \u001B[32m━━━━━━━━━━━━━━━━━━━━\u001B[0m\u001B[37m\u001B[0m \u001B[1m0s\u001B[0m 3ms/step - loss: 22889430.0000 - val_loss: 23313440.0000 - learning_rate: 0.0010\n",
      "Epoch 91/100\n",
      "\u001B[1m 1/26\u001B[0m \u001B[37m━━━━━━━━━━━━━━━━━━━━\u001B[0m \u001B[1m0s\u001B[0m 16ms/step - loss: 27147578.0000\n",
      "Epoch 91: val_loss improved from 23196942.00000 to 23127308.00000, saving model to data/models/silica_best_tyhanov.keras\n",
      "\u001B[1m26/26\u001B[0m \u001B[32m━━━━━━━━━━━━━━━━━━━━\u001B[0m\u001B[37m\u001B[0m \u001B[1m0s\u001B[0m 4ms/step - loss: 21773366.0000 - val_loss: 23127308.0000 - learning_rate: 0.0010\n",
      "Epoch 92/100\n",
      "\u001B[1m 1/26\u001B[0m \u001B[37m━━━━━━━━━━━━━━━━━━━━\u001B[0m \u001B[1m0s\u001B[0m 7ms/step - loss: 20551450.0000\n",
      "Epoch 92: val_loss did not improve from 23127308.00000\n",
      "\u001B[1m26/26\u001B[0m \u001B[32m━━━━━━━━━━━━━━━━━━━━\u001B[0m\u001B[37m\u001B[0m \u001B[1m0s\u001B[0m 3ms/step - loss: 25043560.0000 - val_loss: 23183150.0000 - learning_rate: 0.0010\n",
      "Epoch 93/100\n",
      "\u001B[1m 1/26\u001B[0m \u001B[37m━━━━━━━━━━━━━━━━━━━━\u001B[0m \u001B[1m0s\u001B[0m 16ms/step - loss: 19136112.0000\n",
      "Epoch 93: val_loss did not improve from 23127308.00000\n",
      "\u001B[1m26/26\u001B[0m \u001B[32m━━━━━━━━━━━━━━━━━━━━\u001B[0m\u001B[37m\u001B[0m \u001B[1m0s\u001B[0m 2ms/step - loss: 24186350.0000 - val_loss: 23172286.0000 - learning_rate: 0.0010\n",
      "Epoch 94/100\n",
      "\u001B[1m 1/26\u001B[0m \u001B[37m━━━━━━━━━━━━━━━━━━━━\u001B[0m \u001B[1m0s\u001B[0m 16ms/step - loss: 24084808.0000\n",
      "Epoch 94: val_loss did not improve from 23127308.00000\n",
      "\u001B[1m26/26\u001B[0m \u001B[32m━━━━━━━━━━━━━━━━━━━━\u001B[0m\u001B[37m\u001B[0m \u001B[1m0s\u001B[0m 3ms/step - loss: 19744008.0000 - val_loss: 23149884.0000 - learning_rate: 0.0010\n",
      "Epoch 95/100\n",
      "\u001B[1m 1/26\u001B[0m \u001B[37m━━━━━━━━━━━━━━━━━━━━\u001B[0m \u001B[1m0s\u001B[0m 16ms/step - loss: 32078900.0000\n",
      "Epoch 95: val_loss improved from 23127308.00000 to 23096762.00000, saving model to data/models/silica_best_tyhanov.keras\n",
      "\u001B[1m26/26\u001B[0m \u001B[32m━━━━━━━━━━━━━━━━━━━━\u001B[0m\u001B[37m\u001B[0m \u001B[1m0s\u001B[0m 3ms/step - loss: 23325272.0000 - val_loss: 23096762.0000 - learning_rate: 0.0010\n",
      "Epoch 96/100\n",
      "\u001B[1m 1/26\u001B[0m \u001B[37m━━━━━━━━━━━━━━━━━━━━\u001B[0m \u001B[1m0s\u001B[0m 16ms/step - loss: 24818420.0000\n",
      "Epoch 96: val_loss did not improve from 23096762.00000\n",
      "\u001B[1m26/26\u001B[0m \u001B[32m━━━━━━━━━━━━━━━━━━━━\u001B[0m\u001B[37m\u001B[0m \u001B[1m0s\u001B[0m 3ms/step - loss: 22405532.0000 - val_loss: 23103826.0000 - learning_rate: 0.0010\n",
      "Epoch 97/100\n",
      "\u001B[1m 1/26\u001B[0m \u001B[37m━━━━━━━━━━━━━━━━━━━━\u001B[0m \u001B[1m0s\u001B[0m 28ms/step - loss: 10669060.0000\n",
      "Epoch 97: val_loss did not improve from 23096762.00000\n",
      "\u001B[1m26/26\u001B[0m \u001B[32m━━━━━━━━━━━━━━━━━━━━\u001B[0m\u001B[37m\u001B[0m \u001B[1m0s\u001B[0m 3ms/step - loss: 20897656.0000 - val_loss: 23124498.0000 - learning_rate: 0.0010\n",
      "Epoch 98/100\n",
      "\u001B[1m 1/26\u001B[0m \u001B[37m━━━━━━━━━━━━━━━━━━━━\u001B[0m \u001B[1m0s\u001B[0m 16ms/step - loss: 16409138.0000\n",
      "Epoch 98: val_loss improved from 23096762.00000 to 23093118.00000, saving model to data/models/silica_best_tyhanov.keras\n",
      "\u001B[1m26/26\u001B[0m \u001B[32m━━━━━━━━━━━━━━━━━━━━\u001B[0m\u001B[37m\u001B[0m \u001B[1m0s\u001B[0m 4ms/step - loss: 22816588.0000 - val_loss: 23093118.0000 - learning_rate: 0.0010\n",
      "Epoch 99/100\n",
      "\u001B[1m 1/26\u001B[0m \u001B[37m━━━━━━━━━━━━━━━━━━━━\u001B[0m \u001B[1m1s\u001B[0m 78ms/step - loss: 18340508.0000\n",
      "Epoch 99: val_loss improved from 23093118.00000 to 23083898.00000, saving model to data/models/silica_best_tyhanov.keras\n",
      "\u001B[1m26/26\u001B[0m \u001B[32m━━━━━━━━━━━━━━━━━━━━\u001B[0m\u001B[37m\u001B[0m \u001B[1m0s\u001B[0m 6ms/step - loss: 22875624.0000 - val_loss: 23083898.0000 - learning_rate: 0.0010\n",
      "Epoch 100/100\n",
      "\u001B[1m26/26\u001B[0m \u001B[32m━━━━━━━━━━━━━━━━━━━━\u001B[0m\u001B[37m\u001B[0m \u001B[1m0s\u001B[0m 2ms/step - loss: 26275466.0000 \n",
      "Epoch 100: val_loss did not improve from 23083898.00000\n",
      "\u001B[1m26/26\u001B[0m \u001B[32m━━━━━━━━━━━━━━━━━━━━\u001B[0m\u001B[37m\u001B[0m \u001B[1m0s\u001B[0m 4ms/step - loss: 26156716.0000 - val_loss: 23113056.0000 - learning_rate: 0.0010\n"
     ]
    }
   ],
   "execution_count": 153
  },
  {
   "cell_type": "code",
   "source": [
    "# load model\n",
    "model = tf.keras.models.load_model('data/models/silica_random30K.keras', custom_objects={'abs': tf.math.abs, 'custom_loss': custom_loss})"
   ],
   "metadata": {
    "collapsed": false,
    "pycharm": {
     "name": "#%%\n"
    },
    "ExecuteTime": {
     "end_time": "2024-10-17T15:14:14.745806Z",
     "start_time": "2024-10-17T15:14:14.715492Z"
    }
   },
   "id": "c9a1a6a8cf9f8ba1",
   "outputs": [
    {
     "ename": "ValueError",
     "evalue": "File not found: filepath=data/models/silica_random30K.keras. Please ensure the file is an accessible `.keras` zip file.",
     "output_type": "error",
     "traceback": [
      "\u001B[1;31m---------------------------------------------------------------------------\u001B[0m",
      "\u001B[1;31mValueError\u001B[0m                                Traceback (most recent call last)",
      "Cell \u001B[1;32mIn[122], line 2\u001B[0m\n\u001B[0;32m      1\u001B[0m \u001B[38;5;66;03m# load model\u001B[39;00m\n\u001B[1;32m----> 2\u001B[0m model \u001B[38;5;241m=\u001B[39m \u001B[43mtf\u001B[49m\u001B[38;5;241;43m.\u001B[39;49m\u001B[43mkeras\u001B[49m\u001B[38;5;241;43m.\u001B[39;49m\u001B[43mmodels\u001B[49m\u001B[38;5;241;43m.\u001B[39;49m\u001B[43mload_model\u001B[49m\u001B[43m(\u001B[49m\u001B[38;5;124;43m'\u001B[39;49m\u001B[38;5;124;43mdata/models/silica_random30K.keras\u001B[39;49m\u001B[38;5;124;43m'\u001B[39;49m\u001B[43m,\u001B[49m\u001B[43m \u001B[49m\u001B[43mcustom_objects\u001B[49m\u001B[38;5;241;43m=\u001B[39;49m\u001B[43m{\u001B[49m\u001B[38;5;124;43m'\u001B[39;49m\u001B[38;5;124;43mabs\u001B[39;49m\u001B[38;5;124;43m'\u001B[39;49m\u001B[43m:\u001B[49m\u001B[43m \u001B[49m\u001B[43mtf\u001B[49m\u001B[38;5;241;43m.\u001B[39;49m\u001B[43mmath\u001B[49m\u001B[38;5;241;43m.\u001B[39;49m\u001B[43mabs\u001B[49m\u001B[43m,\u001B[49m\u001B[43m \u001B[49m\u001B[38;5;124;43m'\u001B[39;49m\u001B[38;5;124;43mcustom_loss\u001B[39;49m\u001B[38;5;124;43m'\u001B[39;49m\u001B[43m:\u001B[49m\u001B[43m \u001B[49m\u001B[43mcustom_loss\u001B[49m\u001B[43m}\u001B[49m\u001B[43m)\u001B[49m\n",
      "File \u001B[1;32m~\\PycharmProjects\\isotherm-analyzer\\venv\\lib\\site-packages\\keras\\src\\saving\\saving_api.py:200\u001B[0m, in \u001B[0;36mload_model\u001B[1;34m(filepath, custom_objects, compile, safe_mode)\u001B[0m\n\u001B[0;32m    196\u001B[0m     \u001B[38;5;28;01mreturn\u001B[39;00m legacy_h5_format\u001B[38;5;241m.\u001B[39mload_model_from_hdf5(\n\u001B[0;32m    197\u001B[0m         filepath, custom_objects\u001B[38;5;241m=\u001B[39mcustom_objects, \u001B[38;5;28mcompile\u001B[39m\u001B[38;5;241m=\u001B[39m\u001B[38;5;28mcompile\u001B[39m\n\u001B[0;32m    198\u001B[0m     )\n\u001B[0;32m    199\u001B[0m \u001B[38;5;28;01melif\u001B[39;00m \u001B[38;5;28mstr\u001B[39m(filepath)\u001B[38;5;241m.\u001B[39mendswith(\u001B[38;5;124m\"\u001B[39m\u001B[38;5;124m.keras\u001B[39m\u001B[38;5;124m\"\u001B[39m):\n\u001B[1;32m--> 200\u001B[0m     \u001B[38;5;28;01mraise\u001B[39;00m \u001B[38;5;167;01mValueError\u001B[39;00m(\n\u001B[0;32m    201\u001B[0m         \u001B[38;5;124mf\u001B[39m\u001B[38;5;124m\"\u001B[39m\u001B[38;5;124mFile not found: filepath=\u001B[39m\u001B[38;5;132;01m{\u001B[39;00mfilepath\u001B[38;5;132;01m}\u001B[39;00m\u001B[38;5;124m. \u001B[39m\u001B[38;5;124m\"\u001B[39m\n\u001B[0;32m    202\u001B[0m         \u001B[38;5;124m\"\u001B[39m\u001B[38;5;124mPlease ensure the file is an accessible `.keras` \u001B[39m\u001B[38;5;124m\"\u001B[39m\n\u001B[0;32m    203\u001B[0m         \u001B[38;5;124m\"\u001B[39m\u001B[38;5;124mzip file.\u001B[39m\u001B[38;5;124m\"\u001B[39m\n\u001B[0;32m    204\u001B[0m     )\n\u001B[0;32m    205\u001B[0m \u001B[38;5;28;01melse\u001B[39;00m:\n\u001B[0;32m    206\u001B[0m     \u001B[38;5;28;01mraise\u001B[39;00m \u001B[38;5;167;01mValueError\u001B[39;00m(\n\u001B[0;32m    207\u001B[0m         \u001B[38;5;124mf\u001B[39m\u001B[38;5;124m\"\u001B[39m\u001B[38;5;124mFile format not supported: filepath=\u001B[39m\u001B[38;5;132;01m{\u001B[39;00mfilepath\u001B[38;5;132;01m}\u001B[39;00m\u001B[38;5;124m. \u001B[39m\u001B[38;5;124m\"\u001B[39m\n\u001B[0;32m    208\u001B[0m         \u001B[38;5;124m\"\u001B[39m\u001B[38;5;124mKeras 3 only supports V3 `.keras` files and \u001B[39m\u001B[38;5;124m\"\u001B[39m\n\u001B[1;32m   (...)\u001B[0m\n\u001B[0;32m    217\u001B[0m         \u001B[38;5;124m\"\u001B[39m\u001B[38;5;124mmight have a different name).\u001B[39m\u001B[38;5;124m\"\u001B[39m\n\u001B[0;32m    218\u001B[0m     )\n",
      "\u001B[1;31mValueError\u001B[0m: File not found: filepath=data/models/silica_random30K.keras. Please ensure the file is an accessible `.keras` zip file."
     ]
    }
   ],
   "execution_count": 122
  },
  {
   "cell_type": "code",
   "source": [
    "# prediction = model.evaluate(np.array(x_test), np.array(y_test))\n",
    "prediction = model.predict(np.array(x_test))"
   ],
   "metadata": {
    "collapsed": false,
    "pycharm": {
     "name": "#%%\n"
    },
    "ExecuteTime": {
     "end_time": "2024-10-17T15:19:41.634258Z",
     "start_time": "2024-10-17T15:19:41.522065Z"
    }
   },
   "id": "d7c4e1ecdee1bcf7",
   "outputs": [
    {
     "name": "stdout",
     "output_type": "stream",
     "text": [
      "\u001B[1m3/3\u001B[0m \u001B[32m━━━━━━━━━━━━━━━━━━━━\u001B[0m\u001B[37m\u001B[0m \u001B[1m0s\u001B[0m 8ms/step \n"
     ]
    }
   ],
   "execution_count": 154
  },
  {
   "cell_type": "code",
   "source": [
    "# test on x_train\n",
    "def fetch_prediction(prediction):\n",
    "    return prediction[:128]\n",
    "\n",
    "pore_widths = np.load(\"data/initial kernels/Size_Kernel_Silica_Adsorption.npy\")\n",
    "pressures = np.load(\"data/initial kernels/Pressure_Silica.npy\")\n",
    "NX, NY = 3, 4\n",
    "figure, axis = plt.subplots(NX, NY)\n",
    "for i in range(NX):\n",
    "    for j in range(NY):\n",
    "        k = np.random.randint(0, len(x_test))\n",
    "        x_scale_factor = max(pore_widths) / len(x_test[k])\n",
    "        axis[i, j].plot(pore_widths / x_scale_factor, fetch_prediction(prediction[k]), marker=\".\", label=f\"Prediction\")\n",
    "        axis[i, j].plot(pore_widths / x_scale_factor, y_test[k], marker=\".\", label=\"Real distribution\")\n",
    "        axis[i, j].plot(pressures[77:-10]*500, x_test[k], label=\"Isotherm\")\n",
    "        kernal = (data_sorb.T[40:])\n",
    "        axis[i, j].plot(pressures[40:]*500, np.dot(kernal, prediction[k][:128]), label=\"New Isotherm\")\n",
    "        axis[i, j].set_title(f\"№ {k}\")\n",
    "        axis[i, j].title.set_size(10)\n",
    "plt.subplots_adjust(hspace=0.6, right=0.95, left=0.05, bottom=0.05, top=0.95)\n",
    "plt.legend()\n",
    "plot()"
   ],
   "metadata": {
    "collapsed": false,
    "pycharm": {
     "name": "#%%\n"
    },
    "ExecuteTime": {
     "end_time": "2024-10-17T15:19:57.922139Z",
     "start_time": "2024-10-17T15:19:42.301357Z"
    }
   },
   "id": "bbc48118bf79bc08",
   "outputs": [],
   "execution_count": 155
  },
  {
   "cell_type": "code",
   "execution_count": 122,
   "outputs": [],
   "source": [
    "# test with test Generator\n",
    "from tools import TestApp\n",
    "\n",
    "gen = Generator(path_s=\"data/initial kernels/Kernel_Silica_Adsorption.npy\",\n",
    "                path_d=\"data/initial kernels/Kernel_Silica_Desorption.npy\",\n",
    "                path_p_d=\"data/initial kernels/Pressure_Silica.npy\",\n",
    "                path_p_s=\"data/initial kernels/Pressure_Silica.npy\",\n",
    "                path_a=\"data/initial kernels/Size_Kernel_Silica_Adsorption.npy\"\n",
    "                )\n",
    "# gen = Generator(path_s=\"data/initial kernels/Kernel_Carbon_Adsorption.npy\",\n",
    "#                               path_d=\"data/initial kernels/Kernel_Carbon_Desorption.npy\",\n",
    "#                               path_p_d=\"data/initial kernels/Pressure_Carbon.npy\",\n",
    "#                               path_p_s=\"data/initial kernels/Pressure_Carbon.npy\",\n",
    "#                               path_a=\"data/initial kernels/Size_Kernel_Carbon_Adsorption.npy\"\n",
    "#                             )\n",
    "\n",
    "#TestApp.App(model, gen)"
   ],
   "metadata": {
    "collapsed": false,
    "pycharm": {
     "name": "#%%\n"
    }
   },
   "id": "b25b4132001702fe"
  },
  {
   "cell_type": "code",
   "execution_count": 123,
   "outputs": [],
   "source": [
    "exp_file_list = [\"MCM-41\", \"SBA-15\", \"SBA-16\", \"MIL-101\", \"MIL-101_2\", \"DUT-49\", \"FDM-4\", \"PCN-333\", \"PCN-777\",\n",
    "                 \"MIL-100\"]\n",
    "\n",
    "p_exp_list = []\n",
    "n_s_exp_raw_list = []\n",
    "for exp_file_name in exp_file_list:\n",
    "    data = pd.read_csv(f\"data/real/{exp_file_name}.txt\", header=None)\n",
    "    # p_exp_list.append(data.iloc[:,1].to_numpy())\n",
    "    # n_s_exp_raw_list.append(data.iloc[:,3].to_numpy())\n",
    "    p_exp_list.append(data.iloc[:, 1].to_numpy())\n",
    "    n_s_exp_raw_list.append(data.iloc[:, 3].to_numpy())"
   ],
   "metadata": {
    "collapsed": false,
    "pycharm": {
     "name": "#%%\n"
    }
   },
   "id": "d0179658dd4e6c12"
  },
  {
   "cell_type": "code",
   "execution_count": 124,
   "outputs": [],
   "source": [
    "j = 2\n",
    "plt.plot(p_exp_list[j], n_s_exp_raw_list[j], marker=\".\", label=exp_file_list[j])\n",
    "plot()"
   ],
   "metadata": {
    "collapsed": false,
    "pycharm": {
     "name": "#%%\n"
    }
   },
   "id": "316deb7add602c0a"
  },
  {
   "cell_type": "code",
   "execution_count": 125,
   "outputs": [],
   "source": [
    "# интерполируем экспериментальную изотерму под давления кернала\n",
    "n_s_exp_list = []\n",
    "for i in range(len(p_exp_list)):\n",
    "    n_s_exp_list.append(np.interp(gen.pressures_s[77:367], p_exp_list[i], n_s_exp_raw_list[i]))"
   ],
   "metadata": {
    "collapsed": false,
    "pycharm": {
     "name": "#%%\n"
    }
   },
   "id": "bfb8c81559e024d"
  },
  {
   "cell_type": "code",
   "execution_count": 126,
   "outputs": [],
   "source": [
    "j = 2\n",
    "plt.plot(gen.pressures_s[77:367], n_s_exp_list[j], marker=\".\", label=exp_file_list[j])\n",
    "plot()"
   ],
   "metadata": {
    "collapsed": false,
    "pycharm": {
     "name": "#%%\n"
    }
   },
   "id": "61ca6d25ee7153f0"
  },
  {
   "cell_type": "code",
   "execution_count": 127,
   "outputs": [
    {
     "ename": "InvalidArgumentError",
     "evalue": "Graph execution error:\n\nDetected at node functional_3_1/dense_15_1/Relu defined at (most recent call last):\n  File \"<frozen runpy>\", line 198, in _run_module_as_main\n\n  File \"<frozen runpy>\", line 88, in _run_code\n\n  File \"C:\\Users\\Admin\\Desktop\\iso\\isotherm-analyzer\\venv\\Lib\\site-packages\\ipykernel_launcher.py\", line 18, in <module>\n\n  File \"C:\\Users\\Admin\\Desktop\\iso\\isotherm-analyzer\\venv\\Lib\\site-packages\\traitlets\\config\\application.py\", line 1075, in launch_instance\n\n  File \"C:\\Users\\Admin\\Desktop\\iso\\isotherm-analyzer\\venv\\Lib\\site-packages\\ipykernel\\kernelapp.py\", line 739, in start\n\n  File \"C:\\Users\\Admin\\Desktop\\iso\\isotherm-analyzer\\venv\\Lib\\site-packages\\tornado\\platform\\asyncio.py\", line 205, in start\n\n  File \"C:\\Users\\Admin\\AppData\\Local\\Programs\\Python\\Python311\\Lib\\asyncio\\base_events.py\", line 607, in run_forever\n\n  File \"C:\\Users\\Admin\\AppData\\Local\\Programs\\Python\\Python311\\Lib\\asyncio\\base_events.py\", line 1922, in _run_once\n\n  File \"C:\\Users\\Admin\\AppData\\Local\\Programs\\Python\\Python311\\Lib\\asyncio\\events.py\", line 80, in _run\n\n  File \"C:\\Users\\Admin\\Desktop\\iso\\isotherm-analyzer\\venv\\Lib\\site-packages\\ipykernel\\kernelbase.py\", line 545, in dispatch_queue\n\n  File \"C:\\Users\\Admin\\Desktop\\iso\\isotherm-analyzer\\venv\\Lib\\site-packages\\ipykernel\\kernelbase.py\", line 534, in process_one\n\n  File \"C:\\Users\\Admin\\Desktop\\iso\\isotherm-analyzer\\venv\\Lib\\site-packages\\ipykernel\\kernelbase.py\", line 487, in advance_eventloop\n\n  File \"C:\\Users\\Admin\\Desktop\\iso\\isotherm-analyzer\\venv\\Lib\\site-packages\\ipykernel\\eventloops.py\", line 309, in loop_tk\n\n  File \"C:\\Users\\Admin\\Desktop\\iso\\isotherm-analyzer\\venv\\Lib\\site-packages\\ipykernel\\eventloops.py\", line 306, in start\n\n  File \"C:\\Users\\Admin\\AppData\\Local\\Programs\\Python\\Python311\\Lib\\tkinter\\__init__.py\", line 1485, in mainloop\n\n  File \"C:\\Users\\Admin\\AppData\\Local\\Programs\\Python\\Python311\\Lib\\tkinter\\__init__.py\", line 1948, in __call__\n\n  File \"C:\\Users\\Admin\\AppData\\Local\\Programs\\Python\\Python311\\Lib\\tkinter\\__init__.py\", line 861, in callit\n\n  File \"C:\\Users\\Admin\\Desktop\\iso\\isotherm-analyzer\\venv\\Lib\\site-packages\\ipykernel\\eventloops.py\", line 299, in on_timer\n\n  File \"C:\\Users\\Admin\\Desktop\\iso\\isotherm-analyzer\\venv\\Lib\\site-packages\\nest_asyncio.py\", line 92, in run_until_complete\n\n  File \"C:\\Users\\Admin\\Desktop\\iso\\isotherm-analyzer\\venv\\Lib\\site-packages\\nest_asyncio.py\", line 133, in _run_once\n\n  File \"C:\\Users\\Admin\\AppData\\Local\\Programs\\Python\\Python311\\Lib\\asyncio\\events.py\", line 80, in _run\n\n  File \"C:\\Users\\Admin\\AppData\\Local\\Programs\\Python\\Python311\\Lib\\asyncio\\tasks.py\", line 267, in __step\n\n  File \"C:\\Users\\Admin\\Desktop\\iso\\isotherm-analyzer\\venv\\Lib\\site-packages\\ipykernel\\kernelbase.py\", line 520, in do_one_iteration\n\n  File \"C:\\Users\\Admin\\Desktop\\iso\\isotherm-analyzer\\venv\\Lib\\site-packages\\ipykernel\\kernelbase.py\", line 534, in process_one\n\n  File \"C:\\Users\\Admin\\Desktop\\iso\\isotherm-analyzer\\venv\\Lib\\site-packages\\ipykernel\\kernelbase.py\", line 437, in dispatch_shell\n\n  File \"C:\\Users\\Admin\\Desktop\\iso\\isotherm-analyzer\\venv\\Lib\\site-packages\\ipykernel\\ipkernel.py\", line 362, in execute_request\n\n  File \"C:\\Users\\Admin\\Desktop\\iso\\isotherm-analyzer\\venv\\Lib\\site-packages\\ipykernel\\kernelbase.py\", line 778, in execute_request\n\n  File \"C:\\Users\\Admin\\Desktop\\iso\\isotherm-analyzer\\venv\\Lib\\site-packages\\ipykernel\\ipkernel.py\", line 449, in do_execute\n\n  File \"C:\\Users\\Admin\\Desktop\\iso\\isotherm-analyzer\\venv\\Lib\\site-packages\\ipykernel\\zmqshell.py\", line 549, in run_cell\n\n  File \"C:\\Users\\Admin\\Desktop\\iso\\isotherm-analyzer\\venv\\Lib\\site-packages\\IPython\\core\\interactiveshell.py\", line 3075, in run_cell\n\n  File \"C:\\Users\\Admin\\Desktop\\iso\\isotherm-analyzer\\venv\\Lib\\site-packages\\IPython\\core\\interactiveshell.py\", line 3130, in _run_cell\n\n  File \"C:\\Users\\Admin\\Desktop\\iso\\isotherm-analyzer\\venv\\Lib\\site-packages\\IPython\\core\\async_helpers.py\", line 128, in _pseudo_sync_runner\n\n  File \"C:\\Users\\Admin\\Desktop\\iso\\isotherm-analyzer\\venv\\Lib\\site-packages\\IPython\\core\\interactiveshell.py\", line 3334, in run_cell_async\n\n  File \"C:\\Users\\Admin\\Desktop\\iso\\isotherm-analyzer\\venv\\Lib\\site-packages\\IPython\\core\\interactiveshell.py\", line 3517, in run_ast_nodes\n\n  File \"C:\\Users\\Admin\\Desktop\\iso\\isotherm-analyzer\\venv\\Lib\\site-packages\\IPython\\core\\interactiveshell.py\", line 3577, in run_code\n\n  File \"C:\\Users\\Admin\\AppData\\Local\\Temp\\ipykernel_20048\\2050301347.py\", line 2, in <module>\n\n  File \"C:\\Users\\Admin\\AppData\\Local\\Temp\\ipykernel_20048\\2050301347.py\", line 2, in <listcomp>\n\n  File \"C:\\Users\\Admin\\Desktop\\iso\\isotherm-analyzer\\venv\\Lib\\site-packages\\keras\\src\\utils\\traceback_utils.py\", line 117, in error_handler\n\n  File \"C:\\Users\\Admin\\Desktop\\iso\\isotherm-analyzer\\venv\\Lib\\site-packages\\keras\\src\\backend\\tensorflow\\trainer.py\", line 508, in predict\n\n  File \"C:\\Users\\Admin\\Desktop\\iso\\isotherm-analyzer\\venv\\Lib\\site-packages\\keras\\src\\backend\\tensorflow\\trainer.py\", line 208, in one_step_on_data_distributed\n\n  File \"C:\\Users\\Admin\\Desktop\\iso\\isotherm-analyzer\\venv\\Lib\\site-packages\\keras\\src\\backend\\tensorflow\\trainer.py\", line 198, in one_step_on_data\n\n  File \"C:\\Users\\Admin\\Desktop\\iso\\isotherm-analyzer\\venv\\Lib\\site-packages\\keras\\src\\backend\\tensorflow\\trainer.py\", line 96, in predict_step\n\n  File \"C:\\Users\\Admin\\Desktop\\iso\\isotherm-analyzer\\venv\\Lib\\site-packages\\keras\\src\\utils\\traceback_utils.py\", line 117, in error_handler\n\n  File \"C:\\Users\\Admin\\Desktop\\iso\\isotherm-analyzer\\venv\\Lib\\site-packages\\keras\\src\\layers\\layer.py\", line 882, in __call__\n\n  File \"C:\\Users\\Admin\\Desktop\\iso\\isotherm-analyzer\\venv\\Lib\\site-packages\\keras\\src\\utils\\traceback_utils.py\", line 117, in error_handler\n\n  File \"C:\\Users\\Admin\\Desktop\\iso\\isotherm-analyzer\\venv\\Lib\\site-packages\\keras\\src\\ops\\operation.py\", line 46, in __call__\n\n  File \"C:\\Users\\Admin\\Desktop\\iso\\isotherm-analyzer\\venv\\Lib\\site-packages\\keras\\src\\utils\\traceback_utils.py\", line 156, in error_handler\n\n  File \"C:\\Users\\Admin\\Desktop\\iso\\isotherm-analyzer\\venv\\Lib\\site-packages\\keras\\src\\models\\functional.py\", line 175, in call\n\n  File \"C:\\Users\\Admin\\Desktop\\iso\\isotherm-analyzer\\venv\\Lib\\site-packages\\keras\\src\\ops\\function.py\", line 171, in _run_through_graph\n\n  File \"C:\\Users\\Admin\\Desktop\\iso\\isotherm-analyzer\\venv\\Lib\\site-packages\\keras\\src\\models\\functional.py\", line 556, in call\n\n  File \"C:\\Users\\Admin\\Desktop\\iso\\isotherm-analyzer\\venv\\Lib\\site-packages\\keras\\src\\utils\\traceback_utils.py\", line 117, in error_handler\n\n  File \"C:\\Users\\Admin\\Desktop\\iso\\isotherm-analyzer\\venv\\Lib\\site-packages\\keras\\src\\layers\\layer.py\", line 882, in __call__\n\n  File \"C:\\Users\\Admin\\Desktop\\iso\\isotherm-analyzer\\venv\\Lib\\site-packages\\keras\\src\\utils\\traceback_utils.py\", line 117, in error_handler\n\n  File \"C:\\Users\\Admin\\Desktop\\iso\\isotherm-analyzer\\venv\\Lib\\site-packages\\keras\\src\\ops\\operation.py\", line 46, in __call__\n\n  File \"C:\\Users\\Admin\\Desktop\\iso\\isotherm-analyzer\\venv\\Lib\\site-packages\\keras\\src\\utils\\traceback_utils.py\", line 156, in error_handler\n\n  File \"C:\\Users\\Admin\\Desktop\\iso\\isotherm-analyzer\\venv\\Lib\\site-packages\\keras\\src\\layers\\core\\dense.py\", line 148, in call\n\n  File \"C:\\Users\\Admin\\Desktop\\iso\\isotherm-analyzer\\venv\\Lib\\site-packages\\keras\\src\\activations\\activations.py\", line 47, in relu\n\n  File \"C:\\Users\\Admin\\Desktop\\iso\\isotherm-analyzer\\venv\\Lib\\site-packages\\keras\\src\\activations\\activations.py\", line 99, in static_call\n\n  File \"C:\\Users\\Admin\\Desktop\\iso\\isotherm-analyzer\\venv\\Lib\\site-packages\\keras\\src\\backend\\tensorflow\\nn.py\", line 15, in relu\n\nMatrix size-incompatible: In[0]: [1,290], In[1]: [371,458]\n\t [[{{node functional_3_1/dense_15_1/Relu}}]] [Op:__inference_one_step_on_data_distributed_2114652]",
     "output_type": "error",
     "traceback": [
      "\u001B[1;31m---------------------------------------------------------------------------\u001B[0m",
      "\u001B[1;31mInvalidArgumentError\u001B[0m                      Traceback (most recent call last)",
      "Cell \u001B[1;32mIn[127], line 2\u001B[0m\n\u001B[0;32m      1\u001B[0m n_s_exp_for_net_list \u001B[38;5;241m=\u001B[39m [pre_process_isotherm(np\u001B[38;5;241m.\u001B[39mcopy(n_s_exp), scale\u001B[38;5;241m=\u001B[39m\u001B[38;5;28;01mFalse\u001B[39;00m) \u001B[38;5;28;01mfor\u001B[39;00m n_s_exp \u001B[38;5;129;01min\u001B[39;00m n_s_exp_list]\n\u001B[1;32m----> 2\u001B[0m fit_exp_list \u001B[38;5;241m=\u001B[39m \u001B[43m[\u001B[49m\u001B[43mmodel\u001B[49m\u001B[38;5;241;43m.\u001B[39;49m\u001B[43mpredict\u001B[49m\u001B[43m(\u001B[49m\u001B[43mnp\u001B[49m\u001B[38;5;241;43m.\u001B[39;49m\u001B[43marray\u001B[49m\u001B[43m(\u001B[49m\u001B[43m[\u001B[49m\u001B[43mn_s_exp_for_net\u001B[49m\u001B[43m]\u001B[49m\u001B[43m)\u001B[49m\u001B[43m)\u001B[49m\u001B[38;5;241;43m.\u001B[39;49m\u001B[43mT\u001B[49m\u001B[43m \u001B[49m\u001B[38;5;28;43;01mfor\u001B[39;49;00m\u001B[43m \u001B[49m\u001B[43mn_s_exp_for_net\u001B[49m\u001B[43m \u001B[49m\u001B[38;5;129;43;01min\u001B[39;49;00m\u001B[43m \u001B[49m\u001B[43mn_s_exp_for_net_list\u001B[49m\u001B[43m]\u001B[49m\n\u001B[0;32m      3\u001B[0m fit_exp_list \u001B[38;5;241m=\u001B[39m [fetch_prediction(i) \u001B[38;5;28;01mfor\u001B[39;00m i \u001B[38;5;129;01min\u001B[39;00m fit_exp_list]\n",
      "Cell \u001B[1;32mIn[127], line 2\u001B[0m, in \u001B[0;36m<listcomp>\u001B[1;34m(.0)\u001B[0m\n\u001B[0;32m      1\u001B[0m n_s_exp_for_net_list \u001B[38;5;241m=\u001B[39m [pre_process_isotherm(np\u001B[38;5;241m.\u001B[39mcopy(n_s_exp), scale\u001B[38;5;241m=\u001B[39m\u001B[38;5;28;01mFalse\u001B[39;00m) \u001B[38;5;28;01mfor\u001B[39;00m n_s_exp \u001B[38;5;129;01min\u001B[39;00m n_s_exp_list]\n\u001B[1;32m----> 2\u001B[0m fit_exp_list \u001B[38;5;241m=\u001B[39m [\u001B[43mmodel\u001B[49m\u001B[38;5;241;43m.\u001B[39;49m\u001B[43mpredict\u001B[49m\u001B[43m(\u001B[49m\u001B[43mnp\u001B[49m\u001B[38;5;241;43m.\u001B[39;49m\u001B[43marray\u001B[49m\u001B[43m(\u001B[49m\u001B[43m[\u001B[49m\u001B[43mn_s_exp_for_net\u001B[49m\u001B[43m]\u001B[49m\u001B[43m)\u001B[49m\u001B[43m)\u001B[49m\u001B[38;5;241m.\u001B[39mT \u001B[38;5;28;01mfor\u001B[39;00m n_s_exp_for_net \u001B[38;5;129;01min\u001B[39;00m n_s_exp_for_net_list]\n\u001B[0;32m      3\u001B[0m fit_exp_list \u001B[38;5;241m=\u001B[39m [fetch_prediction(i) \u001B[38;5;28;01mfor\u001B[39;00m i \u001B[38;5;129;01min\u001B[39;00m fit_exp_list]\n",
      "File \u001B[1;32m~\\Desktop\\iso\\isotherm-analyzer\\venv\\Lib\\site-packages\\keras\\src\\utils\\traceback_utils.py:122\u001B[0m, in \u001B[0;36mfilter_traceback.<locals>.error_handler\u001B[1;34m(*args, **kwargs)\u001B[0m\n\u001B[0;32m    119\u001B[0m     filtered_tb \u001B[38;5;241m=\u001B[39m _process_traceback_frames(e\u001B[38;5;241m.\u001B[39m__traceback__)\n\u001B[0;32m    120\u001B[0m     \u001B[38;5;66;03m# To get the full stack trace, call:\u001B[39;00m\n\u001B[0;32m    121\u001B[0m     \u001B[38;5;66;03m# `keras.config.disable_traceback_filtering()`\u001B[39;00m\n\u001B[1;32m--> 122\u001B[0m     \u001B[38;5;28;01mraise\u001B[39;00m e\u001B[38;5;241m.\u001B[39mwith_traceback(filtered_tb) \u001B[38;5;28;01mfrom\u001B[39;00m \u001B[38;5;28;01mNone\u001B[39;00m\n\u001B[0;32m    123\u001B[0m \u001B[38;5;28;01mfinally\u001B[39;00m:\n\u001B[0;32m    124\u001B[0m     \u001B[38;5;28;01mdel\u001B[39;00m filtered_tb\n",
      "File \u001B[1;32m~\\Desktop\\iso\\isotherm-analyzer\\venv\\Lib\\site-packages\\tensorflow\\python\\eager\\execute.py:53\u001B[0m, in \u001B[0;36mquick_execute\u001B[1;34m(op_name, num_outputs, inputs, attrs, ctx, name)\u001B[0m\n\u001B[0;32m     51\u001B[0m \u001B[38;5;28;01mtry\u001B[39;00m:\n\u001B[0;32m     52\u001B[0m   ctx\u001B[38;5;241m.\u001B[39mensure_initialized()\n\u001B[1;32m---> 53\u001B[0m   tensors \u001B[38;5;241m=\u001B[39m pywrap_tfe\u001B[38;5;241m.\u001B[39mTFE_Py_Execute(ctx\u001B[38;5;241m.\u001B[39m_handle, device_name, op_name,\n\u001B[0;32m     54\u001B[0m                                       inputs, attrs, num_outputs)\n\u001B[0;32m     55\u001B[0m \u001B[38;5;28;01mexcept\u001B[39;00m core\u001B[38;5;241m.\u001B[39m_NotOkStatusException \u001B[38;5;28;01mas\u001B[39;00m e:\n\u001B[0;32m     56\u001B[0m   \u001B[38;5;28;01mif\u001B[39;00m name \u001B[38;5;129;01mis\u001B[39;00m \u001B[38;5;129;01mnot\u001B[39;00m \u001B[38;5;28;01mNone\u001B[39;00m:\n",
      "\u001B[1;31mInvalidArgumentError\u001B[0m: Graph execution error:\n\nDetected at node functional_3_1/dense_15_1/Relu defined at (most recent call last):\n  File \"<frozen runpy>\", line 198, in _run_module_as_main\n\n  File \"<frozen runpy>\", line 88, in _run_code\n\n  File \"C:\\Users\\Admin\\Desktop\\iso\\isotherm-analyzer\\venv\\Lib\\site-packages\\ipykernel_launcher.py\", line 18, in <module>\n\n  File \"C:\\Users\\Admin\\Desktop\\iso\\isotherm-analyzer\\venv\\Lib\\site-packages\\traitlets\\config\\application.py\", line 1075, in launch_instance\n\n  File \"C:\\Users\\Admin\\Desktop\\iso\\isotherm-analyzer\\venv\\Lib\\site-packages\\ipykernel\\kernelapp.py\", line 739, in start\n\n  File \"C:\\Users\\Admin\\Desktop\\iso\\isotherm-analyzer\\venv\\Lib\\site-packages\\tornado\\platform\\asyncio.py\", line 205, in start\n\n  File \"C:\\Users\\Admin\\AppData\\Local\\Programs\\Python\\Python311\\Lib\\asyncio\\base_events.py\", line 607, in run_forever\n\n  File \"C:\\Users\\Admin\\AppData\\Local\\Programs\\Python\\Python311\\Lib\\asyncio\\base_events.py\", line 1922, in _run_once\n\n  File \"C:\\Users\\Admin\\AppData\\Local\\Programs\\Python\\Python311\\Lib\\asyncio\\events.py\", line 80, in _run\n\n  File \"C:\\Users\\Admin\\Desktop\\iso\\isotherm-analyzer\\venv\\Lib\\site-packages\\ipykernel\\kernelbase.py\", line 545, in dispatch_queue\n\n  File \"C:\\Users\\Admin\\Desktop\\iso\\isotherm-analyzer\\venv\\Lib\\site-packages\\ipykernel\\kernelbase.py\", line 534, in process_one\n\n  File \"C:\\Users\\Admin\\Desktop\\iso\\isotherm-analyzer\\venv\\Lib\\site-packages\\ipykernel\\kernelbase.py\", line 487, in advance_eventloop\n\n  File \"C:\\Users\\Admin\\Desktop\\iso\\isotherm-analyzer\\venv\\Lib\\site-packages\\ipykernel\\eventloops.py\", line 309, in loop_tk\n\n  File \"C:\\Users\\Admin\\Desktop\\iso\\isotherm-analyzer\\venv\\Lib\\site-packages\\ipykernel\\eventloops.py\", line 306, in start\n\n  File \"C:\\Users\\Admin\\AppData\\Local\\Programs\\Python\\Python311\\Lib\\tkinter\\__init__.py\", line 1485, in mainloop\n\n  File \"C:\\Users\\Admin\\AppData\\Local\\Programs\\Python\\Python311\\Lib\\tkinter\\__init__.py\", line 1948, in __call__\n\n  File \"C:\\Users\\Admin\\AppData\\Local\\Programs\\Python\\Python311\\Lib\\tkinter\\__init__.py\", line 861, in callit\n\n  File \"C:\\Users\\Admin\\Desktop\\iso\\isotherm-analyzer\\venv\\Lib\\site-packages\\ipykernel\\eventloops.py\", line 299, in on_timer\n\n  File \"C:\\Users\\Admin\\Desktop\\iso\\isotherm-analyzer\\venv\\Lib\\site-packages\\nest_asyncio.py\", line 92, in run_until_complete\n\n  File \"C:\\Users\\Admin\\Desktop\\iso\\isotherm-analyzer\\venv\\Lib\\site-packages\\nest_asyncio.py\", line 133, in _run_once\n\n  File \"C:\\Users\\Admin\\AppData\\Local\\Programs\\Python\\Python311\\Lib\\asyncio\\events.py\", line 80, in _run\n\n  File \"C:\\Users\\Admin\\AppData\\Local\\Programs\\Python\\Python311\\Lib\\asyncio\\tasks.py\", line 267, in __step\n\n  File \"C:\\Users\\Admin\\Desktop\\iso\\isotherm-analyzer\\venv\\Lib\\site-packages\\ipykernel\\kernelbase.py\", line 520, in do_one_iteration\n\n  File \"C:\\Users\\Admin\\Desktop\\iso\\isotherm-analyzer\\venv\\Lib\\site-packages\\ipykernel\\kernelbase.py\", line 534, in process_one\n\n  File \"C:\\Users\\Admin\\Desktop\\iso\\isotherm-analyzer\\venv\\Lib\\site-packages\\ipykernel\\kernelbase.py\", line 437, in dispatch_shell\n\n  File \"C:\\Users\\Admin\\Desktop\\iso\\isotherm-analyzer\\venv\\Lib\\site-packages\\ipykernel\\ipkernel.py\", line 362, in execute_request\n\n  File \"C:\\Users\\Admin\\Desktop\\iso\\isotherm-analyzer\\venv\\Lib\\site-packages\\ipykernel\\kernelbase.py\", line 778, in execute_request\n\n  File \"C:\\Users\\Admin\\Desktop\\iso\\isotherm-analyzer\\venv\\Lib\\site-packages\\ipykernel\\ipkernel.py\", line 449, in do_execute\n\n  File \"C:\\Users\\Admin\\Desktop\\iso\\isotherm-analyzer\\venv\\Lib\\site-packages\\ipykernel\\zmqshell.py\", line 549, in run_cell\n\n  File \"C:\\Users\\Admin\\Desktop\\iso\\isotherm-analyzer\\venv\\Lib\\site-packages\\IPython\\core\\interactiveshell.py\", line 3075, in run_cell\n\n  File \"C:\\Users\\Admin\\Desktop\\iso\\isotherm-analyzer\\venv\\Lib\\site-packages\\IPython\\core\\interactiveshell.py\", line 3130, in _run_cell\n\n  File \"C:\\Users\\Admin\\Desktop\\iso\\isotherm-analyzer\\venv\\Lib\\site-packages\\IPython\\core\\async_helpers.py\", line 128, in _pseudo_sync_runner\n\n  File \"C:\\Users\\Admin\\Desktop\\iso\\isotherm-analyzer\\venv\\Lib\\site-packages\\IPython\\core\\interactiveshell.py\", line 3334, in run_cell_async\n\n  File \"C:\\Users\\Admin\\Desktop\\iso\\isotherm-analyzer\\venv\\Lib\\site-packages\\IPython\\core\\interactiveshell.py\", line 3517, in run_ast_nodes\n\n  File \"C:\\Users\\Admin\\Desktop\\iso\\isotherm-analyzer\\venv\\Lib\\site-packages\\IPython\\core\\interactiveshell.py\", line 3577, in run_code\n\n  File \"C:\\Users\\Admin\\AppData\\Local\\Temp\\ipykernel_20048\\2050301347.py\", line 2, in <module>\n\n  File \"C:\\Users\\Admin\\AppData\\Local\\Temp\\ipykernel_20048\\2050301347.py\", line 2, in <listcomp>\n\n  File \"C:\\Users\\Admin\\Desktop\\iso\\isotherm-analyzer\\venv\\Lib\\site-packages\\keras\\src\\utils\\traceback_utils.py\", line 117, in error_handler\n\n  File \"C:\\Users\\Admin\\Desktop\\iso\\isotherm-analyzer\\venv\\Lib\\site-packages\\keras\\src\\backend\\tensorflow\\trainer.py\", line 508, in predict\n\n  File \"C:\\Users\\Admin\\Desktop\\iso\\isotherm-analyzer\\venv\\Lib\\site-packages\\keras\\src\\backend\\tensorflow\\trainer.py\", line 208, in one_step_on_data_distributed\n\n  File \"C:\\Users\\Admin\\Desktop\\iso\\isotherm-analyzer\\venv\\Lib\\site-packages\\keras\\src\\backend\\tensorflow\\trainer.py\", line 198, in one_step_on_data\n\n  File \"C:\\Users\\Admin\\Desktop\\iso\\isotherm-analyzer\\venv\\Lib\\site-packages\\keras\\src\\backend\\tensorflow\\trainer.py\", line 96, in predict_step\n\n  File \"C:\\Users\\Admin\\Desktop\\iso\\isotherm-analyzer\\venv\\Lib\\site-packages\\keras\\src\\utils\\traceback_utils.py\", line 117, in error_handler\n\n  File \"C:\\Users\\Admin\\Desktop\\iso\\isotherm-analyzer\\venv\\Lib\\site-packages\\keras\\src\\layers\\layer.py\", line 882, in __call__\n\n  File \"C:\\Users\\Admin\\Desktop\\iso\\isotherm-analyzer\\venv\\Lib\\site-packages\\keras\\src\\utils\\traceback_utils.py\", line 117, in error_handler\n\n  File \"C:\\Users\\Admin\\Desktop\\iso\\isotherm-analyzer\\venv\\Lib\\site-packages\\keras\\src\\ops\\operation.py\", line 46, in __call__\n\n  File \"C:\\Users\\Admin\\Desktop\\iso\\isotherm-analyzer\\venv\\Lib\\site-packages\\keras\\src\\utils\\traceback_utils.py\", line 156, in error_handler\n\n  File \"C:\\Users\\Admin\\Desktop\\iso\\isotherm-analyzer\\venv\\Lib\\site-packages\\keras\\src\\models\\functional.py\", line 175, in call\n\n  File \"C:\\Users\\Admin\\Desktop\\iso\\isotherm-analyzer\\venv\\Lib\\site-packages\\keras\\src\\ops\\function.py\", line 171, in _run_through_graph\n\n  File \"C:\\Users\\Admin\\Desktop\\iso\\isotherm-analyzer\\venv\\Lib\\site-packages\\keras\\src\\models\\functional.py\", line 556, in call\n\n  File \"C:\\Users\\Admin\\Desktop\\iso\\isotherm-analyzer\\venv\\Lib\\site-packages\\keras\\src\\utils\\traceback_utils.py\", line 117, in error_handler\n\n  File \"C:\\Users\\Admin\\Desktop\\iso\\isotherm-analyzer\\venv\\Lib\\site-packages\\keras\\src\\layers\\layer.py\", line 882, in __call__\n\n  File \"C:\\Users\\Admin\\Desktop\\iso\\isotherm-analyzer\\venv\\Lib\\site-packages\\keras\\src\\utils\\traceback_utils.py\", line 117, in error_handler\n\n  File \"C:\\Users\\Admin\\Desktop\\iso\\isotherm-analyzer\\venv\\Lib\\site-packages\\keras\\src\\ops\\operation.py\", line 46, in __call__\n\n  File \"C:\\Users\\Admin\\Desktop\\iso\\isotherm-analyzer\\venv\\Lib\\site-packages\\keras\\src\\utils\\traceback_utils.py\", line 156, in error_handler\n\n  File \"C:\\Users\\Admin\\Desktop\\iso\\isotherm-analyzer\\venv\\Lib\\site-packages\\keras\\src\\layers\\core\\dense.py\", line 148, in call\n\n  File \"C:\\Users\\Admin\\Desktop\\iso\\isotherm-analyzer\\venv\\Lib\\site-packages\\keras\\src\\activations\\activations.py\", line 47, in relu\n\n  File \"C:\\Users\\Admin\\Desktop\\iso\\isotherm-analyzer\\venv\\Lib\\site-packages\\keras\\src\\activations\\activations.py\", line 99, in static_call\n\n  File \"C:\\Users\\Admin\\Desktop\\iso\\isotherm-analyzer\\venv\\Lib\\site-packages\\keras\\src\\backend\\tensorflow\\nn.py\", line 15, in relu\n\nMatrix size-incompatible: In[0]: [1,290], In[1]: [371,458]\n\t [[{{node functional_3_1/dense_15_1/Relu}}]] [Op:__inference_one_step_on_data_distributed_2114652]"
     ]
    }
   ],
   "source": [
    "n_s_exp_for_net_list = [pre_process_isotherm(np.copy(n_s_exp), scale=False) for n_s_exp in n_s_exp_list]\n",
    "fit_exp_list = [model.predict(np.array([n_s_exp_for_net])).T for n_s_exp_for_net in n_s_exp_for_net_list]\n",
    "fit_exp_list = [fetch_prediction(i) for i in fit_exp_list]"
   ],
   "metadata": {
    "collapsed": false,
    "pycharm": {
     "name": "#%%\n"
    }
   },
   "id": "964f2bfe8f0bb107"
  },
  {
   "cell_type": "code",
   "execution_count": null,
   "outputs": [],
   "source": [
    "NX, NY = 3, 4\n",
    "figure, axis = plt.subplots(NX, NY)\n",
    "k = 0\n",
    "for i in range(NX):\n",
    "    for j in range(NY):\n",
    "        x_scale_factor = max(gen.a_array) / max(p_exp_list[k])\n",
    "        y_scale_factor = max(fit_exp_list[k]) / max(n_s_exp_raw_list[k])\n",
    "        axis[i, j].plot(pore_widths, fit_exp_list[k], marker=\".\", label=f\"Distribution\")\n",
    "        axis[i, j].plot(p_exp_list[k] * x_scale_factor, n_s_exp_raw_list[k],\n",
    "                        label=f\"{exp_file_list[k]}\", marker=\".\")\n",
    "        \n",
    "        kernal = (data_sorb.T[40:])\n",
    "        axis[i, j].plot(gen.pressures_s[40:458]* x_scale_factor, np.dot(kernal, fit_exp_list[k]), label=\"Isotherm by distribution\")\n",
    "        \n",
    "        axis[i, j].set_title(f\"max at {round(gen.a_array[np.argmax(fit_exp_list[k])], 2)} nm\")\n",
    "        axis[i, j].title.set_size(12)\n",
    "        axis[i, j].legend(loc=\"upper right\")\n",
    "        axis[i, j].grid()\n",
    "        k += 1\n",
    "        if k >= len(fit_exp_list):\n",
    "            break\n",
    "plt.subplots_adjust(hspace=0.6, right=0.95, left=0.05, bottom=0.05, top=0.95)\n",
    "plot()"
   ],
   "metadata": {
    "collapsed": false,
    "pycharm": {
     "name": "#%%\n"
    }
   },
   "id": "dced44b8e1da2a3f"
  },
  {
   "cell_type": "code",
   "execution_count": null,
   "outputs": [],
   "source": [
    "### Classic\n",
    "import inverse\n",
    "\n",
    "kernel = np.load(\"data/initial kernels/Kernel_Silica_Adsorption.npy\")\n",
    "\n",
    "### normalize on size\n",
    "# a_array = np.load(\"data/initial kernels/Size_Kernel_Silica_Adsorption.npy\")\n",
    "# for i in range(len(a_array)):\n",
    "#     kernel[i] /= a_array[i]\n",
    "#     kernel[i] /= a_array[i]\n",
    "###\n",
    "\n",
    "cut_kernel = []\n",
    "for i in range(len(kernel)):\n",
    "    cut_kernel.append(kernel[i][40:458])\n",
    "cut_kernel = np.array(cut_kernel)\n",
    "fit_classic_list = [inverse.fit_SLSQP(adsorption=n_s, kernel=cut_kernel, a_array=pore_widths) for n_s in n_s_exp_list]"
   ],
   "metadata": {
    "collapsed": false,
    "pycharm": {
     "name": "#%%\n"
    }
   },
   "id": "435b91d710c2ce9e"
  },
  {
   "cell_type": "code",
   "execution_count": null,
   "outputs": [],
   "source": [
    "from matplotlib import animation\n",
    "\n",
    "importlib.reload(inverse)\n",
    "\n",
    "\n",
    "def create_regularization_animation(file):\n",
    "    fig, ax = plt.subplots()\n",
    "    fig.set_size_inches(10, 5, True)\n",
    "    fit_classic = inverse.fit_SLSQP(adsorption=n_s_exp_list[2], kernel=cut_kernel, a_array=pore_widths, alpha=0)\n",
    "    line1, = ax.plot(pore_widths[:-30], fit_classic.x[:-30], marker=\".\", label=f\"a = {0}\")\n",
    "\n",
    "    y_scale_factor = max(fit_classic.x) / max(fit_exp_list[2])\n",
    "    #plt.plot(pore_widths, fit_exp_list[2] * y_scale_factor, marker=\".\", label=f\"Суррогатная модель\")\n",
    "\n",
    "    ax.set_ylabel(\"Объем пор, $см^3$/ нм * г\")\n",
    "    ax.set_xlabel(\"Размер пор, нм\")\n",
    "\n",
    "    L = plt.legend(loc=1)  # Define legend objects\n",
    "\n",
    "    def update(frame):\n",
    "        a = frame / 4 + 2\n",
    "        fit_classic = inverse.fit_SLSQP(adsorption=n_s_exp_list[2], kernel=cut_kernel, a_array=pore_widths, alpha=a)\n",
    "        line1.set_ydata(fit_classic.x[:-30])\n",
    "        L.get_texts()[0].set_text(\n",
    "            f\"Распределение пор по размерам, параметр регуляризации α = {round(a-2,1)}\")  # Update label each at frame\n",
    "        return line1,\n",
    "\n",
    "    ani = animation.FuncAnimation(fig=fig, func=update, frames=100, interval=100)\n",
    "    writervideo = animation.FFMpegWriter(fps=30)\n",
    "    ani.save(file, writer=writervideo, dpi=200)\n",
    "    plt.grid()\n",
    "    plt.show()\n",
    "create_regularization_animation(\"SBA-16_regularization.mp4\")\n",
    "def plot_regularization_graphs():\n",
    "    for a in [1, 5, 10, 50]:\n",
    "        fit_classic = inverse.fit_SLSQP(adsorption=n_s_exp_list[2], kernel=cut_kernel, a_array=pore_widths, alpha=a)\n",
    "        plt.plot(pore_widths, fit_classic.x, marker=\".\", label=f\"α = {a}\")\n",
    "    plt.ylabel(\"Объем пор, $см^3$/ нм * гр\")\n",
    "    plt.xlabel(\"Размер пор, нм\")\n",
    "    plot()\n",
    "#plot_regularization_graphs()"
   ],
   "metadata": {
    "collapsed": false,
    "pycharm": {
     "name": "#%%\n"
    }
   },
   "id": "1b0c708ab92c81f5"
  },
  {
   "cell_type": "code",
   "execution_count": null,
   "outputs": [],
   "source": [
    "NX, NY = 3, 4\n",
    "figure, axis = plt.subplots(NX, NY)\n",
    "k = 0\n",
    "for i in range(NX):\n",
    "    for j in range(NY):\n",
    "        x_scale_factor = max(gen.a_array) / max(p_exp_list[k])\n",
    "        y_scale_factor = max(fit_classic_list[k].x) / max(n_s_exp_raw_list[k])\n",
    "        y_scale_factor_net = max(fit_classic_list[k].x) / max(fit_exp_list[k])\n",
    "\n",
    "        axis[i, j].plot(pore_widths, fit_exp_list[k] * y_scale_factor_net, marker=\".\", label=f\"net\")\n",
    "        axis[i, j].plot(pore_widths, fit_classic_list[k].x, marker=\".\", label=f\"classic\")\n",
    "        axis[i, j].plot(p_exp_list[k] * x_scale_factor, n_s_exp_raw_list[k] * y_scale_factor,\n",
    "                        label=f\"{exp_file_list[k]}\", marker=\".\")\n",
    "        axis[i, j].set_title(f\"max at {round(gen.a_array[np.argmax(fit_classic_list[k].x)], 2)} nm\")\n",
    "        axis[i, j].title.set_size(12)\n",
    "        axis[i, j].legend(loc=\"upper right\")\n",
    "        axis[i, j].grid()\n",
    "        k += 1\n",
    "        if k >= len(fit_exp_list):\n",
    "            break\n",
    "plt.subplots_adjust(hspace=0.6, right=0.95, left=0.05, bottom=0.05, top=0.95)\n",
    "plot()"
   ],
   "metadata": {
    "collapsed": false,
    "pycharm": {
     "name": "#%%\n"
    }
   },
   "id": "aac060bb7ff7720e"
  },
  {
   "cell_type": "code",
   "execution_count": null,
   "outputs": [],
   "source": [
    "### Classic\n",
    "import inverse\n",
    "\n",
    "kernel = np.load(\"data/initial kernels/Kernel_Silica_Adsorption.npy\")\n",
    "\n",
    "### normalize on size\n",
    "# a_array = np.load(\"data/initial kernels/Size_Kernel_Silica_Adsorption.npy\")\n",
    "# for i in range(len(a_array)):\n",
    "#     kernel[i] /= a_array[i]\n",
    "#     kernel[i] /= a_array[i]\n",
    "###\n",
    "\n",
    "cut_kernel = []\n",
    "for i in range(len(kernel)):\n",
    "    cut_kernel.append(kernel[i][40:458])\n",
    "cut_kernel = np.array(cut_kernel)\n",
    "fit_classic_list = [inverse.fit_SLSQP(adsorption=n_s, kernel=cut_kernel, a_array=pore_widths) for n_s in n_s_exp_list]"
   ],
   "metadata": {
    "collapsed": false,
    "ExecuteTime": {
     "end_time": "2024-06-18T13:40:22.307670Z",
     "start_time": "2024-06-18T13:39:59.907685Z"
    },
    "pycharm": {
     "name": "#%%\n"
    }
   },
   "id": "9949a77c1d2e89c0"
  },
  {
   "cell_type": "code",
   "outputs": [],
   "source": [
    "from matplotlib import animation\n",
    "\n",
    "importlib.reload(inverse)\n",
    "\n",
    "\n",
    "def create_regularization_animation(file):\n",
    "    fig, ax = plt.subplots()\n",
    "    fig.set_size_inches(10, 5, True)\n",
    "    fit_classic = inverse.fit_SLSQP(adsorption=n_s_exp_list[2], kernel=cut_kernel, a_array=pore_widths, alpha=0)\n",
    "    line1, = ax.plot(pore_widths[:-30], fit_classic.x[:-30], marker=\".\", label=f\"a = {0}\")\n",
    "\n",
    "    y_scale_factor = max(fit_classic.x) / max(fit_exp_list[2])\n",
    "    #plt.plot(pore_widths, fit_exp_list[2] * y_scale_factor, marker=\".\", label=f\"Суррогатная модель\")\n",
    "\n",
    "    ax.set_ylabel(\"Объем пор, $см^3$/ нм * г\")\n",
    "    ax.set_xlabel(\"Размер пор, нм\")\n",
    "\n",
    "    L = plt.legend(loc=1)  # Define legend objects\n",
    "\n",
    "    def update(frame):\n",
    "        a = frame / 4 + 2\n",
    "        fit_classic = inverse.fit_SLSQP(adsorption=n_s_exp_list[2], kernel=cut_kernel, a_array=pore_widths, alpha=a)\n",
    "        line1.set_ydata(fit_classic.x[:-30])\n",
    "        L.get_texts()[0].set_text(\n",
    "            f\"Распределение пор по размерам, параметр регуляризации α = {round(a-2,1)}\")  # Update label each at frame\n",
    "        return line1,\n",
    "\n",
    "    ani = animation.FuncAnimation(fig=fig, func=update, frames=100, interval=100)\n",
    "    writervideo = animation.FFMpegWriter(fps=30)\n",
    "    ani.save(file, writer=writervideo, dpi=200)\n",
    "    plt.grid()\n",
    "    plt.show()\n",
    "create_regularization_animation(\"SBA-16_regularization.mp4\")\n",
    "def plot_regularization_graphs():\n",
    "    for a in [1, 5, 10, 50]:\n",
    "        fit_classic = inverse.fit_SLSQP(adsorption=n_s_exp_list[2], kernel=cut_kernel, a_array=pore_widths, alpha=a)\n",
    "        plt.plot(pore_widths, fit_classic.x, marker=\".\", label=f\"α = {a}\")\n",
    "    plt.ylabel(\"Объем пор, $см^3$/ нм * гр\")\n",
    "    plt.xlabel(\"Размер пор, нм\")\n",
    "    plot()\n",
    "#plot_regularization_graphs()"
   ],
   "metadata": {
    "collapsed": false,
    "ExecuteTime": {
     "end_time": "2024-06-18T14:50:01.331621Z",
     "start_time": "2024-06-18T14:46:23.487577Z"
    },
    "pycharm": {
     "name": "#%%\n"
    }
   },
   "id": "ca3051b964f378a",
   "execution_count": null
  },
  {
   "cell_type": "code",
   "execution_count": null,
   "outputs": [],
   "source": [
    "NX, NY = 3, 4\n",
    "figure, axis = plt.subplots(NX, NY)\n",
    "k = 0\n",
    "for i in range(NX):\n",
    "    for j in range(NY):\n",
    "        x_scale_factor = max(gen.a_array) / max(p_exp_list[k])\n",
    "        y_scale_factor = max(fit_classic_list[k].x) / max(n_s_exp_raw_list[k])\n",
    "        y_scale_factor_net = max(fit_classic_list[k].x) / max(fit_exp_list[k])\n",
    "\n",
    "        axis[i, j].plot(pore_widths, fit_exp_list[k] * y_scale_factor_net, marker=\".\", label=f\"net\")\n",
    "        axis[i, j].plot(pore_widths, fit_classic_list[k].x, marker=\".\", label=f\"classic\")\n",
    "        axis[i, j].plot(p_exp_list[k] * x_scale_factor, n_s_exp_raw_list[k] * y_scale_factor,\n",
    "                        label=f\"{exp_file_list[k]}\", marker=\".\")\n",
    "        axis[i, j].set_title(f\"max at {round(gen.a_array[np.argmax(fit_classic_list[k].x)], 2)} nm\")\n",
    "        axis[i, j].title.set_size(12)\n",
    "        axis[i, j].legend(loc=\"upper right\")\n",
    "        axis[i, j].grid()\n",
    "        k += 1\n",
    "        if k >= len(fit_exp_list):\n",
    "            break\n",
    "plt.subplots_adjust(hspace=0.6, right=0.95, left=0.05, bottom=0.05, top=0.95)\n",
    "plot()"
   ],
   "metadata": {
    "collapsed": false,
    "pycharm": {
     "name": "#%%\n"
    }
   },
   "id": "707d030f7db4a23"
  },
  {
   "cell_type": "code",
   "execution_count": null,
   "outputs": [],
   "source": [
    "# compare net, classic, quantachrome distributions\n",
    "NX, NY = 3, 4\n",
    "figure, axis = plt.subplots(NX, NY)\n",
    "k = 0\n",
    "\n",
    "\n",
    "def calculate_isotherm_by_distribution(generator: Generator, a_array, distribution):\n",
    "    generator.a_array = a_array\n",
    "    generator.pore_distribution = distribution\n",
    "    generator.calculate_isotherms()\n",
    "    return generator.n_s\n",
    "\n",
    "\n",
    "#/np.ediff1d(pore_widths, to_begin=pore_widths[0])\n",
    "for i in range(NX):\n",
    "    for j in range(NY):\n",
    "        quantachrome_pore_size = \\\n",
    "            np.genfromtxt(f\"data/real/quantachrome/silica/distribution/{exp_file_list[k]}.csv\", delimiter=\",\")[1:].T[\n",
    "                0] / 10 * 2  # /10 - перевод в НМ * 2 - в QH размер - Half pore width.\n",
    "        quantachrome_dV = \\\n",
    "            np.genfromtxt(f\"data/real/quantachrome/silica/distribution/{exp_file_list[k]}.csv\", delimiter=\",\")[1:].T[3]\n",
    "        # isotherm_formQC = calculate_isotherm_by_distribution(gen, pore_widths, np.interp(pore_widths, quantachrome_pore_size, quantachrome_dV))\n",
    "        # y_scale_factor_QH = max(n_s_exp_raw_list[k]) / max(isotherm_formQC)\n",
    "        # quantachrome_dV *= y_scale_factor_QH\n",
    "\n",
    "        y_scale_factor_classic = max(quantachrome_dV) / max(fit_classic_list[k].x)\n",
    "        y_scale_factor_net = max(quantachrome_dV) / max(fit_exp_list[k])\n",
    "\n",
    "        axis[i, j].plot(pore_widths, fit_exp_list[k] * y_scale_factor_net, marker=\".\", label=f\"net\")\n",
    "        axis[i, j].plot(pore_widths, fit_classic_list[k].x * y_scale_factor_classic, marker=\".\", label=f\"classic\")\n",
    "        axis[i, j].plot(quantachrome_pore_size, quantachrome_dV, marker=\".\", label=f\"quantachrome\")\n",
    "        axis[i, j].set_title(f\"{exp_file_list[k]}\")\n",
    "        axis[i, j].title.set_size(12)\n",
    "        axis[i, j].legend(loc=\"upper right\")\n",
    "        axis[i, j].grid()\n",
    "        k += 1\n",
    "        if k >= len(fit_exp_list):\n",
    "            break\n",
    "plt.subplots_adjust(hspace=0.6, right=0.95, left=0.05, bottom=0.05, top=0.95)\n",
    "plot()"
   ],
   "metadata": {
    "collapsed": false,
    "pycharm": {
     "name": "#%%\n"
    }
   },
   "id": "8e0b9fbf987405b3"
  },
  {
   "cell_type": "code",
   "outputs": [],
   "source": [
    "# plots for presentation\n",
    "import matplotlib.pyplot as plt\n",
    "from importlib import reload\n",
    "\n",
    "plt = reload(plt)\n",
    "\n",
    "k = 0\n",
    "\n",
    "quantachrome_pore_size = \\\n",
    "    np.genfromtxt(f\"data/real/quantachrome/silica/distribution/{exp_file_list[k]}.csv\", delimiter=\",\")[1:].T[\n",
    "        0] / 10 * 2  # /10 - перевод в НМ * 2 - в QH размер - Half pore width.\n",
    "quantachrome_dV = \\\n",
    "    np.genfromtxt(f\"data/real/quantachrome/silica/distribution/{exp_file_list[k]}.csv\", delimiter=\",\")[1:].T[3]\n",
    "# isotherm_formQC = calculate_isotherm_by_distribution(gen, pore_widths, np.interp(pore_widths, quantachrome_pore_size, quantachrome_dV))\n",
    "# y_scale_factor_QH = max(n_s_exp_raw_list[k]) / max(isotherm_formQC)\n",
    "# quantachrome_dV *= y_scale_factor_QH\n",
    "\n",
    "y_scale_factor_classic = max(quantachrome_dV) / max(fit_classic_list[k].x)\n",
    "y_scale_factor_net = max(quantachrome_dV) / max(fit_exp_list[k])\n",
    "\n",
    "plt.plot(pore_widths, fit_exp_list[k] * y_scale_factor_net, marker=\".\", label=f\"Суррогатная модель\")\n",
    "plt.plot(pore_widths, fit_classic_list[k].x * y_scale_factor_classic, marker=\".\", label=f\"Математическое решение\")\n",
    "#plt.plot(quantachrome_pore_size, quantachrome_dV, marker=\".\", label=f\"Математическое решение QH\") \n",
    "plt.legend(loc=\"upper right\")\n",
    "plt.grid()\n",
    "plt.title(f\"{exp_file_list[k]}\")\n",
    "\n",
    "# plt.xscale('log')\n",
    "plt.subplots_adjust(left=0.15,\n",
    "                    bottom=0.133,\n",
    "                    right=0.979,\n",
    "                    top=0.917,\n",
    "                    wspace=0.4,\n",
    "                    hspace=0.4)\n",
    "plt.legend()\n",
    "plt.grid(True)\n",
    "plt.ylabel(\"Объем пор, $см^3$/ нм * гр\")\n",
    "plt.xlabel(\"Размер пор, нм\")\n",
    "plt.show()\n"
   ],
   "metadata": {
    "collapsed": false,
    "pycharm": {
     "name": "#%%\n"
    }
   },
   "id": "c5e26ea811ae701c",
   "execution_count": null
  },
  {
   "cell_type": "code",
   "outputs": [],
   "source": [
    "# plots for presentation 2\n",
    "k = 3\n",
    "plt.plot(p_exp_list[k], n_s_exp_raw_list[k], marker=\".\", color='b', label=f\"{exp_file_list[k]}\")\n",
    "k = 9\n",
    "plt.plot(p_exp_list[k], n_s_exp_raw_list[k], marker=\".\", color='r', label=f\"{exp_file_list[k]}\")\n",
    "plt.legend(loc=\"upper right\")\n",
    "plt.grid()\n",
    "plt.title(f\"Изотермы адсорбции\")\n",
    "\n",
    "# plt.xscale('log')\n",
    "plt.subplots_adjust(left=0.15,\n",
    "                    bottom=0.133,\n",
    "                    right=0.979,\n",
    "                    top=0.917,\n",
    "                    wspace=0.4,\n",
    "                    hspace=0.4)\n",
    "plt.legend()\n",
    "plt.grid(True)\n",
    "plt.ylabel(\"Адсорбция, $см^3$/г\")\n",
    "plt.xlabel(\"Давление, $P/P_{0}$\")\n",
    "plt.show()\n"
   ],
   "metadata": {
    "collapsed": false,
    "pycharm": {
     "name": "#%%\n"
    }
   },
   "id": "be93198745d6bc2d",
   "execution_count": null
  },
  {
   "cell_type": "code",
   "outputs": [],
   "source": [
    "# plots for presentation 3\n",
    "\n",
    "fig, ax1 = plt.subplots(figsize=(6, 7))\n",
    "ax1.set_xlabel(\"Размер пор, нм\")\n",
    "ax1.set_ylabel(\"Объем пор, $см^3$/ нм * гр\")\n",
    "k = 0\n",
    "plt.title(f\"{exp_file_list[k]}\")\n",
    "quantachrome_pore_size = \\\n",
    "    np.genfromtxt(f\"data/real/quantachrome/silica/distribution/{exp_file_list[k]}.csv\", delimiter=\",\")[1:].T[\n",
    "        0] / 10 * 2  # /10 - перевод в НМ * 2 - в QH размер - Half pore width.\n",
    "quantachrome_dV = \\\n",
    "    np.genfromtxt(f\"data/real/quantachrome/silica/distribution/{exp_file_list[k]}.csv\", delimiter=\",\")[1:].T[3]\n",
    "# isotherm_formQC = calculate_isotherm_by_distribution(gen, pore_widths, np.interp(pore_widths, quantachrome_pore_size, quantachrome_dV))\n",
    "# y_scale_factor_QH = max(n_s_exp_raw_list[k]) / max(isotherm_formQC)\n",
    "# quantachrome_dV *= y_scale_factor_QH\n",
    "\n",
    "y_scale_factor_classic = max(quantachrome_dV) / max(fit_classic_list[k].x)\n",
    "y_scale_factor_net = max(quantachrome_dV) / max(fit_exp_list[k])\n",
    "\n",
    "ax1.plot(pore_widths[0:100], (fit_exp_list[k] * y_scale_factor_net)[0:100], marker=\".\", label=f\"Суррогатная модель\")\n",
    "ax1.plot(pore_widths[0:100], (fit_classic_list[k].x * y_scale_factor_classic)[0:100], marker=\".\",\n",
    "         label=f\"Математическое решение\")\n",
    "# ax1.tick_params(axis='y')\n",
    "# plt.legend(loc=\"right\")\n",
    "\n",
    "\n",
    "ax2 = ax1.twinx()\n",
    "ax3 = ax2.twiny()  # instantiate a second axes that shares the same x-axis\n",
    "ax3.set_xlabel(\"Давление, $P/P_{0}$\")\n",
    "ax2.set_ylabel(\"Адсорбция, $см^3$/г\")  # we already handled the x-label with ax1\n",
    "ax3.plot(p_exp_list[k], n_s_exp_raw_list[k], color='g', label=f\"Изотерма адсорбции\")\n",
    "# plt.legend(loc=\"right\")\n",
    "# \n",
    "# ax2.tick_params(axis='y')\n",
    "# plt.subplots_adjust(left=0.15,\n",
    "#                     bottom=0.133, \n",
    "#                     right=0.979, \n",
    "#                     top=0.917, \n",
    "#                     wspace=0.4, \n",
    "#                     hspace=0.4)\n",
    "\n",
    "fig.tight_layout()\n",
    "plt.show()"
   ],
   "metadata": {
    "collapsed": false,
    "pycharm": {
     "name": "#%%\n"
    }
   },
   "id": "2d0a60b839334253",
   "execution_count": null
  },
  {
   "cell_type": "code",
   "outputs": [],
   "source": [
    "# Compare isotherms\n",
    "NX, NY = 2, 3\n",
    "figure, axis = plt.subplots(NX, NY)\n",
    "k = 0\n",
    "\n",
    "for i in range(NX):\n",
    "    for j in range(NY):\n",
    "        net_isotherm = calculate_isotherm_by_distribution(gen, pore_widths, fit_exp_list[k].T[0])\n",
    "        classic_isotherm = calculate_isotherm_by_distribution(gen, pore_widths, fit_classic_list[k].x)\n",
    "        quantachrome_data = np.genfromtxt(f\"data/real/quantachrome/silica/fitting/{exp_file_list[k]}.csv\",\n",
    "                                          delimiter=\",\")[1:].T\n",
    "        quantachrome_pore_size = \\\n",
    "            np.genfromtxt(f\"data/real/quantachrome/silica/distribution/{exp_file_list[k]}.csv\", delimiter=\",\")[1:].T[\n",
    "                0] / 10 * 2\n",
    "        quantachrome_dV = \\\n",
    "            np.genfromtxt(f\"data/real/quantachrome/silica/distribution/{exp_file_list[k]}.csv\", delimiter=\",\")[1:].T[3]\n",
    "        quantachrome_data2 = calculate_isotherm_by_distribution(gen, pore_widths,\n",
    "                                                                np.interp(pore_widths, quantachrome_pore_size,\n",
    "                                                                          quantachrome_dV))\n",
    "\n",
    "        y_scale_factor_net = max(net_isotherm) / max(n_s_exp_raw_list[k])\n",
    "        y_scale_factor_classic = max(classic_isotherm) / max(n_s_exp_raw_list[k])\n",
    "        y_scale_factor_quantachrome = max(quantachrome_data[1]) / max(n_s_exp_raw_list[k])\n",
    "        y_scale_factor_quantachrome2 = max(quantachrome_data2) / (\n",
    "            n_s_exp_raw_list[k][-1])  #max(quantachrome_data[1]) / max(n_s_exp_raw_list[k])\n",
    "        print(1 / y_scale_factor_quantachrome2)\n",
    "\n",
    "        axis[i, j].plot(p_exp_list[k], n_s_exp_raw_list[k], label=\"real\")\n",
    "        axis[i, j].plot(gen.pressures_s, classic_isotherm / y_scale_factor_classic, marker=\".\", label=f\"classic\")\n",
    "        axis[i, j].plot(gen.pressures_s, net_isotherm / y_scale_factor_net, label=\"net\")\n",
    "        # axis[i, j].plot(quantachrome_data[0], quantachrome_data[1]/y_scale_factor_quantachrome, label=\"quantachrome\")\n",
    "        # axis[i, j].plot(gen.pressures_s, quantachrome_data2/y_scale_factor_quantachrome2, label=\"quantachrome_from_kernal\")\n",
    "        axis[i, j].set_title(f\"{exp_file_list[k]}\")\n",
    "        axis[i, j].legend(loc=\"lower right\")\n",
    "        axis[i, j].grid()\n",
    "        k += 1\n",
    "        if k >= len(fit_exp_list):\n",
    "            break\n",
    "plt.subplots_adjust(hspace=0.6, right=0.95, left=0.05, bottom=0.05, top=0.95)\n",
    "plot()"
   ],
   "metadata": {
    "collapsed": false,
    "pycharm": {
     "name": "#%%\n"
    }
   },
   "id": "5e20fa504d7c45cc",
   "execution_count": null
  },
  {
   "cell_type": "code",
   "outputs": [],
   "source": [
    "#QUANTACHROME\n",
    "data = np.genfromtxt(\"data/real/quantachrome/silica/distribution/MIL-101.csv\", delimiter=\",\")[1:].T[0]"
   ],
   "metadata": {
    "collapsed": false,
    "pycharm": {
     "name": "#%%\n"
    }
   },
   "id": "a2947b6286fe73b7",
   "execution_count": null
  },
  {
   "cell_type": "code",
   "outputs": [],
   "source": [],
   "metadata": {
    "collapsed": false,
    "pycharm": {
     "name": "#%%\n"
    }
   },
   "id": "29ec7e76cb0598ac",
   "execution_count": null
  },
  {
   "cell_type": "code",
   "outputs": [],
   "source": [],
   "metadata": {
    "collapsed": false,
    "pycharm": {
     "name": "#%%\n"
    }
   },
   "id": "5d7d844d6e720d14",
   "execution_count": null
  },
  {
   "cell_type": "code",
   "outputs": [],
   "source": [],
   "metadata": {
    "collapsed": false,
    "pycharm": {
     "name": "#%%\n"
    }
   },
   "id": "40a95cf0ab8cc517",
   "execution_count": null
  }
 ],
 "metadata": {
  "kernelspec": {
   "display_name": "Python 3",
   "language": "python",
   "name": "python3"
  },
  "language_info": {
   "codemirror_mode": {
    "name": "ipython",
    "version": 2
   },
   "file_extension": ".py",
   "mimetype": "text/x-python",
   "name": "python",
   "nbconvert_exporter": "python",
   "pygments_lexer": "ipython2",
   "version": "2.7.6"
  }
 },
 "nbformat": 4,
 "nbformat_minor": 5
}
