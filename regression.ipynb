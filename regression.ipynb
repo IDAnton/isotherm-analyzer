{
 "cells": [
  {
   "cell_type": "code",
   "execution_count": 3,
   "id": "initial_id",
   "metadata": {
    "collapsed": true,
    "ExecuteTime": {
     "end_time": "2024-07-22T05:48:50.343405Z",
     "start_time": "2024-07-22T05:48:50.337403Z"
    }
   },
   "outputs": [],
   "source": [
    "import numpy as np\n",
    "import tensorflow.compat.v1 as tf\n",
    "import matplotlib.pyplot as plt\n",
    "import pandas as pd\n",
    "from tensorflow.keras import layers, Sequential, Input\n",
    "from sklearn.model_selection import train_test_split\n",
    "from generator import Generator\n",
    "import importlib\n",
    "import keras.backend as K"
   ]
  },
  {
   "cell_type": "code",
   "outputs": [],
   "source": [
    "from datasetLoader import *"
   ],
   "metadata": {
    "collapsed": false,
    "ExecuteTime": {
     "end_time": "2024-07-22T05:48:50.895403Z",
     "start_time": "2024-07-22T05:48:50.889404Z"
    }
   },
   "id": "7eed18058f0ab00e",
   "execution_count": 4
  },
  {
   "cell_type": "code",
   "execution_count": 5,
   "outputs": [],
   "source": [
    "def plot():\n",
    "    plt.legend()\n",
    "    plt.grid(True)\n",
    "    plt.show()\n",
    "\n",
    "\n",
    "def plot_loss(history):\n",
    "    plt.plot(history.history['loss'], label='loss', marker=\".\")\n",
    "    plt.plot(history.history['val_loss'], label='val_loss')\n",
    "    plt.xlabel('Epoch')\n",
    "    plt.ylabel('Error [MPG]')\n",
    "    plot()"
   ],
   "metadata": {
    "collapsed": false,
    "ExecuteTime": {
     "end_time": "2024-07-22T05:48:51.445428Z",
     "start_time": "2024-07-22T05:48:51.436407Z"
    }
   },
   "id": "98226eed5b8acbd0"
  },
  {
   "cell_type": "code",
   "outputs": [],
   "source": [
    "with open(\"data/initial kernels/Kernel_Silica_Adsorption.npy\", 'rb') as f:\n",
    "    data_sorb = np.load(f)\n",
    "    data_sorb_tensor = K.constant((data_sorb.T[40:]).T)\n",
    "\n",
    "def custom_loss(y_true, y_pred):\n",
    "    #print(\"data_sorb_tensor.shape = \", data_sorb_tensor.shape, y_pred[:,:128].shape)\n",
    "    isotherm_from_distribution = K.dot(y_pred[:,:128], data_sorb_tensor)\n",
    "    #print(\"isotherm_from_distribution = \", isotherm_from_distribution.shape, y_pred[:,128:].shape)\n",
    "    return K.mean(K.square(y_pred[:,:128] - y_true[:,:128]) + \n",
    "                   0*K.mean(K.square(y_pred[:,128:] - isotherm_from_distribution)))\n",
    "\n",
    "#np.ediff1d(pore_widths, to_begin=pore_widths[0])    "
   ],
   "metadata": {
    "collapsed": false,
    "ExecuteTime": {
     "end_time": "2024-07-22T05:57:53.764431Z",
     "start_time": "2024-07-22T05:57:53.754431Z"
    }
   },
   "id": "5a70c47a6224da6e",
   "execution_count": 24
  },
  {
   "cell_type": "code",
   "outputs": [],
   "source": [
    "def create_model():\n",
    "    layer = []\n",
    "    layer.append(Input(shape=418))\n",
    "    layer.append(layers.Dense(418, activation='relu')(layer[-1]))\n",
    "    layer.append(layers.Dense(209, activation='relu')(layer[-1]))\n",
    "    layer.append(layers.Dense(128, activation='relu')(layer[-1]))\n",
    "    layer.append(layers.Concatenate()([layer[-1], layer[0]]))\n",
    "    model = tf.keras.Model(inputs=layer[0], outputs=layer[-1])\n",
    "    model.compile(loss=custom_loss, optimizer='Adam')\n",
    "    return model"
   ],
   "metadata": {
    "collapsed": false,
    "ExecuteTime": {
     "end_time": "2024-07-22T05:57:54.385454Z",
     "start_time": "2024-07-22T05:57:54.378430Z"
    }
   },
   "id": "3d506f4532cefb0d",
   "execution_count": 25
  },
  {
   "cell_type": "code",
   "outputs": [],
   "source": [
    "with open(\"data/datasets/report.npz\", 'rb') as f:\n",
    "    dataset = np.load(f)\n",
    "    isotherm_data = dataset[\"isotherm_data\"]\n",
    "    pore_distribution_data = dataset[\"pore_distribution_data\"]"
   ],
   "metadata": {
    "collapsed": false,
    "ExecuteTime": {
     "end_time": "2024-07-22T05:57:54.978432Z",
     "start_time": "2024-07-22T05:57:54.957464Z"
    }
   },
   "id": "e6d7c5a21f8d5b1b",
   "execution_count": 26
  },
  {
   "cell_type": "code",
   "execution_count": 27,
   "outputs": [],
   "source": [
    "x, y = load_dataset('data/datasets/report.npz')"
   ],
   "metadata": {
    "collapsed": false,
    "ExecuteTime": {
     "end_time": "2024-07-22T05:57:55.573430Z",
     "start_time": "2024-07-22T05:57:55.522458Z"
    }
   },
   "id": "1f104f33d58de2ad"
  },
  {
   "cell_type": "code",
   "execution_count": 28,
   "outputs": [],
   "source": [
    "x_train, x_test, y_train, y_test = train_test_split(x, y, test_size=0.25)"
   ],
   "metadata": {
    "collapsed": false,
    "ExecuteTime": {
     "end_time": "2024-07-22T05:57:56.003430Z",
     "start_time": "2024-07-22T05:57:55.993432Z"
    }
   },
   "id": "e050c9f0d43b1c44"
  },
  {
   "cell_type": "code",
   "execution_count": 29,
   "outputs": [],
   "source": [
    "model = create_model()"
   ],
   "metadata": {
    "collapsed": false,
    "ExecuteTime": {
     "end_time": "2024-07-22T05:57:56.487429Z",
     "start_time": "2024-07-22T05:57:56.441430Z"
    }
   },
   "id": "6ff9113a73806767"
  },
  {
   "cell_type": "code",
   "execution_count": 30,
   "outputs": [
    {
     "name": "stdout",
     "output_type": "stream",
     "text": [
      "Epoch 1/100\n",
      "72/76 [===========================>..] - ETA: 0s - loss: 0.0039\n",
      "Epoch 1: val_loss improved from inf to 0.00009, saving model to data/models\\reports.keras\n",
      "76/76 [==============================] - 1s 7ms/step - loss: 0.0038 - val_loss: 8.9027e-05 - lr: 0.0010\n",
      "Epoch 2/100\n",
      "69/76 [==========================>...] - ETA: 0s - loss: 8.8823e-05\n",
      "Epoch 2: val_loss improved from 0.00009 to 0.00009, saving model to data/models\\reports.keras\n",
      "76/76 [==============================] - 0s 6ms/step - loss: 8.7942e-05 - val_loss: 8.9008e-05 - lr: 0.0010\n",
      "Epoch 3/100\n",
      "70/76 [==========================>...] - ETA: 0s - loss: 8.8763e-05\n",
      "Epoch 3: val_loss did not improve from 0.00009\n",
      "76/76 [==============================] - 0s 5ms/step - loss: 8.7905e-05 - val_loss: 8.9008e-05 - lr: 0.0010\n",
      "Epoch 4/100\n",
      "76/76 [==============================] - ETA: 0s - loss: 8.7905e-05\n",
      "Epoch 4: val_loss did not improve from 0.00009\n",
      "76/76 [==============================] - 0s 5ms/step - loss: 8.7905e-05 - val_loss: 8.9008e-05 - lr: 0.0010\n",
      "Epoch 5/100\n",
      "64/76 [========================>.....] - ETA: 0s - loss: 8.9150e-05\n",
      "Epoch 5: val_loss did not improve from 0.00009\n",
      "76/76 [==============================] - 0s 5ms/step - loss: 8.7905e-05 - val_loss: 8.9008e-05 - lr: 0.0010\n",
      "Epoch 6/100\n",
      "75/76 [============================>.] - ETA: 0s - loss: 8.8167e-05\n",
      "Epoch 6: val_loss did not improve from 0.00009\n",
      "76/76 [==============================] - 0s 6ms/step - loss: 8.7905e-05 - val_loss: 8.9008e-05 - lr: 0.0010\n",
      "Epoch 7/100\n",
      "74/76 [============================>.] - ETA: 0s - loss: 8.8688e-05\n",
      "Epoch 7: val_loss did not improve from 0.00009\n",
      "76/76 [==============================] - 0s 5ms/step - loss: 8.7905e-05 - val_loss: 8.9008e-05 - lr: 0.0010\n",
      "Epoch 8/100\n",
      "64/76 [========================>.....] - ETA: 0s - loss: 9.2435e-05\n",
      "Epoch 8: val_loss did not improve from 0.00009\n",
      "76/76 [==============================] - 0s 5ms/step - loss: 8.7905e-05 - val_loss: 8.9008e-05 - lr: 0.0010\n",
      "Epoch 9/100\n",
      "64/76 [========================>.....] - ETA: 0s - loss: 8.0713e-05\n",
      "Epoch 9: val_loss did not improve from 0.00009\n",
      "76/76 [==============================] - 0s 5ms/step - loss: 8.7905e-05 - val_loss: 8.9008e-05 - lr: 0.0010\n",
      "Epoch 10/100\n",
      "74/76 [============================>.] - ETA: 0s - loss: 8.7863e-05\n",
      "Epoch 10: val_loss did not improve from 0.00009\n",
      "76/76 [==============================] - 0s 5ms/step - loss: 8.7905e-05 - val_loss: 8.9008e-05 - lr: 0.0010\n",
      "Epoch 11/100\n",
      "75/76 [============================>.] - ETA: 0s - loss: 8.7706e-05\n",
      "Epoch 11: val_loss did not improve from 0.00009\n",
      "76/76 [==============================] - 0s 5ms/step - loss: 8.7905e-05 - val_loss: 8.9008e-05 - lr: 0.0010\n",
      "Epoch 12/100\n",
      "73/76 [===========================>..] - ETA: 0s - loss: 8.8725e-05\n",
      "Epoch 12: val_loss did not improve from 0.00009\n",
      "76/76 [==============================] - 0s 5ms/step - loss: 8.7905e-05 - val_loss: 8.9008e-05 - lr: 0.0010\n",
      "Epoch 13/100\n",
      "76/76 [==============================] - ETA: 0s - loss: 8.7905e-05\n",
      "Epoch 13: val_loss did not improve from 0.00009\n",
      "76/76 [==============================] - 0s 5ms/step - loss: 8.7905e-05 - val_loss: 8.9008e-05 - lr: 0.0010\n",
      "Epoch 14/100\n",
      "64/76 [========================>.....] - ETA: 0s - loss: 8.2786e-05\n",
      "Epoch 14: val_loss did not improve from 0.00009\n",
      "76/76 [==============================] - 0s 5ms/step - loss: 8.7905e-05 - val_loss: 8.9008e-05 - lr: 0.0010\n",
      "Epoch 15/100\n",
      "76/76 [==============================] - ETA: 0s - loss: 8.7905e-05\n",
      "Epoch 15: val_loss did not improve from 0.00009\n",
      "76/76 [==============================] - 0s 5ms/step - loss: 8.7905e-05 - val_loss: 8.9008e-05 - lr: 0.0010\n",
      "Epoch 16/100\n",
      "65/76 [========================>.....] - ETA: 0s - loss: 9.0719e-05\n",
      "Epoch 16: val_loss did not improve from 0.00009\n",
      "76/76 [==============================] - 0s 6ms/step - loss: 8.7905e-05 - val_loss: 8.9008e-05 - lr: 0.0010\n",
      "Epoch 17/100\n",
      "69/76 [==========================>...] - ETA: 0s - loss: 9.1500e-05\n",
      "Epoch 17: val_loss did not improve from 0.00009\n",
      "76/76 [==============================] - 0s 6ms/step - loss: 8.7905e-05 - val_loss: 8.9008e-05 - lr: 0.0010\n",
      "Epoch 18/100\n",
      "74/76 [============================>.] - ETA: 0s - loss: 8.8388e-05\n",
      "Epoch 18: val_loss did not improve from 0.00009\n",
      "76/76 [==============================] - 0s 5ms/step - loss: 8.7905e-05 - val_loss: 8.9008e-05 - lr: 0.0010\n",
      "Epoch 19/100\n",
      "71/76 [===========================>..] - ETA: 0s - loss: 8.1106e-05\n",
      "Epoch 19: val_loss did not improve from 0.00009\n",
      "76/76 [==============================] - 0s 6ms/step - loss: 8.7905e-05 - val_loss: 8.9008e-05 - lr: 0.0010\n",
      "Epoch 20/100\n",
      "72/76 [===========================>..] - ETA: 0s - loss: 8.9027e-05\n",
      "Epoch 20: val_loss did not improve from 0.00009\n",
      "76/76 [==============================] - 0s 5ms/step - loss: 8.7905e-05 - val_loss: 8.9008e-05 - lr: 0.0010\n",
      "Epoch 21/100\n",
      "65/76 [========================>.....] - ETA: 0s - loss: 9.0245e-05\n",
      "Epoch 21: val_loss did not improve from 0.00009\n",
      "76/76 [==============================] - 0s 5ms/step - loss: 8.7905e-05 - val_loss: 8.9008e-05 - lr: 0.0010\n",
      "Epoch 22/100\n",
      "75/76 [============================>.] - ETA: 0s - loss: 8.7795e-05\n",
      "Epoch 22: val_loss did not improve from 0.00009\n",
      "76/76 [==============================] - 0s 6ms/step - loss: 8.7905e-05 - val_loss: 8.9008e-05 - lr: 0.0010\n",
      "Epoch 23/100\n",
      "68/76 [=========================>....] - ETA: 0s - loss: 8.8134e-05\n",
      "Epoch 23: val_loss did not improve from 0.00009\n",
      "76/76 [==============================] - 0s 6ms/step - loss: 8.7905e-05 - val_loss: 8.9008e-05 - lr: 0.0010\n",
      "Epoch 24/100\n",
      "76/76 [==============================] - ETA: 0s - loss: 8.7905e-05\n",
      "Epoch 24: val_loss did not improve from 0.00009\n",
      "76/76 [==============================] - 0s 6ms/step - loss: 8.7905e-05 - val_loss: 8.9008e-05 - lr: 0.0010\n",
      "Epoch 25/100\n",
      "68/76 [=========================>....] - ETA: 0s - loss: 9.0811e-05\n",
      "Epoch 25: val_loss did not improve from 0.00009\n",
      "76/76 [==============================] - 0s 6ms/step - loss: 8.7905e-05 - val_loss: 8.9008e-05 - lr: 0.0010\n",
      "Epoch 26/100\n",
      "64/76 [========================>.....] - ETA: 0s - loss: 9.1781e-05\n",
      "Epoch 26: val_loss did not improve from 0.00009\n",
      "76/76 [==============================] - 0s 5ms/step - loss: 8.7905e-05 - val_loss: 8.9008e-05 - lr: 0.0010\n",
      "Epoch 27/100\n",
      "68/76 [=========================>....] - ETA: 0s - loss: 9.0180e-05\n",
      "Epoch 27: val_loss did not improve from 0.00009\n",
      "76/76 [==============================] - 0s 6ms/step - loss: 8.7905e-05 - val_loss: 8.9008e-05 - lr: 0.0010\n",
      "Epoch 28/100\n",
      "74/76 [============================>.] - ETA: 0s - loss: 8.8878e-05\n",
      "Epoch 28: val_loss did not improve from 0.00009\n",
      "76/76 [==============================] - 0s 5ms/step - loss: 8.7905e-05 - val_loss: 8.9008e-05 - lr: 0.0010\n",
      "Epoch 29/100\n",
      "64/76 [========================>.....] - ETA: 0s - loss: 9.2578e-05\n",
      "Epoch 29: val_loss did not improve from 0.00009\n",
      "76/76 [==============================] - 0s 5ms/step - loss: 8.7905e-05 - val_loss: 8.9008e-05 - lr: 0.0010\n",
      "Epoch 30/100\n",
      "65/76 [========================>.....] - ETA: 0s - loss: 9.1977e-05\n",
      "Epoch 30: val_loss did not improve from 0.00009\n",
      "76/76 [==============================] - 0s 5ms/step - loss: 8.7905e-05 - val_loss: 8.9008e-05 - lr: 0.0010\n",
      "Epoch 31/100\n",
      "70/76 [==========================>...] - ETA: 0s - loss: 8.9863e-05\n",
      "Epoch 31: val_loss did not improve from 0.00009\n",
      "76/76 [==============================] - 0s 6ms/step - loss: 8.7905e-05 - val_loss: 8.9008e-05 - lr: 0.0010\n",
      "Epoch 32/100\n",
      "71/76 [===========================>..] - ETA: 0s - loss: 8.8544e-05\n",
      "Epoch 32: val_loss did not improve from 0.00009\n",
      "76/76 [==============================] - 0s 5ms/step - loss: 8.7905e-05 - val_loss: 8.9008e-05 - lr: 0.0010\n",
      "Epoch 33/100\n",
      "72/76 [===========================>..] - ETA: 0s - loss: 8.9126e-05\n",
      "Epoch 33: val_loss did not improve from 0.00009\n",
      "76/76 [==============================] - 0s 6ms/step - loss: 8.7905e-05 - val_loss: 8.9008e-05 - lr: 0.0010\n",
      "Epoch 34/100\n",
      "72/76 [===========================>..] - ETA: 0s - loss: 8.9146e-05\n",
      "Epoch 34: val_loss did not improve from 0.00009\n",
      "76/76 [==============================] - 0s 5ms/step - loss: 8.7905e-05 - val_loss: 8.9008e-05 - lr: 0.0010\n",
      "Epoch 35/100\n",
      "74/76 [============================>.] - ETA: 0s - loss: 8.0639e-05\n",
      "Epoch 35: val_loss did not improve from 0.00009\n",
      "76/76 [==============================] - 0s 5ms/step - loss: 8.7905e-05 - val_loss: 8.9008e-05 - lr: 0.0010\n",
      "Epoch 36/100\n",
      "74/76 [============================>.] - ETA: 0s - loss: 8.9017e-05\n",
      "Epoch 36: val_loss did not improve from 0.00009\n",
      "76/76 [==============================] - 0s 5ms/step - loss: 8.7905e-05 - val_loss: 8.9008e-05 - lr: 0.0010\n",
      "Epoch 37/100\n",
      "73/76 [===========================>..] - ETA: 0s - loss: 8.7965e-05\n",
      "Epoch 37: val_loss did not improve from 0.00009\n",
      "76/76 [==============================] - 0s 6ms/step - loss: 8.7905e-05 - val_loss: 8.9008e-05 - lr: 0.0010\n",
      "Epoch 38/100\n",
      "74/76 [============================>.] - ETA: 0s - loss: 8.8689e-05\n",
      "Epoch 38: val_loss did not improve from 0.00009\n",
      "76/76 [==============================] - 0s 5ms/step - loss: 8.7905e-05 - val_loss: 8.9008e-05 - lr: 0.0010\n",
      "Epoch 39/100\n",
      "70/76 [==========================>...] - ETA: 0s - loss: 8.9070e-05\n",
      "Epoch 39: val_loss did not improve from 0.00009\n",
      "76/76 [==============================] - 0s 6ms/step - loss: 8.7905e-05 - val_loss: 8.9008e-05 - lr: 0.0010\n",
      "Epoch 40/100\n",
      "69/76 [==========================>...] - ETA: 0s - loss: 8.8632e-05\n",
      "Epoch 40: val_loss did not improve from 0.00009\n",
      "76/76 [==============================] - 0s 5ms/step - loss: 8.7905e-05 - val_loss: 8.9008e-05 - lr: 0.0010\n",
      "Epoch 41/100\n",
      "75/76 [============================>.] - ETA: 0s - loss: 8.7390e-05\n",
      "Epoch 41: val_loss did not improve from 0.00009\n",
      "76/76 [==============================] - 0s 5ms/step - loss: 8.7905e-05 - val_loss: 8.9008e-05 - lr: 0.0010\n",
      "Epoch 42/100\n",
      "75/76 [============================>.] - ETA: 0s - loss: 8.8259e-05\n",
      "Epoch 42: val_loss did not improve from 0.00009\n",
      "76/76 [==============================] - 0s 5ms/step - loss: 8.7905e-05 - val_loss: 8.9008e-05 - lr: 0.0010\n",
      "Epoch 43/100\n",
      "73/76 [===========================>..] - ETA: 0s - loss: 8.8782e-05\n",
      "Epoch 43: val_loss did not improve from 0.00009\n",
      "76/76 [==============================] - 0s 5ms/step - loss: 8.7905e-05 - val_loss: 8.9008e-05 - lr: 0.0010\n",
      "Epoch 44/100\n",
      "73/76 [===========================>..] - ETA: 0s - loss: 8.8663e-05\n",
      "Epoch 44: val_loss did not improve from 0.00009\n",
      "76/76 [==============================] - 0s 5ms/step - loss: 8.7905e-05 - val_loss: 8.9008e-05 - lr: 0.0010\n",
      "Epoch 45/100\n",
      "73/76 [===========================>..] - ETA: 0s - loss: 8.8893e-05\n",
      "Epoch 45: val_loss did not improve from 0.00009\n",
      "76/76 [==============================] - 0s 5ms/step - loss: 8.7905e-05 - val_loss: 8.9008e-05 - lr: 0.0010\n",
      "Epoch 46/100\n",
      "76/76 [==============================] - ETA: 0s - loss: 8.7905e-05\n",
      "Epoch 46: val_loss did not improve from 0.00009\n",
      "76/76 [==============================] - 0s 5ms/step - loss: 8.7905e-05 - val_loss: 8.9008e-05 - lr: 0.0010\n",
      "Epoch 47/100\n",
      "69/76 [==========================>...] - ETA: 0s - loss: 8.9749e-05\n",
      "Epoch 47: val_loss did not improve from 0.00009\n",
      "76/76 [==============================] - 0s 6ms/step - loss: 8.7905e-05 - val_loss: 8.9008e-05 - lr: 0.0010\n",
      "Epoch 48/100\n",
      "66/76 [=========================>....] - ETA: 0s - loss: 8.9594e-05\n",
      "Epoch 48: val_loss did not improve from 0.00009\n",
      "76/76 [==============================] - 0s 5ms/step - loss: 8.7905e-05 - val_loss: 8.9008e-05 - lr: 0.0010\n",
      "Epoch 49/100\n",
      "75/76 [============================>.] - ETA: 0s - loss: 8.8319e-05\n",
      "Epoch 49: val_loss did not improve from 0.00009\n",
      "76/76 [==============================] - 0s 5ms/step - loss: 8.7905e-05 - val_loss: 8.9008e-05 - lr: 0.0010\n",
      "Epoch 50/100\n",
      "64/76 [========================>.....] - ETA: 0s - loss: 8.8401e-05\n",
      "Epoch 50: val_loss did not improve from 0.00009\n",
      "76/76 [==============================] - 0s 5ms/step - loss: 8.7905e-05 - val_loss: 8.9008e-05 - lr: 0.0010\n",
      "Epoch 51/100\n",
      "75/76 [============================>.] - ETA: 0s - loss: 8.7522e-05\n",
      "Epoch 51: val_loss did not improve from 0.00009\n",
      "76/76 [==============================] - 0s 5ms/step - loss: 8.7905e-05 - val_loss: 8.9008e-05 - lr: 0.0010\n",
      "Epoch 52/100\n",
      "64/76 [========================>.....] - ETA: 0s - loss: 8.9914e-05\n",
      "Epoch 52: val_loss did not improve from 0.00009\n",
      "76/76 [==============================] - 0s 5ms/step - loss: 8.7905e-05 - val_loss: 8.9008e-05 - lr: 0.0010\n",
      "Epoch 53/100\n",
      "76/76 [==============================] - ETA: 0s - loss: 8.7905e-05\n",
      "Epoch 53: val_loss did not improve from 0.00009\n",
      "76/76 [==============================] - 0s 5ms/step - loss: 8.7905e-05 - val_loss: 8.9008e-05 - lr: 0.0010\n",
      "Epoch 54/100\n",
      "75/76 [============================>.] - ETA: 0s - loss: 8.8253e-05\n",
      "Epoch 54: val_loss did not improve from 0.00009\n",
      "76/76 [==============================] - 0s 5ms/step - loss: 8.7905e-05 - val_loss: 8.9008e-05 - lr: 0.0010\n",
      "Epoch 55/100\n",
      "64/76 [========================>.....] - ETA: 0s - loss: 8.9017e-05\n",
      "Epoch 55: val_loss did not improve from 0.00009\n",
      "76/76 [==============================] - 0s 5ms/step - loss: 8.7905e-05 - val_loss: 8.9008e-05 - lr: 0.0010\n",
      "Epoch 56/100\n",
      "76/76 [==============================] - ETA: 0s - loss: 8.7905e-05\n",
      "Epoch 56: val_loss did not improve from 0.00009\n",
      "76/76 [==============================] - 0s 5ms/step - loss: 8.7905e-05 - val_loss: 8.9008e-05 - lr: 0.0010\n",
      "Epoch 57/100\n",
      "65/76 [========================>.....] - ETA: 0s - loss: 9.0068e-05\n",
      "Epoch 57: val_loss did not improve from 0.00009\n",
      "76/76 [==============================] - 0s 5ms/step - loss: 8.7905e-05 - val_loss: 8.9008e-05 - lr: 0.0010\n",
      "Epoch 58/100\n",
      "75/76 [============================>.] - ETA: 0s - loss: 8.8316e-05\n",
      "Epoch 58: val_loss did not improve from 0.00009\n",
      "76/76 [==============================] - 0s 5ms/step - loss: 8.7905e-05 - val_loss: 8.9008e-05 - lr: 0.0010\n",
      "Epoch 59/100\n",
      "65/76 [========================>.....] - ETA: 0s - loss: 8.9957e-05\n",
      "Epoch 59: val_loss did not improve from 0.00009\n",
      "76/76 [==============================] - 0s 5ms/step - loss: 8.7905e-05 - val_loss: 8.9008e-05 - lr: 0.0010\n",
      "Epoch 60/100\n",
      "65/76 [========================>.....] - ETA: 0s - loss: 8.8689e-05\n",
      "Epoch 60: val_loss did not improve from 0.00009\n",
      "76/76 [==============================] - 0s 5ms/step - loss: 8.7905e-05 - val_loss: 8.9008e-05 - lr: 0.0010\n",
      "Epoch 61/100\n",
      "72/76 [===========================>..] - ETA: 0s - loss: 8.8583e-05\n",
      "Epoch 61: val_loss did not improve from 0.00009\n",
      "76/76 [==============================] - 0s 5ms/step - loss: 8.7905e-05 - val_loss: 8.9008e-05 - lr: 0.0010\n",
      "Epoch 62/100\n",
      "65/76 [========================>.....] - ETA: 0s - loss: 8.9754e-05\n",
      "Epoch 62: val_loss did not improve from 0.00009\n",
      "76/76 [==============================] - 0s 5ms/step - loss: 8.7905e-05 - val_loss: 8.9008e-05 - lr: 0.0010\n",
      "Epoch 63/100\n",
      "75/76 [============================>.] - ETA: 0s - loss: 8.8198e-05\n",
      "Epoch 63: val_loss did not improve from 0.00009\n",
      "76/76 [==============================] - 0s 5ms/step - loss: 8.7905e-05 - val_loss: 8.9008e-05 - lr: 0.0010\n",
      "Epoch 64/100\n",
      "65/76 [========================>.....] - ETA: 0s - loss: 8.9799e-05\n",
      "Epoch 64: val_loss did not improve from 0.00009\n",
      "76/76 [==============================] - 0s 5ms/step - loss: 8.7905e-05 - val_loss: 8.9008e-05 - lr: 0.0010\n",
      "Epoch 65/100\n",
      "76/76 [==============================] - ETA: 0s - loss: 8.7905e-05\n",
      "Epoch 65: val_loss did not improve from 0.00009\n",
      "76/76 [==============================] - 0s 5ms/step - loss: 8.7905e-05 - val_loss: 8.9008e-05 - lr: 0.0010\n",
      "Epoch 66/100\n",
      "65/76 [========================>.....] - ETA: 0s - loss: 8.2890e-05\n",
      "Epoch 66: val_loss did not improve from 0.00009\n",
      "76/76 [==============================] - 0s 5ms/step - loss: 8.7905e-05 - val_loss: 8.9008e-05 - lr: 0.0010\n",
      "Epoch 67/100\n",
      "65/76 [========================>.....] - ETA: 0s - loss: 8.8713e-05\n",
      "Epoch 67: val_loss did not improve from 0.00009\n",
      "76/76 [==============================] - 0s 5ms/step - loss: 8.7905e-05 - val_loss: 8.9008e-05 - lr: 0.0010\n",
      "Epoch 68/100\n",
      "71/76 [===========================>..] - ETA: 0s - loss: 8.8752e-05\n",
      "Epoch 68: val_loss did not improve from 0.00009\n",
      "76/76 [==============================] - 0s 5ms/step - loss: 8.7905e-05 - val_loss: 8.9008e-05 - lr: 0.0010\n",
      "Epoch 69/100\n",
      "66/76 [=========================>....] - ETA: 0s - loss: 8.9943e-05\n",
      "Epoch 69: val_loss did not improve from 0.00009\n",
      "76/76 [==============================] - 0s 5ms/step - loss: 8.7905e-05 - val_loss: 8.9008e-05 - lr: 0.0010\n",
      "Epoch 70/100\n",
      "75/76 [============================>.] - ETA: 0s - loss: 8.8160e-05\n",
      "Epoch 70: val_loss did not improve from 0.00009\n",
      "76/76 [==============================] - 0s 5ms/step - loss: 8.7905e-05 - val_loss: 8.9008e-05 - lr: 0.0010\n",
      "Epoch 71/100\n",
      "76/76 [==============================] - ETA: 0s - loss: 8.7905e-05\n",
      "Epoch 71: val_loss did not improve from 0.00009\n",
      "76/76 [==============================] - 0s 5ms/step - loss: 8.7905e-05 - val_loss: 8.9008e-05 - lr: 0.0010\n",
      "Epoch 72/100\n",
      "64/76 [========================>.....] - ETA: 0s - loss: 8.9780e-05\n",
      "Epoch 72: val_loss did not improve from 0.00009\n",
      "76/76 [==============================] - 0s 5ms/step - loss: 8.7905e-05 - val_loss: 8.9008e-05 - lr: 0.0010\n",
      "Epoch 73/100\n",
      "76/76 [==============================] - ETA: 0s - loss: 8.7905e-05\n",
      "Epoch 73: val_loss did not improve from 0.00009\n",
      "76/76 [==============================] - 0s 5ms/step - loss: 8.7905e-05 - val_loss: 8.9008e-05 - lr: 0.0010\n",
      "Epoch 74/100\n",
      "64/76 [========================>.....] - ETA: 0s - loss: 9.0813e-05\n",
      "Epoch 74: val_loss did not improve from 0.00009\n",
      "76/76 [==============================] - 0s 5ms/step - loss: 8.7905e-05 - val_loss: 8.9008e-05 - lr: 0.0010\n",
      "Epoch 75/100\n",
      "65/76 [========================>.....] - ETA: 0s - loss: 9.3055e-05\n",
      "Epoch 75: val_loss did not improve from 0.00009\n",
      "76/76 [==============================] - 0s 5ms/step - loss: 8.7905e-05 - val_loss: 8.9008e-05 - lr: 0.0010\n",
      "Epoch 76/100\n",
      "76/76 [==============================] - ETA: 0s - loss: 8.7905e-05\n",
      "Epoch 76: val_loss did not improve from 0.00009\n",
      "76/76 [==============================] - 0s 5ms/step - loss: 8.7905e-05 - val_loss: 8.9008e-05 - lr: 0.0010\n",
      "Epoch 77/100\n",
      "76/76 [==============================] - ETA: 0s - loss: 8.7905e-05\n",
      "Epoch 77: val_loss did not improve from 0.00009\n",
      "76/76 [==============================] - 0s 5ms/step - loss: 8.7905e-05 - val_loss: 8.9008e-05 - lr: 0.0010\n",
      "Epoch 78/100\n",
      "64/76 [========================>.....] - ETA: 0s - loss: 8.3257e-05\n",
      "Epoch 78: val_loss did not improve from 0.00009\n",
      "76/76 [==============================] - 0s 5ms/step - loss: 8.7905e-05 - val_loss: 8.9008e-05 - lr: 0.0010\n",
      "Epoch 79/100\n",
      "65/76 [========================>.....] - ETA: 0s - loss: 9.0969e-05\n",
      "Epoch 79: val_loss did not improve from 0.00009\n",
      "76/76 [==============================] - 0s 5ms/step - loss: 8.7905e-05 - val_loss: 8.9008e-05 - lr: 0.0010\n",
      "Epoch 80/100\n",
      "64/76 [========================>.....] - ETA: 0s - loss: 9.1563e-05\n",
      "Epoch 80: val_loss did not improve from 0.00009\n",
      "76/76 [==============================] - 0s 5ms/step - loss: 8.7905e-05 - val_loss: 8.9008e-05 - lr: 0.0010\n",
      "Epoch 81/100\n",
      "66/76 [=========================>....] - ETA: 0s - loss: 8.9604e-05\n",
      "Epoch 81: val_loss did not improve from 0.00009\n",
      "76/76 [==============================] - 0s 5ms/step - loss: 8.7905e-05 - val_loss: 8.9008e-05 - lr: 0.0010\n",
      "Epoch 82/100\n",
      "71/76 [===========================>..] - ETA: 0s - loss: 8.9131e-05\n",
      "Epoch 82: val_loss did not improve from 0.00009\n",
      "76/76 [==============================] - 0s 6ms/step - loss: 8.7905e-05 - val_loss: 8.9008e-05 - lr: 0.0010\n",
      "Epoch 83/100\n",
      "75/76 [============================>.] - ETA: 0s - loss: 8.7817e-05\n",
      "Epoch 83: val_loss did not improve from 0.00009\n",
      "76/76 [==============================] - 1s 7ms/step - loss: 8.7905e-05 - val_loss: 8.9008e-05 - lr: 0.0010\n",
      "Epoch 84/100\n",
      "74/76 [============================>.] - ETA: 0s - loss: 8.7451e-05\n",
      "Epoch 84: val_loss did not improve from 0.00009\n",
      "76/76 [==============================] - 0s 5ms/step - loss: 8.7905e-05 - val_loss: 8.9008e-05 - lr: 0.0010\n",
      "Epoch 85/100\n",
      "74/76 [============================>.] - ETA: 0s - loss: 8.8122e-05\n",
      "Epoch 85: val_loss did not improve from 0.00009\n",
      "76/76 [==============================] - 0s 5ms/step - loss: 8.7905e-05 - val_loss: 8.9008e-05 - lr: 0.0010\n",
      "Epoch 86/100\n",
      "76/76 [==============================] - ETA: 0s - loss: 8.7905e-05\n",
      "Epoch 86: val_loss did not improve from 0.00009\n",
      "76/76 [==============================] - 0s 5ms/step - loss: 8.7905e-05 - val_loss: 8.9008e-05 - lr: 0.0010\n",
      "Epoch 87/100\n",
      "76/76 [==============================] - ETA: 0s - loss: 8.7905e-05\n",
      "Epoch 87: val_loss did not improve from 0.00009\n",
      "76/76 [==============================] - 0s 6ms/step - loss: 8.7905e-05 - val_loss: 8.9008e-05 - lr: 0.0010\n",
      "Epoch 88/100\n",
      "75/76 [============================>.] - ETA: 0s - loss: 8.7884e-05\n",
      "Epoch 88: val_loss did not improve from 0.00009\n",
      "76/76 [==============================] - 0s 5ms/step - loss: 8.7905e-05 - val_loss: 8.9008e-05 - lr: 0.0010\n",
      "Epoch 89/100\n",
      "74/76 [============================>.] - ETA: 0s - loss: 8.7867e-05\n",
      "Epoch 89: val_loss did not improve from 0.00009\n",
      "76/76 [==============================] - 0s 5ms/step - loss: 8.7905e-05 - val_loss: 8.9008e-05 - lr: 0.0010\n",
      "Epoch 90/100\n",
      "76/76 [==============================] - ETA: 0s - loss: 8.7905e-05\n",
      "Epoch 90: val_loss did not improve from 0.00009\n",
      "76/76 [==============================] - 0s 5ms/step - loss: 8.7905e-05 - val_loss: 8.9008e-05 - lr: 0.0010\n",
      "Epoch 91/100\n",
      "75/76 [============================>.] - ETA: 0s - loss: 8.7524e-05\n",
      "Epoch 91: val_loss did not improve from 0.00009\n",
      "76/76 [==============================] - 0s 5ms/step - loss: 8.7905e-05 - val_loss: 8.9008e-05 - lr: 0.0010\n",
      "Epoch 92/100\n",
      "76/76 [==============================] - ETA: 0s - loss: 8.7905e-05\n",
      "Epoch 92: val_loss did not improve from 0.00009\n",
      "76/76 [==============================] - 0s 5ms/step - loss: 8.7905e-05 - val_loss: 8.9008e-05 - lr: 0.0010\n",
      "Epoch 93/100\n",
      "65/76 [========================>.....] - ETA: 0s - loss: 8.2759e-05\n",
      "Epoch 93: val_loss did not improve from 0.00009\n",
      "76/76 [==============================] - 0s 5ms/step - loss: 8.7905e-05 - val_loss: 8.9008e-05 - lr: 0.0010\n",
      "Epoch 94/100\n",
      "64/76 [========================>.....] - ETA: 0s - loss: 8.1528e-05\n",
      "Epoch 94: val_loss did not improve from 0.00009\n",
      "76/76 [==============================] - 0s 5ms/step - loss: 8.7905e-05 - val_loss: 8.9008e-05 - lr: 0.0010\n",
      "Epoch 95/100\n",
      "70/76 [==========================>...] - ETA: 0s - loss: 8.9960e-05\n",
      "Epoch 95: val_loss did not improve from 0.00009\n",
      "76/76 [==============================] - 0s 5ms/step - loss: 8.7905e-05 - val_loss: 8.9008e-05 - lr: 0.0010\n",
      "Epoch 96/100\n",
      "76/76 [==============================] - ETA: 0s - loss: 8.7905e-05\n",
      "Epoch 96: val_loss did not improve from 0.00009\n",
      "76/76 [==============================] - 0s 5ms/step - loss: 8.7905e-05 - val_loss: 8.9008e-05 - lr: 0.0010\n",
      "Epoch 97/100\n",
      "76/76 [==============================] - ETA: 0s - loss: 8.7905e-05\n",
      "Epoch 97: val_loss did not improve from 0.00009\n",
      "76/76 [==============================] - 0s 5ms/step - loss: 8.7905e-05 - val_loss: 8.9008e-05 - lr: 0.0010\n",
      "Epoch 98/100\n",
      "72/76 [===========================>..] - ETA: 0s - loss: 8.8968e-05\n",
      "Epoch 98: val_loss did not improve from 0.00009\n",
      "76/76 [==============================] - 0s 5ms/step - loss: 8.7905e-05 - val_loss: 8.9008e-05 - lr: 0.0010\n",
      "Epoch 99/100\n",
      "73/76 [===========================>..] - ETA: 0s - loss: 8.7722e-05\n",
      "Epoch 99: val_loss did not improve from 0.00009\n",
      "76/76 [==============================] - 0s 5ms/step - loss: 8.7905e-05 - val_loss: 8.9008e-05 - lr: 0.0010\n",
      "Epoch 100/100\n",
      "72/76 [===========================>..] - ETA: 0s - loss: 8.8962e-05\n",
      "Epoch 100: val_loss did not improve from 0.00009\n",
      "76/76 [==============================] - 0s 6ms/step - loss: 8.7905e-05 - val_loss: 8.9008e-05 - lr: 0.0010\n"
     ]
    }
   ],
   "source": [
    "# from keras import backend as K\n",
    "# K.set_value(model.optimizer.learning_rate, 0.0001)\n",
    "mcp_save = tf.keras.callbacks.ModelCheckpoint(filepath='data/models/reports.keras', save_best_only=True,\n",
    "                                              monitor='val_loss', mode='min', verbose=1, save_weights_only=False,\n",
    "                                              save_freq='epoch')\n",
    "\n",
    "reduce_lr_loss = tf.keras.callbacks.ReduceLROnPlateau(monitor='val_loss', factor=0.5,\n",
    "                                                      patience=10000, verbose=1, mode='auto')\n",
    "history = model.fit(np.array(x_train), np.array(y_train),\n",
    "                    epochs=100, batch_size=10, shuffle=True,\n",
    "                    validation_data=(np.array(x_test), np.array(y_test)), callbacks=[mcp_save, reduce_lr_loss])\n",
    "plot_loss(history)"
   ],
   "metadata": {
    "collapsed": false,
    "ExecuteTime": {
     "end_time": "2024-07-22T05:58:50.005257Z",
     "start_time": "2024-07-22T05:57:57.028431Z"
    }
   },
   "id": "daf79747432cd339"
  },
  {
   "cell_type": "code",
   "execution_count": 31,
   "outputs": [],
   "source": [
    "# load model\n",
    "model = tf.keras.models.load_model('data/models/reports.keras', custom_objects={'abs': tf.math.abs, 'custom_loss': custom_loss})"
   ],
   "metadata": {
    "collapsed": false,
    "ExecuteTime": {
     "end_time": "2024-07-22T05:58:53.739255Z",
     "start_time": "2024-07-22T05:58:53.656254Z"
    }
   },
   "id": "ac8cae34578158f6"
  },
  {
   "cell_type": "code",
   "execution_count": 32,
   "outputs": [
    {
     "name": "stdout",
     "output_type": "stream",
     "text": [
      "24/24 [==============================] - 0s 2ms/step\n"
     ]
    }
   ],
   "source": [
    "# predict x_train\n",
    "prediction = model.predict(np.array(x_train))"
   ],
   "metadata": {
    "collapsed": false,
    "ExecuteTime": {
     "end_time": "2024-07-22T05:58:54.499264Z",
     "start_time": "2024-07-22T05:58:54.332280Z"
    }
   },
   "id": "3936d7f526408c2e"
  },
  {
   "cell_type": "code",
   "execution_count": 34,
   "outputs": [],
   "source": [
    "# test on x_train\n",
    "def fetch_prediction(prediction):\n",
    "    return prediction[:128]\n",
    "\n",
    "pore_widths = np.load(\"data/initial kernels/Size_Kernel_Silica_Adsorption.npy\")\n",
    "pressures = np.load(\"data/initial kernels/Pressure_Silica.npy\")\n",
    "NX, NY = 3, 4\n",
    "figure, axis = plt.subplots(NX, NY)\n",
    "for i in range(NX):\n",
    "    for j in range(NY):\n",
    "        k = np.random.randint(0, len(x_train))\n",
    "        x_scale_factor = max(pore_widths) / len(x_train[k])\n",
    "        axis[i, j].plot(pore_widths / x_scale_factor, fetch_prediction(prediction[k]), marker=\".\", label=f\"Prediction\")\n",
    "        axis[i, j].plot(pore_widths / x_scale_factor, y_train[k], marker=\".\", label=\"Real distribution\")\n",
    "        axis[i, j].plot(x_train[k], label=\"Isotherm\")\n",
    "        kernal = (data_sorb.T[40:])\n",
    "        axis[i, j].plot(np.dot(kernal, prediction[k][:128]), label=\"New Isotherm\")\n",
    "        axis[i, j].set_title(f\"№ {k}\")\n",
    "        axis[i, j].title.set_size(10)\n",
    "plt.subplots_adjust(hspace=0.6, right=0.95, left=0.05, bottom=0.05, top=0.95)\n",
    "plt.legend()\n",
    "plot()"
   ],
   "metadata": {
    "collapsed": false,
    "ExecuteTime": {
     "end_time": "2024-07-22T06:00:08.749484Z",
     "start_time": "2024-07-22T05:59:48.568485Z"
    }
   },
   "id": "c0f7f9f4bae77a4c"
  },
  {
   "cell_type": "code",
   "execution_count": 65,
   "outputs": [],
   "source": [
    "# test with test Generator\n",
    "from tools import TestApp\n",
    "\n",
    "gen = Generator(path_s=\"data/initial kernels/Kernel_Silica_Adsorption.npy\",\n",
    "                path_d=\"data/initial kernels/Kernel_Silica_Desorption.npy\",\n",
    "                path_p_d=\"data/initial kernels/Pressure_Silica.npy\",\n",
    "                path_p_s=\"data/initial kernels/Pressure_Silica.npy\",\n",
    "                path_a=\"data/initial kernels/Size_Kernel_Silica_Adsorption.npy\"\n",
    "                )\n",
    "# gen = Generator(path_s=\"data/initial kernels/Kernel_Carbon_Adsorption.npy\",\n",
    "#                               path_d=\"data/initial kernels/Kernel_Carbon_Desorption.npy\",\n",
    "#                               path_p_d=\"data/initial kernels/Pressure_Carbon.npy\",\n",
    "#                               path_p_s=\"data/initial kernels/Pressure_Carbon.npy\",\n",
    "#                               path_a=\"data/initial kernels/Size_Kernel_Carbon_Adsorption.npy\"\n",
    "#                             )\n",
    "\n",
    "#TestApp.App(model, gen)"
   ],
   "metadata": {
    "collapsed": false,
    "ExecuteTime": {
     "end_time": "2024-07-10T12:29:54.300863Z",
     "start_time": "2024-07-10T12:29:54.284793Z"
    }
   },
   "id": "efcd0aa0fe36bac8"
  },
  {
   "cell_type": "code",
   "execution_count": 52,
   "outputs": [],
   "source": [
    "exp_file_list = [\"MCM-41\", \"SBA-15\", \"SBA-16\", \"MIL-101\", \"MIL-101_2\", \"DUT-49\", \"FDM-4\", \"PCN-333\", \"PCN-777\",\n",
    "                 \"MIL-100\"]\n",
    "\n",
    "p_exp_list = []\n",
    "n_s_exp_raw_list = []\n",
    "for exp_file_name in exp_file_list:\n",
    "    data = pd.read_csv(f\"data/real/{exp_file_name}.txt\", header=None)\n",
    "    # p_exp_list.append(data.iloc[:,1].to_numpy())\n",
    "    # n_s_exp_raw_list.append(data.iloc[:,3].to_numpy())\n",
    "    p_exp_list.append(data.iloc[:, 1].to_numpy())\n",
    "    n_s_exp_raw_list.append(data.iloc[:, 3].to_numpy())"
   ],
   "metadata": {
    "collapsed": false,
    "ExecuteTime": {
     "end_time": "2024-07-10T12:09:27.311069Z",
     "start_time": "2024-07-10T12:09:27.279046Z"
    }
   },
   "id": "1b77e8c380dc9e48"
  },
  {
   "cell_type": "code",
   "execution_count": 53,
   "outputs": [],
   "source": [
    "j = 2\n",
    "plt.plot(p_exp_list[j], n_s_exp_raw_list[j], marker=\".\", label=exp_file_list[j])\n",
    "plot()"
   ],
   "metadata": {
    "collapsed": false,
    "ExecuteTime": {
     "end_time": "2024-07-10T12:09:32.684046Z",
     "start_time": "2024-07-10T12:09:27.912047Z"
    }
   },
   "id": "a7600267dd8ee248"
  },
  {
   "cell_type": "code",
   "execution_count": 55,
   "outputs": [],
   "source": [
    "# интерполируем экспериментальную изотерму под давления кернала\n",
    "n_s_exp_list = []\n",
    "for i in range(len(p_exp_list)):\n",
    "    n_s_exp_list.append(np.interp(gen.pressures_s[40:458], p_exp_list[i], n_s_exp_raw_list[i]))"
   ],
   "metadata": {
    "collapsed": false,
    "ExecuteTime": {
     "end_time": "2024-07-10T12:09:33.535071Z",
     "start_time": "2024-07-10T12:09:33.519044Z"
    }
   },
   "id": "17fa210fb149ba49"
  },
  {
   "cell_type": "code",
   "execution_count": 58,
   "outputs": [],
   "source": [
    "j = 2\n",
    "plt.plot(gen.pressures_s[40:458], n_s_exp_list[j], marker=\".\", label=exp_file_list[j])\n",
    "plot()"
   ],
   "metadata": {
    "collapsed": false,
    "ExecuteTime": {
     "end_time": "2024-07-10T12:13:22.014048Z",
     "start_time": "2024-07-10T12:13:14.638046Z"
    }
   },
   "id": "7648e2fb6c309ea0"
  },
  {
   "cell_type": "code",
   "execution_count": 82,
   "outputs": [
    {
     "name": "stdout",
     "output_type": "stream",
     "text": [
      "1/1 [==============================] - 0s 20ms/step\n",
      "1/1 [==============================] - 0s 27ms/step\n",
      "1/1 [==============================] - 0s 24ms/step\n",
      "1/1 [==============================] - 0s 19ms/step\n",
      "1/1 [==============================] - 0s 21ms/step\n",
      "1/1 [==============================] - 0s 21ms/step\n",
      "1/1 [==============================] - 0s 20ms/step\n",
      "1/1 [==============================] - 0s 20ms/step\n",
      "1/1 [==============================] - 0s 21ms/step\n",
      "1/1 [==============================] - 0s 21ms/step\n"
     ]
    }
   ],
   "source": [
    "n_s_exp_for_net_list = [pre_process_isotherm(np.copy(n_s_exp), True) for n_s_exp in n_s_exp_list]\n",
    "fit_exp_list = [model.predict(np.array([n_s_exp_for_net])).T for n_s_exp_for_net in n_s_exp_for_net_list]\n",
    "fit_exp_list = [fetch_prediction(i) for i in fit_exp_list]"
   ],
   "metadata": {
    "collapsed": false,
    "ExecuteTime": {
     "end_time": "2024-07-10T13:04:33.814203Z",
     "start_time": "2024-07-10T13:04:33.017204Z"
    }
   },
   "id": "e5eb0f653a71de51"
  },
  {
   "cell_type": "code",
   "execution_count": 84,
   "outputs": [
    {
     "name": "stderr",
     "output_type": "stream",
     "text": [
      "No artists with labels found to put in legend.  Note that artists whose label start with an underscore are ignored when legend() is called with no argument.\n"
     ]
    }
   ],
   "source": [
    "NX, NY = 3, 4\n",
    "figure, axis = plt.subplots(NX, NY)\n",
    "k = 0\n",
    "for i in range(NX):\n",
    "    for j in range(NY):\n",
    "        x_scale_factor = max(gen.a_array) / max(p_exp_list[k])\n",
    "        y_scale_factor = max(fit_exp_list[k]) / max(n_s_exp_raw_list[k])\n",
    "        axis[i, j].plot(pore_widths, fit_exp_list[k], marker=\".\", label=f\"Distribution\")\n",
    "        axis[i, j].plot(p_exp_list[k] * x_scale_factor, n_s_exp_raw_list[k] / max(n_s_exp_raw_list[k]),\n",
    "                        label=f\"{exp_file_list[k]}\", marker=\".\")\n",
    "        \n",
    "        kernal = (data_sorb.T[40:])\n",
    "        axis[i, j].plot(gen.pressures_s[40:458]* x_scale_factor, np.dot(kernal, fit_exp_list[k]), label=\"Isotherm by distribution\")\n",
    "        \n",
    "        axis[i, j].set_title(f\"max at {round(gen.a_array[np.argmax(fit_exp_list[k])], 2)} nm\")\n",
    "        axis[i, j].title.set_size(12)\n",
    "        axis[i, j].legend(loc=\"upper right\")\n",
    "        axis[i, j].grid()\n",
    "        k += 1\n",
    "        if k >= len(fit_exp_list):\n",
    "            break\n",
    "plt.subplots_adjust(hspace=0.6, right=0.95, left=0.05, bottom=0.05, top=0.95)\n",
    "plot()"
   ],
   "metadata": {
    "collapsed": false,
    "ExecuteTime": {
     "end_time": "2024-07-12T05:11:33.776525Z",
     "start_time": "2024-07-12T05:10:51.029525Z"
    }
   },
   "id": "cae6c851c04bbfaf"
  },
  {
   "cell_type": "code",
   "execution_count": 10,
   "outputs": [
    {
     "name": "stderr",
     "output_type": "stream",
     "text": [
      "C:\\Users\\ivano\\PycharmProjects\\isotherm\\inverse.py:27: RuntimeWarning: divide by zero encountered in log\n",
      "  adsorption)).sum(axis=0) + alpha * np.sum(pore_dist * np.log(pore_dist)) #/ len(pore_dist) #+ beta * np.sum(\n",
      "C:\\Users\\ivano\\PycharmProjects\\isotherm\\inverse.py:27: RuntimeWarning: invalid value encountered in multiply\n",
      "  adsorption)).sum(axis=0) + alpha * np.sum(pore_dist * np.log(pore_dist)) #/ len(pore_dist) #+ beta * np.sum(\n"
     ]
    }
   ],
   "source": [
    "### Classic\n",
    "import inverse\n",
    "\n",
    "kernel = np.load(\"data/initial kernels/Kernel_Silica_Adsorption.npy\")\n",
    "\n",
    "### normalize on size\n",
    "# a_array = np.load(\"data/initial kernels/Size_Kernel_Silica_Adsorption.npy\")\n",
    "# for i in range(len(a_array)):\n",
    "#     kernel[i] /= a_array[i]\n",
    "#     kernel[i] /= a_array[i]\n",
    "###\n",
    "\n",
    "cut_kernel = []\n",
    "for i in range(len(kernel)):\n",
    "    cut_kernel.append(kernel[i][40:458])\n",
    "cut_kernel = np.array(cut_kernel)\n",
    "fit_classic_list = [inverse.fit_SLSQP(adsorption=n_s, kernel=cut_kernel, a_array=pore_widths) for n_s in n_s_exp_list]"
   ],
   "metadata": {
    "collapsed": false,
    "ExecuteTime": {
     "end_time": "2024-06-18T13:40:22.307670Z",
     "start_time": "2024-06-18T13:39:59.907685Z"
    }
   },
   "id": "9949a77c1d2e89c0"
  },
  {
   "cell_type": "code",
   "outputs": [
    {
     "name": "stderr",
     "output_type": "stream",
     "text": [
      "C:\\Users\\ivano\\PycharmProjects\\isotherm\\inverse.py:27: RuntimeWarning: divide by zero encountered in log\n",
      "  adsorption)).sum(axis=0) + alpha * np.sum(pore_dist * np.log(pore_dist)) #/ len(pore_dist) #+ beta * np.sum(\n",
      "C:\\Users\\ivano\\PycharmProjects\\isotherm\\inverse.py:27: RuntimeWarning: invalid value encountered in multiply\n",
      "  adsorption)).sum(axis=0) + alpha * np.sum(pore_dist * np.log(pore_dist)) #/ len(pore_dist) #+ beta * np.sum(\n"
     ]
    }
   ],
   "source": [
    "from matplotlib import animation\n",
    "\n",
    "importlib.reload(inverse)\n",
    "\n",
    "\n",
    "def create_regularization_animation(file):\n",
    "    fig, ax = plt.subplots()\n",
    "    fig.set_size_inches(10, 5, True)\n",
    "    fit_classic = inverse.fit_SLSQP(adsorption=n_s_exp_list[2], kernel=cut_kernel, a_array=pore_widths, alpha=0)\n",
    "    line1, = ax.plot(pore_widths[:-30], fit_classic.x[:-30], marker=\".\", label=f\"a = {0}\")\n",
    "\n",
    "    y_scale_factor = max(fit_classic.x) / max(fit_exp_list[2])\n",
    "    #plt.plot(pore_widths, fit_exp_list[2] * y_scale_factor, marker=\".\", label=f\"Суррогатная модель\")\n",
    "\n",
    "    ax.set_ylabel(\"Объем пор, $см^3$/ нм * г\")\n",
    "    ax.set_xlabel(\"Размер пор, нм\")\n",
    "\n",
    "    L = plt.legend(loc=1)  # Define legend objects\n",
    "\n",
    "    def update(frame):\n",
    "        a = frame / 4 + 2\n",
    "        fit_classic = inverse.fit_SLSQP(adsorption=n_s_exp_list[2], kernel=cut_kernel, a_array=pore_widths, alpha=a)\n",
    "        line1.set_ydata(fit_classic.x[:-30])\n",
    "        L.get_texts()[0].set_text(\n",
    "            f\"Распределение пор по размерам, параметр регуляризации α = {round(a-2,1)}\")  # Update label each at frame\n",
    "        return line1,\n",
    "\n",
    "    ani = animation.FuncAnimation(fig=fig, func=update, frames=100, interval=100)\n",
    "    writervideo = animation.FFMpegWriter(fps=30)\n",
    "    ani.save(file, writer=writervideo, dpi=200)\n",
    "    plt.grid()\n",
    "    plt.show()\n",
    "create_regularization_animation(\"SBA-16_regularization.mp4\")\n",
    "def plot_regularization_graphs():\n",
    "    for a in [1, 5, 10, 50]:\n",
    "        fit_classic = inverse.fit_SLSQP(adsorption=n_s_exp_list[2], kernel=cut_kernel, a_array=pore_widths, alpha=a)\n",
    "        plt.plot(pore_widths, fit_classic.x, marker=\".\", label=f\"α = {a}\")\n",
    "    plt.ylabel(\"Объем пор, $см^3$/ нм * гр\")\n",
    "    plt.xlabel(\"Размер пор, нм\")\n",
    "    plot()\n",
    "#plot_regularization_graphs()"
   ],
   "metadata": {
    "collapsed": false,
    "ExecuteTime": {
     "end_time": "2024-06-18T14:50:01.331621Z",
     "start_time": "2024-06-18T14:46:23.487577Z"
    }
   },
   "id": "ca3051b964f378a",
   "execution_count": 25
  },
  {
   "cell_type": "code",
   "execution_count": null,
   "outputs": [],
   "source": [
    "NX, NY = 3, 4\n",
    "figure, axis = plt.subplots(NX, NY)\n",
    "k = 0\n",
    "for i in range(NX):\n",
    "    for j in range(NY):\n",
    "        x_scale_factor = max(gen.a_array) / max(p_exp_list[k])\n",
    "        y_scale_factor = max(fit_classic_list[k].x) / max(n_s_exp_raw_list[k])\n",
    "        y_scale_factor_net = max(fit_classic_list[k].x) / max(fit_exp_list[k])\n",
    "\n",
    "        axis[i, j].plot(pore_widths, fit_exp_list[k] * y_scale_factor_net, marker=\".\", label=f\"net\")\n",
    "        axis[i, j].plot(pore_widths, fit_classic_list[k].x, marker=\".\", label=f\"classic\")\n",
    "        axis[i, j].plot(p_exp_list[k] * x_scale_factor, n_s_exp_raw_list[k] * y_scale_factor,\n",
    "                        label=f\"{exp_file_list[k]}\", marker=\".\")\n",
    "        axis[i, j].set_title(f\"max at {round(gen.a_array[np.argmax(fit_classic_list[k].x)], 2)} nm\")\n",
    "        axis[i, j].title.set_size(12)\n",
    "        axis[i, j].legend(loc=\"upper right\")\n",
    "        axis[i, j].grid()\n",
    "        k += 1\n",
    "        if k >= len(fit_exp_list):\n",
    "            break\n",
    "plt.subplots_adjust(hspace=0.6, right=0.95, left=0.05, bottom=0.05, top=0.95)\n",
    "plot()"
   ],
   "metadata": {
    "collapsed": false
   },
   "id": "707d030f7db4a23"
  },
  {
   "cell_type": "code",
   "execution_count": null,
   "outputs": [],
   "source": [
    "# compare net, classic, quantachrome distributions\n",
    "NX, NY = 3, 4\n",
    "figure, axis = plt.subplots(NX, NY)\n",
    "k = 0\n",
    "\n",
    "\n",
    "def calculate_isotherm_by_distribution(generator: Generator, a_array, distribution):\n",
    "    generator.a_array = a_array\n",
    "    generator.pore_distribution = distribution\n",
    "    generator.calculate_isotherms()\n",
    "    return generator.n_s\n",
    "\n",
    "\n",
    "#/np.ediff1d(pore_widths, to_begin=pore_widths[0])\n",
    "for i in range(NX):\n",
    "    for j in range(NY):\n",
    "        quantachrome_pore_size = \\\n",
    "            np.genfromtxt(f\"data/real/quantachrome/silica/distribution/{exp_file_list[k]}.csv\", delimiter=\",\")[1:].T[\n",
    "                0] / 10 * 2  # /10 - перевод в НМ * 2 - в QH размер - Half pore width.\n",
    "        quantachrome_dV = \\\n",
    "            np.genfromtxt(f\"data/real/quantachrome/silica/distribution/{exp_file_list[k]}.csv\", delimiter=\",\")[1:].T[3]\n",
    "        # isotherm_formQC = calculate_isotherm_by_distribution(gen, pore_widths, np.interp(pore_widths, quantachrome_pore_size, quantachrome_dV))\n",
    "        # y_scale_factor_QH = max(n_s_exp_raw_list[k]) / max(isotherm_formQC)\n",
    "        # quantachrome_dV *= y_scale_factor_QH\n",
    "\n",
    "        y_scale_factor_classic = max(quantachrome_dV) / max(fit_classic_list[k].x)\n",
    "        y_scale_factor_net = max(quantachrome_dV) / max(fit_exp_list[k])\n",
    "\n",
    "        axis[i, j].plot(pore_widths, fit_exp_list[k] * y_scale_factor_net, marker=\".\", label=f\"net\")\n",
    "        axis[i, j].plot(pore_widths, fit_classic_list[k].x * y_scale_factor_classic, marker=\".\", label=f\"classic\")\n",
    "        axis[i, j].plot(quantachrome_pore_size, quantachrome_dV, marker=\".\", label=f\"quantachrome\")\n",
    "        axis[i, j].set_title(f\"{exp_file_list[k]}\")\n",
    "        axis[i, j].title.set_size(12)\n",
    "        axis[i, j].legend(loc=\"upper right\")\n",
    "        axis[i, j].grid()\n",
    "        k += 1\n",
    "        if k >= len(fit_exp_list):\n",
    "            break\n",
    "plt.subplots_adjust(hspace=0.6, right=0.95, left=0.05, bottom=0.05, top=0.95)\n",
    "plot()"
   ],
   "metadata": {
    "collapsed": false
   },
   "id": "8e0b9fbf987405b3"
  },
  {
   "cell_type": "code",
   "outputs": [],
   "source": [
    "# plots for presentation\n",
    "import matplotlib.pyplot as plt\n",
    "from importlib import reload\n",
    "\n",
    "plt = reload(plt)\n",
    "\n",
    "k = 0\n",
    "\n",
    "quantachrome_pore_size = \\\n",
    "    np.genfromtxt(f\"data/real/quantachrome/silica/distribution/{exp_file_list[k]}.csv\", delimiter=\",\")[1:].T[\n",
    "        0] / 10 * 2  # /10 - перевод в НМ * 2 - в QH размер - Half pore width.\n",
    "quantachrome_dV = \\\n",
    "    np.genfromtxt(f\"data/real/quantachrome/silica/distribution/{exp_file_list[k]}.csv\", delimiter=\",\")[1:].T[3]\n",
    "# isotherm_formQC = calculate_isotherm_by_distribution(gen, pore_widths, np.interp(pore_widths, quantachrome_pore_size, quantachrome_dV))\n",
    "# y_scale_factor_QH = max(n_s_exp_raw_list[k]) / max(isotherm_formQC)\n",
    "# quantachrome_dV *= y_scale_factor_QH\n",
    "\n",
    "y_scale_factor_classic = max(quantachrome_dV) / max(fit_classic_list[k].x)\n",
    "y_scale_factor_net = max(quantachrome_dV) / max(fit_exp_list[k])\n",
    "\n",
    "plt.plot(pore_widths, fit_exp_list[k] * y_scale_factor_net, marker=\".\", label=f\"Суррогатная модель\")\n",
    "plt.plot(pore_widths, fit_classic_list[k].x * y_scale_factor_classic, marker=\".\", label=f\"Математическое решение\")\n",
    "#plt.plot(quantachrome_pore_size, quantachrome_dV, marker=\".\", label=f\"Математическое решение QH\") \n",
    "plt.legend(loc=\"upper right\")\n",
    "plt.grid()\n",
    "plt.title(f\"{exp_file_list[k]}\")\n",
    "\n",
    "# plt.xscale('log')\n",
    "plt.subplots_adjust(left=0.15,\n",
    "                    bottom=0.133,\n",
    "                    right=0.979,\n",
    "                    top=0.917,\n",
    "                    wspace=0.4,\n",
    "                    hspace=0.4)\n",
    "plt.legend()\n",
    "plt.grid(True)\n",
    "plt.ylabel(\"Объем пор, $см^3$/ нм * гр\")\n",
    "plt.xlabel(\"Размер пор, нм\")\n",
    "plt.show()\n"
   ],
   "metadata": {
    "collapsed": false
   },
   "id": "c5e26ea811ae701c",
   "execution_count": null
  },
  {
   "cell_type": "code",
   "outputs": [],
   "source": [
    "# plots for presentation 2\n",
    "k = 3\n",
    "plt.plot(p_exp_list[k], n_s_exp_raw_list[k], marker=\".\", color='b', label=f\"{exp_file_list[k]}\")\n",
    "k = 9\n",
    "plt.plot(p_exp_list[k], n_s_exp_raw_list[k], marker=\".\", color='r', label=f\"{exp_file_list[k]}\")\n",
    "plt.legend(loc=\"upper right\")\n",
    "plt.grid()\n",
    "plt.title(f\"Изотермы адсорбции\")\n",
    "\n",
    "# plt.xscale('log')\n",
    "plt.subplots_adjust(left=0.15,\n",
    "                    bottom=0.133,\n",
    "                    right=0.979,\n",
    "                    top=0.917,\n",
    "                    wspace=0.4,\n",
    "                    hspace=0.4)\n",
    "plt.legend()\n",
    "plt.grid(True)\n",
    "plt.ylabel(\"Адсорбция, $см^3$/г\")\n",
    "plt.xlabel(\"Давление, $P/P_{0}$\")\n",
    "plt.show()\n"
   ],
   "metadata": {
    "collapsed": false
   },
   "id": "be93198745d6bc2d",
   "execution_count": null
  },
  {
   "cell_type": "code",
   "outputs": [],
   "source": [
    "# plots for presentation 3\n",
    "\n",
    "fig, ax1 = plt.subplots(figsize=(6, 7))\n",
    "ax1.set_xlabel(\"Размер пор, нм\")\n",
    "ax1.set_ylabel(\"Объем пор, $см^3$/ нм * гр\")\n",
    "k = 0\n",
    "plt.title(f\"{exp_file_list[k]}\")\n",
    "quantachrome_pore_size = \\\n",
    "    np.genfromtxt(f\"data/real/quantachrome/silica/distribution/{exp_file_list[k]}.csv\", delimiter=\",\")[1:].T[\n",
    "        0] / 10 * 2  # /10 - перевод в НМ * 2 - в QH размер - Half pore width.\n",
    "quantachrome_dV = \\\n",
    "    np.genfromtxt(f\"data/real/quantachrome/silica/distribution/{exp_file_list[k]}.csv\", delimiter=\",\")[1:].T[3]\n",
    "# isotherm_formQC = calculate_isotherm_by_distribution(gen, pore_widths, np.interp(pore_widths, quantachrome_pore_size, quantachrome_dV))\n",
    "# y_scale_factor_QH = max(n_s_exp_raw_list[k]) / max(isotherm_formQC)\n",
    "# quantachrome_dV *= y_scale_factor_QH\n",
    "\n",
    "y_scale_factor_classic = max(quantachrome_dV) / max(fit_classic_list[k].x)\n",
    "y_scale_factor_net = max(quantachrome_dV) / max(fit_exp_list[k])\n",
    "\n",
    "ax1.plot(pore_widths[0:100], (fit_exp_list[k] * y_scale_factor_net)[0:100], marker=\".\", label=f\"Суррогатная модель\")\n",
    "ax1.plot(pore_widths[0:100], (fit_classic_list[k].x * y_scale_factor_classic)[0:100], marker=\".\",\n",
    "         label=f\"Математическое решение\")\n",
    "# ax1.tick_params(axis='y')\n",
    "# plt.legend(loc=\"right\")\n",
    "\n",
    "\n",
    "ax2 = ax1.twinx()\n",
    "ax3 = ax2.twiny()  # instantiate a second axes that shares the same x-axis\n",
    "ax3.set_xlabel(\"Давление, $P/P_{0}$\")\n",
    "ax2.set_ylabel(\"Адсорбция, $см^3$/г\")  # we already handled the x-label with ax1\n",
    "ax3.plot(p_exp_list[k], n_s_exp_raw_list[k], color='g', label=f\"Изотерма адсорбции\")\n",
    "# plt.legend(loc=\"right\")\n",
    "# \n",
    "# ax2.tick_params(axis='y')\n",
    "# plt.subplots_adjust(left=0.15,\n",
    "#                     bottom=0.133, \n",
    "#                     right=0.979, \n",
    "#                     top=0.917, \n",
    "#                     wspace=0.4, \n",
    "#                     hspace=0.4)\n",
    "\n",
    "fig.tight_layout()\n",
    "plt.show()"
   ],
   "metadata": {
    "collapsed": false
   },
   "id": "2d0a60b839334253",
   "execution_count": null
  },
  {
   "cell_type": "code",
   "outputs": [],
   "source": [
    "# Compare isotherms\n",
    "NX, NY = 2, 3\n",
    "figure, axis = plt.subplots(NX, NY)\n",
    "k = 0\n",
    "\n",
    "for i in range(NX):\n",
    "    for j in range(NY):\n",
    "        net_isotherm = calculate_isotherm_by_distribution(gen, pore_widths, fit_exp_list[k].T[0])\n",
    "        classic_isotherm = calculate_isotherm_by_distribution(gen, pore_widths, fit_classic_list[k].x)\n",
    "        quantachrome_data = np.genfromtxt(f\"data/real/quantachrome/silica/fitting/{exp_file_list[k]}.csv\",\n",
    "                                          delimiter=\",\")[1:].T\n",
    "        quantachrome_pore_size = \\\n",
    "            np.genfromtxt(f\"data/real/quantachrome/silica/distribution/{exp_file_list[k]}.csv\", delimiter=\",\")[1:].T[\n",
    "                0] / 10 * 2\n",
    "        quantachrome_dV = \\\n",
    "            np.genfromtxt(f\"data/real/quantachrome/silica/distribution/{exp_file_list[k]}.csv\", delimiter=\",\")[1:].T[3]\n",
    "        quantachrome_data2 = calculate_isotherm_by_distribution(gen, pore_widths,\n",
    "                                                                np.interp(pore_widths, quantachrome_pore_size,\n",
    "                                                                          quantachrome_dV))\n",
    "\n",
    "        y_scale_factor_net = max(net_isotherm) / max(n_s_exp_raw_list[k])\n",
    "        y_scale_factor_classic = max(classic_isotherm) / max(n_s_exp_raw_list[k])\n",
    "        y_scale_factor_quantachrome = max(quantachrome_data[1]) / max(n_s_exp_raw_list[k])\n",
    "        y_scale_factor_quantachrome2 = max(quantachrome_data2) / (\n",
    "            n_s_exp_raw_list[k][-1])  #max(quantachrome_data[1]) / max(n_s_exp_raw_list[k])\n",
    "        print(1 / y_scale_factor_quantachrome2)\n",
    "\n",
    "        axis[i, j].plot(p_exp_list[k], n_s_exp_raw_list[k], label=\"real\")\n",
    "        axis[i, j].plot(gen.pressures_s, classic_isotherm / y_scale_factor_classic, marker=\".\", label=f\"classic\")\n",
    "        axis[i, j].plot(gen.pressures_s, net_isotherm / y_scale_factor_net, label=\"net\")\n",
    "        # axis[i, j].plot(quantachrome_data[0], quantachrome_data[1]/y_scale_factor_quantachrome, label=\"quantachrome\")\n",
    "        # axis[i, j].plot(gen.pressures_s, quantachrome_data2/y_scale_factor_quantachrome2, label=\"quantachrome_from_kernal\")\n",
    "        axis[i, j].set_title(f\"{exp_file_list[k]}\")\n",
    "        axis[i, j].legend(loc=\"lower right\")\n",
    "        axis[i, j].grid()\n",
    "        k += 1\n",
    "        if k >= len(fit_exp_list):\n",
    "            break\n",
    "plt.subplots_adjust(hspace=0.6, right=0.95, left=0.05, bottom=0.05, top=0.95)\n",
    "plot()"
   ],
   "metadata": {
    "collapsed": false
   },
   "id": "5e20fa504d7c45cc",
   "execution_count": null
  },
  {
   "cell_type": "code",
   "outputs": [],
   "source": [
    "#QUANTACHROME\n",
    "data = np.genfromtxt(\"data/real/quantachrome/silica/distribution/MIL-101.csv\", delimiter=\",\")[1:].T[0]"
   ],
   "metadata": {
    "collapsed": false
   },
   "id": "a2947b6286fe73b7",
   "execution_count": null
  },
  {
   "cell_type": "code",
   "outputs": [],
   "source": [],
   "metadata": {
    "collapsed": false
   },
   "id": "29ec7e76cb0598ac"
  }
 ],
 "metadata": {
  "kernelspec": {
   "display_name": "Python 3",
   "language": "python",
   "name": "python3"
  },
  "language_info": {
   "codemirror_mode": {
    "name": "ipython",
    "version": 2
   },
   "file_extension": ".py",
   "mimetype": "text/x-python",
   "name": "python",
   "nbconvert_exporter": "python",
   "pygments_lexer": "ipython2",
   "version": "2.7.6"
  }
 },
 "nbformat": 4,
 "nbformat_minor": 5
}
